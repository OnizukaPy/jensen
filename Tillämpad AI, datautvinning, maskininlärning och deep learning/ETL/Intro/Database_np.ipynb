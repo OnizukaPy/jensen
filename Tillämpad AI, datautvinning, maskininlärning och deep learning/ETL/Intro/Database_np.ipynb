{
 "cells": [
  {
   "cell_type": "code",
   "execution_count": 1,
   "metadata": {},
   "outputs": [],
   "source": [
    "import numpy as np\n",
    "import os"
   ]
  },
  {
   "cell_type": "code",
   "execution_count": 21,
   "metadata": {},
   "outputs": [],
   "source": [
    "# come impostare il percorso del file da caricare in memoria \n",
    "# in questo caso il file è nella stessa cartella del notebook\n",
    "# CURRENT_DIR = os.path.dirname(os.path.realpath(__file__)) (se non si usa jupiter)\n",
    "CURRENT_DIR = os.path.abspath('')\n"
   ]
  },
  {
   "cell_type": "code",
   "execution_count": 27,
   "metadata": {},
   "outputs": [],
   "source": [
    "# file di misurazione delle velocità\n",
    "speed_measurement_path = CURRENT_DIR + '/speed_measurements.txt'\n",
    "# caricare le informazioni del file in memoria come un array numpy\n",
    "speed_data = np.genfromtxt(\n",
    "    speed_measurement_path,             # percorso del file\n",
    "    delimiter=',',                      # separatore dei valori\n",
    "    dtype='str',                        # tipo di dato\n",
    "    autostrip=True,                     # rimuove gli spazi bianchi\n",
    "    encoding= 'unicode_escape'          # codifica del file\n",
    "    )"
   ]
  },
  {
   "cell_type": "code",
   "execution_count": 54,
   "metadata": {},
   "outputs": [
    {
     "data": {
      "text/plain": [
       "array([['51.0', '487-YNB', 'PaleGreen', '0800'],\n",
       "       ['48.0', '382 PLS', 'LightSkyBlue', '0801'],\n",
       "       ['50.0', 'YDT4892', 'Magenta', '0801'],\n",
       "       ['50.0', 'XC-5781', 'MidnightBlue', '0801'],\n",
       "       ['51.0', '9-K3877', 'Turquoise', '0802'],\n",
       "       ['46.5', 'BZ8 0160', 'Snow', '0802'],\n",
       "       ['46.5', '5HX1393', 'LawnGreen', '0802'],\n",
       "       ['49.5', 'ZR 7115', 'Teal', '0803'],\n",
       "       ['49.5', 'DJR-418', 'MediumSeaGreen', '0804'],\n",
       "       ['46.0', '894 GZT', 'Red', '0804'],\n",
       "       ['50.0', '965934', 'GhostWhite', '0804'],\n",
       "       ['46.0', 'MFB 947', 'CornflowerBlue', '0805'],\n",
       "       ['47.0', '220186', 'Violet', '0806'],\n",
       "       ['48.5', '339QZ', 'PeachPuff', '0807'],\n",
       "       ['49.0', '7IO 515', 'DarkOrange', '0807'],\n",
       "       ['48.5', 'SUK-330', 'LightPink', '0807'],\n",
       "       ['51.0', '256 WHL', 'Chocolate', '0808'],\n",
       "       ['49.0', 'ZE-3098', 'Cornsilk', '0808'],\n",
       "       ['46.5', '1399', 'DarkOrchid', '0808'],\n",
       "       ['51.5', 'CLD 090', 'GoldenRod', '0810'],\n",
       "       ['50.5', 'LWD 730', 'Beige', '0810'],\n",
       "       ['50.0', '413 NTD', 'Cornsilk', '0811'],\n",
       "       ['47.0', 'J20 8LN', 'SeaGreen', '0812'],\n",
       "       ['46.5', '634 TDW', 'MintCream', '0812'],\n",
       "       ['51.0', 'PSF 302', 'DodgerBlue', '0812'],\n",
       "       ['47.5', '9QID 72', 'Aquamarine', '0812'],\n",
       "       ['51.0', 'V45-NSQ', 'Orange', '0812'],\n",
       "       ['51.5', '80IE7', 'Cyan', '0813'],\n",
       "       ['49.0', '8XB4237', 'MidnightBlue', '0814'],\n",
       "       ['49.0', '99J VL2', 'Magenta', '0814'],\n",
       "       ['50.0', '109-XNU', 'GoldenRod', '0816'],\n",
       "       ['50.0', 'KFH-3769', 'PapayaWhip', '0816'],\n",
       "       ['50.0', 'MWS6027', 'Coral', '0818'],\n",
       "       ['48.5', 'WF7 8789', 'AliceBlue', '0819'],\n",
       "       ['47.0', 'PKJ7063', 'DarkBlue', '0819'],\n",
       "       ['51.5', '6EA 650', 'HotPink', '0820'],\n",
       "       ['48.5', '08WY913', 'DarkOrchid', '0820'],\n",
       "       ['47.5', '44U G21', 'Sienna', '0821'],\n",
       "       ['51.0', 'UCA 471', 'LightCyan', '0821'],\n",
       "       ['51.0', 'UQU5124', 'Azure', '0822'],\n",
       "       ['50.0', '485 BGV', 'Moccasin', '0822'],\n",
       "       ['48.5', '097-765', 'WhiteSmoke', '0822'],\n",
       "       ['51.5', 'KGM 940', 'DarkSlateGray', '0823'],\n",
       "       ['51.0', 'IKK 515', 'Blue', '0824'],\n",
       "       ['49.5', '945 IFE', 'Orchid', '0824'],\n",
       "       ['51.0', 'EJD-7304', 'Fuchsia', '0824'],\n",
       "       ['49.0', 'XCJ 654', 'PapayaWhip', '0825'],\n",
       "       ['51.0', 'DRP P55', 'DarkRed', '0825'],\n",
       "       ['49.5', '604-DWP', 'MediumSeaGreen', '0826'],\n",
       "       ['51.0', 'VEF-9611', 'DarkBlue', '0826']], dtype='<U20')"
      ]
     },
     "execution_count": 54,
     "metadata": {},
     "output_type": "execute_result"
    }
   ],
   "source": [
    "# mostrare le prime 5 righe del file\n",
    "speed_data[:50]"
   ]
  },
  {
   "cell_type": "code",
   "execution_count": 29,
   "metadata": {},
   "outputs": [
    {
     "data": {
      "text/plain": [
       "(838, 4)"
      ]
     },
     "execution_count": 29,
     "metadata": {},
     "output_type": "execute_result"
    }
   ],
   "source": [
    "# mostrare le dimensioni del file\n",
    "speed_data.shape"
   ]
  },
  {
   "cell_type": "code",
   "execution_count": 43,
   "metadata": {},
   "outputs": [],
   "source": [
    "# separare le singole colonne del file\n",
    "speed_list = np.array(speed_data[:, 0], dtype='float')"
   ]
  },
  {
   "cell_type": "code",
   "execution_count": 35,
   "metadata": {},
   "outputs": [
    {
     "name": "stdout",
     "output_type": "stream",
     "text": [
      "165 out of 838 drivers were speeding\n"
     ]
    }
   ],
   "source": [
    "SPEED_LIMIT = 50\n",
    "speedster_count = np.count_nonzero(speed_list > SPEED_LIMIT)  # numero delle persone che hanno superato la velocità massima\n",
    "print(f'{speedster_count} out of {speed_list.size} drivers were speeding')\n"
   ]
  },
  {
   "cell_type": "code",
   "execution_count": null,
   "metadata": {},
   "outputs": [],
   "source": [
    "# usando la funzione where di numpy come filtro nella visualizzazione dei dati del dataset\n",
    "speedster_list = speed_data[np.where(speed_list > (SPEED_LIMIT + 1))]  # lista delle persone che hanno superato la velocità massima\n",
    "print(speedster_list)"
   ]
  },
  {
   "cell_type": "code",
   "execution_count": null,
   "metadata": {},
   "outputs": [],
   "source": [
    "color_list = speed_data[:, 2]  # lista delle colori\n",
    "print(color_list)"
   ]
  },
  {
   "cell_type": "code",
   "execution_count": 57,
   "metadata": {},
   "outputs": [
    {
     "name": "stdout",
     "output_type": "stream",
     "text": [
      "AliceBlue: 5\n",
      "AntiqueWhite: 4\n",
      "Aqua: 2\n",
      "Aquamarine: 10\n",
      "Azure: 5\n",
      "Beige: 4\n",
      "Bisque: 5\n",
      "Black: 5\n",
      "BlanchedAlmond: 5\n",
      "Blue: 6\n",
      "BlueViolet: 2\n",
      "Brown: 8\n",
      "BurlyWood: 8\n",
      "CadetBlue: 4\n",
      "Chartreuse: 7\n",
      "Chocolate: 9\n",
      "Coral: 5\n",
      "CornflowerBlue: 7\n",
      "Cornsilk: 5\n",
      "Crimson: 6\n",
      "Cyan: 6\n",
      "DarkBlue: 8\n",
      "DarkCyan: 1\n",
      "DarkGoldenRod: 6\n",
      "DarkGray: 8\n",
      "DarkGreen: 4\n",
      "DarkKhaki: 7\n",
      "DarkMagenta: 6\n",
      "DarkOliveGreen: 7\n",
      "DarkOrange: 7\n",
      "DarkOrchid: 7\n",
      "DarkRed: 7\n",
      "DarkSalmon: 4\n",
      "DarkSeaGreen: 5\n",
      "DarkSlateBlue: 5\n",
      "DarkSlateGray: 9\n",
      "DarkTurquoise: 5\n",
      "DarkViolet: 6\n",
      "DeepPink: 8\n",
      "DeepSkyBlue: 6\n",
      "DimGray: 5\n",
      "DodgerBlue: 9\n",
      "FloralWhite: 6\n",
      "ForestGreen: 4\n",
      "Fuchsia: 10\n",
      "Gainsboro: 2\n",
      "GhostWhite: 4\n",
      "Gold: 4\n",
      "GoldenRod: 10\n",
      "Gray: 8\n",
      "Green: 9\n",
      "GreenYellow: 3\n",
      "HoneyDew: 7\n",
      "HotPink: 4\n",
      "IndianRed: 5\n",
      "Indigo: 5\n",
      "Ivory: 2\n",
      "Khaki: 8\n",
      "Lavender: 8\n",
      "LavenderBlush: 7\n",
      "LawnGreen: 6\n",
      "LemonChiffon: 7\n",
      "LightBlue: 11\n",
      "LightCoral: 5\n",
      "LightCyan: 7\n",
      "LightGoldenRodYellow: 7\n",
      "LightGray: 7\n",
      "LightGreen: 4\n",
      "LightPink: 6\n",
      "LightSalmon: 2\n",
      "LightSeaGreen: 4\n",
      "LightSkyBlue: 6\n",
      "LightSlateGray: 9\n",
      "LightSteelBlue: 3\n",
      "LightYellow: 7\n",
      "Lime: 4\n",
      "LimeGreen: 3\n",
      "Linen: 4\n",
      "Magenta: 10\n",
      "Maroon: 6\n",
      "MediumAquaMarine: 9\n",
      "MediumBlue: 4\n",
      "MediumOrchid: 8\n",
      "MediumPurple: 10\n",
      "MediumSeaGreen: 9\n",
      "MediumSlateBlue: 4\n",
      "MediumSpringGreen: 6\n",
      "MediumTurquoise: 10\n",
      "MediumVioletRed: 4\n",
      "MidnightBlue: 8\n",
      "MintCream: 7\n",
      "MistyRose: 7\n",
      "Moccasin: 6\n",
      "NavajoWhite: 10\n",
      "Navy: 6\n",
      "OldLace: 4\n",
      "Olive: 4\n",
      "OliveDrab: 1\n",
      "Orange: 9\n",
      "OrangeRed: 6\n",
      "Orchid: 6\n",
      "PaleGoldenRod: 3\n",
      "PaleGreen: 10\n",
      "PaleTurquoise: 4\n",
      "PaleVioletRed: 5\n",
      "PapayaWhip: 10\n",
      "PeachPuff: 10\n",
      "Peru: 8\n",
      "Pink: 5\n",
      "Plum: 4\n",
      "PowderBlue: 3\n",
      "Purple: 7\n",
      "Red: 6\n",
      "RosyBrown: 7\n",
      "RoyalBlue: 6\n",
      "SaddleBrown: 8\n",
      "Salmon: 5\n",
      "SandyBrown: 3\n",
      "SeaGreen: 8\n",
      "SeaShell: 2\n",
      "Sienna: 7\n",
      "Silver: 9\n",
      "SkyBlue: 5\n",
      "SlateBlue: 8\n",
      "SlateGray: 8\n",
      "Snow: 7\n",
      "SpringGreen: 4\n",
      "SteelBlue: 5\n",
      "Tan: 5\n",
      "Teal: 6\n",
      "Thistle: 4\n",
      "Tomato: 7\n",
      "Turquoise: 8\n",
      "Violet: 7\n",
      "Wheat: 5\n",
      "White: 6\n",
      "WhiteSmoke: 5\n",
      "Yellow: 6\n",
      "YellowGreen: 2\n"
     ]
    }
   ],
   "source": [
    "# usando la funzione unique\n",
    "c_unique, c_counts = np.unique(color_list, return_counts=True)  # lista delle città e il numero di persone che vi abitano\n",
    "\n",
    "for c, count in zip(c_unique, c_counts):\n",
    "    print(f'{c}: {count}')"
   ]
  }
 ],
 "metadata": {
  "kernelspec": {
   "display_name": "Python 3",
   "language": "python",
   "name": "python3"
  },
  "language_info": {
   "codemirror_mode": {
    "name": "ipython",
    "version": 3
   },
   "file_extension": ".py",
   "mimetype": "text/x-python",
   "name": "python",
   "nbconvert_exporter": "python",
   "pygments_lexer": "ipython3",
   "version": "3.10.6"
  },
  "orig_nbformat": 4
 },
 "nbformat": 4,
 "nbformat_minor": 2
}
