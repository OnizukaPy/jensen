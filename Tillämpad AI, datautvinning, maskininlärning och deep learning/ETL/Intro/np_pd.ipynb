{
 "cells": [
  {
   "cell_type": "code",
   "execution_count": 2,
   "metadata": {},
   "outputs": [],
   "source": [
    "import time\n",
    "import numpy as np\n",
    "import sys"
   ]
  },
  {
   "cell_type": "code",
   "execution_count": 3,
   "metadata": {},
   "outputs": [],
   "source": [
    "dataset_digits = 8\n",
    "dataset_size =  10 ** dataset_digits"
   ]
  },
  {
   "cell_type": "code",
   "execution_count": 4,
   "metadata": {},
   "outputs": [
    {
     "name": "stdout",
     "output_type": "stream",
     "text": [
      "Python list size: 835128.6 KB\n",
      "Numpy array size: 800000.112 KB\n",
      "Python list time: 4.637520790100098 s\n",
      "Numpy array time: 0.8293464183807373 s\n"
     ]
    }
   ],
   "source": [
    "# geneate with traditional python and numpy methods\n",
    "python_list = [1] * dataset_size\n",
    "numpy_array = np.ones(dataset_size)\n",
    "\n",
    "# time the python list\n",
    "time_start = time.time()\n",
    "python_list = [x * 100 for x in python_list]\n",
    "time_py = time.time() - time_start\n",
    "py_size = sys.getsizeof(python_list) / 1000\n",
    "\n",
    "# time the numpy array\n",
    "time_np = time.time()\n",
    "numpy_array = numpy_array * 100\n",
    "time_np = time.time() - time_np\n",
    "np_size = sys.getsizeof(numpy_array) / 1000\n",
    "\n",
    "print(\"Python list size: {} KB\".format(py_size))\n",
    "print(\"Numpy array size: {} KB\".format(np_size))\n",
    "\n",
    "print(\"Python list time: {} s\".format(time_py))\n",
    "print(\"Numpy array time: {} s\".format(time_np))"
   ]
  }
 ],
 "metadata": {
  "kernelspec": {
   "display_name": "Python 3",
   "language": "python",
   "name": "python3"
  },
  "language_info": {
   "codemirror_mode": {
    "name": "ipython",
    "version": 3
   },
   "file_extension": ".py",
   "mimetype": "text/x-python",
   "name": "python",
   "nbconvert_exporter": "python",
   "pygments_lexer": "ipython3",
   "version": "3.10.6"
  },
  "orig_nbformat": 4
 },
 "nbformat": 4,
 "nbformat_minor": 2
}
