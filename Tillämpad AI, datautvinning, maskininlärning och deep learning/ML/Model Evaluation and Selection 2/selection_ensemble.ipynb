{
 "cells": [
  {
   "attachments": {},
   "cell_type": "markdown",
   "metadata": {},
   "source": [
    "## Model selection and Ensemble Methods\n",
    "\n",
    "Today, we're going to evaluate som models and write some ensemble methods.\n",
    "\n",
    "- Cross validation with k-fold\n",
    "- Boosting\n",
    "- Bagging\n",
    "- Stacking\n",
    "\n",
    "What steps will we take?\n",
    "\n",
    "- Import Dataset\n",
    "- Preprocess Data\n",
    "- Training and Classification\n",
    "- Conclusion"
   ]
  },
  {
   "attachments": {},
   "cell_type": "markdown",
   "metadata": {},
   "source": [
    "**Importing our models**"
   ]
  },
  {
   "cell_type": "code",
   "execution_count": 31,
   "metadata": {},
   "outputs": [],
   "source": [
    "import numpy as np\n",
    "import pandas as pd\n",
    "from sklearn.ensemble import RandomForestClassifier, StackingClassifier, BaggingClassifier, AdaBoostClassifier\n",
    "from sklearn.model_selection import train_test_split\n",
    "from sklearn.tree import DecisionTreeClassifier\n",
    "from sklearn.linear_model import LogisticRegression\n",
    "from sklearn.neighbors import KNeighborsClassifier\n",
    "from sklearn.model_selection import cross_val_score\n",
    "from sklearn.datasets import make_classification\n"
   ]
  },
  {
   "attachments": {},
   "cell_type": "markdown",
   "metadata": {},
   "source": [
    "**Creating our dataset**"
   ]
  },
  {
   "cell_type": "code",
   "execution_count": 32,
   "metadata": {},
   "outputs": [],
   "source": [
    "X, y = make_classification(n_samples=10000, n_features = 15, random_state=42)"
   ]
  },
  {
   "cell_type": "code",
   "execution_count": 33,
   "metadata": {},
   "outputs": [
    {
     "name": "stdout",
     "output_type": "stream",
     "text": [
      "[1 1 1 1 1 1 1 0 0 0 1 1 0 1 0 1 1 0 1 1 0 1 0 0 0 0 0 1 1 1 1 0 0 0 1 0 1\n",
      " 1 0 1 0 1 0 0 0 0 1 0 0 1]\n"
     ]
    }
   ],
   "source": [
    "# Inspect the data\n",
    "# X is a numpy array with 10000 rows and 15 columns\n",
    "# each row has a numerical value, a float\n",
    "# y is a numpy array with 10000 rows and 1 column\n",
    "# each row has a target value, either 0 or 1\n",
    "\n",
    "print(y[:50])"
   ]
  },
  {
   "attachments": {},
   "cell_type": "markdown",
   "metadata": {},
   "source": [
    "**Split the data into train, test**"
   ]
  },
  {
   "cell_type": "code",
   "execution_count": 34,
   "metadata": {},
   "outputs": [],
   "source": [
    "X_train, X_test, y_train, y_test = train_test_split(X, y, test_size=0.3, random_state=42)"
   ]
  },
  {
   "cell_type": "code",
   "execution_count": 35,
   "metadata": {},
   "outputs": [
    {
     "name": "stdout",
     "output_type": "stream",
     "text": [
      "(7000, 15)\n"
     ]
    }
   ],
   "source": [
    "#Inspect the data\n",
    "# X_train has 7000 rows, X_test has 3000 rows\n",
    "# Looks good\n",
    "\n",
    "print(X_train.shape)"
   ]
  },
  {
   "attachments": {},
   "cell_type": "markdown",
   "metadata": {},
   "source": [
    "**Build the classifiers**"
   ]
  },
  {
   "cell_type": "code",
   "execution_count": 36,
   "metadata": {},
   "outputs": [],
   "source": [
    "# Initialize the classifiers    \n",
    "\n",
    "from sklearn.naive_bayes import GaussianNB\n",
    "\n",
    "clf1 = KNeighborsClassifier()\n",
    "clf2 = GaussianNB()\n",
    "clf3 = DecisionTreeClassifier()\n",
    "\n",
    "# Define a meta-classifier for the stacking classifier\n",
    "# Use Logistic Regression as the meta-classifier\n",
    "\n",
    "clf_meta = LogisticRegression()"
   ]
  },
  {
   "cell_type": "code",
   "execution_count": 37,
   "metadata": {},
   "outputs": [],
   "source": [
    "# Create our ensemble classifiers\n",
    "\n",
    "# Define the bagging classifier with a decision tree base classifier\n",
    "clf_bagging = BaggingClassifier(base_estimator=clf3, n_estimators=10, random_state=42)\n",
    "\n",
    "# Deine the boosting classifier with a decision tree base classifier\n",
    "clf_boosting = AdaBoostClassifier(base_estimator=clf3, n_estimators=10, random_state=42)\n",
    "\n",
    "# Create our estimators for the stacking classifier\n",
    "estimators=[('knn', clf1), ('gnb', clf2), ('dt', clf3)]\n",
    "\n",
    "# Define the stacking classifier with logistic regression as the meta-classifier\n",
    "clf_stack = StackingClassifier(estimators = estimators, final_estimator=clf_meta, cv = 10)"
   ]
  },
  {
   "attachments": {},
   "cell_type": "markdown",
   "metadata": {},
   "source": [
    "**Evaluate our models**"
   ]
  },
  {
   "cell_type": "code",
   "execution_count": 38,
   "metadata": {},
   "outputs": [
    {
     "name": "stdout",
     "output_type": "stream",
     "text": [
      "KNeighborsClassifier accuracy:  0.8943333333333333\n",
      "GaussianNB accuracy:  0.8713333333333333\n",
      "DecisionTreeClassifier accuracy:  0.891\n",
      "LogisticRegression accuracy:  0.8943333333333333\n",
      "BaggingClassifier accuracy:  0.9296666666666666\n",
      "AdaBoostClassifier accuracy:  0.893\n",
      "StackingClassifier accuracy:  0.912\n"
     ]
    }
   ],
   "source": [
    "from sklearn.metrics import accuracy_score\n",
    "\n",
    "# Fit and predict for each classifier\n",
    "\n",
    "for clf in (clf1, clf2, clf3, clf_meta, clf_bagging, clf_boosting, clf_stack):\n",
    "    clf.fit(X_train, y_train)\n",
    "    y_pred = clf.predict(X_test)\n",
    "    print(clf.__class__.__name__, 'accuracy: ', accuracy_score(y_test, y_pred))"
   ]
  },
  {
   "attachments": {},
   "cell_type": "markdown",
   "metadata": {},
   "source": [
    "We can see that the bagging classifier has the best accuracy here, and would choose it as our model."
   ]
  },
  {
   "attachments": {},
   "cell_type": "markdown",
   "metadata": {},
   "source": [
    "**Cross-validation**"
   ]
  },
  {
   "cell_type": "code",
   "execution_count": 40,
   "metadata": {},
   "outputs": [
    {
     "name": "stdout",
     "output_type": "stream",
     "text": [
      "Cross-validation scores: [0.91857143 0.91928571 0.90142857 0.91571429 0.91785714]\n",
      "Average cross-validation score: 0.915\n"
     ]
    }
   ],
   "source": [
    "# Cross validation on stacking classifier\n",
    "\n",
    "scores = cross_val_score(clf_stack, X_train, y_train, cv=5)\n",
    "print(\"Cross-validation scores: {}\".format(scores))\n",
    "print(\"Average cross-validation score: {:.3f}\".format(scores.mean()))"
   ]
  }
 ],
 "metadata": {
  "kernelspec": {
   "display_name": "base",
   "language": "python",
   "name": "python3"
  },
  "language_info": {
   "codemirror_mode": {
    "name": "ipython",
    "version": 3
   },
   "file_extension": ".py",
   "mimetype": "text/x-python",
   "name": "python",
   "nbconvert_exporter": "python",
   "pygments_lexer": "ipython3",
   "version": "3.9.7"
  },
  "orig_nbformat": 4
 },
 "nbformat": 4,
 "nbformat_minor": 2
}
