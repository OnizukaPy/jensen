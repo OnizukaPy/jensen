{
 "cells": [
  {
   "attachments": {},
   "cell_type": "markdown",
   "metadata": {},
   "source": [
    "REGOLE DI ASSOCIAZIONE\n",
    "\n",
    " - https://en.wikipedia.org/wiki/Association_rule_learning\n"
   ]
  },
  {
   "attachments": {},
   "cell_type": "markdown",
   "metadata": {},
   "source": [
    "Nel data mining, le regole di associazione sono uno dei metodi per estrarre relazioni nascoste tra i dati.\n",
    "\n",
    "Agrawal et al.[1] introdussero le regole di associazione per la scoperta di regolarità all'interno delle transazioni registrate nelle vendite dei supermercati. Per esempio, la regola { c i p o l l e , p a t a t e } ⇒ { h a m b u r g e r } {\\displaystyle \\{\\mathrm {cipolle,patate} \\}\\Rightarrow \\{\\mathrm {hamburger} \\}} {\\displaystyle \\{\\mathrm {cipolle,patate} \\}\\Rightarrow \\{\\mathrm {hamburger} \\}} individuata nell'analisi degli scontrini di un supermercato indica che il se il cliente compra insieme cipolle e patate è probabile che acquisti anche della carne per hamburger. Tale informazione può essere utilizzata come base per le decisioni riguardanti le attività di marketing, come ad esempio le offerte promozionali o il posizionamento dei prodotti negli scaffali. Le regole di associazione sono anche usate in molte altre aree, quali il Web mining, la scoperta di anomalie e la bioinformatica. \n",
    "\n",
    "\n"
   ]
  },
  {
   "attachments": {},
   "cell_type": "markdown",
   "metadata": {},
   "source": [
    "Algoritmo Apriori\n",
    "\n",
    " - https://www.datacamp.com/tutorial/association-rule-mining-python\n",
    "\n",
    "L'algoritmo Apriori è uno degli algoritmi più utilizzati per il mining di regole di associazione. Funziona identificando prima i set di elementi frequenti nel set di dati (set di elementi che compaiono in un certo numero di transazioni). Quindi utilizza questi insiemi di elementi frequenti per generare regole di associazione, che sono affermazioni della forma \"se l'articolo A viene acquistato, è probabile che venga acquistato anche l'articolo B\". L'algoritmo Apriori utilizza un approccio dal basso verso l'alto, partendo da singoli elementi e costruendo gradualmente fino a set di elementi più complessi. L'algoritmo prende il nome dal fatto che utilizza il concetto di \"proprietà di down-closure\", in cui tutti i subset di un insieme di elementi frequenti devono essere frequenti. Questo concetto è chiamato proprietà di Apriori. L'algoritmo Apriori è stato proposto da Agrawal e Srikant nel 1994.\n",
    "\n"
   ]
  },
  {
   "cell_type": "code",
   "execution_count": null,
   "metadata": {},
   "outputs": [],
   "source": [
    "# realiziamo un esempio di regole di associazione con il dataset \"Groceries\" e usando l'algoritmo Apriori\n",
    "\n",
    "# importiamo le librerie necessarie\n",
    "import pandas as pd\n",
    "import numpy as np\n",
    "import matplotlib.pyplot as plt\n",
    "import seaborn as sns\n",
    "import warnings\n",
    "from mlxtend.frequent_patterns import apriori, association_rules\n",
    "\n",
    "# disabilitiamo i warning\n",
    "warnings.filterwarnings('ignore')\n",
    "\n",
    "# scarichiamo il dataset groceries.csv da kaggle\n",
    "# https://www.kaggle.com/heeraldedhia/groceries-dataset\n",
    "# e lo carichiamo in un dataframe\n",
    "df = pd.read_csv('GroceryStoreDataSet.xls', names = ['products'], sep = ',')\n"
   ]
  },
  {
   "cell_type": "code",
   "execution_count": null,
   "metadata": {},
   "outputs": [],
   "source": [
    "# visualizziamo le prime 5 righe del dataframe\n",
    "df.head()"
   ]
  },
  {
   "cell_type": "code",
   "execution_count": null,
   "metadata": {},
   "outputs": [],
   "source": [
    "# visualizziamo le dimensioni del dataframe\n",
    "df.shape"
   ]
  },
  {
   "cell_type": "code",
   "execution_count": null,
   "metadata": {},
   "outputs": [],
   "source": [
    "# creiamo una lista di liste, dove ogni lista interna contiene i prodotti acquistati in un singolo acquisto\n",
    "data = list(df[\"products\"].apply(lambda x:x.split(\",\") ))\n",
    "data"
   ]
  },
  {
   "attachments": {},
   "cell_type": "markdown",
   "metadata": {},
   "source": [
    "Algoritmo Apriori e codifica One-Hot\n",
    "\n",
    "L'algoritmo di Apriori trasforma True/False o 1/0.\n",
    "Usando TransactionEncoder, convertiamo l'elenco in un elenco booleano con codifica One-Hot.\n",
    "I prodotti che i clienti hanno acquistato o non hanno acquistato durante lo shopping saranno ora rappresentati dai valori 1 e 0."
   ]
  },
  {
   "cell_type": "code",
   "execution_count": null,
   "metadata": {},
   "outputs": [],
   "source": [
    "# trasformiamo la lista di liste con one-hot encoding\n",
    "from mlxtend.preprocessing import TransactionEncoder\n",
    "\n",
    "# creiamo un oggetto TransactionEncoder e lo usiamo per trasformare la lista di liste\n",
    "te = TransactionEncoder()\n",
    "\n",
    "# eseguiamo il fit e la trasformazione \n",
    "te_data = te.fit(data).transform(data)\n",
    "\n",
    "# trasformiamo il risultato in un dataframe\n",
    "df = pd.DataFrame(te_data, columns = te.columns_)\n",
    "df = df.replace(False,0)\n",
    "df = df.replace(True,1)\n",
    "\n",
    "# visualizziamo le prime 5 righe del dataframe\n",
    "df.head()\n"
   ]
  },
  {
   "attachments": {},
   "cell_type": "markdown",
   "metadata": {},
   "source": [
    "Applicazione Apriori e risultante\n",
    "\n",
    "Il passo successivo è creare il modello Apriori. Possiamo modificare tutti i parametri nel modello Apriori nel pacchetto mlxtend.\n",
    "Cercherò di utilizzare parametri di supporto minimi per questa modellazione.\n",
    "Per questo, ho impostato un valore min_support con un valore di soglia del 20% e li ho stampati anche sullo schermo."
   ]
  },
  {
   "cell_type": "code",
   "execution_count": null,
   "metadata": {},
   "outputs": [],
   "source": [
    "df = apriori(df, min_support = 0.2, use_colnames = True, verbose = 1)\n",
    "df"
   ]
  },
  {
   "attachments": {},
   "cell_type": "markdown",
   "metadata": {},
   "source": [
    "Ho scelto il valore di confidenza minimo del 60%. In altre parole, quando viene acquistato il prodotto X, possiamo dire che l'acquisto del prodotto Y è pari o superiore al 60%."
   ]
  },
  {
   "cell_type": "code",
   "execution_count": null,
   "metadata": {},
   "outputs": [],
   "source": [
    "df_ar = association_rules(df, metric = \"confidence\", min_threshold = 0.6)\n",
    "df_ar"
   ]
  },
  {
   "attachments": {},
   "cell_type": "markdown",
   "metadata": {},
   "source": [
    "Analiziamo i risultati del modello Apriori. Il modello Apriori ci ha restituito 3 colonne. Queste colonne sono antecedents, consequents e support. La colonna antecedents mostra i prodotti che sono stati acquistati insieme. La colonna consequents mostra i prodotti che sono stati acquistati insieme. La colonna support mostra la frequenza di occorrenza di questi prodotti.\n",
    "\n",
    "Ad esempio, se esaminiamo il nostro primo valore di indice;\n",
    "\n",
    "    La probabilità di vedere vendite di zucchero è del 30%.\n",
    "    L'assunzione di pane è considerata del 65%.\n",
    "    Possiamo dire che il supporto di entrambi è misurato al 20%.\n",
    "    Il 67% di chi compra lo zucchero compra anche il pane.\n",
    "    Gli utenti che acquistano zucchero consumeranno probabilmente il 3% in più di pane rispetto agli utenti che non acquistano zucchero.\n",
    "    La loro correlazione reciproca è vista come 1,05."
   ]
  },
  {
   "attachments": {},
   "cell_type": "markdown",
   "metadata": {},
   "source": [
    "Usiamo ora il dataset Groceries per applicare l'algoritmo Apriori."
   ]
  },
  {
   "attachments": {},
   "cell_type": "markdown",
   "metadata": {},
   "source": [
    "https://www.kaggle.com/code/falahrafi/groceries-asscociation-rule-apriori-algorithm"
   ]
  }
 ],
 "metadata": {
  "kernelspec": {
   "display_name": "Python 3",
   "language": "python",
   "name": "python3"
  },
  "language_info": {
   "codemirror_mode": {
    "name": "ipython",
    "version": 3
   },
   "file_extension": ".py",
   "mimetype": "text/x-python",
   "name": "python",
   "nbconvert_exporter": "python",
   "pygments_lexer": "ipython3",
   "version": "3.10.6"
  },
  "orig_nbformat": 4
 },
 "nbformat": 4,
 "nbformat_minor": 2
}
