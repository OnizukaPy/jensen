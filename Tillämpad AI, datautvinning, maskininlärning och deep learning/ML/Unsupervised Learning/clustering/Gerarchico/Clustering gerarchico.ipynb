{
 "cells": [
  {
   "attachments": {},
   "cell_type": "markdown",
   "metadata": {},
   "source": [
    "CLUSTERING GERARCHICO\n",
    "\n",
    " - https://it.wikipedia.org/wiki/Clustering_gerarchico\n",
    "\n",
    "In statistica e apprendimento automatico, il clustering gerarchico è un approccio di clustering che mira a costruire una gerarchia di cluster. Le strategie per il clustering gerarchico sono tipicamente di due tipi:\n",
    "\n",
    " - Agglomerativo: si tratta di un approccio \"bottom up\" (dal basso verso l'alto) in cui si parte dall'inserimento di ciascun elemento in un cluster differente e si procede quindi all'accorpamento graduale di cluster a due a due.\n",
    " - Divisivo: si tratta di un approccio \"top down\" (dall'alto verso il basso) in cui tutti gli elementi si trovano inizialmente in un singolo cluster che viene via via suddiviso ricorsivamente in sotto-cluster."
   ]
  },
  {
   "cell_type": "code",
   "execution_count": null,
   "metadata": {},
   "outputs": [],
   "source": [
    "# utiliziamo sklearn per il clustering gerarchico aglomerativo \n",
    "# e per il clustering gerarchico divisivo\n",
    "\n",
    "# importiamo i moduli necessari\n",
    "import numpy as np\n",
    "import pandas as pd\n",
    "import matplotlib.pyplot as plt\n",
    "from sklearn import datasets\n",
    "from sklearn.cluster import AgglomerativeClustering\n"
   ]
  },
  {
   "attachments": {},
   "cell_type": "markdown",
   "metadata": {},
   "source": [
    "Clustering gerarchico agglomerativo\n",
    "\n",
    "esempio di clustering gerarchico agglomerativo"
   ]
  },
  {
   "cell_type": "code",
   "execution_count": null,
   "metadata": {},
   "outputs": [],
   "source": [
    "# importiamo il dataset\n",
    "iris = datasets.load_iris()\n",
    "X = iris.data\n",
    "y = iris.target\n",
    "\n",
    "# creiamo il modello\n",
    "model = AgglomerativeClustering(n_clusters=3)\n",
    "\n",
    "# addestriamo il modello\n",
    "model.fit(X)\n",
    "\n",
    "# prediciamo i cluster\n",
    "pred = model.fit_predict(X) # il valore delle predizioni è uguale a model.labels_\n",
    "\n",
    "# printiamo in un grafico a dispersione i cluster\n",
    "plt.scatter(X[:,0], X[:,1], c=pred, cmap='rainbow')\n",
    "plt.title('Clustering gerarchico aglomerativo')\n",
    "plt.show()\n",
    "\n",
    "# printiamo un grafico a dispersione con i valori reali\n",
    "plt.scatter(X[:,0], X[:,1], c=y, cmap='rainbow')\n",
    "plt.title('Valori reali')\n",
    "plt.show()\n",
    "\n",
    "# printtiamo il dendrogramma\n",
    "from scipy.cluster.hierarchy import dendrogram, linkage\n",
    "Z = linkage(X, 'ward')\n",
    "dendrogram(Z)\n",
    "plt.title('Dendrogramma')\n",
    "plt.show()\n",
    "\n"
   ]
  }
 ],
 "metadata": {
  "kernelspec": {
   "display_name": "Python 3",
   "language": "python",
   "name": "python3"
  },
  "language_info": {
   "codemirror_mode": {
    "name": "ipython",
    "version": 3
   },
   "file_extension": ".py",
   "mimetype": "text/x-python",
   "name": "python",
   "nbconvert_exporter": "python",
   "pygments_lexer": "ipython3",
   "version": "3.10.6"
  },
  "orig_nbformat": 4
 },
 "nbformat": 4,
 "nbformat_minor": 2
}
