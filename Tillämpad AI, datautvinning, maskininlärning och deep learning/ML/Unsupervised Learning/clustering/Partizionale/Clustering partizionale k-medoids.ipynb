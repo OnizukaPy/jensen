{
 "cells": [
  {
   "attachments": {
    "image.png": {
     "image/png": "[encoded data removed]"
    }
   },
   "cell_type": "markdown",
   "metadata": {},
   "source": [
    "K-MEDOIDS \n",
    "\n",
    " - https://towardsdatascience.com/k-medoid-clustering-pam-algorithm-in-python-with-solved-example-c0dcb35b3f46\n",
    "\n",
    "K-Medoid minimizza le differenze tra i punti in un cluster e i punti considerati come centri di quel cluster. Questi punti centrali sono chiamati medoidi. Il medoide è un punto nel cluster, che minimizza la somma delle distanze tra se stesso e tutti gli altri punti nel cluster. È simile al concetto di centroide, che è il punto medio di un cluster. Ma a differenza del centroide, il medoide non è necessariamente un punto di dati nel cluster. Il medoide è il punto di dati che rappresenta meglio il cluster.\n",
    "\n",
    "K-Medoid è un algoritmo di clustering basato su partizioni. È simile al K-Means, ma è più robusto per i dati che non sono facilmente rappresentati come sfere (come i dati che hanno cluster di forma irregolare).\n",
    "\n",
    "K-Medoid è un algoritmo iterativo che alterna tra i passaggi di calcolo dei medoidi e di assegnazione dei punti al cluster più vicino (con il medoide più vicino). La distanza tra i punti è solitamente calcolata utilizzando la distanza euclidea o la distanza Manhattan.\n",
    "\n",
    "Il concetto fondamentale di PAM include:\n",
    "\n",
    "- Trova un insieme di k Medoidi (k si riferisce al numero di cluster e M è una raccolta di medoidi) dai punti dati di dimensione n (n è il numero di record).\n",
    "- Usando qualsiasi metrica di distanza (ad esempio d(.), potrebbe essere euclidea, manhattan, ecc.), prova a individuare i Medoid che riducono al minimo la distanza complessiva dei punti dati dal loro Medoid più vicino.\n",
    "- Infine, scambia coppie Medoid e non Medoid che riducono la funzione di perdita L tra tutte le possibili coppie k(n-k). La funzione di perdita è definita come:\n",
    "\n",
    "![image.png](attachment:image.png)\n",
    "\n",
    "\n",
    "\n"
   ]
  },
  {
   "cell_type": "code",
   "execution_count": null,
   "metadata": {},
   "outputs": [],
   "source": [
    "# facciamo il clustering partizionale con k-medoids\n",
    "# importiamo le librerie\n",
    "import numpy as np\n",
    "import matplotlib.pyplot as plt\n",
    "from sklearn_extra.cluster import KMedoids\n",
    "from sklearn.datasets import make_blobs"
   ]
  },
  {
   "cell_type": "code",
   "execution_count": null,
   "metadata": {},
   "outputs": [],
   "source": [
    "# creiamo un dataset\n",
    "# n_samples: numero di osservazioni, centers: numero di cluster, cluster_std: deviazione standard dei cluster, random_state: seed per la generazione dei dati\n",
    "X, y = make_blobs(n_samples=1000, centers=4, cluster_std=0.60, random_state=0) \n",
    "\n",
    "# visualizziamo il dataset\n",
    "plt.scatter(X[:,0], X[:,1], c=y, s=10)\n",
    "plt.show()"
   ]
  },
  {
   "cell_type": "code",
   "execution_count": null,
   "metadata": {},
   "outputs": [],
   "source": [
    "# creiamo il modello\n",
    "# n_clusters: numero di cluster, random_state: seed per la generazione dei dati\n",
    "model = KMedoids(n_clusters=4, random_state=42)\n",
    "\n",
    "# addestriamo il modello\n",
    "model.fit(X)\n",
    "\n",
    "# visualizziamo i medoidi\n",
    "print(model.medoid_indices_)\n",
    "\n",
    "# prediciamo i cluster\n",
    "y_kmedoid = model.predict(X)\n",
    "\n",
    "# visualizziamo i cluster\n",
    "plt.scatter(X[:,0], X[:,1], c=y_kmedoid, s=10)\n",
    "plt.show()\n"
   ]
  },
  {
   "cell_type": "code",
   "execution_count": null,
   "metadata": {},
   "outputs": [],
   "source": [
    "# visualizziamo i cluster e i medoidi\n",
    "plt.scatter(X[:,0], X[:,1], c=y_kmedoid, s=10)\n",
    "plt.scatter(X[model.medoid_indices_,0], X[model.medoid_indices_,1], c='red', s=100)\n",
    "plt.show()"
   ]
  },
  {
   "cell_type": "code",
   "execution_count": null,
   "metadata": {},
   "outputs": [],
   "source": [
    "# calcoliamo l'inerzia\n",
    "print(model.inertia_)\n",
    "\n",
    "# visualizziamo l'inerzia per diversi valori di k\n",
    "inerzia = []\n",
    "for k in range(1, 10):\n",
    "    model = KMedoids(n_clusters=k, random_state=42)\n",
    "    model.fit(X)\n",
    "    inerzia.append(model.inertia_)\n",
    "\n",
    "plt.plot(range(1, 10), inerzia, marker='o')\n",
    "plt.xlabel('Numero di cluster')\n",
    "plt.ylabel('Inerzia')\n",
    "plt.show()\n",
    "\n",
    "# calcoliamo il valore migliore di inerzia con il metodo del gomito\n",
    "from kneed import KneeLocator\n",
    "kl = KneeLocator(range(1, 10), inerzia, curve=\"convex\", direction=\"decreasing\")\n",
    "print(kl.elbow)\n",
    "\n"
   ]
  },
  {
   "cell_type": "code",
   "execution_count": null,
   "metadata": {},
   "outputs": [],
   "source": [
    "# visualizziamo i medoidi per diversi valori di k\n",
    "for k in range(2, 10):\n",
    "    model = KMedoids(n_clusters=k, random_state=42)\n",
    "    model.fit(X)\n",
    "    plt.scatter(X[:,0], X[:,1], c=model.predict(X), s=10)\n",
    "    plt.scatter(X[model.medoid_indices_,0], X[model.medoid_indices_,1], c='red', s=100)\n",
    "    plt.title('k = ' + str(k))\n",
    "    plt.show()\n"
   ]
  },
  {
   "cell_type": "code",
   "execution_count": null,
   "metadata": {},
   "outputs": [],
   "source": [
    "# confrontiamo con una funzione di utilità per il clustering partizionale\n",
    "from sklearn.metrics import silhouette_score, calinski_harabasz_score, davies_bouldin_score\n",
    "\n",
    "def evaluate_kmedoids(X, k):\n",
    "\n",
    "    kmedoids = KMedoids(n_clusters=k)\n",
    "    kmedoids.fit(X)\n",
    "    y_kmeans = kmedoids.predict(X)\n",
    "\n",
    "    silhouette = silhouette_score(X, y_kmeans)\n",
    "    calinski = calinski_harabasz_score(X, y_kmeans)\n",
    "    davies = davies_bouldin_score(X, y_kmeans)\n",
    "\n",
    "    return silhouette, calinski, davies\n",
    "\n",
    "# visualizziamo i risultati\n",
    "silhouette = []\n",
    "calinski = []\n",
    "davies = []\n",
    "min_k = 2\n",
    "max_k = 10\n",
    "for k in range(min_k, max_k):\n",
    "    s, c, d = evaluate_kmedoids(X, k)\n",
    "    silhouette.append(s)\n",
    "    calinski.append(c)\n",
    "    davies.append(d)\n",
    "\n",
    "# visualizziamo il miglior valore per ogni indice\n",
    "print('Silhouette: ', silhouette.index((max(silhouette)))+min_k)\n",
    "print('Calinski-Harabasz: ', calinski.index((max(calinski)))+min_k)\n",
    "print('Davies-Bouldin: ', davies.index((min(davies)))+min_k)\n",
    "\n",
    "# plottiamo con assi separati\n",
    "plt.subplot(3, 1, 1)\n",
    "plt.plot(range(2, 10), silhouette)\n",
    "plt.xlabel('Numero di cluster')\n",
    "plt.ylabel('Silhouette')\n",
    "\n",
    "plt.subplot(3, 1, 2)\n",
    "plt.plot(range(2, 10), calinski)\n",
    "plt.xlabel('Numero di cluster')\n",
    "plt.ylabel('Calinski-Harabasz')\n",
    "\n",
    "plt.subplot(3, 1, 3)\n",
    "plt.plot(range(2, 10), davies)\n",
    "plt.xlabel('Numero di cluster')\n",
    "plt.ylabel('Davies-Bouldin')\n",
    "\n",
    "plt.show()\n"
   ]
  }
 ],
 "metadata": {
  "kernelspec": {
   "display_name": "Python 3",
   "language": "python",
   "name": "python3"
  },
  "language_info": {
   "codemirror_mode": {
    "name": "ipython",
    "version": 3
   },
   "file_extension": ".py",
   "mimetype": "text/x-python",
   "name": "python",
   "nbconvert_exporter": "python",
   "pygments_lexer": "ipython3",
   "version": "3.10.6"
  },
  "orig_nbformat": 4
 },
 "nbformat": 4,
 "nbformat_minor": 2
}
