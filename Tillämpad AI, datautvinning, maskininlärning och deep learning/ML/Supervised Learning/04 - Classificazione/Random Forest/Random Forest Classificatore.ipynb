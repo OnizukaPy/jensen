{
 "cells": [
  {
   "attachments": {},
   "cell_type": "markdown",
   "metadata": {},
   "source": [
    "RANDOM FOREST CLASSIFICATION \n",
    "\n",
    " - https://www.datacamp.com/tutorial/random-forests-classifier-python"
   ]
  },
  {
   "attachments": {},
   "cell_type": "markdown",
   "metadata": {},
   "source": [
    "Come funziona la classificazione casuale delle foreste\n",
    "\n",
    "Immagina di avere un problema complesso da risolvere e riunisci un gruppo di esperti di diversi campi per fornire il loro contributo. Ogni esperto fornisce la propria opinione in base alla propria competenza ed esperienza. Quindi, gli esperti voterebbero per arrivare a una decisione finale.\n",
    "\n",
    "In una classificazione casuale delle foreste, vengono creati più alberi decisionali utilizzando diversi sottoinsiemi casuali di dati e caratteristiche. Ogni albero decisionale è come un esperto, che fornisce la sua opinione su come classificare i dati. Le previsioni vengono fatte calcolando la previsione per ogni albero decisionale, quindi prendendo il risultato più popolare. (Per la regressione, le previsioni utilizzano invece una tecnica di media)"
   ]
  },
  {
   "cell_type": "code",
   "execution_count": 1,
   "metadata": {},
   "outputs": [],
   "source": [
    "# importiamo le librerie necessarie\n",
    "import pandas as pd\n",
    "import numpy as np\n",
    "\n",
    "# Importiamo le librerie per la classificazione e la valutazione\n",
    "from sklearn.ensemble import RandomForestClassifier\n",
    "from sklearn.metrics import accuracy_score, confusion_matrix, precision_score, recall_score, ConfusionMatrixDisplay\n",
    "from sklearn.model_selection import RandomizedSearchCV, train_test_split\n",
    "from scipy.stats import randint\n",
    "\n",
    "# importiamo le librerie per la visualizzazione degli alberi di decisione\n",
    "from sklearn.tree import export_graphviz\n",
    "from IPython.display import Image\n",
    "import graphviz"
   ]
  },
  {
   "cell_type": "code",
   "execution_count": 2,
   "metadata": {},
   "outputs": [
    {
     "data": {
      "text/html": [
       "<div>\n",
       "<style scoped>\n",
       "    .dataframe tbody tr th:only-of-type {\n",
       "        vertical-align: middle;\n",
       "    }\n",
       "\n",
       "    .dataframe tbody tr th {\n",
       "        vertical-align: top;\n",
       "    }\n",
       "\n",
       "    .dataframe thead th {\n",
       "        text-align: right;\n",
       "    }\n",
       "</style>\n",
       "<table border=\"1\" class=\"dataframe\">\n",
       "  <thead>\n",
       "    <tr style=\"text-align: right;\">\n",
       "      <th></th>\n",
       "      <th>age</th>\n",
       "      <th>job</th>\n",
       "      <th>marital</th>\n",
       "      <th>education</th>\n",
       "      <th>default</th>\n",
       "      <th>balance</th>\n",
       "      <th>housing</th>\n",
       "      <th>loan</th>\n",
       "      <th>contact</th>\n",
       "      <th>day</th>\n",
       "      <th>month</th>\n",
       "      <th>duration</th>\n",
       "      <th>campaign</th>\n",
       "      <th>pdays</th>\n",
       "      <th>previous</th>\n",
       "      <th>poutcome</th>\n",
       "      <th>y</th>\n",
       "    </tr>\n",
       "  </thead>\n",
       "  <tbody>\n",
       "    <tr>\n",
       "      <th>0</th>\n",
       "      <td>58</td>\n",
       "      <td>management</td>\n",
       "      <td>married</td>\n",
       "      <td>tertiary</td>\n",
       "      <td>no</td>\n",
       "      <td>2143</td>\n",
       "      <td>yes</td>\n",
       "      <td>no</td>\n",
       "      <td>unknown</td>\n",
       "      <td>5</td>\n",
       "      <td>may</td>\n",
       "      <td>261</td>\n",
       "      <td>1</td>\n",
       "      <td>-1</td>\n",
       "      <td>0</td>\n",
       "      <td>unknown</td>\n",
       "      <td>no</td>\n",
       "    </tr>\n",
       "    <tr>\n",
       "      <th>1</th>\n",
       "      <td>44</td>\n",
       "      <td>technician</td>\n",
       "      <td>single</td>\n",
       "      <td>secondary</td>\n",
       "      <td>no</td>\n",
       "      <td>29</td>\n",
       "      <td>yes</td>\n",
       "      <td>no</td>\n",
       "      <td>unknown</td>\n",
       "      <td>5</td>\n",
       "      <td>may</td>\n",
       "      <td>151</td>\n",
       "      <td>1</td>\n",
       "      <td>-1</td>\n",
       "      <td>0</td>\n",
       "      <td>unknown</td>\n",
       "      <td>no</td>\n",
       "    </tr>\n",
       "    <tr>\n",
       "      <th>2</th>\n",
       "      <td>33</td>\n",
       "      <td>entrepreneur</td>\n",
       "      <td>married</td>\n",
       "      <td>secondary</td>\n",
       "      <td>no</td>\n",
       "      <td>2</td>\n",
       "      <td>yes</td>\n",
       "      <td>yes</td>\n",
       "      <td>unknown</td>\n",
       "      <td>5</td>\n",
       "      <td>may</td>\n",
       "      <td>76</td>\n",
       "      <td>1</td>\n",
       "      <td>-1</td>\n",
       "      <td>0</td>\n",
       "      <td>unknown</td>\n",
       "      <td>no</td>\n",
       "    </tr>\n",
       "    <tr>\n",
       "      <th>3</th>\n",
       "      <td>47</td>\n",
       "      <td>blue-collar</td>\n",
       "      <td>married</td>\n",
       "      <td>unknown</td>\n",
       "      <td>no</td>\n",
       "      <td>1506</td>\n",
       "      <td>yes</td>\n",
       "      <td>no</td>\n",
       "      <td>unknown</td>\n",
       "      <td>5</td>\n",
       "      <td>may</td>\n",
       "      <td>92</td>\n",
       "      <td>1</td>\n",
       "      <td>-1</td>\n",
       "      <td>0</td>\n",
       "      <td>unknown</td>\n",
       "      <td>no</td>\n",
       "    </tr>\n",
       "    <tr>\n",
       "      <th>4</th>\n",
       "      <td>33</td>\n",
       "      <td>unknown</td>\n",
       "      <td>single</td>\n",
       "      <td>unknown</td>\n",
       "      <td>no</td>\n",
       "      <td>1</td>\n",
       "      <td>no</td>\n",
       "      <td>no</td>\n",
       "      <td>unknown</td>\n",
       "      <td>5</td>\n",
       "      <td>may</td>\n",
       "      <td>198</td>\n",
       "      <td>1</td>\n",
       "      <td>-1</td>\n",
       "      <td>0</td>\n",
       "      <td>unknown</td>\n",
       "      <td>no</td>\n",
       "    </tr>\n",
       "  </tbody>\n",
       "</table>\n",
       "</div>"
      ],
      "text/plain": [
       "   age           job  marital  education default  balance housing loan  \\\n",
       "0   58    management  married   tertiary      no     2143     yes   no   \n",
       "1   44    technician   single  secondary      no       29     yes   no   \n",
       "2   33  entrepreneur  married  secondary      no        2     yes  yes   \n",
       "3   47   blue-collar  married    unknown      no     1506     yes   no   \n",
       "4   33       unknown   single    unknown      no        1      no   no   \n",
       "\n",
       "   contact  day month  duration  campaign  pdays  previous poutcome   y  \n",
       "0  unknown    5   may       261         1     -1         0  unknown  no  \n",
       "1  unknown    5   may       151         1     -1         0  unknown  no  \n",
       "2  unknown    5   may        76         1     -1         0  unknown  no  \n",
       "3  unknown    5   may        92         1     -1         0  unknown  no  \n",
       "4  unknown    5   may       198         1     -1         0  unknown  no  "
      ]
     },
     "execution_count": 2,
     "metadata": {},
     "output_type": "execute_result"
    }
   ],
   "source": [
    "# importiamo il dataset \n",
    "bank_data = pd.read_csv('bank-full.csv', sep=';')\n",
    "\n",
    "# visualizziamo le prime 5 righe del dataset\n",
    "bank_data.head()"
   ]
  },
  {
   "attachments": {},
   "cell_type": "markdown",
   "metadata": {},
   "source": [
    "Questo codice è scritto in Python e viene utilizzato per mappare valori categorici a valori numerici in un DataFrame Pandas chiamato bank_data.\n",
    " - La prima riga di codice associa i valori nella colonna 'default' del DataFrame a valori numerici.\n",
    " - Il dizionario passato alla funzione map() associa i valori stringa 'no' e 'sconosciuto' a 0 e il valore stringa 'yes' a 1.\n",
    " - Ciò significa che tutti i valori \"no\" e \"sconosciuto\" nella colonna \"default\" verranno sostituiti con 0 e tutti i valori \"sì\" verranno sostituiti con 1.\n",
    " - La seconda riga di codice associa i valori nella colonna 'y' del DataFrame a valori numerici.\n",
    " - Il dizionario passato alla funzione map() associa il valore stringa 'no' a 0 e il valore stringa 'yes' a 1.\n",
    " - Ciò significa che tutti i valori \"no\" nella colonna \"y\" verranno sostituiti con 0 e tutti i valori \"sì\" verranno sostituiti con 1.\n",
    " - Nel complesso, questo codice viene utilizzato per convertire i dati categorici in dati numerici, spesso necessari per il corretto funzionamento degli algoritmi di machine learning."
   ]
  },
  {
   "cell_type": "code",
   "execution_count": 3,
   "metadata": {},
   "outputs": [],
   "source": [
    "# usiamo solo le colonne 'age', 'balance', 'duration', 'campaign', 'y'\n",
    "bank_data = bank_data[['age', 'default', 'balance', 'duration', 'campaign', 'y']]"
   ]
  },
  {
   "cell_type": "code",
   "execution_count": 4,
   "metadata": {},
   "outputs": [],
   "source": [
    "bank_data['default'] = bank_data['default'].map({'no':0,'yes':1,'unknown':0})\n",
    "bank_data['y'] = bank_data['y'].map({'no':0,'yes':1})"
   ]
  },
  {
   "cell_type": "code",
   "execution_count": 5,
   "metadata": {},
   "outputs": [],
   "source": [
    "# dividiamo il dataset in train e test escludendo la variabile target\n",
    "X = bank_data.drop('y', axis=1)\n",
    "y = bank_data['y']\n",
    "\n",
    "# dividiamo il dataset in train e test\n",
    "X_train, X_test, y_train, y_test = train_test_split(X, y, test_size=0.3, random_state=1234, stratify=y)"
   ]
  },
  {
   "cell_type": "code",
   "execution_count": 14,
   "metadata": {},
   "outputs": [
    {
     "name": "stdout",
     "output_type": "stream",
     "text": [
      "Accuracy:  0.881156001179593\n",
      "Precision:  0.9060565697719972\n",
      "Recall:  0.9655172413793104\n"
     ]
    },
    {
     "data": {
      "image/png": "[encoded data removed]",
      "text/plain": [
       "<Figure size 640x480 with 2 Axes>"
      ]
     },
     "metadata": {},
     "output_type": "display_data"
    }
   ],
   "source": [
    "# creiamo il modello\n",
    "rf = RandomForestClassifier(random_state=42)\n",
    "\n",
    "# addestriamo il modello\n",
    "rf.fit(X_train, y_train)\n",
    "\n",
    "# effettuiamo le predizioni sul test set\n",
    "y_pred = rf.predict(X_test)\n",
    "\n",
    "# rappresentiamo la matrice di confusione\n",
    "cm = confusion_matrix(y_test, y_pred)\n",
    "disp = ConfusionMatrixDisplay(confusion_matrix=cm, display_labels=rf.classes_)\n",
    "disp.plot()\n",
    "\n",
    "# valutiamo le performance del modello\n",
    "accuracy = accuracy_score(y_test, y_pred)\n",
    "print('Accuracy: ', accuracy)\n",
    "\n",
    "# valutiamo le performance del modello\n",
    "precision = precision_score(y_test, y_pred, pos_label=0)\n",
    "print('Precision: ', precision)\n",
    "\n",
    "# valutiamo le performance del modello\n",
    "recall = recall_score(y_test, y_pred, pos_label=0)\n",
    "print('Recall: ', recall)\n"
   ]
  },
  {
   "cell_type": "code",
   "execution_count": 7,
   "metadata": {},
   "outputs": [
    {
     "data": {
      "text/plain": [
       "[DecisionTreeClassifier(max_features='sqrt', random_state=1608637542),\n",
       " DecisionTreeClassifier(max_features='sqrt', random_state=1273642419),\n",
       " DecisionTreeClassifier(max_features='sqrt', random_state=1935803228),\n",
       " DecisionTreeClassifier(max_features='sqrt', random_state=787846414),\n",
       " DecisionTreeClassifier(max_features='sqrt', random_state=996406378),\n",
       " DecisionTreeClassifier(max_features='sqrt', random_state=1201263687),\n",
       " DecisionTreeClassifier(max_features='sqrt', random_state=423734972),\n",
       " DecisionTreeClassifier(max_features='sqrt', random_state=415968276),\n",
       " DecisionTreeClassifier(max_features='sqrt', random_state=670094950),\n",
       " DecisionTreeClassifier(max_features='sqrt', random_state=1914837113),\n",
       " DecisionTreeClassifier(max_features='sqrt', random_state=669991378),\n",
       " DecisionTreeClassifier(max_features='sqrt', random_state=429389014),\n",
       " DecisionTreeClassifier(max_features='sqrt', random_state=249467210),\n",
       " DecisionTreeClassifier(max_features='sqrt', random_state=1972458954),\n",
       " DecisionTreeClassifier(max_features='sqrt', random_state=1572714583),\n",
       " DecisionTreeClassifier(max_features='sqrt', random_state=1433267572),\n",
       " DecisionTreeClassifier(max_features='sqrt', random_state=434285667),\n",
       " DecisionTreeClassifier(max_features='sqrt', random_state=613608295),\n",
       " DecisionTreeClassifier(max_features='sqrt', random_state=893664919),\n",
       " DecisionTreeClassifier(max_features='sqrt', random_state=648061058),\n",
       " DecisionTreeClassifier(max_features='sqrt', random_state=88409749),\n",
       " DecisionTreeClassifier(max_features='sqrt', random_state=242285876),\n",
       " DecisionTreeClassifier(max_features='sqrt', random_state=2018247425),\n",
       " DecisionTreeClassifier(max_features='sqrt', random_state=953477463),\n",
       " DecisionTreeClassifier(max_features='sqrt', random_state=1427830251),\n",
       " DecisionTreeClassifier(max_features='sqrt', random_state=1883569565),\n",
       " DecisionTreeClassifier(max_features='sqrt', random_state=911989541),\n",
       " DecisionTreeClassifier(max_features='sqrt', random_state=3344769),\n",
       " DecisionTreeClassifier(max_features='sqrt', random_state=780932287),\n",
       " DecisionTreeClassifier(max_features='sqrt', random_state=2114032571),\n",
       " DecisionTreeClassifier(max_features='sqrt', random_state=787716372),\n",
       " DecisionTreeClassifier(max_features='sqrt', random_state=504579232),\n",
       " DecisionTreeClassifier(max_features='sqrt', random_state=1306710475),\n",
       " DecisionTreeClassifier(max_features='sqrt', random_state=479546681),\n",
       " DecisionTreeClassifier(max_features='sqrt', random_state=106328085),\n",
       " DecisionTreeClassifier(max_features='sqrt', random_state=30349564),\n",
       " DecisionTreeClassifier(max_features='sqrt', random_state=1855189739),\n",
       " DecisionTreeClassifier(max_features='sqrt', random_state=99052376),\n",
       " DecisionTreeClassifier(max_features='sqrt', random_state=1250819632),\n",
       " DecisionTreeClassifier(max_features='sqrt', random_state=106406362),\n",
       " DecisionTreeClassifier(max_features='sqrt', random_state=480404538),\n",
       " DecisionTreeClassifier(max_features='sqrt', random_state=1717389822),\n",
       " DecisionTreeClassifier(max_features='sqrt', random_state=599121577),\n",
       " DecisionTreeClassifier(max_features='sqrt', random_state=200427519),\n",
       " DecisionTreeClassifier(max_features='sqrt', random_state=1254751707),\n",
       " DecisionTreeClassifier(max_features='sqrt', random_state=2034764475),\n",
       " DecisionTreeClassifier(max_features='sqrt', random_state=1573512143),\n",
       " DecisionTreeClassifier(max_features='sqrt', random_state=999745294),\n",
       " DecisionTreeClassifier(max_features='sqrt', random_state=1958805693),\n",
       " DecisionTreeClassifier(max_features='sqrt', random_state=389151677),\n",
       " DecisionTreeClassifier(max_features='sqrt', random_state=1224821422),\n",
       " DecisionTreeClassifier(max_features='sqrt', random_state=508464061),\n",
       " DecisionTreeClassifier(max_features='sqrt', random_state=857592370),\n",
       " DecisionTreeClassifier(max_features='sqrt', random_state=1642661739),\n",
       " DecisionTreeClassifier(max_features='sqrt', random_state=61136438),\n",
       " DecisionTreeClassifier(max_features='sqrt', random_state=2075460851),\n",
       " DecisionTreeClassifier(max_features='sqrt', random_state=396917567),\n",
       " DecisionTreeClassifier(max_features='sqrt', random_state=2004731384),\n",
       " DecisionTreeClassifier(max_features='sqrt', random_state=199502978),\n",
       " DecisionTreeClassifier(max_features='sqrt', random_state=1545932260),\n",
       " DecisionTreeClassifier(max_features='sqrt', random_state=461901618),\n",
       " DecisionTreeClassifier(max_features='sqrt', random_state=774414982),\n",
       " DecisionTreeClassifier(max_features='sqrt', random_state=732395540),\n",
       " DecisionTreeClassifier(max_features='sqrt', random_state=1934879560),\n",
       " DecisionTreeClassifier(max_features='sqrt', random_state=279394470),\n",
       " DecisionTreeClassifier(max_features='sqrt', random_state=56972561),\n",
       " DecisionTreeClassifier(max_features='sqrt', random_state=1927948675),\n",
       " DecisionTreeClassifier(max_features='sqrt', random_state=1899242072),\n",
       " DecisionTreeClassifier(max_features='sqrt', random_state=1999874363),\n",
       " DecisionTreeClassifier(max_features='sqrt', random_state=271820813),\n",
       " DecisionTreeClassifier(max_features='sqrt', random_state=1324556529),\n",
       " DecisionTreeClassifier(max_features='sqrt', random_state=1655351289),\n",
       " DecisionTreeClassifier(max_features='sqrt', random_state=1308306184),\n",
       " DecisionTreeClassifier(max_features='sqrt', random_state=68574553),\n",
       " DecisionTreeClassifier(max_features='sqrt', random_state=419498548),\n",
       " DecisionTreeClassifier(max_features='sqrt', random_state=991681409),\n",
       " DecisionTreeClassifier(max_features='sqrt', random_state=791274835),\n",
       " DecisionTreeClassifier(max_features='sqrt', random_state=1035196507),\n",
       " DecisionTreeClassifier(max_features='sqrt', random_state=1890440558),\n",
       " DecisionTreeClassifier(max_features='sqrt', random_state=787110843),\n",
       " DecisionTreeClassifier(max_features='sqrt', random_state=524150214),\n",
       " DecisionTreeClassifier(max_features='sqrt', random_state=472432043),\n",
       " DecisionTreeClassifier(max_features='sqrt', random_state=2126768636),\n",
       " DecisionTreeClassifier(max_features='sqrt', random_state=1431061255),\n",
       " DecisionTreeClassifier(max_features='sqrt', random_state=147697582),\n",
       " DecisionTreeClassifier(max_features='sqrt', random_state=744595490),\n",
       " DecisionTreeClassifier(max_features='sqrt', random_state=1758017741),\n",
       " DecisionTreeClassifier(max_features='sqrt', random_state=1679592528),\n",
       " DecisionTreeClassifier(max_features='sqrt', random_state=1111451555),\n",
       " DecisionTreeClassifier(max_features='sqrt', random_state=782698033),\n",
       " DecisionTreeClassifier(max_features='sqrt', random_state=698027879),\n",
       " DecisionTreeClassifier(max_features='sqrt', random_state=1096768899),\n",
       " DecisionTreeClassifier(max_features='sqrt', random_state=1338788865),\n",
       " DecisionTreeClassifier(max_features='sqrt', random_state=1826030589),\n",
       " DecisionTreeClassifier(max_features='sqrt', random_state=86191493),\n",
       " DecisionTreeClassifier(max_features='sqrt', random_state=893102645),\n",
       " DecisionTreeClassifier(max_features='sqrt', random_state=200619113),\n",
       " DecisionTreeClassifier(max_features='sqrt', random_state=290770691),\n",
       " DecisionTreeClassifier(max_features='sqrt', random_state=793943861),\n",
       " DecisionTreeClassifier(max_features='sqrt', random_state=134489564)]"
      ]
     },
     "execution_count": 7,
     "metadata": {},
     "output_type": "execute_result"
    }
   ],
   "source": [
    "# visualizziamo gli estimatori\n",
    "rf.estimators_"
   ]
  },
  {
   "cell_type": "code",
   "execution_count": 8,
   "metadata": {},
   "outputs": [],
   "source": [
    "# visualizziamo i primi tre alberi di decisione\n",
    "#for i in range(3):\n",
    "#    tree = rf.estimators_[i]                                # selezioniamo l'albero di decisione i-esimo prendendolo dalla lista di alberi di decisione (estimators_)\n",
    "#    dot_data = export_graphviz(\n",
    "#                                tree,                       # modello di albero di decisione\n",
    "#                                out_file=None,              # nessun file di output\n",
    "#                                feature_names=X.columns,    # nome delle variabili\n",
    "#                                filled=True,                # coloriamo i nodi\n",
    "#                                rounded=True,               # bordi arrotondati\n",
    "#                                special_characters=True     # caratteri speciali\n",
    "#                            )\n",
    "#    graph = graphviz.Source(dot_data)                       # creiamo il grafico\n",
    "#    display(graph)                                          # visualizziamo il grafico"
   ]
  },
  {
   "attachments": {},
   "cell_type": "markdown",
   "metadata": {},
   "source": [
    "Il codice seguente utilizza RandomizedSearchCV di Scikit-Learn, che cercherà in modo casuale i parametri all'interno di un intervallo per iperparametro. Definiamo gli iperparametri da usare e i loro intervalli nel dizionario param_dist. Nel nostro caso, stiamo usando:\n",
    "\n",
    "n_estimators: il numero di alberi decisionali nella foresta. L'aumento di questo iperparametro generalmente migliora le prestazioni del modello, ma aumenta anche il costo computazionale dell'addestramento e della previsione.\n",
    "max_depth: la profondità massima di ogni albero decisionale nella foresta. L'impostazione di un valore più alto per max_depth può portare a un overfitting mentre un'impostazione troppo bassa può portare a un underfitting."
   ]
  },
  {
   "attachments": {},
   "cell_type": "markdown",
   "metadata": {},
   "source": [
    "RandomizedSearchCV addestrerà molti modelli (definiti da n_iter_ e salverà ciascuno come variabile, il codice seguente crea una variabile per il modello migliore e stampa gli iperparametri. In questo caso, non abbiamo passato un sistema di punteggio alla funzione, quindi è predefinito all'accuratezza. Questa funzione utilizza anche la convalida incrociata, il che significa che suddivide i dati in cinque gruppi di uguali dimensioni e utilizza 4 per addestrare e 1 per testare il risultato. Farà scorrere ogni gruppo e fornirà un punteggio di accuratezza, la cui media è pari a trovare il modello migliore."
   ]
  },
  {
   "cell_type": "code",
   "execution_count": 9,
   "metadata": {},
   "outputs": [
    {
     "data": {
      "text/html": [
       "<style>#sk-container-id-1 {color: black;background-color: white;}#sk-container-id-1 pre{padding: 0;}#sk-container-id-1 div.sk-toggleable {background-color: white;}#sk-container-id-1 label.sk-toggleable__label {cursor: pointer;display: block;width: 100%;margin-bottom: 0;padding: 0.3em;box-sizing: border-box;text-align: center;}#sk-container-id-1 label.sk-toggleable__label-arrow:before {content: \"▸\";float: left;margin-right: 0.25em;color: #696969;}#sk-container-id-1 label.sk-toggleable__label-arrow:hover:before {color: black;}#sk-container-id-1 div.sk-estimator:hover label.sk-toggleable__label-arrow:before {color: black;}#sk-container-id-1 div.sk-toggleable__content {max-height: 0;max-width: 0;overflow: hidden;text-align: left;background-color: #f0f8ff;}#sk-container-id-1 div.sk-toggleable__content pre {margin: 0.2em;color: black;border-radius: 0.25em;background-color: #f0f8ff;}#sk-container-id-1 input.sk-toggleable__control:checked~div.sk-toggleable__content {max-height: 200px;max-width: 100%;overflow: auto;}#sk-container-id-1 input.sk-toggleable__control:checked~label.sk-toggleable__label-arrow:before {content: \"▾\";}#sk-container-id-1 div.sk-estimator input.sk-toggleable__control:checked~label.sk-toggleable__label {background-color: #d4ebff;}#sk-container-id-1 div.sk-label input.sk-toggleable__control:checked~label.sk-toggleable__label {background-color: #d4ebff;}#sk-container-id-1 input.sk-hidden--visually {border: 0;clip: rect(1px 1px 1px 1px);clip: rect(1px, 1px, 1px, 1px);height: 1px;margin: -1px;overflow: hidden;padding: 0;position: absolute;width: 1px;}#sk-container-id-1 div.sk-estimator {font-family: monospace;background-color: #f0f8ff;border: 1px dotted black;border-radius: 0.25em;box-sizing: border-box;margin-bottom: 0.5em;}#sk-container-id-1 div.sk-estimator:hover {background-color: #d4ebff;}#sk-container-id-1 div.sk-parallel-item::after {content: \"\";width: 100%;border-bottom: 1px solid gray;flex-grow: 1;}#sk-container-id-1 div.sk-label:hover label.sk-toggleable__label {background-color: #d4ebff;}#sk-container-id-1 div.sk-serial::before {content: \"\";position: absolute;border-left: 1px solid gray;box-sizing: border-box;top: 0;bottom: 0;left: 50%;z-index: 0;}#sk-container-id-1 div.sk-serial {display: flex;flex-direction: column;align-items: center;background-color: white;padding-right: 0.2em;padding-left: 0.2em;position: relative;}#sk-container-id-1 div.sk-item {position: relative;z-index: 1;}#sk-container-id-1 div.sk-parallel {display: flex;align-items: stretch;justify-content: center;background-color: white;position: relative;}#sk-container-id-1 div.sk-item::before, #sk-container-id-1 div.sk-parallel-item::before {content: \"\";position: absolute;border-left: 1px solid gray;box-sizing: border-box;top: 0;bottom: 0;left: 50%;z-index: -1;}#sk-container-id-1 div.sk-parallel-item {display: flex;flex-direction: column;z-index: 1;position: relative;background-color: white;}#sk-container-id-1 div.sk-parallel-item:first-child::after {align-self: flex-end;width: 50%;}#sk-container-id-1 div.sk-parallel-item:last-child::after {align-self: flex-start;width: 50%;}#sk-container-id-1 div.sk-parallel-item:only-child::after {width: 0;}#sk-container-id-1 div.sk-dashed-wrapped {border: 1px dashed gray;margin: 0 0.4em 0.5em 0.4em;box-sizing: border-box;padding-bottom: 0.4em;background-color: white;}#sk-container-id-1 div.sk-label label {font-family: monospace;font-weight: bold;display: inline-block;line-height: 1.2em;}#sk-container-id-1 div.sk-label-container {text-align: center;}#sk-container-id-1 div.sk-container {/* jupyter's `normalize.less` sets `[hidden] { display: none; }` but bootstrap.min.css set `[hidden] { display: none !important; }` so we also need the `!important` here to be able to override the default hidden behavior on the sphinx rendered scikit-learn.org. See: https://github.com/scikit-learn/scikit-learn/issues/21755 */display: inline-block !important;position: relative;}#sk-container-id-1 div.sk-text-repr-fallback {display: none;}</style><div id=\"sk-container-id-1\" class=\"sk-top-container\"><div class=\"sk-text-repr-fallback\"><pre>RandomizedSearchCV(cv=5, estimator=RandomForestClassifier(), n_iter=5,\n",
       "                   param_distributions={&#x27;max_depth&#x27;: &lt;scipy.stats._distn_infrastructure.rv_discrete_frozen object at 0x7f1591d16ef0&gt;,\n",
       "                                        &#x27;n_estimators&#x27;: &lt;scipy.stats._distn_infrastructure.rv_discrete_frozen object at 0x7f158fc525c0&gt;})</pre><b>In a Jupyter environment, please rerun this cell to show the HTML representation or trust the notebook. <br />On GitHub, the HTML representation is unable to render, please try loading this page with nbviewer.org.</b></div><div class=\"sk-container\" hidden><div class=\"sk-item sk-dashed-wrapped\"><div class=\"sk-label-container\"><div class=\"sk-label sk-toggleable\"><input class=\"sk-toggleable__control sk-hidden--visually\" id=\"sk-estimator-id-1\" type=\"checkbox\" ><label for=\"sk-estimator-id-1\" class=\"sk-toggleable__label sk-toggleable__label-arrow\">RandomizedSearchCV</label><div class=\"sk-toggleable__content\"><pre>RandomizedSearchCV(cv=5, estimator=RandomForestClassifier(), n_iter=5,\n",
       "                   param_distributions={&#x27;max_depth&#x27;: &lt;scipy.stats._distn_infrastructure.rv_discrete_frozen object at 0x7f1591d16ef0&gt;,\n",
       "                                        &#x27;n_estimators&#x27;: &lt;scipy.stats._distn_infrastructure.rv_discrete_frozen object at 0x7f158fc525c0&gt;})</pre></div></div></div><div class=\"sk-parallel\"><div class=\"sk-parallel-item\"><div class=\"sk-item\"><div class=\"sk-label-container\"><div class=\"sk-label sk-toggleable\"><input class=\"sk-toggleable__control sk-hidden--visually\" id=\"sk-estimator-id-2\" type=\"checkbox\" ><label for=\"sk-estimator-id-2\" class=\"sk-toggleable__label sk-toggleable__label-arrow\">estimator: RandomForestClassifier</label><div class=\"sk-toggleable__content\"><pre>RandomForestClassifier()</pre></div></div></div><div class=\"sk-serial\"><div class=\"sk-item\"><div class=\"sk-estimator sk-toggleable\"><input class=\"sk-toggleable__control sk-hidden--visually\" id=\"sk-estimator-id-3\" type=\"checkbox\" ><label for=\"sk-estimator-id-3\" class=\"sk-toggleable__label sk-toggleable__label-arrow\">RandomForestClassifier</label><div class=\"sk-toggleable__content\"><pre>RandomForestClassifier()</pre></div></div></div></div></div></div></div></div></div></div>"
      ],
      "text/plain": [
       "RandomizedSearchCV(cv=5, estimator=RandomForestClassifier(), n_iter=5,\n",
       "                   param_distributions={'max_depth': <scipy.stats._distn_infrastructure.rv_discrete_frozen object at 0x7f1591d16ef0>,\n",
       "                                        'n_estimators': <scipy.stats._distn_infrastructure.rv_discrete_frozen object at 0x7f158fc525c0>})"
      ]
     },
     "execution_count": 9,
     "metadata": {},
     "output_type": "execute_result"
    }
   ],
   "source": [
    "param_dist = {'n_estimators': randint(50,500),\n",
    "              'max_depth': randint(1,20)}\n",
    "\n",
    "# Creiamo un oggetto random forest\n",
    "rf = RandomForestClassifier()\n",
    "\n",
    "# Usiamo RandomizedSearchCV per trovare i migliori parametri\n",
    "rand_search = RandomizedSearchCV(rf, \n",
    "                                 param_distributions = param_dist, \n",
    "                                 n_iter=5, \n",
    "                                 cv=5)\n",
    "\n",
    "# Addestriamo il modello con i migliori parametri\n",
    "rand_search.fit(X_train, y_train)"
   ]
  },
  {
   "cell_type": "code",
   "execution_count": 10,
   "metadata": {},
   "outputs": [
    {
     "name": "stdout",
     "output_type": "stream",
     "text": [
      "Best hyperparameters: {'max_depth': 6, 'n_estimators': 212}\n"
     ]
    }
   ],
   "source": [
    "# Creiamo una variabile con il modello migliore\n",
    "best_rf = rand_search.best_estimator_\n",
    "\n",
    "# Printiamo i parametri migliori\n",
    "print('Best hyperparameters:',  rand_search.best_params_)"
   ]
  },
  {
   "attachments": {},
   "cell_type": "markdown",
   "metadata": {},
   "source": [
    "Diamo un'occhiata alla matrice di confusione. Questo rappresenta ciò che il modello ha previsto rispetto a quale fosse la previsione corretta. Possiamo usarlo per capire il compromesso tra falsi positivi (in alto a destra) e falsi negativi (in basso a sinistra) Possiamo tracciare la matrice di confusione usando questo codice:"
   ]
  },
  {
   "cell_type": "code",
   "execution_count": 13,
   "metadata": {},
   "outputs": [
    {
     "name": "stdout",
     "output_type": "stream",
     "text": [
      "Accuracy:  0.8901503981126512\n",
      "Precision:  0.9021397346422272\n",
      "Recall:  0.9821324204725724\n"
     ]
    },
    {
     "data": {
      "image/png": "[encoded data removed]",
      "text/plain": [
       "<Figure size 640x480 with 2 Axes>"
      ]
     },
     "metadata": {},
     "output_type": "display_data"
    }
   ],
   "source": [
    "# generiamo le predizioni sul test set\n",
    "y_pred = best_rf.predict(X_test)\n",
    "\n",
    "# Creiamo una confusion matrix\n",
    "cm = confusion_matrix(y_test, y_pred)\n",
    "ConfusionMatrixDisplay(confusion_matrix=cm).plot()\n",
    "\n",
    "# valutiamo le performance del modello\n",
    "accuracy = accuracy_score(y_test, y_pred)\n",
    "print('Accuracy: ', accuracy)\n",
    "\n",
    "# valutiamo le performance del modello\n",
    "precision = precision_score(y_test, y_pred, pos_label=0)\n",
    "print('Precision: ', precision)\n",
    "\n",
    "# valutiamo le performance del modello\n",
    "recall = recall_score(y_test, y_pred, pos_label=0)\n",
    "print('Recall: ', recall)"
   ]
  },
  {
   "attachments": {},
   "cell_type": "markdown",
   "metadata": {},
   "source": [
    "Il codice seguente traccia l'importanza di ciascuna caratteristica, utilizzando il punteggio interno del modello per trovare il modo migliore per suddividere i dati all'interno di ciascun albero decisionale."
   ]
  },
  {
   "cell_type": "code",
   "execution_count": 12,
   "metadata": {},
   "outputs": [
    {
     "data": {
      "text/plain": [
       "<AxesSubplot:>"
      ]
     },
     "execution_count": 12,
     "metadata": {},
     "output_type": "execute_result"
    },
    {
     "data": {
      "image/png": "[encoded data removed]",
      "text/plain": [
       "<Figure size 640x480 with 1 Axes>"
      ]
     },
     "metadata": {},
     "output_type": "display_data"
    }
   ],
   "source": [
    "# Crea una serie contenente l'importanza delle funzionalità dal modello e i nomi delle funzionalità dai dati di addestramento\n",
    "feature_importances = pd.Series(best_rf.feature_importances_, index=X_train.columns).sort_values(ascending=False)\n",
    "\n",
    "# Plotti un grafico a barre\n",
    "feature_importances.plot.bar()"
   ]
  }
 ],
 "metadata": {
  "kernelspec": {
   "display_name": "Python 3",
   "language": "python",
   "name": "python3"
  },
  "language_info": {
   "codemirror_mode": {
    "name": "ipython",
    "version": 3
   },
   "file_extension": ".py",
   "mimetype": "text/x-python",
   "name": "python",
   "nbconvert_exporter": "python",
   "pygments_lexer": "ipython3",
   "version": "3.10.6"
  },
  "orig_nbformat": 4
 },
 "nbformat": 4,
 "nbformat_minor": 2
}
