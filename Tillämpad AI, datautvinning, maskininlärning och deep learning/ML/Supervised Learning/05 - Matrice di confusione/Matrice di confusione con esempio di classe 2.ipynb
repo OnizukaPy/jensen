{
 "cells": [
  {
   "cell_type": "code",
   "execution_count": 1,
   "metadata": {},
   "outputs": [
    {
     "data": {
      "text/plain": [
       "0.9239766081871345"
      ]
     },
     "execution_count": 1,
     "metadata": {},
     "output_type": "execute_result"
    }
   ],
   "source": [
    "# importiamo un database e svolgiamo una classificazione binaria\n",
    "import pandas as pd\n",
    "from sklearn.datasets import load_breast_cancer\n",
    "from sklearn.neighbors import KNeighborsClassifier\n",
    "from sklearn.model_selection import train_test_split\n",
    " \n",
    "def to_target(x):\n",
    "    \"\"\"Map targets to target names\"\"\"   \n",
    "    return list(dataset.target_names)[x]\n",
    " \n",
    "# Load data\n",
    "dataset = load_breast_cancer()\n",
    "df = pd.DataFrame(dataset.data,columns=dataset.feature_names)\n",
    "df['target'] = pd.Series(dataset.target)\n",
    "df['target_names'] = df['target'].apply(to_target)\n",
    " \n",
    " \n",
    "# Define predictor and predicted datasets\n",
    "X = df.drop(['target','target_names'], axis=1).values\n",
    "y = df['target_names'].values\n",
    " \n",
    "# split taining and test set\n",
    "X_train, X_test, y_train, y_test = train_test_split(X, y, test_size=0.3, random_state=42, stratify=y)\n",
    " \n",
    "# train the model\n",
    "knn = KNeighborsClassifier(n_neighbors=8)\n",
    "knn.fit(X_train, y_train)\n",
    "y_pred = knn.predict(X_test)\n",
    " \n",
    "# compute accuracy of the model\n",
    "knn.score(X_test, y_test)"
   ]
  },
  {
   "cell_type": "code",
   "execution_count": 2,
   "metadata": {},
   "outputs": [
    {
     "data": {
      "image/png": "[encoded data removed]",
      "text/plain": [
       "<Figure size 640x480 with 2 Axes>"
      ]
     },
     "metadata": {},
     "output_type": "display_data"
    }
   ],
   "source": [
    "import matplotlib.pyplot as plt\n",
    "from sklearn.metrics import ConfusionMatrixDisplay\n",
    "from sklearn.metrics import confusion_matrix\n",
    " \n",
    "cm = confusion_matrix(y_test, y_pred, labels=knn.classes_)\n",
    "color = 'white'\n",
    "disp = ConfusionMatrixDisplay(confusion_matrix=cm, display_labels=knn.classes_)\n",
    "disp.plot()\n",
    "plt.show()"
   ]
  },
  {
   "cell_type": "code",
   "execution_count": 8,
   "metadata": {},
   "outputs": [
    {
     "name": "stdout",
     "output_type": "stream",
     "text": [
      "accuratezza:  0.9239766081871345\n",
      "precisione:  0.8983050847457628\n",
      "recall:  0.9906542056074766\n",
      "specificità:  0.9906542056074766\n",
      "F1 score:  0.9422222222222222\n",
      "Kappa di Cohen:  (0.8318838387657869, 'la concordanza è ottima')\n",
      "\n",
      "Report di classificazione: \n",
      "              precision    recall  f1-score   support\n",
      "\n",
      "      benign       0.90      0.99      0.94       107\n",
      "   malignant       0.98      0.81      0.89        64\n",
      "\n",
      "    accuracy                           0.92       171\n",
      "   macro avg       0.94      0.90      0.92       171\n",
      "weighted avg       0.93      0.92      0.92       171\n",
      "\n"
     ]
    }
   ],
   "source": [
    "# calcoliamo l'accuratezza\n",
    "# (Vero positivo + Vero negativo) / Previsioni totali\n",
    "from sklearn.metrics import accuracy_score\n",
    "accuracy = accuracy_score(y_test, y_pred)\n",
    "print('accuratezza: ', accuracy)\n",
    "\n",
    "# calcoliamo la precisione\n",
    "# Vero positivo / (Vero positivo + Falso positivo)\n",
    "from sklearn.metrics import precision_score\n",
    "precision = precision_score(y_test, y_pred, pos_label='benign')\n",
    "print('precisione: ', precision)\n",
    "\n",
    "# calcoliamo la recall (sensitivity)\n",
    "# Vero positivo / (Vero positivo + Falso negativo)\n",
    "from sklearn.metrics import recall_score\n",
    "recall = recall_score(y_test, y_pred, pos_label='benign')\n",
    "print('recall: ', recall)\n",
    "\n",
    "# calcoliamo la specificità\n",
    "# Vero negativo / (Vero negativo + Falso positivo)\n",
    "specificity = recall_score(y_test, y_pred, pos_label='benign')\n",
    "print('specificità: ', specificity)\n",
    "\n",
    "# calcoliamo la F1 score\n",
    "# 2 * (precision * recall) / (precision + recall)\n",
    "from sklearn.metrics import f1_score\n",
    "f1 = f1_score(y_test, y_pred, pos_label='benign')\n",
    "print('F1 score: ', f1)\n",
    "\n",
    "# calcoliamo il coefficiente di correlazione Kappa di Cohen\n",
    "from sklearn.metrics import cohen_kappa_score\n",
    "kappa = cohen_kappa_score(y_test, y_pred)\n",
    "\n",
    "def kappa_to_text(kappa):\n",
    "    if kappa < 0:\n",
    "        text =  \"non c'è concordanza\"\n",
    "    elif kappa >= 0 and kappa < 0.4:\n",
    "        text = \"la concordanza è scarsa\"\n",
    "    elif kappa >= 0.4 and kappa < 0.6:\n",
    "        text = \"la concordanza è discreta\"\n",
    "    elif kappa >= 0.6 and kappa < 0.8:\n",
    "        text = \"la concordanza è buona\"\n",
    "    elif kappa >= 0.8 and kappa <= 1:\n",
    "        text = \"la concordanza è ottima\"\n",
    "    else:\n",
    "        text = \"errore\"\n",
    "    \n",
    "    return kappa, text\n",
    "\n",
    "print('Kappa di Cohen: ', kappa_to_text(kappa))\n",
    "\n",
    "# stampiamo tutte le metriche con il report di classificazione\n",
    "from sklearn.metrics import classification_report\n",
    "print('\\nReport di classificazione: ')\n",
    "print(classification_report(y_test, y_pred))"
   ]
  }
 ],
 "metadata": {
  "kernelspec": {
   "display_name": "Python 3",
   "language": "python",
   "name": "python3"
  },
  "language_info": {
   "codemirror_mode": {
    "name": "ipython",
    "version": 3
   },
   "file_extension": ".py",
   "mimetype": "text/x-python",
   "name": "python",
   "nbconvert_exporter": "python",
   "pygments_lexer": "ipython3",
   "version": "3.10.6"
  },
  "orig_nbformat": 4
 },
 "nbformat": 4,
 "nbformat_minor": 2
}
