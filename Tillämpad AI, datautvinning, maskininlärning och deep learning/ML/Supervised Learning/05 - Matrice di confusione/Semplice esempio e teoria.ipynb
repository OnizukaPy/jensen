{
 "cells": [
  {
   "attachments": {},
   "cell_type": "markdown",
   "metadata": {},
   "source": [
    "MATRICE DI CONFUSIONE\n",
    "\n",
    "TEORIA:\n",
    "\n",
    "     - https://it.wikipedia.org/wiki/Matrice_di_confusione\n",
    "     - https://it.wikipedia.org/wiki/Kappa_di_Cohen\n",
    "     - https://www.w3schools.com/python/python_ml_confusion_matrix.asp\n",
    "     - https://datatofish.com/confusion-matrix-python/"
   ]
  },
  {
   "attachments": {},
   "cell_type": "markdown",
   "metadata": {},
   "source": [
    "Nell'ambito dell'Intelligenza artificiale, la matrice di confusione, detta anche tabella di errata classificazione, restituisce una rappresentazione dell'accuratezza di classificazione statistica.\n",
    "\n",
    "Ogni colonna della matrice rappresenta i valori predetti, mentre ogni riga rappresenta i valori reali. L'elemento sulla riga i e sulla colonna j è il numero di casi in cui il classificatore ha classificato la classe \"vera\" i come classe j. Attraverso questa matrice è osservabile se vi è \"confusione\" nella classificazione di diverse classi.\n",
    "\n",
    "Attraverso l'uso della matrice di confusione è possibile calcolare il coefficiente kappa, anche conosciuto come coefficiente kappa di Cohen. "
   ]
  },
  {
   "attachments": {},
   "cell_type": "markdown",
   "metadata": {},
   "source": [
    "La matrice di confusione può essere utilizzata su valori continui (ad esempio regressione lineare)?\n",
    "\n",
    "Le matrici di confusione mostrano l'accuratezza della previsione delle classi. Quando si tenta di prevedere un output numerico come nel caso dell'output continuo di un modello di regressione, la matrice di confusione non dovrebbe essere utilizzata."
   ]
  },
  {
   "cell_type": "code",
   "execution_count": null,
   "metadata": {},
   "outputs": [],
   "source": [
    "# creiamo un semplice esempio di matrice di confusione\n",
    "import pandas as pd\n",
    "\n",
    "data = {'y_actual':    [1, 0, 0, 1, 0, 1, 0, 0, 1, 0, 1, 0],\n",
    "        'y_predicted': [1, 1, 0, 1, 0, 1, 1, 0, 1, 0, 0, 0]\n",
    "        }\n",
    "\n",
    "df = pd.DataFrame(data)\n",
    "print(df)"
   ]
  },
  {
   "cell_type": "code",
   "execution_count": 2,
   "metadata": {},
   "outputs": [
    {
     "name": "stdout",
     "output_type": "stream",
     "text": [
      "Predicted  0  1\n",
      "Actual         \n",
      "0          5  2\n",
      "1          1  4\n"
     ]
    }
   ],
   "source": [
    "# Per creare la Confusion Matrix utilizzando i panda, dovrai applicare pd.crosstab come segue\n",
    "confusion_matrix = pd.crosstab(df['y_actual'], df['y_predicted'], rownames=['Actual'], colnames=['Predicted'])\n",
    "print (confusion_matrix)"
   ]
  },
  {
   "cell_type": "code",
   "execution_count": 3,
   "metadata": {},
   "outputs": [
    {
     "data": {
      "image/png": "[encoded data removed]",
      "text/plain": [
       "<Figure size 640x480 with 2 Axes>"
      ]
     },
     "metadata": {},
     "output_type": "display_data"
    }
   ],
   "source": [
    "# Visualizzare la matrice di confusione usando Seaborn e Matplotlib\n",
    "import seaborn as sns\n",
    "import matplotlib.pyplot as plt\n",
    "\n",
    "sns.heatmap(confusion_matrix, annot=True)\n",
    "plt.show()\n"
   ]
  },
  {
   "attachments": {},
   "cell_type": "markdown",
   "metadata": {},
   "source": [
    "UTILIZIAMO SKLEARN:\n",
    "\n",
    "     - https://scikit-learn.org/stable/modules/generated/sklearn.metrics.confusion_matrix.html\n",
    "     - https://scikit-learn.org/stable/modules/generated/sklearn.metrics.classification_report.html"
   ]
  },
  {
   "cell_type": "code",
   "execution_count": 16,
   "metadata": {},
   "outputs": [
    {
     "name": "stdout",
     "output_type": "stream",
     "text": [
      "[[5 2]\n",
      " [1 4]]\n"
     ]
    },
    {
     "data": {
      "image/png": "[encoded data removed]",
      "text/plain": [
       "<Figure size 640x480 with 2 Axes>"
      ]
     },
     "metadata": {},
     "output_type": "display_data"
    },
    {
     "name": "stdout",
     "output_type": "stream",
     "text": [
      "accuratezza:  0.75\n",
      "precisione:  0.6666666666666666\n",
      "recall:  0.8\n",
      "specificità:  0.7142857142857143\n",
      "F1 score:  0.7272727272727272\n",
      "Kappa di Cohen:  (0.5, 'la concordanza è discreta')\n",
      "\n",
      "Report di classificazione: \n",
      "              precision    recall  f1-score   support\n",
      "\n",
      "           0       0.83      0.71      0.77         7\n",
      "           1       0.67      0.80      0.73         5\n",
      "\n",
      "    accuracy                           0.75        12\n",
      "   macro avg       0.75      0.76      0.75        12\n",
      "weighted avg       0.76      0.75      0.75        12\n",
      "\n"
     ]
    }
   ],
   "source": [
    "# importiamo da sklearn le funzioni per la matrice di confusione\n",
    "from sklearn.metrics import confusion_matrix\n",
    "\n",
    "# creiamo un semplice esempio di matrice di confusione\n",
    "y_actual = [1, 0, 0, 1, 0, 1, 0, 0, 1, 0, 1, 0]\n",
    "y_predicted = [1, 1, 0, 1, 0, 1, 1, 0, 1, 0, 0, 0]\n",
    "\n",
    "# creiamo la matrice di confusione\n",
    "cm = confusion_matrix(y_actual, y_predicted)\n",
    "\n",
    "# visualizziamo la matrice di confusione\n",
    "print(cm)\n",
    "\n",
    "# Visualizzare la matrice di confusione usando Seaborn e Matplotlib\n",
    "sns.heatmap(cm, annot=True)\n",
    "plt.show()\n",
    "\n",
    "# calcoliamo l'accuratezza\n",
    "# (Vero positivo + Vero negativo) / Previsioni totali\n",
    "from sklearn.metrics import accuracy_score\n",
    "accuracy = accuracy_score(y_actual, y_predicted)\n",
    "print('accuratezza: ', accuracy)\n",
    "\n",
    "# calcoliamo la precisione\n",
    "# Vero positivo / (Vero positivo + Falso positivo)\n",
    "from sklearn.metrics import precision_score\n",
    "precision = precision_score(y_actual, y_predicted)\n",
    "print('precisione: ', precision)\n",
    "\n",
    "# calcoliamo la recall (sensitivity)\n",
    "# Vero positivo / (Vero positivo + Falso negativo)\n",
    "from sklearn.metrics import recall_score\n",
    "recall = recall_score(y_actual, y_predicted)\n",
    "print('recall: ', recall)\n",
    "\n",
    "# calcoliamo la specificità\n",
    "# Vero negativo / (Vero negativo + Falso positivo)\n",
    "specificity = recall_score(y_actual, y_predicted, pos_label=0)\n",
    "print('specificità: ', specificity)\n",
    "\n",
    "# calcoliamo la F1 score\n",
    "# 2 * (precision * recall) / (precision + recall)\n",
    "from sklearn.metrics import f1_score\n",
    "f1 = f1_score(y_actual, y_predicted)\n",
    "print('F1 score: ', f1)\n",
    "\n",
    "# calcoliamo il coefficiente di correlazione Kappa di Cohen\n",
    "from sklearn.metrics import cohen_kappa_score\n",
    "kappa = cohen_kappa_score(y_actual, y_predicted)\n",
    "\n",
    "def kappa_to_text(kappa):\n",
    "    if kappa < 0:\n",
    "        text =  \"non c'è concordanza\"\n",
    "    elif kappa >= 0 and kappa < 0.4:\n",
    "        text = \"la concordanza è scarsa\"\n",
    "    elif kappa >= 0.4 and kappa < 0.6:\n",
    "        text = \"la concordanza è discreta\"\n",
    "    elif kappa >= 0.6 and kappa < 0.8:\n",
    "        text = \"la concordanza è buona\"\n",
    "    elif kappa >= 0.8 and kappa <= 1:\n",
    "        text = \"la concordanza è ottima\"\n",
    "    else:\n",
    "        text = \"errore\"\n",
    "    \n",
    "    return kappa, text\n",
    "\n",
    "print('Kappa di Cohen: ', kappa_to_text(kappa))\n",
    "\n",
    "# stampiamo tutte le metriche con il report di classificazione\n",
    "from sklearn.metrics import classification_report\n",
    "print('\\nReport di classificazione: ')\n",
    "print(classification_report(y_actual, y_predicted))\n"
   ]
  }
 ],
 "metadata": {
  "kernelspec": {
   "display_name": "Python 3",
   "language": "python",
   "name": "python3"
  },
  "language_info": {
   "codemirror_mode": {
    "name": "ipython",
    "version": 3
   },
   "file_extension": ".py",
   "mimetype": "text/x-python",
   "name": "python",
   "nbconvert_exporter": "python",
   "pygments_lexer": "ipython3",
   "version": "3.10.6"
  },
  "orig_nbformat": 4
 },
 "nbformat": 4,
 "nbformat_minor": 2
}
