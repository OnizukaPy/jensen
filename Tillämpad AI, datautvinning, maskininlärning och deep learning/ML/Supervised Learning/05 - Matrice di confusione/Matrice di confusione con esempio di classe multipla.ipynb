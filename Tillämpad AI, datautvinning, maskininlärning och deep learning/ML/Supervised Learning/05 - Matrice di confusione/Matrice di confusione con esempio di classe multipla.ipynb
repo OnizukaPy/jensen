{
 "cells": [
  {
   "cell_type": "code",
   "execution_count": 2,
   "metadata": {},
   "outputs": [
    {
     "data": {
      "text/plain": [
       "1.0"
      ]
     },
     "execution_count": 2,
     "metadata": {},
     "output_type": "execute_result"
    }
   ],
   "source": [
    "# importiamo un database e svolgiamo una classificazione multipla\n",
    "#Import the necessary libraries\n",
    "from sklearn.datasets import load_wine\n",
    "from sklearn.model_selection import train_test_split\n",
    "from sklearn.ensemble import RandomForestClassifier\n",
    " \n",
    "# Load the wine dataset\n",
    "X, y = load_wine(return_X_y=True)\n",
    "X_train, X_test, y_train, y_test = train_test_split(X, y,test_size=0.25)\n",
    "  \n",
    "# Train the model\n",
    "clf = RandomForestClassifier(random_state=23)\n",
    "clf.fit(X_train, y_train)\n",
    "  \n",
    "# Predict using the test data\n",
    "y_pred = clf.predict(X_test)\n",
    "\n",
    "# compute accuracy of the model\n",
    "clf.score(X_test, y_test)\n"
   ]
  },
  {
   "cell_type": "code",
   "execution_count": 3,
   "metadata": {},
   "outputs": [
    {
     "data": {
      "image/png": "[encoded data removed]",
      "text/plain": [
       "<Figure size 640x480 with 2 Axes>"
      ]
     },
     "metadata": {},
     "output_type": "display_data"
    }
   ],
   "source": [
    "# Compute the confusion matrix\n",
    "import matplotlib.pyplot as plt\n",
    "from sklearn.metrics import ConfusionMatrixDisplay\n",
    "from sklearn.metrics import confusion_matrix\n",
    " \n",
    "cm = confusion_matrix(y_test, y_pred, labels=clf.classes_)\n",
    "color = 'white'\n",
    "disp = ConfusionMatrixDisplay(confusion_matrix=cm, display_labels=clf.classes_)\n",
    "disp.plot()\n",
    "plt.show()"
   ]
  },
  {
   "cell_type": "code",
   "execution_count": 7,
   "metadata": {},
   "outputs": [
    {
     "name": "stdout",
     "output_type": "stream",
     "text": [
      "accuratezza:  1.0\n",
      "precisione:  1.0\n",
      "recall:  1.0\n",
      "specificità:  1.0\n",
      "F1 score:  1.0\n",
      "Kappa di Cohen:  (1.0, 'la concordanza è ottima')\n",
      "\n",
      "Report di classificazione: \n",
      "              precision    recall  f1-score   support\n",
      "\n",
      "           0       1.00      1.00      1.00        13\n",
      "           1       1.00      1.00      1.00        20\n",
      "           2       1.00      1.00      1.00        12\n",
      "\n",
      "    accuracy                           1.00        45\n",
      "   macro avg       1.00      1.00      1.00        45\n",
      "weighted avg       1.00      1.00      1.00        45\n",
      "\n"
     ]
    }
   ],
   "source": [
    "# calcoliamo l'accuratezza\n",
    "# (Vero positivo + Vero negativo) / Previsioni totali\n",
    "from sklearn.metrics import accuracy_score\n",
    "accuracy = accuracy_score(y_test, y_pred)\n",
    "print('accuratezza: ', accuracy)\n",
    "\n",
    "# calcoliamo la precisione\n",
    "# Vero positivo / (Vero positivo + Falso positivo)\n",
    "from sklearn.metrics import precision_score\n",
    "precision = precision_score(y_test, y_pred, pos_label=None, average='weighted')\n",
    "print('precisione: ', precision)\n",
    "\n",
    "# calcoliamo la recall (sensitivity)\n",
    "# Vero positivo / (Vero positivo + Falso negativo)\n",
    "from sklearn.metrics import recall_score\n",
    "recall = recall_score(y_test, y_pred, pos_label=None, average='weighted')\n",
    "print('recall: ', recall)\n",
    "\n",
    "# calcoliamo la specificità\n",
    "# Vero negativo / (Vero negativo + Falso positivo)\n",
    "specificity = recall_score(y_test, y_pred, pos_label=None, average='weighted')\n",
    "print('specificità: ', specificity)\n",
    "\n",
    "# calcoliamo la F1 score\n",
    "# 2 * (precision * recall) / (precision + recall)\n",
    "from sklearn.metrics import f1_score\n",
    "f1 = f1_score(y_test, y_pred, pos_label=None, average='weighted')\n",
    "print('F1 score: ', f1)\n",
    "\n",
    "# calcoliamo il coefficiente di correlazione Kappa di Cohen\n",
    "from sklearn.metrics import cohen_kappa_score\n",
    "kappa = cohen_kappa_score(y_test, y_pred)\n",
    "\n",
    "def kappa_to_text(kappa):\n",
    "    if kappa < 0:\n",
    "        text =  \"non c'è concordanza\"\n",
    "    elif kappa >= 0 and kappa < 0.4:\n",
    "        text = \"la concordanza è scarsa\"\n",
    "    elif kappa >= 0.4 and kappa < 0.6:\n",
    "        text = \"la concordanza è discreta\"\n",
    "    elif kappa >= 0.6 and kappa < 0.8:\n",
    "        text = \"la concordanza è buona\"\n",
    "    elif kappa >= 0.8 and kappa <= 1:\n",
    "        text = \"la concordanza è ottima\"\n",
    "    else:\n",
    "        text = \"errore\"\n",
    "    \n",
    "    return kappa, text\n",
    "\n",
    "print('Kappa di Cohen: ', kappa_to_text(kappa))\n",
    "\n",
    "# stampiamo tutte le metriche con il report di classificazione\n",
    "from sklearn.metrics import classification_report\n",
    "print('\\nReport di classificazione: ')\n",
    "print(classification_report(y_test, y_pred))"
   ]
  }
 ],
 "metadata": {
  "kernelspec": {
   "display_name": "Python 3",
   "language": "python",
   "name": "python3"
  },
  "language_info": {
   "codemirror_mode": {
    "name": "ipython",
    "version": 3
   },
   "file_extension": ".py",
   "mimetype": "text/x-python",
   "name": "python",
   "nbconvert_exporter": "python",
   "pygments_lexer": "ipython3",
   "version": "3.10.6"
  },
  "orig_nbformat": 4
 },
 "nbformat": 4,
 "nbformat_minor": 2
}
