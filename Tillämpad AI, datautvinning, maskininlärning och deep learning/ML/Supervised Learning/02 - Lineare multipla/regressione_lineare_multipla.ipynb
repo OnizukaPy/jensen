{
 "cells": [
  {
   "cell_type": "code",
   "execution_count": 2,
   "metadata": {},
   "outputs": [],
   "source": [
    "# Vi importerar det vi behöver\n",
    "\n",
    "import pandas as pd\n",
    "import numpy as np \n",
    "\n",
    "import matplotlib.pyplot as plt\n",
    "from matplotlib import rcParams\n",
    "import seaborn as sns\n",
    "# applichiamo uno stile piacevole alla vista e settiamo i parametri di visualizzazione\n",
    "plt.style.use(\"ggplot\")\n",
    "rcParams['figure.figsize'] = (12,  6)"
   ]
  },
  {
   "cell_type": "code",
   "execution_count": null,
   "metadata": {},
   "outputs": [],
   "source": [
    "# importiamo il dataset\n",
    "boston = pd.read_csv('boston.csv')\n",
    "\n",
    "# Eliminiamo la colonna Unnamed: 0 che non ci serve\n",
    "del boston['Unnamed: 0']\n",
    "\n",
    "# Facciamo una piccola ispezione del dataset per vedere se ci sono valori nulli o mancanti\n",
    "print('informazioni sul dataset', '\\n')\n",
    "print(boston.info(), '\\n')\n",
    "print(boston.describe(), '\\n')\n",
    "print('controlliamo se ci sono dei valori nulli', '\\n')\n",
    "print(boston.isnull().sum())\n",
    "print('\\n')\n",
    "# Controlliamo se ci sono valori anomali nei dati\n",
    "corr = boston.corr(method=\"pearson\")\n",
    "print('Controlliamo se ci sono valori anomali nei dati', '\\n')\n",
    "print(corr)\n",
    "print('stampiamo una mappa semplice delle correlazioni', '\\n')\n",
    "sns.heatmap(corr,annot=True)\n",
    "plt.show()"
   ]
  },
  {
   "attachments": {},
   "cell_type": "markdown",
   "metadata": {},
   "source": [
    "PREPARAZIONE DEL DATASET PER LA REGRESSIONE LINEARE MULTIPLA\n"
   ]
  },
  {
   "cell_type": "code",
   "execution_count": null,
   "metadata": {},
   "outputs": [],
   "source": [
    "# Dividiamo il dataset in due parti: X e y dove le X sono le features e y è la variabile target\n",
    "# Per fare questo usiamo il metodo .iloc che ci permette di selezionare le colonne che ci servono\n",
    "# e di trasformarle in un array numpy nella forma corretta per essere usate dagli algoritmi di ML\n",
    "# ovvero una matrice di features e un vettore di target\n",
    "\n",
    "# numero di colonne\n",
    "n = len(boston.columns)\n",
    "\n",
    "# selezioniamo le colonne che ci servono\n",
    "# matrice della colonna di features\n",
    "X = boston.iloc[:,0:n-1].values\n",
    "\n",
    "# vettore della variabile target\n",
    "y = boston.iloc[:,n-1].values.reshape(-1,1)\n",
    "\n",
    "# stampiamo le dimensioni delle matrici\n",
    "print(\"Matrice di features\", X.shape)\n",
    "print(\"Vettore target\", y.shape)"
   ]
  },
  {
   "cell_type": "code",
   "execution_count": 5,
   "metadata": {},
   "outputs": [],
   "source": [
    "# Settiamo il parametro random state per avere sempre gli stessi risultati\n",
    "# quando facciamo la divisione in train e test set e quando usiamo l'algoritmo di ML\n",
    "RANDOM_STATE = 40"
   ]
  },
  {
   "attachments": {},
   "cell_type": "markdown",
   "metadata": {},
   "source": [
    "REGRESSIONE LINEARE MULTIPLA"
   ]
  },
  {
   "cell_type": "code",
   "execution_count": null,
   "metadata": {},
   "outputs": [],
   "source": [
    "# Testiamo il modello con il train test split e vediamo come si comporta\n",
    "# dividiamo il dataset in train e test set con il metodo train_test_split di sklearn \n",
    "# e poi effettuiamo una regressione lineare multipla con il metodo LinearRegression di sklearn\n",
    "from sklearn.model_selection import train_test_split\n",
    "from sklearn.linear_model import LinearRegression\n",
    "from sklearn.metrics import r2_score, mean_absolute_error, mean_squared_error\n",
    "\n",
    "X_train, X_test, y_train, y_test = train_test_split(X,y, train_size=0.7, random_state=RANDOM_STATE)\n",
    "\n",
    "# Creiamo il modello di regressione lineare multipla\n",
    "lr_model = LinearRegression()\n",
    "\n",
    "# Adddestriamo il modello\n",
    "lr_model.fit(X_train, y_train)\n",
    "\n",
    "# Verifichiamo l'accuratezza del modello\n",
    "print(\"Accuratezza del modello\", '\\n')\n",
    "score_model = lr_model.score(X_test,y_test)\n",
    "print(\"r2: \", score_model, '\\n')\n",
    "\n",
    "# Effettuiamo delle predizioni sul test set e calcoliamo l'accuratezza del modello\n",
    "print('Accuratezza delle Previsioni', '\\n')\n",
    "y_pred = lr_model.predict(X_test)\n",
    "# r2 \n",
    "r2 = r2_score(y_test,y_pred)\n",
    "print('r2: ', r2)\n",
    "\n",
    "# Errore quadratico medio\n",
    "mse = mean_squared_error(y_test,y_pred)\n",
    "print(\"Errore quadratico medio: \", mse)\n",
    "\n",
    "# Errore medio assoluto\n",
    "mae = mean_absolute_error(y_test, y_pred)\n",
    "print(\"Errore medio assoluto: \", mae)\n"
   ]
  },
  {
   "cell_type": "code",
   "execution_count": null,
   "metadata": {},
   "outputs": [],
   "source": [
    "# visualizziamo i valori dei pesi e del bias trovati\n",
    "print(\"Valore dei pesi:\", lr_model.coef_[0])\n",
    "print(\"Valore della intercetta:\", lr_model.intercept_[0])\n",
    "\n",
    "# stampiamo l'equazione della retta\n",
    "print(\"Equazione della retta:\", '\\n')\n",
    "for i in range(len(boston.columns)-1):\n",
    "    print(boston.columns[i], \"*\", lr_model.coef_[0][i], \"+\")\n",
    "print('Bias (intercetta)', lr_model.intercept_[0])"
   ]
  },
  {
   "attachments": {},
   "cell_type": "markdown",
   "metadata": {},
   "source": [
    "ALTRI METODI DI REGRESSIONE LINEARE MULTIPLA:\n",
    "\n",
    "CROSS VALIDATION\n",
    " - https://it.wikipedia.org/wiki/Convalida_incrociata \n",
    "\n",
    "LASSO e RIDGE\n",
    " - https://www.sciano.net/post/3/lasso-vs-ridge-regression "
   ]
  },
  {
   "attachments": {},
   "cell_type": "markdown",
   "metadata": {},
   "source": [
    "CONFRONTO PRELIMINARE DEI MODELLI CON LA CROSS VALIDATION\n",
    "\n",
    " - https://www.diariodiunanalista.it/posts/un-paradigma-per-la-selezione-del-modello/"
   ]
  },
  {
   "cell_type": "code",
   "execution_count": 10,
   "metadata": {},
   "outputs": [],
   "source": [
    "from sklearn import linear_model\n",
    "from sklearn import ensemble\n",
    "from sklearn import tree\n",
    "from sklearn import svm\n",
    "from sklearn import neighbors\n",
    "from lightgbm import LGBMRegressor\n",
    "from xgboost import XGBRegressor"
   ]
  },
  {
   "cell_type": "code",
   "execution_count": 11,
   "metadata": {},
   "outputs": [],
   "source": [
    "models = []\n",
    "models.append(('Lasso', linear_model.Lasso()))\n",
    "models.append(('Ridge', linear_model.Ridge()))\n",
    "models.append(('EN', linear_model.ElasticNet()))\n",
    "models.append(('RandomForest', ensemble.RandomForestRegressor()))\n",
    "models.append(('KNR', neighbors.KNeighborsRegressor()))\n",
    "models.append(('DT', tree.DecisionTreeRegressor()))\n",
    "models.append(('ET', tree.ExtraTreeRegressor()))\n",
    "models.append(('LGBM', LGBMRegressor()))\n",
    "models.append(('XGB', XGBRegressor()))\n",
    "models.append(('GBM', ensemble.GradientBoostingRegressor()))\n",
    "models.append((\"SVR\", svm.LinearSVR()))"
   ]
  },
  {
   "cell_type": "code",
   "execution_count": null,
   "metadata": {},
   "outputs": [],
   "source": [
    "from sklearn import model_selection\n",
    "\n",
    "n_folds = 5 # numero di split \n",
    "results = [] # lista dove salvare le performance\n",
    "names = [] # lista dove salvare i nomi dei modelli per la visualizzazione\n",
    "\n",
    "# iniziamo il ciclo dove andremo a testare ogni modello\n",
    "for name, model in models:\n",
    "    kfold = model_selection.KFold(n_splits=n_folds)\n",
    "    print(\"Testing model:\", name)\n",
    "    cv_results = model_selection.cross_val_score(\n",
    "        model, \n",
    "        X_train, \n",
    "        y_train, \n",
    "        cv=kfold, \n",
    "        scoring=\"neg_mean_absolute_error\", \n",
    "        verbose=0, \n",
    "        n_jobs=-1)\n",
    "    results.append(cv_results)\n",
    "    names.append(name)\n",
    "    msg = \"%s: %f (%f)\" % (name, cv_results.mean(), cv_results.std())\n",
    "    print(msg+\"\\n\")"
   ]
  },
  {
   "cell_type": "code",
   "execution_count": 13,
   "metadata": {},
   "outputs": [
    {
     "data": {
      "image/png": "[encoded data removed]",
      "text/plain": [
       "<Figure size 1200x700 with 1 Axes>"
      ]
     },
     "metadata": {},
     "output_type": "display_data"
    }
   ],
   "source": [
    "# Modelli messi a confronto\n",
    "fig = plt.figure(figsize=(12,7))\n",
    "fig.suptitle('Algorithm Comparison')\n",
    "ax = fig.add_subplot(111)\n",
    "plt.boxplot(results)\n",
    "ax.set_xticklabels(names)\n",
    "plt.show()"
   ]
  },
  {
   "attachments": {},
   "cell_type": "markdown",
   "metadata": {},
   "source": [
    "CROSS VALIDATION"
   ]
  },
  {
   "cell_type": "code",
   "execution_count": 14,
   "metadata": {},
   "outputs": [
    {
     "name": "stdout",
     "output_type": "stream",
     "text": [
      "Accuratezza della cross validation:  [ 0.63919994  0.71386698  0.58702344  0.07923081 -0.25294154]\n",
      "Accuratezza media della cross validation:  0.35327592439588484\n"
     ]
    }
   ],
   "source": [
    "# Testiamo il modello con la cross validation\n",
    "from sklearn.model_selection import cross_val_score\n",
    "\n",
    "scores = cross_val_score(lr_model, X, y, cv = 5)\n",
    "print(\"Accuratezza della cross validation: \", scores)\n",
    "print(\"Accuratezza media della cross validation: \", scores.mean())"
   ]
  },
  {
   "cell_type": "code",
   "execution_count": 50,
   "metadata": {},
   "outputs": [
    {
     "data": {
      "text/plain": [
       "\"# Vi testar att göra en random forest regression\\nfrom xgboost import XGBRegressor\\n\\n# Vi skapar en regressor\\nxgb_model = XGBRegressor(random_state=RANDOM_STATE)\\n\\n# vi skapar en parameter grid\\nparam_grid = {\\n    'n_estimators': [100, 200, 500],\\n    'max_depth': [3, 6, 9],\\n    'gamma': [0.01, 0.1],\\n    'learning_rate': [0.001, 0.001, 0.01, 0.1, 1]\\n}\\n\\n# Vi skapar en grid search\\nfrom sklearn.model_selection import GridSearchCV\\n\\nGS = GridSearchCV(\\n                estimator=xgb_model,                      # model to train\\n                param_grid=param_grid,                    # parameter grid\\n                scoring=['r2', 'neg_mean_squared_error'], # sklearn.metrics.SCORERS.keys()\\n                refit='r2',                               # best estimator based on r2\\n                cv=5,                                     # 5-fold cross validation\\n                verbose=4\\n                )\\n\\n# Vi tränar grid modellen\\nGS.fit(X_train, y_train)\""
      ]
     },
     "execution_count": 50,
     "metadata": {},
     "output_type": "execute_result"
    }
   ],
   "source": [
    "\"\"\"# Vi testar att göra en random forest regression\n",
    "from xgboost import XGBRegressor\n",
    "\n",
    "# Vi skapar en regressor\n",
    "xgb_model = XGBRegressor(random_state=RANDOM_STATE)\n",
    "\n",
    "# vi skapar en parameter grid\n",
    "param_grid = {\n",
    "    'n_estimators': [100, 200, 500],\n",
    "    'max_depth': [3, 6, 9],\n",
    "    'gamma': [0.01, 0.1],\n",
    "    'learning_rate': [0.001, 0.001, 0.01, 0.1, 1]\n",
    "}\n",
    "\n",
    "# Vi skapar en grid search\n",
    "from sklearn.model_selection import GridSearchCV\n",
    "\n",
    "GS = GridSearchCV(\n",
    "                estimator=xgb_model,                      # model to train\n",
    "                param_grid=param_grid,                    # parameter grid\n",
    "                scoring=['r2', 'neg_mean_squared_error'], # sklearn.metrics.SCORERS.keys()\n",
    "                refit='r2',                               # best estimator based on r2\n",
    "                cv=5,                                     # 5-fold cross validation\n",
    "                verbose=4\n",
    "                )\n",
    "\n",
    "# Vi tränar grid modellen\n",
    "GS.fit(X_train, y_train)\"\"\""
   ]
  },
  {
   "cell_type": "code",
   "execution_count": 17,
   "metadata": {},
   "outputs": [],
   "source": [
    "# Testiamo i due regressori Ridge e Lasso e usiamo due griglie di ricerca per trovare i migliori parametri\n",
    "# con la cross validation\n",
    "from sklearn.linear_model import Ridge, Lasso\n",
    "\n",
    "# Creiamo la griglia di ricerca per il regressore Ridge e Lasso e usiamo la GridSearchCV di sklearn\n",
    "param_grid = {\"alpha\": [ 0.001, 0.01, 0.1, 1, 10, 100]}\n"
   ]
  },
  {
   "attachments": {},
   "cell_type": "markdown",
   "metadata": {},
   "source": [
    "GridSearchCV"
   ]
  },
  {
   "cell_type": "code",
   "execution_count": 16,
   "metadata": {},
   "outputs": [],
   "source": [
    "# importiamo la libreria per la griglia di ricerca\n",
    "from sklearn.model_selection import GridSearchCV\n",
    "\n",
    "# Creiamo i due modelli di regressione Ridge e Lasso\n",
    "Ridge_model = Ridge(random_state=RANDOM_STATE)\n",
    "Lasso_model = Lasso(random_state=RANDOM_STATE)"
   ]
  },
  {
   "attachments": {},
   "cell_type": "markdown",
   "metadata": {},
   "source": [
    "Ridge"
   ]
  },
  {
   "cell_type": "code",
   "execution_count": 18,
   "metadata": {},
   "outputs": [
    {
     "name": "stdout",
     "output_type": "stream",
     "text": [
      "===================================================\n",
      "======= Evaluatition of the GRID ==================\n",
      "===================================================\n",
      "Grid search best hyperparameters:  {'alpha': 0.001}\n",
      "Grid search best score:  0.7113878100615512\n",
      "Grid search best estimator:  Ridge(alpha=0.001, random_state=40)\n",
      "Grid search best index:  0\n",
      "\n",
      "\n",
      "===================================================\n",
      "======= Result of the GRID ========================\n",
      "===================================================\n",
      "   mean_fit_time  std_fit_time  mean_score_time  std_score_time param_alpha  \\\n",
      "0       0.001678      0.000925         0.001532        0.000228       0.001   \n",
      "\n",
      "             params  split0_test_r2  split1_test_r2  split2_test_r2  \\\n",
      "0  {'alpha': 0.001}        0.661365        0.795602         0.65327   \n",
      "\n",
      "   split3_test_r2  ...  std_test_r2  rank_test_r2  \\\n",
      "0        0.747758  ...     0.053758             1   \n",
      "\n",
      "   split0_test_neg_mean_squared_error  split1_test_neg_mean_squared_error  \\\n",
      "0                          -27.633243                          -12.781423   \n",
      "\n",
      "   split2_test_neg_mean_squared_error  split3_test_neg_mean_squared_error  \\\n",
      "0                          -26.925256                          -15.206698   \n",
      "\n",
      "   split4_test_neg_mean_squared_error  mean_test_neg_mean_squared_error  \\\n",
      "0                          -21.988697                        -20.907063   \n",
      "\n",
      "   std_test_neg_mean_squared_error  rank_test_neg_mean_squared_error  \n",
      "0                          6.01914                                 1  \n",
      "\n",
      "[1 rows x 22 columns]\n",
      "\n",
      "\n",
      "===================================================\n",
      "======= Evaluatition of the model =================\n",
      "===================================================\n",
      "Ridge score:  0.7215528660031915\n",
      "R2 score:  0.7215528660031915\n",
      "Difference:  0.0\n",
      "\n",
      "\n"
     ]
    }
   ],
   "source": [
    "# Creiamo la griglia di ricerca per il regressore Ridge e calcoliamo i risultati\n",
    "GS = GridSearchCV(\n",
    "                estimator=Ridge_model,                    # modello da addestrare\n",
    "                param_grid=param_grid,                    # grid di parametri\n",
    "                scoring=['r2', 'neg_mean_squared_error'], # metriche di confronto sklearn.metrics.SCORERS.keys()\n",
    "                refit='r2',                               # migliore estimatore basato su r2\n",
    "                cv=5,                                     # cross validation a 5 fold\n",
    "                verbose=False\n",
    "                )\n",
    "\n",
    "# Vi tränar grid modellen\n",
    "GS.fit(X_train, y_train)\n",
    "\n",
    "# Vi kollar vilka parametrar som är bäst\n",
    "print('===================================================')\n",
    "print('======= Evaluatition of the GRID ==================')\n",
    "print('===================================================')\n",
    "print(\"Grid search best hyperparameters: \", GS.best_params_)\n",
    "print(\"Grid search best score: \", GS.best_score_)\n",
    "print(\"Grid search best estimator: \", GS.best_estimator_)\n",
    "print(\"Grid search best index: \", GS.best_index_)\n",
    "print('\\n')\n",
    "# Vi skapar en dataframe med resultaten\n",
    "result_grid = pd.DataFrame(GS.cv_results_)\n",
    "print('===================================================')\n",
    "print('======= Result of the GRID ========================')\n",
    "print('===================================================')\n",
    "# Vi printar ut de 10 bästa resultaten sorterade efter r2\n",
    "print(result_grid.sort_values(by='rank_test_r2').head(1))\n",
    "print('\\n')\n",
    "\n",
    "# Träna en modell med de bästa värdena\n",
    "\n",
    "Ridge_model = Ridge(alpha=GS.best_params_[\"alpha\"])\n",
    "Ridge_model.fit(X_train, y_train)\n",
    "y_pred = Ridge_model.predict(X_test)\n",
    "\n",
    "# Utvärdera vår nya modell\n",
    "print('===================================================')\n",
    "print('======= Evaluatition of the model =================')\n",
    "print('===================================================')\n",
    "print(\"Ridge score: \", Ridge_model.score(X_test, y_test))\n",
    "print(\"R2 score: \", r2_score(y_test, y_pred))\n",
    "r2 = r2_score(y_test, y_pred) \n",
    "rm = Ridge_model.score(X_test, y_test)\n",
    "diff = r2 - rm\n",
    "\n",
    "print(\"Difference: \", diff)\n",
    "print('\\n')\n"
   ]
  },
  {
   "attachments": {},
   "cell_type": "markdown",
   "metadata": {},
   "source": [
    "Lasso"
   ]
  },
  {
   "cell_type": "code",
   "execution_count": 19,
   "metadata": {},
   "outputs": [
    {
     "name": "stdout",
     "output_type": "stream",
     "text": [
      "===================================================\n",
      "======= Evaluatition of the GRID ==================\n",
      "===================================================\n",
      "Grid search best hyperparameters:  {'alpha': 0.001}\n",
      "Grid search best score:  0.7113017268913784\n",
      "Grid search best estimator:  Lasso(alpha=0.001, random_state=40)\n",
      "Grid search best index:  0\n",
      "\n",
      "\n",
      "===================================================\n",
      "======= Result of the GRID ========================\n",
      "===================================================\n",
      "   mean_fit_time  std_fit_time  mean_score_time  std_score_time param_alpha  \\\n",
      "0       0.001674      0.000431         0.000922        0.000159       0.001   \n",
      "\n",
      "             params  split0_test_r2  split1_test_r2  split2_test_r2  \\\n",
      "0  {'alpha': 0.001}        0.661089        0.795673        0.653078   \n",
      "\n",
      "   split3_test_r2  ...  std_test_r2  rank_test_r2  \\\n",
      "0        0.747955  ...      0.05391             1   \n",
      "\n",
      "   split0_test_neg_mean_squared_error  split1_test_neg_mean_squared_error  \\\n",
      "0                          -27.655763                          -12.776984   \n",
      "\n",
      "   split2_test_neg_mean_squared_error  split3_test_neg_mean_squared_error  \\\n",
      "0                          -26.940182                          -15.194814   \n",
      "\n",
      "   split4_test_neg_mean_squared_error  mean_test_neg_mean_squared_error  \\\n",
      "0                          -22.005521                        -20.914653   \n",
      "\n",
      "   std_test_neg_mean_squared_error  rank_test_neg_mean_squared_error  \n",
      "0                         6.031215                                 1  \n",
      "\n",
      "[1 rows x 22 columns]\n",
      "\n",
      "\n",
      "===================================================\n",
      "======= Evaluatition of the model =================\n",
      "===================================================\n",
      "Lasso score:  0.7215878740008921\n",
      "R2 score:  0.7215878740008921\n",
      "Difference:  0.0\n",
      "\n",
      "\n"
     ]
    }
   ],
   "source": [
    "# Vi skapar en grid search\n",
    "GS = GridSearchCV(\n",
    "                estimator=Lasso_model,                      # model to train\n",
    "                param_grid=param_grid,                    # parameter grid\n",
    "                scoring=['r2', 'neg_mean_squared_error'], # sklearn.metrics.SCORERS.keys()\n",
    "                refit='r2',                               # best estimator based on r2\n",
    "                cv=5,                                     # 5-fold cross validation\n",
    "                verbose=False\n",
    "                )\n",
    "\n",
    "# Vi tränar grid modellen\n",
    "GS.fit(X_train, y_train)\n",
    "\n",
    "# Vi kollar vilka parametrar som är bäst\n",
    "print('===================================================')\n",
    "print('======= Evaluatition of the GRID ==================')\n",
    "print('===================================================')\n",
    "print(\"Grid search best hyperparameters: \", GS.best_params_)\n",
    "print(\"Grid search best score: \", GS.best_score_)\n",
    "print(\"Grid search best estimator: \", GS.best_estimator_)\n",
    "print(\"Grid search best index: \", GS.best_index_)\n",
    "print('\\n')\n",
    "\n",
    "# Vi skapar en dataframe med resultaten\n",
    "result_grid = pd.DataFrame(GS.cv_results_)\n",
    "\n",
    "# Vi printar ut de 10 bästa resultaten sorterade efter r2\n",
    "print('===================================================')\n",
    "print('======= Result of the GRID ========================')\n",
    "print('===================================================')\n",
    "print(result_grid.sort_values(by='rank_test_r2').head(1))\n",
    "print('\\n')\n",
    "\n",
    "# Träna en modell med de bästa värdena\n",
    "\n",
    "Lasso_model = Lasso(alpha=GS.best_params_[\"alpha\"])\n",
    "Lasso_model.fit(X_train, y_train)\n",
    "y_pred = Lasso_model.predict(X_test)\n",
    "\n",
    "# Utvärdera vår nya modell\n",
    "print('===================================================')\n",
    "print('======= Evaluatition of the model =================')\n",
    "print('===================================================')\n",
    "print(\"Lasso score: \", Lasso_model.score(X_test, y_test))\n",
    "print(\"R2 score: \", r2_score(y_test, y_pred))\n",
    "r2 = r2_score(y_test, y_pred) \n",
    "rm = Lasso_model.score(X_test, y_test)\n",
    "diff = r2 - rm\n",
    "\n",
    "print(\"Difference: \", diff)\n",
    "print('\\n')"
   ]
  },
  {
   "attachments": {},
   "cell_type": "markdown",
   "metadata": {},
   "source": [
    "RandomSearchCV"
   ]
  },
  {
   "cell_type": "code",
   "execution_count": 55,
   "metadata": {},
   "outputs": [],
   "source": [
    "# importering av RandomizedSearchCV\n",
    "from sklearn.model_selection import RandomizedSearchCV\n",
    "\n",
    "# Vi skapar en regressor\n",
    "Ridge_model = Ridge(random_state=RANDOM_STATE)\n",
    "Lasso_model = Lasso(random_state=RANDOM_STATE)"
   ]
  },
  {
   "attachments": {},
   "cell_type": "markdown",
   "metadata": {},
   "source": [
    "Ridge"
   ]
  },
  {
   "cell_type": "code",
   "execution_count": 56,
   "metadata": {},
   "outputs": [
    {
     "name": "stdout",
     "output_type": "stream",
     "text": [
      "===================================================\n",
      "======= Evaluatition of the GRID ==================\n",
      "===================================================\n",
      "Grid search best hyperparameters:  {'alpha': 0.001}\n",
      "Grid search best score:  0.7113878100615512\n",
      "Grid search best estimator:  Ridge(alpha=0.001, random_state=40)\n",
      "Grid search best index:  3\n",
      "\n",
      "\n",
      "===================================================\n",
      "======= Result of the GRID ========================\n",
      "===================================================\n",
      "   mean_fit_time  std_fit_time  mean_score_time  std_score_time param_alpha  \\\n",
      "3        0.00106      0.000066         0.000715          0.0001       0.001   \n",
      "\n",
      "             params  split0_test_score  split1_test_score  split2_test_score  \\\n",
      "3  {'alpha': 0.001}           0.661365           0.795602            0.65327   \n",
      "\n",
      "   split3_test_score  split4_test_score  mean_test_score  std_test_score  \\\n",
      "3           0.747758           0.698944         0.711388        0.053758   \n",
      "\n",
      "   rank_test_score  \n",
      "3                1  \n",
      "\n",
      "\n",
      "===================================================\n",
      "======= Evaluatition of the model =================\n",
      "===================================================\n",
      "Ridge score:  0.7215528660031915\n",
      "R2 score:  0.7215519718844154\n",
      "Difference:  -8.941187760180824e-07\n",
      "\n",
      "\n"
     ]
    }
   ],
   "source": [
    "# Vi skapar en random search\n",
    "RS = RandomizedSearchCV(estimator = Ridge_model,\n",
    "                        param_distributions = param_grid,\n",
    "                        n_iter = 5,\n",
    "                        cv = 5,\n",
    "                        verbose=False\n",
    "                        )\n",
    "\n",
    "# Vi tränar Random modellen\n",
    "RS.fit(X_train, y_train)\n",
    "\n",
    "# Vi kollar vilka parametrar som är bäst\n",
    "print('===================================================')\n",
    "print('======= Evaluatition of the GRID ==================')\n",
    "print('===================================================')\n",
    "print(\"Grid search best hyperparameters: \", RS.best_params_)\n",
    "print(\"Grid search best score: \", RS.best_score_)\n",
    "print(\"Grid search best estimator: \", RS.best_estimator_)\n",
    "print(\"Grid search best index: \", RS.best_index_)\n",
    "print('\\n')\n",
    "\n",
    "# Vi skapar en dataframe med resultaten\n",
    "result_grid = pd.DataFrame(RS.cv_results_)\n",
    "\n",
    "# Vi printar ut de 10 bästa resultaten sorterade efter r2\n",
    "print('===================================================')\n",
    "print('======= Result of the GRID ========================')\n",
    "print('===================================================')\n",
    "print(result_grid.sort_values(by='rank_test_score').head(1))\n",
    "print('\\n')\n",
    "\n",
    "# Träna en modell med de bästa värdena\n",
    "\n",
    "Ridge_model = Ridge(alpha=RS.best_params_[\"alpha\"])\n",
    "Ridge_model.fit(X_train, y_train)\n",
    "\n",
    "# Utvärdera vår nya modell\n",
    "print('===================================================')\n",
    "print('======= Evaluatition of the model =================')\n",
    "print('===================================================')\n",
    "print(\"Ridge score: \", Ridge_model.score(X_test, y_test))\n",
    "print(\"R2 score: \", r2_score(y_test, y_pred))\n",
    "r2 = r2_score(y_test, y_pred) \n",
    "rm = Ridge_model.score(X_test, y_test)\n",
    "diff = r2 - rm\n",
    "\n",
    "print(\"Difference: \", diff)\n",
    "print('\\n')"
   ]
  },
  {
   "attachments": {},
   "cell_type": "markdown",
   "metadata": {},
   "source": [
    "Lasso"
   ]
  },
  {
   "cell_type": "code",
   "execution_count": 57,
   "metadata": {},
   "outputs": [
    {
     "name": "stdout",
     "output_type": "stream",
     "text": [
      "===================================================\n",
      "======= Evaluatition of the GRID ==================\n",
      "===================================================\n",
      "Grid search best hyperparameters:  {'alpha': 0.01}\n",
      "Grid search best score:  0.709907953677309\n",
      "Grid search best estimator:  Lasso(alpha=0.01, random_state=40)\n",
      "Grid search best index:  4\n",
      "\n",
      "\n",
      "===================================================\n",
      "======= Result of the GRID ========================\n",
      "===================================================\n",
      "   mean_fit_time  std_fit_time  mean_score_time  std_score_time param_alpha  \\\n",
      "4       0.001774      0.000408         0.000751        0.000101        0.01   \n",
      "\n",
      "            params  split0_test_score  split1_test_score  split2_test_score  \\\n",
      "4  {'alpha': 0.01}           0.657908           0.795946           0.650487   \n",
      "\n",
      "   split3_test_score  split4_test_score  mean_test_score  std_test_score  \\\n",
      "4           0.749248           0.695951         0.709908        0.055461   \n",
      "\n",
      "   rank_test_score  \n",
      "4                1  \n",
      "\n",
      "\n",
      "===================================================\n",
      "======= Evaluatition of the model =================\n",
      "===================================================\n",
      "Ridge score:  0.7215370887213186\n",
      "R2 score:  0.7215519718844154\n",
      "Difference:  1.4883163096834906e-05\n",
      "\n",
      "\n"
     ]
    }
   ],
   "source": [
    "# Vi skapar en random search\n",
    "RS = RandomizedSearchCV(estimator = Lasso_model,\n",
    "                        param_distributions = param_grid,\n",
    "                        n_iter = 5,\n",
    "                        cv = 5,\n",
    "                        verbose=False\n",
    "                        )\n",
    "\n",
    "# Vi tränar Random modellen\n",
    "RS.fit(X_train, y_train)\n",
    "\n",
    "# Vi kollar vilka parametrar som är bäst\n",
    "print('===================================================')\n",
    "print('======= Evaluatition of the GRID ==================')\n",
    "print('===================================================')\n",
    "print(\"Grid search best hyperparameters: \", RS.best_params_)\n",
    "print(\"Grid search best score: \", RS.best_score_)\n",
    "print(\"Grid search best estimator: \", RS.best_estimator_)\n",
    "print(\"Grid search best index: \", RS.best_index_)\n",
    "print('\\n')\n",
    "\n",
    "# Vi skapar en dataframe med resultaten\n",
    "result_grid = pd.DataFrame(RS.cv_results_)\n",
    "\n",
    "# Vi printar ut de 10 bästa resultaten sorterade efter r2\n",
    "print('===================================================')\n",
    "print('======= Result of the GRID ========================')\n",
    "print('===================================================')\n",
    "print(result_grid.sort_values(by='rank_test_score').head(1))\n",
    "print('\\n')\n",
    "\n",
    "# Träna en modell med de bästa värdena\n",
    "\n",
    "Lasso_model = Lasso(alpha=RS.best_params_[\"alpha\"])\n",
    "Lasso_model.fit(X_train, y_train)\n",
    "\n",
    "# Utvärdera vår nya modell\n",
    "print('===================================================')\n",
    "print('======= Evaluatition of the model =================')\n",
    "print('===================================================')\n",
    "print(\"Ridge score: \", Lasso_model.score(X_test, y_test))\n",
    "print(\"R2 score: \", r2_score(y_test, y_pred))\n",
    "r2 = r2_score(y_test, y_pred) \n",
    "rm = Lasso_model.score(X_test, y_test)\n",
    "diff = r2 - rm\n",
    "\n",
    "print(\"Difference: \", diff)\n",
    "print('\\n')"
   ]
  }
 ],
 "metadata": {
  "kernelspec": {
   "display_name": "base",
   "language": "python",
   "name": "python3"
  },
  "language_info": {
   "codemirror_mode": {
    "name": "ipython",
    "version": 3
   },
   "file_extension": ".py",
   "mimetype": "text/x-python",
   "name": "python",
   "nbconvert_exporter": "python",
   "pygments_lexer": "ipython3",
   "version": "3.10.6"
  },
  "orig_nbformat": 4
 },
 "nbformat": 4,
 "nbformat_minor": 2
}
