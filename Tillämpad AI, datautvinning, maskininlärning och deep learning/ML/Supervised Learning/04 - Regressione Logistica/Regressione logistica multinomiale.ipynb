{
 "cells": [
  {
   "attachments": {},
   "cell_type": "markdown",
   "metadata": {},
   "source": [
    "REGRESSIONE LOGISTICA MULTINOMIALE\n",
    "\n",
    "La regressione logistica multinomiale è una regressione logistica in cui la variabile dipendente ha più di due categorie ordinate o non ordinate. È un'estensione della regressione logistica binaria (o un'estensione della regressione logistica ordinale) quando la variabile dipendente non è binaria (o ordinale).\n",
    "\n",
    "Regressione logistica multinomiale: versione modificata della regressione logistica che prevede una probabilità multinomiale (ovvero più di due classi) per ogni esempio di input.\n",
    "\n",
    "TEORIA\n",
    "\n",
    " - https://machinelearningmastery.com/multinomial-logistic-regression-with-python/"
   ]
  },
  {
   "cell_type": "code",
   "execution_count": 1,
   "metadata": {},
   "outputs": [
    {
     "name": "stdout",
     "output_type": "stream",
     "text": [
      "(1000, 10) (1000,)\n",
      "Counter({1: 334, 2: 334, 0: 332})\n"
     ]
    }
   ],
   "source": [
    "# creiamo un dataset di classificazione con 3 classi e 10 features\n",
    "# importiamo il modulo Counter per contare le istanze per classe nel dataset\n",
    "# importiamo il modulo make_classification per creare il dataset casuale\n",
    "from collections import Counter\n",
    "from sklearn.datasets import make_classification\n",
    "\n",
    "# definiamo il dataset\n",
    "X, y = make_classification(n_samples=1000, n_features=10, n_informative=5, n_redundant=5, n_classes=3, random_state=1)\n",
    "\n",
    "# stampiamo le dimensioni del dataset e il conteggio delle istanze per classe\n",
    "print(X.shape, y.shape)\n",
    "print(Counter(y))"
   ]
  },
  {
   "attachments": {},
   "cell_type": "markdown",
   "metadata": {},
   "source": [
    "La classe LogisticRegression può essere configurata per la regressione logistica multinomiale impostando l'argomento \"multi_class\" su \"multinomial\" e l'argomento \"solver\" su un risolutore che supporta la regressione logistica multinomiale, ad esempio \"lbfgs\"."
   ]
  },
  {
   "cell_type": "code",
   "execution_count": 4,
   "metadata": {},
   "outputs": [],
   "source": [
    "# importiamo il modulo LogisticRegression per creare il modello di regressione logistica\n",
    "from sklearn.linear_model import LogisticRegression\n",
    "\n",
    "# creiamo il modello di regressione logistica\n",
    "model = LogisticRegression(multi_class='multinomial', solver='lbfgs')"
   ]
  },
  {
   "attachments": {},
   "cell_type": "markdown",
   "metadata": {},
   "source": [
    "È buona norma valutare i modelli di classificazione utilizzando la validazione incrociata stratificata ripetuta k-fold. La stratificazione garantisce che ogni piega di convalida incrociata abbia approssimativamente la stessa distribuzione di esempi in ogni classe dell'intero set di dati di addestramento."
   ]
  },
  {
   "cell_type": "code",
   "execution_count": 2,
   "metadata": {},
   "outputs": [],
   "source": [
    "from sklearn.model_selection import cross_val_score\n",
    "from sklearn.model_selection import RepeatedStratifiedKFold"
   ]
  },
  {
   "cell_type": "code",
   "execution_count": 5,
   "metadata": {},
   "outputs": [
    {
     "name": "stdout",
     "output_type": "stream",
     "text": [
      "Mean Accuracy: 0.681 (0.042)\n"
     ]
    }
   ],
   "source": [
    "# definiamo il modello di cross-validation\n",
    "# impostiamo il numero di ripetizioni a 3 e il numero di fold a 10\n",
    "cv = RepeatedStratifiedKFold(n_splits=10, n_repeats=3, random_state=1)\n",
    "\n",
    "# valutiamo il modello con la cross-validation\n",
    "n_scores = cross_val_score(model, X, y, scoring='accuracy', cv=cv, n_jobs=-1)\n",
    "\n",
    "# stampiamo la media e la deviazione standard delle accuratezze\n",
    "from numpy import mean\n",
    "from numpy import std\n",
    "print('Mean Accuracy: %.3f (%.3f)' % (mean(n_scores), std(n_scores)))"
   ]
  },
  {
   "attachments": {},
   "cell_type": "markdown",
   "metadata": {},
   "source": [
    "Potremmo decidere di utilizzare il modello di regressione logistica multinomiale come modello finale e fare previsioni su nuovi dati.\n",
    "\n",
    "Ciò può essere ottenuto adattando prima il modello a tutti i dati disponibili, quindi chiamando la funzione predict() per fare una previsione per i nuovi dati.\n",
    "\n",
    "L'esempio seguente mostra come effettuare una previsione per i nuovi dati utilizzando il modello di regressione logistica multinomiale."
   ]
  },
  {
   "cell_type": "code",
   "execution_count": 6,
   "metadata": {},
   "outputs": [],
   "source": [
    "# dividiamo il dataset in training e test set\n",
    "from sklearn.model_selection import train_test_split\n",
    "\n",
    "# dividiamo il dataset in training e test set\n",
    "X_train, X_test, y_train, y_test = train_test_split(X, y, test_size=0.3)\n",
    "\n",
    "# standardizzazione delle features (per avere una migliore convergenza dell'algoritmo)\n",
    "# importiamo la classe StandardScaler dalla libreria preprocessing di sklearn\n",
    "from sklearn.preprocessing import StandardScaler\n",
    "\n",
    "# creiamo l'oggetto StandardScaler\n",
    "scaler = StandardScaler()\n",
    "\n",
    "# addestriamo lo scaler sui dati di training\n",
    "scaler.fit(X_train)\n",
    "\n",
    "# addestriamo il modello sul training set\n",
    "X_std = scaler.transform(X)\n",
    "X_train_std = scaler.transform(X_train)\n",
    "X_test_std = scaler.transform(X_test)\n",
    "\n",
    "# addestriamo il modello sul training set\n",
    "model.fit(X_train_std, y_train)\n",
    "\n",
    "# effettuiamo la predizione sul test set\n",
    "y_pred = model.predict(X_test_std)\n"
   ]
  },
  {
   "cell_type": "code",
   "execution_count": 9,
   "metadata": {},
   "outputs": [
    {
     "name": "stdout",
     "output_type": "stream",
     "text": [
      "Accuracy: 0.70\n"
     ]
    }
   ],
   "source": [
    "# calcoliamo l'accuratezza del modello\n",
    "from sklearn.metrics import accuracy_score\n",
    "\n",
    "# calcoliamo l'accuratezza del modello\n",
    "accuracy = accuracy_score(y_test, y_pred)\n",
    "\n",
    "# stampiamo l'accuratezza del modello\n",
    "print('Accuracy: %.2f' % (accuracy))"
   ]
  },
  {
   "attachments": {},
   "cell_type": "markdown",
   "metadata": {},
   "source": [
    "EFFETTUARE PREVISIONI SULLA BASE DI UNA NUOVA RIGA DI DATI"
   ]
  },
  {
   "cell_type": "code",
   "execution_count": 16,
   "metadata": {},
   "outputs": [
    {
     "name": "stdout",
     "output_type": "stream",
     "text": [
      "Predicted Class: 1\n",
      "Predicted Class Probabilities: [0.15464418 0.51606951 0.32928631]\n",
      "Coefficienti:\n",
      "[[ 0.06108643 -0.02716396  0.30506217  0.22870533 -0.3684234   0.01293474\n",
      "  -0.39349242 -0.4149007  -0.10973186  0.49810787]\n",
      " [ 0.31084787  0.106779   -0.54855968 -0.1944694  -0.01466812 -0.08855953\n",
      "   0.35027277  0.7981892  -0.24563816 -0.353176  ]\n",
      " [-0.37193429 -0.07961504  0.24349751 -0.03423593  0.38309152  0.0756248\n",
      "   0.04321965 -0.3832885   0.35537001 -0.14493187]]\n",
      "Intercetta:\n",
      "[-0.08599053  0.06038627  0.02560425]\n"
     ]
    }
   ],
   "source": [
    "# definiamo una nuova istanza\n",
    "row = [1.89149379, -0.39847585, 1.63856893, 0.01647165, 1.51892395, -3.52651223, 1.80998823, 0.58810926, -0.02542177, -0.52835426]\n",
    "\n",
    "# scaliamo la nuova istanza\n",
    "row_std = scaler.transform([row])\n",
    "\n",
    "# effettuiamo la predizione della nuova istanza\n",
    "yhat = model.predict(row_std)\n",
    "\n",
    "# calcoliamo la probabilità della nuova istanza\n",
    "yhat_prob = model.predict_proba(row_std)\n",
    "\n",
    "# stampiamo la classe predetta e la probabilità per ogni classe\n",
    "print('Predicted Class: %d' % yhat[0])\n",
    "print('Predicted Class Probabilities: %s' % yhat_prob[0])\n",
    "\n",
    "# stampiamo i coefficienti del modello\n",
    "print('Coefficienti:')\n",
    "print(model.coef_)\n",
    "# stampiamo l'intercetta del modello\n",
    "print('Intercetta:')\n",
    "print(model.intercept_)"
   ]
  }
 ],
 "metadata": {
  "kernelspec": {
   "display_name": "Python 3",
   "language": "python",
   "name": "python3"
  },
  "language_info": {
   "codemirror_mode": {
    "name": "ipython",
    "version": 3
   },
   "file_extension": ".py",
   "mimetype": "text/x-python",
   "name": "python",
   "nbconvert_exporter": "python",
   "pygments_lexer": "ipython3",
   "version": "3.10.6"
  },
  "orig_nbformat": 4
 },
 "nbformat": 4,
 "nbformat_minor": 2
}
