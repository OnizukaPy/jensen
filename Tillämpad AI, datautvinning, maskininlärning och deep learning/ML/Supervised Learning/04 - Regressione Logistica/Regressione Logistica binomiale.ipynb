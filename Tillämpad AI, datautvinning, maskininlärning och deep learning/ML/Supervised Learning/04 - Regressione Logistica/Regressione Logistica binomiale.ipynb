{
 "cells": [
  {
   "attachments": {},
   "cell_type": "markdown",
   "metadata": {},
   "source": [
    "REGRESSIONE LOGISTICA\n",
    "\n",
    "Teoria:\n",
    "\n",
    " - https://it.wikipedia.org/wiki/Modello_logit\n",
    " - https://www.ibm.com/it-it/topics/logistic-regression\n",
    " - https://adrianogilardone.com/regressione-logistica/\n",
    " "
   ]
  },
  {
   "attachments": {},
   "cell_type": "markdown",
   "metadata": {},
   "source": [
    "In statistica, il modello logit, noto anche come modello logistico o regressione logistica, è un modello di regressione nonlineare utilizzato quando la variabile dipendente è di tipo dicotomico. L'obiettivo del modello è di stabilire la probabilità con cui un'osservazione può generare uno o l'altro valore della variabile dipendente; può inoltre essere utilizzato per classificare le osservazioni, in base alla caratteristiche di queste, in due categorie"
   ]
  },
  {
   "attachments": {},
   "cell_type": "markdown",
   "metadata": {},
   "source": [
    "\n",
    "\n",
    "Sia la regressione lineare che quella logistica sono tra i modelli più diffusi nella data science, e strumenti open-source come Pyton ed R rendono il loro calcolo rapido e facile.\n",
    "\n",
    "I modelli di regressione lineare sono utilizzati per identificare la relazione tra una variabile dipendente continua e una o più variabili indipendenti. La presenza di una sola variabile indipendente e una sola variabile dipendente è nota come regressione lineare semplice ma, quando il numero di variabili indipendenti aumenta, viene indicata come regressione lineare multipla. Per ogni tipo di regressione lineare, cerca di tracciare una linea di best fit mediante un insieme di punti dati, di norma calcolato utilizzando il metodo dei minimi quadrati.\n",
    "\n",
    "Simile alla regressione lineare, la regressione logistica viene utilizzata anche per stimare la relazione tra una variabile dipendente e una o più variabili indipendenti, ma viene utilizzata per fare una previsione circa una variabile categoriale rispetto a una continua. Una variabile categoriale può essere true o false, sì o no, 1 o 0 eccetera. Anche l'unità di misura è diversa rispetto alla regressione lineare poiché produce una probabilità ma la funzione logit trasforma la curva S in una linea dritta.  \n",
    "\n",
    "Sebbene entrambi i modelli siano utilizzati nell'analisi di regressione per fare previsioni sui risultati futuri, la regressione lineare è di solito più facile da comprendere. Inoltre, la regressione lineare non richiede una dimensione di campione tanto grande quanto la regressione logistica che ha bisogno di un campione adeguato per rappresentare i valori in tutte le categorie di risposta. Senza un campione rappresentativo più grande, il modello potrebbe non avere una potenza statistica sufficiente per rilevare un effetto significativo.\n"
   ]
  },
  {
   "attachments": {},
   "cell_type": "markdown",
   "metadata": {},
   "source": [
    "CODICE:\n",
    "\n",
    " - https://www.andreaminini.com/python/sklearn/regressione-logistica-con-python"
   ]
  },
  {
   "cell_type": "code",
   "execution_count": 1,
   "metadata": {},
   "outputs": [],
   "source": [
    "# importiamo le librerie necessarie\n",
    "import numpy as np\n",
    "\n",
    "# importiamo la libreria dei dataset di sklearn e la funzione per calcolare l'accuratezza del modello, \n",
    "# e la funzione per dividere il dataset in training e test set\n",
    "from sklearn import datasets\n",
    "from sklearn.metrics import accuracy_score\n",
    "from sklearn.model_selection import train_test_split"
   ]
  },
  {
   "cell_type": "code",
   "execution_count": 2,
   "metadata": {},
   "outputs": [],
   "source": [
    "# preparazione dataset iris e divisione in training e test set\n",
    "iris = datasets.load_iris()\n",
    "X = iris.data[:, [2, 3]]  # prendiamo solo le ultime due features (petal length e petal width)\n",
    "y = iris.target           # prendiamo le etichette\n",
    "\n",
    "# dividiamo il dataset in training e test set\n",
    "X_train, X_test, y_train, y_test = train_test_split(X, y, test_size=0.3, random_state=0)\n"
   ]
  },
  {
   "cell_type": "code",
   "execution_count": 3,
   "metadata": {},
   "outputs": [],
   "source": [
    "# standardizzazione delle features (per avere una migliore convergenza dell'algoritmo)\n",
    "# importiamo la classe StandardScaler dalla libreria preprocessing di sklearn\n",
    "from sklearn.preprocessing import StandardScaler\n",
    "\n",
    "# creiamo un oggetto StandardScaler e lo addestriamo sui dati di training\n",
    "sc = StandardScaler()\n",
    "\n",
    "# effettuiamo lo scaler sui dati di training\n",
    "sc.fit(X_train)\n",
    "\n",
    "# standardizziamo i dati di training e test\n",
    "X_std = sc.transform(X)\n",
    "X_train_std = sc.transform(X_train)\n",
    "X_test_std = sc.transform(X_test)"
   ]
  },
  {
   "cell_type": "code",
   "execution_count": 4,
   "metadata": {},
   "outputs": [
    {
     "data": {
      "text/html": [
       "<style>#sk-container-id-1 {color: black;background-color: white;}#sk-container-id-1 pre{padding: 0;}#sk-container-id-1 div.sk-toggleable {background-color: white;}#sk-container-id-1 label.sk-toggleable__label {cursor: pointer;display: block;width: 100%;margin-bottom: 0;padding: 0.3em;box-sizing: border-box;text-align: center;}#sk-container-id-1 label.sk-toggleable__label-arrow:before {content: \"▸\";float: left;margin-right: 0.25em;color: #696969;}#sk-container-id-1 label.sk-toggleable__label-arrow:hover:before {color: black;}#sk-container-id-1 div.sk-estimator:hover label.sk-toggleable__label-arrow:before {color: black;}#sk-container-id-1 div.sk-toggleable__content {max-height: 0;max-width: 0;overflow: hidden;text-align: left;background-color: #f0f8ff;}#sk-container-id-1 div.sk-toggleable__content pre {margin: 0.2em;color: black;border-radius: 0.25em;background-color: #f0f8ff;}#sk-container-id-1 input.sk-toggleable__control:checked~div.sk-toggleable__content {max-height: 200px;max-width: 100%;overflow: auto;}#sk-container-id-1 input.sk-toggleable__control:checked~label.sk-toggleable__label-arrow:before {content: \"▾\";}#sk-container-id-1 div.sk-estimator input.sk-toggleable__control:checked~label.sk-toggleable__label {background-color: #d4ebff;}#sk-container-id-1 div.sk-label input.sk-toggleable__control:checked~label.sk-toggleable__label {background-color: #d4ebff;}#sk-container-id-1 input.sk-hidden--visually {border: 0;clip: rect(1px 1px 1px 1px);clip: rect(1px, 1px, 1px, 1px);height: 1px;margin: -1px;overflow: hidden;padding: 0;position: absolute;width: 1px;}#sk-container-id-1 div.sk-estimator {font-family: monospace;background-color: #f0f8ff;border: 1px dotted black;border-radius: 0.25em;box-sizing: border-box;margin-bottom: 0.5em;}#sk-container-id-1 div.sk-estimator:hover {background-color: #d4ebff;}#sk-container-id-1 div.sk-parallel-item::after {content: \"\";width: 100%;border-bottom: 1px solid gray;flex-grow: 1;}#sk-container-id-1 div.sk-label:hover label.sk-toggleable__label {background-color: #d4ebff;}#sk-container-id-1 div.sk-serial::before {content: \"\";position: absolute;border-left: 1px solid gray;box-sizing: border-box;top: 0;bottom: 0;left: 50%;z-index: 0;}#sk-container-id-1 div.sk-serial {display: flex;flex-direction: column;align-items: center;background-color: white;padding-right: 0.2em;padding-left: 0.2em;position: relative;}#sk-container-id-1 div.sk-item {position: relative;z-index: 1;}#sk-container-id-1 div.sk-parallel {display: flex;align-items: stretch;justify-content: center;background-color: white;position: relative;}#sk-container-id-1 div.sk-item::before, #sk-container-id-1 div.sk-parallel-item::before {content: \"\";position: absolute;border-left: 1px solid gray;box-sizing: border-box;top: 0;bottom: 0;left: 50%;z-index: -1;}#sk-container-id-1 div.sk-parallel-item {display: flex;flex-direction: column;z-index: 1;position: relative;background-color: white;}#sk-container-id-1 div.sk-parallel-item:first-child::after {align-self: flex-end;width: 50%;}#sk-container-id-1 div.sk-parallel-item:last-child::after {align-self: flex-start;width: 50%;}#sk-container-id-1 div.sk-parallel-item:only-child::after {width: 0;}#sk-container-id-1 div.sk-dashed-wrapped {border: 1px dashed gray;margin: 0 0.4em 0.5em 0.4em;box-sizing: border-box;padding-bottom: 0.4em;background-color: white;}#sk-container-id-1 div.sk-label label {font-family: monospace;font-weight: bold;display: inline-block;line-height: 1.2em;}#sk-container-id-1 div.sk-label-container {text-align: center;}#sk-container-id-1 div.sk-container {/* jupyter's `normalize.less` sets `[hidden] { display: none; }` but bootstrap.min.css set `[hidden] { display: none !important; }` so we also need the `!important` here to be able to override the default hidden behavior on the sphinx rendered scikit-learn.org. See: https://github.com/scikit-learn/scikit-learn/issues/21755 */display: inline-block !important;position: relative;}#sk-container-id-1 div.sk-text-repr-fallback {display: none;}</style><div id=\"sk-container-id-1\" class=\"sk-top-container\"><div class=\"sk-text-repr-fallback\"><pre>LogisticRegression(C=1000.0, random_state=0)</pre><b>In a Jupyter environment, please rerun this cell to show the HTML representation or trust the notebook. <br />On GitHub, the HTML representation is unable to render, please try loading this page with nbviewer.org.</b></div><div class=\"sk-container\" hidden><div class=\"sk-item\"><div class=\"sk-estimator sk-toggleable\"><input class=\"sk-toggleable__control sk-hidden--visually\" id=\"sk-estimator-id-1\" type=\"checkbox\" checked><label for=\"sk-estimator-id-1\" class=\"sk-toggleable__label sk-toggleable__label-arrow\">LogisticRegression</label><div class=\"sk-toggleable__content\"><pre>LogisticRegression(C=1000.0, random_state=0)</pre></div></div></div></div></div>"
      ],
      "text/plain": [
       "LogisticRegression(C=1000.0, random_state=0)"
      ]
     },
     "execution_count": 4,
     "metadata": {},
     "output_type": "execute_result"
    }
   ],
   "source": [
    "# addestramento del modello di regressione logistica con sklearn\n",
    "# importiamo la classe LogisticRegression dalla libreria linear_model di sklearn\n",
    "from sklearn.linear_model import LogisticRegression\n",
    "\n",
    "# creiamo un oggetto LogisticRegression e lo addestriamo sui dati di training\n",
    "lr = LogisticRegression(C=1000.0, random_state=0)  # C è il parametro di regolarizzazione (più è alto, meno è la regolarizzazione)\n",
    "lr.fit(X_train_std, y_train)"
   ]
  },
  {
   "cell_type": "code",
   "execution_count": 5,
   "metadata": {},
   "outputs": [
    {
     "data": {
      "image/png": "[encoded data removed]",
      "text/plain": [
       "<Figure size 640x480 with 1 Axes>"
      ]
     },
     "metadata": {},
     "output_type": "display_data"
    }
   ],
   "source": [
    "# visualizzazione grafica della classificazione\n",
    "# importiamo la funzione plot_decision_regions dalla libreria mlxtend.plotting\n",
    "# https://rasbt.github.io/mlxtend/user_guide/plotting/plot_decision_regions/\n",
    "from mlxtend.plotting import plot_decision_regions\n",
    "plot_decision_regions(X_test_std, y_test, clf=lr, legend=2)\n",
    "\n",
    "# aggiungiamo le etichette del grafico e mostriamo il grafico\n",
    "import matplotlib.pyplot as plt\n",
    "plt.xlabel('petal length [standardized]')\n",
    "plt.ylabel('petal width [standardized]')\n",
    "plt.legend(loc='upper left')\n",
    "plt.show()"
   ]
  },
  {
   "cell_type": "code",
   "execution_count": 6,
   "metadata": {},
   "outputs": [
    {
     "name": "stdout",
     "output_type": "stream",
     "text": [
      "Accuratezza: 0.98\n",
      "Predizioni: [2 1 0 2 0 2 0 1 1 1 2 1 1 1 1 0 1 1 0 0 2 1 0 0 2 0 0 1 1 0 2 1 0 2 2 1 0\n",
      " 2 1 1 2 0 2 0 0]\n",
      "Etichette reali: [2 1 0 2 0 2 0 1 1 1 2 1 1 1 1 0 1 1 0 0 2 1 0 0 2 0 0 1 1 0 2 1 0 2 2 1 0\n",
      " 1 1 1 2 0 2 0 0]\n",
      "Probabilità: [[6.51335792e-16 4.95077314e-04 9.99504923e-01]\n",
      " [1.32640538e-04 9.99818817e-01 4.85423440e-05]\n",
      " [9.99948083e-01 5.19168039e-05 2.89755641e-18]\n",
      " [3.79330985e-16 1.18063223e-04 9.99881937e-01]\n",
      " [9.99921056e-01 7.89436666e-05 7.52757094e-18]\n",
      " [1.95972890e-20 1.73749925e-06 9.99998263e-01]\n",
      " [9.99908391e-01 9.16094804e-05 6.87845585e-18]\n",
      " [4.47997927e-08 8.83125850e-01 1.16874105e-01]\n",
      " [8.14992933e-08 9.10438731e-01 8.95611875e-02]\n",
      " [6.86252027e-06 9.99403940e-01 5.89197752e-04]\n",
      " [3.84627242e-10 1.22830323e-01 8.77169677e-01]\n",
      " [1.12211798e-07 9.56627690e-01 4.33721973e-02]\n",
      " [9.69522133e-07 9.89217832e-01 1.07811987e-02]\n",
      " [7.15933975e-08 9.28107927e-01 7.18920010e-02]\n",
      " [1.28709854e-07 9.45556739e-01 5.44431319e-02]\n",
      " [9.99980651e-01 1.93486780e-05 4.69823844e-19]\n",
      " [1.12211798e-07 9.56627690e-01 4.33721973e-02]\n",
      " [3.43858267e-06 9.97815918e-01 2.18064367e-03]\n",
      " [9.99860703e-01 1.39296688e-04 1.78691929e-17]\n",
      " [9.99754221e-01 2.45778703e-04 4.24165145e-17]\n",
      " [6.11719925e-12 3.87878191e-02 9.61212181e-01]\n",
      " [1.12211798e-07 9.56627690e-01 4.33721973e-02]\n",
      " [9.99578058e-01 4.21941876e-04 3.42803022e-16]\n",
      " [9.99948083e-01 5.19168039e-05 2.89755641e-18]\n",
      " [4.61003201e-10 2.66983242e-01 7.33016758e-01]\n",
      " [9.99990289e-01 9.71050786e-06 6.36079568e-20]\n",
      " [9.96969882e-01 3.03011801e-03 1.30056466e-14]\n",
      " [1.94716831e-06 9.97066586e-01 2.93146709e-03]\n",
      " [2.48782749e-03 9.97511033e-01 1.13978217e-06]\n",
      " [9.99136348e-01 8.63652455e-04 7.43311032e-16]\n",
      " [7.80621161e-13 8.49900271e-03 9.91500997e-01]\n",
      " [1.12211798e-07 9.56627690e-01 4.33721973e-02]\n",
      " [9.99921056e-01 7.89436666e-05 7.52757094e-18]\n",
      " [1.99539251e-10 1.75723353e-01 8.24276647e-01]\n",
      " [2.09406638e-16 1.79730737e-04 9.99820269e-01]\n",
      " [3.88818451e-06 9.99203609e-01 7.92502428e-04]\n",
      " [9.99510388e-01 4.89611776e-04 3.13225303e-16]\n",
      " [9.84451144e-10 2.78417091e-01 7.21582908e-01]\n",
      " [4.08722147e-07 9.90990168e-01 9.00942317e-03]\n",
      " [1.84201854e-05 9.99725155e-01 2.56425050e-04]\n",
      " [3.35357270e-15 7.05419982e-04 9.99294580e-01]\n",
      " [9.99965858e-01 3.41424423e-05 1.11533395e-18]\n",
      " [4.01454971e-15 1.13719287e-03 9.98862807e-01]\n",
      " [9.93814693e-01 6.18530695e-03 2.81237491e-14]\n",
      " [9.99921056e-01 7.89436666e-05 7.52757094e-18]]\n",
      "Pesos: [[-8.2245993  -7.26261397]\n",
      " [-0.69739252  0.40062126]\n",
      " [ 8.92199181  6.86199271]]\n",
      "Intercept: [-3.98503069  6.4708822  -2.48585151]\n"
     ]
    }
   ],
   "source": [
    "# calcoliamo l'accuratezza del modello\n",
    "# importiamo la funzione accuracy_score dalla libreria metrics di sklearn\n",
    "from sklearn.metrics import accuracy_score\n",
    "\n",
    "# calcoliamo le predizioni sul test set\n",
    "y_pred = lr.predict(X_test_std)\n",
    "\n",
    "# calcoliamo l'accuratezza\n",
    "print('Accuratezza: %.2f' % accuracy_score(y_test, y_pred))\n",
    "\n",
    "# visualizziamo le predizioni\n",
    "print('Predizioni: %s' % y_pred)\n",
    "\n",
    "# visualizziamo le etichette reali\n",
    "print('Etichette reali: %s' % y_test)\n",
    "\n",
    "# visualizziamo le probabilità di appartenenza alle classi\n",
    "print('Probabilità: %s' % lr.predict_proba(X_test_std))\n",
    "\n",
    "# visualizziamo i pesi\n",
    "print('Pesos: %s' % lr.coef_)\n",
    "print('Intercept: %s' % lr.intercept_)\n"
   ]
  }
 ],
 "metadata": {
  "kernelspec": {
   "display_name": "Python 3",
   "language": "python",
   "name": "python3"
  },
  "language_info": {
   "codemirror_mode": {
    "name": "ipython",
    "version": 3
   },
   "file_extension": ".py",
   "mimetype": "text/x-python",
   "name": "python",
   "nbconvert_exporter": "python",
   "pygments_lexer": "ipython3",
   "version": "3.10.6"
  },
  "orig_nbformat": 4
 },
 "nbformat": 4,
 "nbformat_minor": 2
}
