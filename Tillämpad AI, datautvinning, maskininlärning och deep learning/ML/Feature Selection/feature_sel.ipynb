{
 "cells": [
  {
   "attachments": {},
   "cell_type": "markdown",
   "metadata": {},
   "source": [
    "### Feature selection\n",
    "Today we're going to experiment with feature selection. We will create a few different models and see if we can improve/maintain the same performance with a subset of features. "
   ]
  },
  {
   "cell_type": "code",
   "execution_count": 2,
   "metadata": {},
   "outputs": [
    {
     "name": "stdout",
     "output_type": "stream",
     "text": [
      "(1000, 10) (1000,)\n"
     ]
    }
   ],
   "source": [
    "# Create dataset\n",
    "# Vi kan se att vi har ett dataset med 1000 rader, 10 kolumner, 5 av våra features\n",
    "# är kassa, 5 är bra\n",
    "from sklearn.datasets import make_classification\n",
    "\n",
    "X, y = make_classification(n_samples=1000, n_features=10, n_informative=5, n_redundant=5, random_state=42)\n",
    "print(X.shape, y.shape)"
   ]
  },
  {
   "cell_type": "code",
   "execution_count": 9,
   "metadata": {},
   "outputs": [
    {
     "data": {
      "text/plain": [
       "array([[-0.05935747, -0.81075922, -1.46291185, ..., -0.71333492,\n",
       "        -0.38779067,  0.30975536],\n",
       "       [ 1.35040799,  4.22073174,  1.56416182, ..., -1.35261676,\n",
       "         0.56164546,  3.05553349],\n",
       "       [ 1.06995768,  3.02959431, -2.68448393, ...,  1.67460575,\n",
       "         1.4897756 ,  0.03734801],\n",
       "       ...,\n",
       "       [ 1.32117879,  3.00727694,  0.242322  , ..., -0.802865  ,\n",
       "         0.67092995,  2.27887143],\n",
       "       [-0.52716176,  0.70840414, -1.69716553, ..., -0.58513067,\n",
       "        -0.57348277, -0.17506291],\n",
       "       [-1.72169116, -0.78642113, -1.12858852, ...,  2.46859264,\n",
       "        -0.00922643, -2.81226403]])"
      ]
     },
     "execution_count": 9,
     "metadata": {},
     "output_type": "execute_result"
    }
   ],
   "source": [
    "X"
   ]
  },
  {
   "attachments": {},
   "cell_type": "markdown",
   "metadata": {},
   "source": [
    "**Create a model**"
   ]
  },
  {
   "cell_type": "code",
   "execution_count": 6,
   "metadata": {},
   "outputs": [],
   "source": [
    "# We start with a random forest model, here we can evaluate \n",
    "# the importance of each feature in the model \n",
    "# with the feature_importances_ attribute\n",
    "\n",
    "from sklearn.ensemble import RandomForestClassifier\n",
    "from sklearn.model_selection import train_test_split\n",
    "\n",
    "X_train, X_test, y_train, y_test = train_test_split(X,y, test_size=0.3, random_state=42)\n",
    "\n",
    "rf  = RandomForestClassifier(n_estimators = 100, random_state=42)\n",
    "rf.fit(X_train, y_train)\n",
    "\n",
    "importance = rf.feature_importances_"
   ]
  },
  {
   "cell_type": "code",
   "execution_count": 7,
   "metadata": {},
   "outputs": [
    {
     "name": "stdout",
     "output_type": "stream",
     "text": [
      "[0.04150628 0.09891617 0.0603883  0.27042094 0.12803106 0.07157635\n",
      " 0.07179852 0.1318597  0.04484533 0.08065736]\n"
     ]
    }
   ],
   "source": [
    "# Inspect feature importance\n",
    "\n",
    "print(importance)"
   ]
  },
  {
   "cell_type": "code",
   "execution_count": 8,
   "metadata": {},
   "outputs": [
    {
     "name": "stdout",
     "output_type": "stream",
     "text": [
      "Feature: 0, Score: 0.04151\n",
      "Feature: 1, Score: 0.09892\n",
      "Feature: 2, Score: 0.06039\n",
      "Feature: 3, Score: 0.27042\n",
      "Feature: 4, Score: 0.12803\n",
      "Feature: 5, Score: 0.07158\n",
      "Feature: 6, Score: 0.07180\n",
      "Feature: 7, Score: 0.13186\n",
      "Feature: 8, Score: 0.04485\n",
      "Feature: 9, Score: 0.08066\n"
     ]
    },
    {
     "data": {
      "image/png": "[encoded data removed]",
      "text/plain": [
       "<Figure size 432x288 with 1 Axes>"
      ]
     },
     "metadata": {
      "needs_background": "light"
     },
     "output_type": "display_data"
    }
   ],
   "source": [
    "# Vi kan se att vår model har använt sig främst av feature \n",
    "# 1, 3, 4, 7 och 9, och vi kan därför gissa att dessa är våra\n",
    "# informativa features. \n",
    "\n",
    "from matplotlib import pyplot as plt\n",
    "\n",
    "# Print the feature perfomance prettier\n",
    "\n",
    "for i,v in enumerate(importance):\n",
    "    print('Feature: %0d, Score: %.5f' % (i,v))\n",
    "\n",
    "# Plot feature importance\n",
    "plt.bar([x for x in range(len(importance))], importance)\n",
    "plt.show()"
   ]
  },
  {
   "attachments": {},
   "cell_type": "markdown",
   "metadata": {},
   "source": [
    "**Creating a model from the best features**"
   ]
  },
  {
   "cell_type": "code",
   "execution_count": 16,
   "metadata": {},
   "outputs": [
    {
     "name": "stdout",
     "output_type": "stream",
     "text": [
      "X_train_fs:  (700, 5) X_train:  (700, 10)\n",
      "X_test_fs:  (300, 5) X_test:  (300, 10)\n"
     ]
    }
   ],
   "source": [
    "# Vi vill nu ta bort de features som inte är informativa,\n",
    "# vi kan göra detta genom att använda oss av SelectFromModel\n",
    "\n",
    "from sklearn.feature_selection import SelectFromModel\n",
    "\n",
    "# Write a function that selects the most important features\n",
    "\n",
    "def select_features(X_train, y_train, X_test):\n",
    "    # Find a good subset of features\n",
    "\n",
    "    fs = SelectFromModel(RandomForestClassifier(n_estimators=100, random_state=42), threshold=0.08)\n",
    "    fs.fit(X_train, y_train)\n",
    "    X_train_fs = fs.transform(X_train)\n",
    "    print(\"X_train_fs: \", X_train_fs.shape, \"X_train: \", X_train.shape)\n",
    "    X_test_fs = fs.transform(X_test)\n",
    "    print(\"X_test_fs: \", X_test_fs.shape, \"X_test: \", X_test.shape)\n",
    "    return X_train_fs, X_test_fs, fs\n",
    "\n",
    "# Run the function\n",
    "\n",
    "X_train_fs, X_test_fs, fs = select_features(X_train, y_train, X_test)\n",
    "\n",
    "# Vi kan nu se att vi har fått ut 3 features som är de mest informativa\n"
   ]
  },
  {
   "cell_type": "code",
   "execution_count": 17,
   "metadata": {},
   "outputs": [
    {
     "name": "stdout",
     "output_type": "stream",
     "text": [
      "              precision    recall  f1-score   support\n",
      "\n",
      "           0       0.89      0.93      0.91       144\n",
      "           1       0.93      0.90      0.92       156\n",
      "\n",
      "    accuracy                           0.91       300\n",
      "   macro avg       0.91      0.91      0.91       300\n",
      "weighted avg       0.91      0.91      0.91       300\n",
      "\n"
     ]
    }
   ],
   "source": [
    "from sklearn.metrics import classification_report\n",
    "\n",
    "# Träna en modell med de nya featuresen\n",
    "\n",
    "rf = RandomForestClassifier(n_estimators=100, random_state=42)\n",
    "rf.fit(X_train_fs, y_train)\n",
    "\n",
    "y_pred = rf.predict(X_test_fs)\n",
    "\n",
    "# Evaluate the performance of the model\n",
    "\n",
    "print(classification_report(y_test, y_pred))"
   ]
  },
  {
   "cell_type": "code",
   "execution_count": 18,
   "metadata": {},
   "outputs": [
    {
     "name": "stdout",
     "output_type": "stream",
     "text": [
      "              precision    recall  f1-score   support\n",
      "\n",
      "           0       0.93      0.94      0.93       144\n",
      "           1       0.95      0.93      0.94       156\n",
      "\n",
      "    accuracy                           0.94       300\n",
      "   macro avg       0.94      0.94      0.94       300\n",
      "weighted avg       0.94      0.94      0.94       300\n",
      "\n"
     ]
    }
   ],
   "source": [
    "# Vi kan skapa en modell som jämför de 3 featuresen med de alla 10 featuresen\n",
    "\n",
    "rf_all_features = RandomForestClassifier(n_estimators=100, random_state=42)\n",
    "rf_all_features.fit(X_train, y_train)\n",
    "\n",
    "y_pred_all_features = rf_all_features.predict(X_test)\n",
    "\n",
    "# Evaluate the performance of the model\n",
    "\n",
    "print(classification_report(y_test, y_pred_all_features))\n"
   ]
  }
 ],
 "metadata": {
  "kernelspec": {
   "display_name": "base",
   "language": "python",
   "name": "python3"
  },
  "language_info": {
   "codemirror_mode": {
    "name": "ipython",
    "version": 3
   },
   "file_extension": ".py",
   "mimetype": "text/x-python",
   "name": "python",
   "nbconvert_exporter": "python",
   "pygments_lexer": "ipython3",
   "version": "3.9.7"
  },
  "orig_nbformat": 4
 },
 "nbformat": 4,
 "nbformat_minor": 2
}
