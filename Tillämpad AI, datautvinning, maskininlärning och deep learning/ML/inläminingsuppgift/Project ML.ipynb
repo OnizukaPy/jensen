{
 "cells": [
  {
   "cell_type": "code",
   "execution_count": null,
   "metadata": {},
   "outputs": [],
   "source": [
    "# importera en dataset från sklearn\n",
    "# vi väljer att importera breast cancer dataset\n",
    "\n",
    "import numpy as np\n",
    "import pandas as pd\n",
    "import matplotlib.pyplot as plt\n",
    "import seaborn as sns\n",
    "from sklearn.datasets import load_breast_cancer"
   ]
  },
  {
   "cell_type": "code",
   "execution_count": null,
   "metadata": {},
   "outputs": [],
   "source": [
    "# ladda in datasetet\n",
    "cancer = load_breast_cancer()\n",
    "\n",
    "# skriva en sammanfattning av datasetet\n",
    "print(\n",
    "    f\"Databasen innehåller information om bröstcancer.\\n\\n\"\n",
    "        f\"Database filename är {cancer['filename']}\\n\"\n",
    "        f\"Vi importerar databasen från den {cancer['data_module']} module\\n\\n\"\n",
    "    f\"Database summary:\\n\"\n",
    "        f\"Number of samples: {cancer['data'].shape[0]}\\n\"\n",
    "        f\"Number of features: {cancer['data'].shape[1]}\\n\"\n",
    "        f\"Number of classes: {cancer['target_names'].shape[0]}\\n\"\n",
    "        f\"Number of missing values: {np.isnan(cancer['data']).sum()}\\n\"\n",
    "        f\"Number of unique values: {np.unique(cancer['data']).shape[0]}\\n\"\n",
    "        f\"Number of features with missing values: {np.isnan(cancer['data']).any().sum()}\\n\"\n",
    "        f\"Number of features with constant values: {np.unique(cancer['data'], axis=0).shape[0]}\\n\"\n",
    "        f\"Number of features with duplicated values: {cancer['data'].shape[1] - np.unique(cancer['data'], axis=1).shape[1]}\\n\"\n",
    "        f\"Number of features with zero values: {np.count_nonzero(cancer['data'] == 0)}\\n\"\n",
    ")\n",
    "\n",
    "# nu printar vi en lite deskription av datasetet\n",
    "print()\n",
    "print(cancer['DESCR'])\n",
    "\n",
    "# skapa en dataframe\n",
    "df_cancer = pd.DataFrame(\n",
    "                    np.c_[cancer['data'], cancer['target_names'][cancer['target']]], \n",
    "                    columns = np.append(cancer['feature_names'], ['target'])\n",
    "            )"
   ]
  },
  {
   "cell_type": "code",
   "execution_count": null,
   "metadata": {},
   "outputs": [],
   "source": [
    "# skriv ut de första 5 raderna\n",
    "df_cancer.head()"
   ]
  },
  {
   "cell_type": "code",
   "execution_count": null,
   "metadata": {},
   "outputs": [],
   "source": [
    "df_cancer.info()"
   ]
  },
  {
   "cell_type": "code",
   "execution_count": null,
   "metadata": {},
   "outputs": [],
   "source": [
    "df_cancer.describe()"
   ]
  },
  {
   "cell_type": "code",
   "execution_count": null,
   "metadata": {},
   "outputs": [],
   "source": [
    "df_cancer.isnull().sum()"
   ]
  },
  {
   "cell_type": "code",
   "execution_count": null,
   "metadata": {},
   "outputs": [],
   "source": [
    "# normalisera data i datasetet\n",
    "# importera preprocessing från sklearn\n",
    "from sklearn.preprocessing import StandardScaler\n",
    "\n",
    "scaler = StandardScaler()\n",
    "df_cancer_scaled = pd.DataFrame(scaler.fit_transform(df_cancer.drop(['target'], axis = 1)), columns=df_cancer.columns[:-1])\n",
    "\n",
    "df_cancer = pd.concat([df_cancer_scaled, df_cancer['target']], axis = 1)"
   ]
  },
  {
   "cell_type": "code",
   "execution_count": null,
   "metadata": {},
   "outputs": [],
   "source": [
    "df_cancer.head()"
   ]
  },
  {
   "cell_type": "code",
   "execution_count": null,
   "metadata": {},
   "outputs": [],
   "source": [
    "# konvertera till culumner till float\n",
    "culumn = list(df_cancer.columns)[:-1]\n",
    "print(culumn)\n"
   ]
  },
  {
   "cell_type": "code",
   "execution_count": null,
   "metadata": {},
   "outputs": [],
   "source": [
    "# konvertera till float med pandas to_numeric\n",
    "df_cancer[culumn] = df_cancer[culumn].apply(pd.to_numeric, errors='coerce')"
   ]
  },
  {
   "cell_type": "code",
   "execution_count": null,
   "metadata": {},
   "outputs": [],
   "source": [
    "df_cancer.info()"
   ]
  },
  {
   "cell_type": "code",
   "execution_count": null,
   "metadata": {},
   "outputs": [],
   "source": [
    "corr = df_cancer.corr()\n",
    "\n",
    "result = []\n",
    "for i in range(len(corr.columns)):\n",
    "    for j in range(i):\n",
    "        if abs(corr.iloc[i, j]) > 0.85 and abs(corr.iloc[i, j]) < 1:\n",
    "            name_i = corr.columns[i]\n",
    "            name_j = corr.columns[j]\n",
    "            #print(name_i, '/', name_j)\n",
    "            #print(corr.iloc[i, j])\n",
    "            #print()\n",
    "            result.append([name_i, name_j, corr.iloc[i, j]])\n",
    "\n",
    "sorted_corr = sorted(result, key=lambda x: x[2], reverse=True)\n",
    "print(sorted_corr[:5])"
   ]
  },
  {
   "cell_type": "code",
   "execution_count": null,
   "metadata": {},
   "outputs": [],
   "source": [
    "from matplotlib import rcParams\n",
    "plt.style.use(\"ggplot\")\n",
    "rcParams['figure.figsize'] = (12,  6)\n",
    "\n",
    "# köra en korrelation mellan alla kolumner i datasetet\n",
    "for i in range(len(sorted_corr[:5])):\n",
    "    sns.pairplot(df_cancer, x_vars=sorted_corr[i][0], y_vars=sorted_corr[i][1], hue=\"target\", height=5)\n",
    "    plt.show()\n",
    "\n",
    "# skapa en lista av kolumner son vill använda för att träna modellen\n",
    "temp = np.array([])\n",
    "for i in range(len(sorted_corr[:5])):\n",
    "    temp = np.append(temp, sorted_corr[i][1])\n",
    "    temp = np.append(temp, sorted_corr[i][0])\n",
    "\n",
    "# ta bort dubletter\n",
    "temp = np.unique(temp)\n",
    "print(temp)\n",
    "\n",
    "\n",
    "\"\"\"\n",
    "corrmat = df_cancer.corr(method=\"pearson\")\n",
    "hm = sns.heatmap(corrmat, \n",
    "                 cbar=True, \n",
    "                 annot=False, \n",
    "                 square=True, \n",
    "                 fmt='.2f', \n",
    "                 annot_kws={'size': 10}, \n",
    "                 yticklabels=df_cancer.columns, \n",
    "                 xticklabels=df_cancer.columns, \n",
    "                 cmap=\"Spectral_r\")\n",
    "plt.show()\"\"\""
   ]
  }
 ],
 "metadata": {
  "kernelspec": {
   "display_name": "Python 3",
   "language": "python",
   "name": "python3"
  },
  "language_info": {
   "codemirror_mode": {
    "name": "ipython",
    "version": 3
   },
   "file_extension": ".py",
   "mimetype": "text/x-python",
   "name": "python",
   "nbconvert_exporter": "python",
   "pygments_lexer": "ipython3",
   "version": "3.10.6"
  },
  "orig_nbformat": 4
 },
 "nbformat": 4,
 "nbformat_minor": 2
}
