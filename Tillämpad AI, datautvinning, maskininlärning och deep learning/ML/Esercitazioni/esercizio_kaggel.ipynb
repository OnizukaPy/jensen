{
 "cells": [
  {
   "cell_type": "code",
   "execution_count": 14,
   "metadata": {},
   "outputs": [],
   "source": [
    "# importo la funzione start_kaggle che ho definito nel file autenticazione.py\n",
    "from autenticazione.autenticazione import start_kaggle\n",
    "\n",
    "# chiamo la funzione start_kaggle\n",
    "start_kaggle()\n",
    "\n",
    "# imposto il path in cui scaricare il dataset\n",
    "# path = os.path.dirname(os.path.abspath(__file__)) + '/dataset' su juptyer notebook non funziona\n",
    "# usare invece sys.path[0] + '/dataset' con la libreria sys\n",
    "import sys\n",
    "path = sys.path[0] + '/dataset'\n",
    "\n",
    "# importo le librerie necessarie di default\n",
    "import kaggle\n",
    "import pandas as pd\n",
    "import numpy as np\n",
    "import matplotlib.pyplot as plt\n",
    "import seaborn as sns\n"
   ]
  },
  {
   "cell_type": "code",
   "execution_count": 15,
   "metadata": {},
   "outputs": [
    {
     "name": "stdout",
     "output_type": "stream",
     "text": [
      "Lista dei dataset trovati: \n",
      "0: nasa/meteorite-landings\n",
      "1: katerpillar/meteonet\n",
      "2: ulrikthygepedersen/meteorite-landings\n",
      "3: jorgerobinat/meteorological-model-versus-real-data\n",
      "4: annbengardt/noway-meteorological-data\n",
      "5: ibrahimkiziloklu/solar-radiation-dataset\n",
      "6: peacehegemony/meteo-data-observations-from-decima\n",
      "7: saurabhshahane/meteorological-data-set\n",
      "8: yashdixit24/landings-of-meteorite\n",
      "9: francescopettini/meteorological-data-milan\n",
      "10: aryvini/cuiaba-metereologia\n",
      "11: shiftbc/french-meteo-20182020\n",
      "12: meteogredu/observations\n",
      "13: konradb/meteor-and-fireballs-dataset\n",
      "14: brllrb/meteorite-landings\n",
      "15: meteogredu/models\n",
      "16: krystianadammolenda/meteorological-measurements-poland-201920\n",
      "17: brunobastosg/dados-hidrometeorolgicos-do-brasil\n",
      "18: jgoodman8/meteogalicia\n",
      "19: maxwellshannonlevin/tower-meteorological-data\n"
     ]
    }
   ],
   "source": [
    "# Visualizzare la lista dei dataset\n",
    "key_search = str(input(\"Inserisci la chiave di ricerca: \"))\n",
    "datasets = kaggle.api.datasets_list(search=key_search)\n",
    "\n",
    "# stampo la lista dei dataset\n",
    "# la lista di dataset è una lista di dizionari, il cui valore di owner e' contenuto nella key 'ref'\n",
    "\n",
    "print(\"Lista dei dataset trovati: \")\n",
    "for i in range(len(datasets)):\n",
    "    print(f\"{i}: {datasets[i]['ref']}\")\n"
   ]
  },
  {
   "cell_type": "code",
   "execution_count": 16,
   "metadata": {},
   "outputs": [],
   "source": [
    "# scelgo il dataset che mi interessa e lo scarico\n",
    "dt_scelto = int(input(\"Inserisci il numero del dataset che ti interessa: \"))\n",
    "\n",
    "# salvo in una variabile i nomi di tutti i file del dataset\n",
    "file_name = kaggle.api.dataset_list_files(datasets[dt_scelto]['ref']).files\n",
    "\n",
    "# scarico il dataset\n",
    "kaggle.api.dataset_download_files(datasets[dt_scelto]['ref'], path=path, unzip=True)"
   ]
  },
  {
   "cell_type": "code",
   "execution_count": 17,
   "metadata": {},
   "outputs": [
    {
     "name": "stdout",
     "output_type": "stream",
     "text": [
      "File n 0: meteorite-landings.csv\n"
     ]
    }
   ],
   "source": [
    "for i in range(len(file_name)):\n",
    "    print(f\"File n {i}: {file_name[i]}\")\n"
   ]
  },
  {
   "cell_type": "code",
   "execution_count": 18,
   "metadata": {},
   "outputs": [],
   "source": [
    "choise = int(input('Scegli il file da aprire: '))\n",
    "if '.csv' in str(file_name[choise]):\n",
    "    df = pd.read_csv(path + '/' + str(file_name[choise]))\n",
    "elif '.json' in str(file_name[choise]):\n",
    "    df = pd.read_json(path + '/' + str(file_name[choise]))\n",
    "else:\n",
    "    print('Formato non riconosciuto')"
   ]
  }
 ],
 "metadata": {
  "kernelspec": {
   "display_name": "Python 3",
   "language": "python",
   "name": "python3"
  },
  "language_info": {
   "codemirror_mode": {
    "name": "ipython",
    "version": 3
   },
   "file_extension": ".py",
   "mimetype": "text/x-python",
   "name": "python",
   "nbconvert_exporter": "python",
   "pygments_lexer": "ipython3",
   "version": "3.10.6"
  },
  "orig_nbformat": 4
 },
 "nbformat": 4,
 "nbformat_minor": 2
}
