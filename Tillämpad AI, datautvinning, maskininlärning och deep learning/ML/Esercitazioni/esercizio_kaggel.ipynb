{
 "cells": [
  {
   "cell_type": "code",
   "execution_count": null,
   "metadata": {},
   "outputs": [],
   "source": [
    "from autenticazione.autenticazione import start_kaggle\n",
    "start_kaggle()\n"
   ]
  },
  {
   "cell_type": "code",
   "execution_count": null,
   "metadata": {},
   "outputs": [],
   "source": [
    "# Secondo passo: Download del dataset\n",
    "# Visualizzare la lista dei dataset\n",
    "import kaggle\n",
    "\n",
    "key_search = \"covid\"\n",
    "\n",
    "datasets = kaggle.api.datasets_list(search=key_search)"
   ]
  },
  {
   "cell_type": "code",
   "execution_count": null,
   "metadata": {},
   "outputs": [],
   "source": [
    "# stampo la lista dei dataset\n",
    "# la lista di dataset è una lista di dizionari, il cui valore di owner e' contenuto nella key 'ref'\n",
    "for dataset in datasets:\n",
    "    print(dataset['ref'])"
   ]
  },
  {
   "cell_type": "code",
   "execution_count": null,
   "metadata": {},
   "outputs": [],
   "source": [
    "# scelgo il dataset che mi interessa e lo scarico\n",
    "# imposto il path in cui scaricare il dataset\n",
    "# path = os.path.dirname(os.path.abspath(__file__)) + '/dataset' su juptyer notebook non funziona\n",
    "# usare invece sys.path[0] + '/dataset' con la libreria sys\n",
    "import sys\n",
    "path = sys.path[0] + '/dataset'\n",
    "\n",
    "# scelgo il dataset che mi interessa\n",
    "dt_scelto = ''\n",
    "\n",
    "# scarico il dataset\n",
    "kaggle.api.dataset_download_files(dt_scelto, path=path, unzip=True)"
   ]
  },
  {
   "cell_type": "code",
   "execution_count": null,
   "metadata": {},
   "outputs": [],
   "source": [
    "# ispeziono il dataset\n",
    "# creo un dataframe con il dataset\n",
    "import pandas as pd\n",
    "df = pd.read_csv(path + '/..csv')"
   ]
  }
 ],
 "metadata": {
  "kernelspec": {
   "display_name": "Python 3",
   "language": "python",
   "name": "python3"
  },
  "language_info": {
   "codemirror_mode": {
    "name": "ipython",
    "version": 3
   },
   "file_extension": ".py",
   "mimetype": "text/x-python",
   "name": "python",
   "nbconvert_exporter": "python",
   "pygments_lexer": "ipython3",
   "version": "3.10.6"
  },
  "orig_nbformat": 4
 },
 "nbformat": 4,
 "nbformat_minor": 2
}
