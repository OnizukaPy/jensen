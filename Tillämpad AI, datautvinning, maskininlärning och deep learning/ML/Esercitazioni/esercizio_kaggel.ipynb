{
 "cells": [
  {
   "cell_type": "code",
   "execution_count": 1,
   "metadata": {},
   "outputs": [],
   "source": [
    "# importo la funzione start_kaggle che ho definito nel file autenticazione.py\n",
    "from autenticazione.autenticazione import start_kaggle\n",
    "\n",
    "# chiamo la funzione start_kaggle\n",
    "start_kaggle()\n",
    "\n",
    "# imposto il path in cui scaricare il dataset\n",
    "# path = os.path.dirname(os.path.abspath(__file__)) + '/dataset' su juptyer notebook non funziona\n",
    "# usare invece sys.path[0] + '/dataset' con la libreria sys\n",
    "import sys\n",
    "path = sys.path[0] + '/dataset'\n",
    "\n",
    "# importo le librerie necessarie di default\n",
    "import kaggle\n",
    "import pandas as pd\n",
    "import numpy as np\n",
    "import matplotlib.pyplot as plt\n",
    "import seaborn as sns\n",
    "\n",
    "# ignorare i warning\n",
    "import warnings\n",
    "warnings.filterwarnings('ignore')\n"
   ]
  },
  {
   "cell_type": "code",
   "execution_count": 2,
   "metadata": {},
   "outputs": [
    {
     "name": "stdout",
     "output_type": "stream",
     "text": [
      "Lista dei dataset trovati: \n",
      "0: muratkokludataset/pistachio-image-dataset\n",
      "1: muratkokludataset/rice-image-dataset\n",
      "2: puneet6060/intel-image-classification\n",
      "3: vishalsubbiah/pokemon-images-and-types\n",
      "4: muratkokludataset/grapevine-leaves-image-dataset\n",
      "5: shravankumar9892/image-colorization\n",
      "6: hsankesara/flickr-image-dataset\n",
      "7: gpiosenka/100-bird-species\n",
      "8: dansbecker/cityscapes-image-pairs\n",
      "9: jehanbhathena/weather-dataset\n",
      "10: kozodoi/timm-pytorch-image-models\n",
      "11: pranavraikokte/covid19-image-dataset\n",
      "12: gpiosenka/sports-classification\n",
      "13: paultimothymooney/chest-xray-pneumonia\n",
      "14: mahmoudreda55/satellite-image-classification\n",
      "15: misrakahmed/vegetable-image-dataset\n",
      "16: niteshfre/chessman-image-dataset\n",
      "17: phucthaiv02/butterfly-image-classification\n",
      "18: jessicali9530/caltech256\n",
      "19: alamson/safebooru\n"
     ]
    }
   ],
   "source": [
    "# Visualizzare la lista dei dataset\n",
    "key_search = str(input(\"Inserisci la chiave di ricerca: \"))\n",
    "datasets = kaggle.api.datasets_list(search=key_search)\n",
    "\n",
    "# stampo la lista dei dataset\n",
    "# la lista di dataset è una lista di dizionari, il cui valore di owner e' contenuto nella key 'ref'\n",
    "\n",
    "print(\"Lista dei dataset trovati: \")\n",
    "for i in range(len(datasets)):\n",
    "    print(f\"{i}: {datasets[i]['ref']}\")\n"
   ]
  },
  {
   "cell_type": "code",
   "execution_count": 3,
   "metadata": {},
   "outputs": [
    {
     "name": "stdout",
     "output_type": "stream",
     "text": [
      "Warning: Looks like you're using an outdated API Version, please consider updating (server 1.5.15 / client 1.5.13)\n"
     ]
    }
   ],
   "source": [
    "# scelgo il dataset che mi interessa e lo scarico\n",
    "dt_scelto = int(input(\"Inserisci il numero del dataset che ti interessa: \"))\n",
    "\n",
    "# salvo in una variabile i nomi di tutti i file del dataset\n",
    "file_name = kaggle.api.dataset_list_files(datasets[dt_scelto]['ref']).files\n",
    "\n",
    "# scarico il dataset\n",
    "kaggle.api.dataset_download_files(datasets[dt_scelto]['ref'], path=path, unzip=True)"
   ]
  },
  {
   "cell_type": "code",
   "execution_count": 4,
   "metadata": {},
   "outputs": [
    {
     "name": "stdout",
     "output_type": "stream",
     "text": [
      "File n 0: diabetes.csv\n"
     ]
    }
   ],
   "source": [
    "for i in range(len(file_name)):\n",
    "    print(f\"File n {i}: {file_name[i]}\")\n"
   ]
  },
  {
   "cell_type": "code",
   "execution_count": 18,
   "metadata": {},
   "outputs": [],
   "source": [
    "def choise_df(file_name):\n",
    "    choise = int(input('Scegli il file da aprire: '))\n",
    "    if '.csv' in str(file_name[choise]):\n",
    "        df = pd.read_csv(path + '/' + str(file_name[choise]))\n",
    "    elif '.json' in str(file_name[choise]):\n",
    "        df = pd.read_json(path + '/' + str(file_name[choise]))\n",
    "    else:\n",
    "        print('Formato non riconosciuto')\n",
    "    return df"
   ]
  },
  {
   "cell_type": "code",
   "execution_count": null,
   "metadata": {},
   "outputs": [],
   "source": [
    "df = choise_df(file_name)"
   ]
  }
 ],
 "metadata": {
  "kernelspec": {
   "display_name": "Python 3",
   "language": "python",
   "name": "python3"
  },
  "language_info": {
   "codemirror_mode": {
    "name": "ipython",
    "version": 3
   },
   "file_extension": ".py",
   "mimetype": "text/x-python",
   "name": "python",
   "nbconvert_exporter": "python",
   "pygments_lexer": "ipython3",
   "version": "3.10.12"
  },
  "orig_nbformat": 4
 },
 "nbformat": 4,
 "nbformat_minor": 2
}
