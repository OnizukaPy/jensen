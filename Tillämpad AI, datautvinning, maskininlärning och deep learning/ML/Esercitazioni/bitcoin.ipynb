{
 "cells": [
  {
   "cell_type": "code",
   "execution_count": 1,
   "metadata": {},
   "outputs": [],
   "source": [
    "# importo la funzione start_kaggle che ho definito nel file autenticazione.py\n",
    "from autenticazione.autenticazione import start_kaggle\n",
    "\n",
    "# chiamo la funzione start_kaggle\n",
    "start_kaggle()\n",
    "\n",
    "# imposto il path in cui scaricare il dataset\n",
    "# path = os.path.dirname(os.path.abspath(__file__)) + '/dataset' su juptyer notebook non funziona\n",
    "# usare invece sys.path[0] + '/dataset' con la libreria sys\n",
    "import sys\n",
    "path = sys.path[0] + '/dataset'\n",
    "\n",
    "# importo le librerie necessarie di default\n",
    "import kaggle\n",
    "import pandas as pd\n",
    "import numpy as np\n",
    "import matplotlib.pyplot as plt\n",
    "import seaborn as sns\n"
   ]
  },
  {
   "cell_type": "code",
   "execution_count": 2,
   "metadata": {},
   "outputs": [
    {
     "name": "stdout",
     "output_type": "stream",
     "text": [
      "Lista dei dataset trovati: \n",
      "0: mczielinski/bitcoin-historical-data\n",
      "1: kaushiksuresh147/bitcoin-tweets\n",
      "2: prasoonkottarathil/btcinusd\n",
      "3: bigquery/bitcoin-blockchain\n",
      "4: varpit94/bitcoin-data-updated-till-26jun2021\n",
      "5: alaix14/bitcoin-tweets-20160101-to-20190329\n",
      "6: aakashverma8900/bitcoin-price-usd\n",
      "7: bigquery/crypto-bitcoin-cash\n",
      "8: team-ai/bitcoin-price-prediction\n",
      "9: meetnagadia/bitcoin-stock-data-sept-17-2014-august-24-2021\n",
      "10: taruntiwarihp/bitcoin\n",
      "11: adilbhatti/bitcoin-and-stock-exchanges\n",
      "12: ellipticco/elliptic-data-set\n",
      "13: aditeloo/bitcoin\n",
      "14: adilbhatti/bitcoin-and-fear-and-greed\n",
      "15: paul92s/bitcoin-tweets-14m\n",
      "16: yasserh/bitcoin-prices-dataset\n",
      "17: sudalairajkumar/cryptocurrencypricehistory\n",
      "18: hamdinizar/bitcoin\n",
      "19: tencars/392-crypto-currency-pairs-at-minute-resolution\n"
     ]
    }
   ],
   "source": [
    "# Visualizzare la lista dei dataset\n",
    "key_search = str(input(\"Inserisci la chiave di ricerca: \"))\n",
    "datasets = kaggle.api.datasets_list(search=key_search)\n",
    "\n",
    "# stampo la lista dei dataset\n",
    "# la lista di dataset è una lista di dizionari, il cui valore di owner e' contenuto nella key 'ref'\n",
    "\n",
    "print(\"Lista dei dataset trovati: \")\n",
    "for i in range(len(datasets)):\n",
    "    print(f\"{i}: {datasets[i]['ref']}\")\n"
   ]
  },
  {
   "cell_type": "code",
   "execution_count": 3,
   "metadata": {},
   "outputs": [
    {
     "name": "stdout",
     "output_type": "stream",
     "text": [
      "Warning: Looks like you're using an outdated API Version, please consider updating (server 1.5.15 / client 1.5.13)\n"
     ]
    }
   ],
   "source": [
    "# scelgo il dataset che mi interessa e lo scarico\n",
    "dt_scelto = int(input(\"Inserisci il numero del dataset che ti interessa: \"))\n",
    "\n",
    "# salvo in una variabile i nomi di tutti i file del dataset\n",
    "file_name = kaggle.api.dataset_list_files(datasets[dt_scelto]['ref']).files\n",
    "\n",
    "# scarico il dataset\n",
    "kaggle.api.dataset_download_files(datasets[dt_scelto]['ref'], path=path, unzip=True)"
   ]
  },
  {
   "cell_type": "code",
   "execution_count": 4,
   "metadata": {},
   "outputs": [
    {
     "name": "stdout",
     "output_type": "stream",
     "text": [
      "File n 0: bitcoin_price_Training - Training.csv\n",
      "File n 1: bitcoin_price_1week_Test - Test.csv\n"
     ]
    }
   ],
   "source": [
    "for i in range(len(file_name)):\n",
    "    print(f\"File n {i}: {file_name[i]}\")\n"
   ]
  },
  {
   "cell_type": "code",
   "execution_count": 29,
   "metadata": {},
   "outputs": [],
   "source": [
    "choise = int(input('Scegli il file da aprire: '))\n",
    "if '.csv' in str(file_name[choise]):\n",
    "    df = pd.read_csv(path + '/' + str(file_name[choise]))\n",
    "elif '.json' in str(file_name[choise]):\n",
    "    df = pd.read_json(path + '/' + str(file_name[choise]))\n",
    "else:\n",
    "    print('Formato non riconosciuto')"
   ]
  },
  {
   "attachments": {},
   "cell_type": "markdown",
   "metadata": {},
   "source": [
    "ANALIZZIAMO IL DATASET DI BITCOIN E CERCHIAMO DI PREVEDERE IL PREZZO DI CHIUSURA DEL GIORNO SUCCESSIVO"
   ]
  },
  {
   "cell_type": "code",
   "execution_count": 30,
   "metadata": {},
   "outputs": [
    {
     "data": {
      "text/html": [
       "<div>\n",
       "<style scoped>\n",
       "    .dataframe tbody tr th:only-of-type {\n",
       "        vertical-align: middle;\n",
       "    }\n",
       "\n",
       "    .dataframe tbody tr th {\n",
       "        vertical-align: top;\n",
       "    }\n",
       "\n",
       "    .dataframe thead th {\n",
       "        text-align: right;\n",
       "    }\n",
       "</style>\n",
       "<table border=\"1\" class=\"dataframe\">\n",
       "  <thead>\n",
       "    <tr style=\"text-align: right;\">\n",
       "      <th></th>\n",
       "      <th>Date</th>\n",
       "      <th>Open</th>\n",
       "      <th>High</th>\n",
       "      <th>Low</th>\n",
       "      <th>Close</th>\n",
       "      <th>Volume</th>\n",
       "      <th>Market Cap</th>\n",
       "    </tr>\n",
       "  </thead>\n",
       "  <tbody>\n",
       "    <tr>\n",
       "      <th>0</th>\n",
       "      <td>Jul 31, 2017</td>\n",
       "      <td>2763.24</td>\n",
       "      <td>2889.62</td>\n",
       "      <td>2720.61</td>\n",
       "      <td>2875.34</td>\n",
       "      <td>860,575,000</td>\n",
       "      <td>45,535,800,000</td>\n",
       "    </tr>\n",
       "    <tr>\n",
       "      <th>1</th>\n",
       "      <td>Jul 30, 2017</td>\n",
       "      <td>2724.39</td>\n",
       "      <td>2758.53</td>\n",
       "      <td>2644.85</td>\n",
       "      <td>2757.18</td>\n",
       "      <td>705,943,000</td>\n",
       "      <td>44,890,700,000</td>\n",
       "    </tr>\n",
       "    <tr>\n",
       "      <th>2</th>\n",
       "      <td>Jul 29, 2017</td>\n",
       "      <td>2807.02</td>\n",
       "      <td>2808.76</td>\n",
       "      <td>2692.80</td>\n",
       "      <td>2726.45</td>\n",
       "      <td>803,746,000</td>\n",
       "      <td>46,246,700,000</td>\n",
       "    </tr>\n",
       "    <tr>\n",
       "      <th>3</th>\n",
       "      <td>Jul 28, 2017</td>\n",
       "      <td>2679.73</td>\n",
       "      <td>2897.45</td>\n",
       "      <td>2679.73</td>\n",
       "      <td>2809.01</td>\n",
       "      <td>1,380,100,000</td>\n",
       "      <td>44,144,400,000</td>\n",
       "    </tr>\n",
       "    <tr>\n",
       "      <th>4</th>\n",
       "      <td>Jul 27, 2017</td>\n",
       "      <td>2538.71</td>\n",
       "      <td>2693.32</td>\n",
       "      <td>2529.34</td>\n",
       "      <td>2671.78</td>\n",
       "      <td>789,104,000</td>\n",
       "      <td>41,816,500,000</td>\n",
       "    </tr>\n",
       "  </tbody>\n",
       "</table>\n",
       "</div>"
      ],
      "text/plain": [
       "           Date     Open     High      Low    Close         Volume  \\\n",
       "0  Jul 31, 2017  2763.24  2889.62  2720.61  2875.34    860,575,000   \n",
       "1  Jul 30, 2017  2724.39  2758.53  2644.85  2757.18    705,943,000   \n",
       "2  Jul 29, 2017  2807.02  2808.76  2692.80  2726.45    803,746,000   \n",
       "3  Jul 28, 2017  2679.73  2897.45  2679.73  2809.01  1,380,100,000   \n",
       "4  Jul 27, 2017  2538.71  2693.32  2529.34  2671.78    789,104,000   \n",
       "\n",
       "       Market Cap  \n",
       "0  45,535,800,000  \n",
       "1  44,890,700,000  \n",
       "2  46,246,700,000  \n",
       "3  44,144,400,000  \n",
       "4  41,816,500,000  "
      ]
     },
     "execution_count": 30,
     "metadata": {},
     "output_type": "execute_result"
    }
   ],
   "source": [
    "# stampo le prime 5 righe del dataset\n",
    "df.head()"
   ]
  },
  {
   "cell_type": "code",
   "execution_count": 31,
   "metadata": {},
   "outputs": [],
   "source": [
    "# cominciamo con trasformare la colonna Date in un formato datetime\n",
    "# il formato attuale è 'b %d, %Y' (es. 'Jan 01, 2017')\n",
    "# https://www.ibm.com/docs/en/cmofz/10.1.0?topic=SSQHWE_10.1.0/com.ibm.ondemand.mp.doc/arsa0257.htm\n",
    "df['Date'] = pd.to_datetime(df['Date'], format='%b %d, %Y')"
   ]
  },
  {
   "cell_type": "code",
   "execution_count": 32,
   "metadata": {},
   "outputs": [],
   "source": [
    "# ora imposto la colonna Date come indice del dataframe\n",
    "df.set_index('Date', inplace=True)"
   ]
  },
  {
   "cell_type": "code",
   "execution_count": 33,
   "metadata": {},
   "outputs": [
    {
     "data": {
      "text/plain": [
       "Open          0\n",
       "High          0\n",
       "Low           0\n",
       "Close         0\n",
       "Volume        0\n",
       "Market Cap    0\n",
       "dtype: int64"
      ]
     },
     "execution_count": 33,
     "metadata": {},
     "output_type": "execute_result"
    }
   ],
   "source": [
    "# analizziamo il dataset alla ricerca di valori nulli\n",
    "df.isnull().sum()"
   ]
  },
  {
   "cell_type": "code",
   "execution_count": 34,
   "metadata": {},
   "outputs": [
    {
     "data": {
      "text/html": [
       "<div>\n",
       "<style scoped>\n",
       "    .dataframe tbody tr th:only-of-type {\n",
       "        vertical-align: middle;\n",
       "    }\n",
       "\n",
       "    .dataframe tbody tr th {\n",
       "        vertical-align: top;\n",
       "    }\n",
       "\n",
       "    .dataframe thead th {\n",
       "        text-align: right;\n",
       "    }\n",
       "</style>\n",
       "<table border=\"1\" class=\"dataframe\">\n",
       "  <thead>\n",
       "    <tr style=\"text-align: right;\">\n",
       "      <th></th>\n",
       "      <th>Open</th>\n",
       "      <th>High</th>\n",
       "      <th>Low</th>\n",
       "      <th>Close</th>\n",
       "    </tr>\n",
       "  </thead>\n",
       "  <tbody>\n",
       "    <tr>\n",
       "      <th>count</th>\n",
       "      <td>1556.000000</td>\n",
       "      <td>1556.000000</td>\n",
       "      <td>1556.000000</td>\n",
       "      <td>1556.000000</td>\n",
       "    </tr>\n",
       "    <tr>\n",
       "      <th>mean</th>\n",
       "      <td>582.625328</td>\n",
       "      <td>597.992847</td>\n",
       "      <td>567.851446</td>\n",
       "      <td>584.239396</td>\n",
       "    </tr>\n",
       "    <tr>\n",
       "      <th>std</th>\n",
       "      <td>523.137312</td>\n",
       "      <td>542.992855</td>\n",
       "      <td>505.877401</td>\n",
       "      <td>525.904442</td>\n",
       "    </tr>\n",
       "    <tr>\n",
       "      <th>min</th>\n",
       "      <td>68.500000</td>\n",
       "      <td>74.560000</td>\n",
       "      <td>65.530000</td>\n",
       "      <td>68.430000</td>\n",
       "    </tr>\n",
       "    <tr>\n",
       "      <th>25%</th>\n",
       "      <td>254.287500</td>\n",
       "      <td>260.327500</td>\n",
       "      <td>248.835000</td>\n",
       "      <td>254.320000</td>\n",
       "    </tr>\n",
       "    <tr>\n",
       "      <th>50%</th>\n",
       "      <td>438.600000</td>\n",
       "      <td>447.560000</td>\n",
       "      <td>430.570000</td>\n",
       "      <td>438.855000</td>\n",
       "    </tr>\n",
       "    <tr>\n",
       "      <th>75%</th>\n",
       "      <td>662.437500</td>\n",
       "      <td>674.525000</td>\n",
       "      <td>646.735000</td>\n",
       "      <td>663.402500</td>\n",
       "    </tr>\n",
       "    <tr>\n",
       "      <th>max</th>\n",
       "      <td>2953.220000</td>\n",
       "      <td>2999.910000</td>\n",
       "      <td>2840.530000</td>\n",
       "      <td>2958.110000</td>\n",
       "    </tr>\n",
       "  </tbody>\n",
       "</table>\n",
       "</div>"
      ],
      "text/plain": [
       "              Open         High          Low        Close\n",
       "count  1556.000000  1556.000000  1556.000000  1556.000000\n",
       "mean    582.625328   597.992847   567.851446   584.239396\n",
       "std     523.137312   542.992855   505.877401   525.904442\n",
       "min      68.500000    74.560000    65.530000    68.430000\n",
       "25%     254.287500   260.327500   248.835000   254.320000\n",
       "50%     438.600000   447.560000   430.570000   438.855000\n",
       "75%     662.437500   674.525000   646.735000   663.402500\n",
       "max    2953.220000  2999.910000  2840.530000  2958.110000"
      ]
     },
     "execution_count": 34,
     "metadata": {},
     "output_type": "execute_result"
    }
   ],
   "source": [
    "# non ci sono valori nulli, quindi possiamo proseguire con l'analisi\n",
    "# vediamo un po di statistiche sul dataset\n",
    "df.describe()"
   ]
  },
  {
   "cell_type": "code",
   "execution_count": 35,
   "metadata": {},
   "outputs": [],
   "source": [
    "volume = df['Volume'].values"
   ]
  },
  {
   "cell_type": "code",
   "execution_count": 37,
   "metadata": {},
   "outputs": [
    {
     "name": "stdout",
     "output_type": "stream",
     "text": [
      "Errore alla riga 1313, il suo valore è -\n",
      "Errore alla riga 1314, il suo valore è -\n",
      "Errore alla riga 1315, il suo valore è -\n",
      "Errore alla riga 1316, il suo valore è -\n",
      "Errore alla riga 1317, il suo valore è -\n",
      "Errore alla riga 1318, il suo valore è -\n",
      "Errore alla riga 1319, il suo valore è -\n",
      "Errore alla riga 1320, il suo valore è -\n",
      "Errore alla riga 1321, il suo valore è -\n",
      "Errore alla riga 1322, il suo valore è -\n",
      "Errore alla riga 1323, il suo valore è -\n",
      "Errore alla riga 1324, il suo valore è -\n",
      "Errore alla riga 1325, il suo valore è -\n",
      "Errore alla riga 1326, il suo valore è -\n",
      "Errore alla riga 1327, il suo valore è -\n",
      "Errore alla riga 1328, il suo valore è -\n",
      "Errore alla riga 1329, il suo valore è -\n",
      "Errore alla riga 1330, il suo valore è -\n",
      "Errore alla riga 1331, il suo valore è -\n",
      "Errore alla riga 1332, il suo valore è -\n",
      "Errore alla riga 1333, il suo valore è -\n",
      "Errore alla riga 1334, il suo valore è -\n",
      "Errore alla riga 1335, il suo valore è -\n",
      "Errore alla riga 1336, il suo valore è -\n",
      "Errore alla riga 1337, il suo valore è -\n",
      "Errore alla riga 1338, il suo valore è -\n",
      "Errore alla riga 1339, il suo valore è -\n",
      "Errore alla riga 1340, il suo valore è -\n",
      "Errore alla riga 1341, il suo valore è -\n",
      "Errore alla riga 1342, il suo valore è -\n",
      "Errore alla riga 1343, il suo valore è -\n",
      "Errore alla riga 1344, il suo valore è -\n",
      "Errore alla riga 1345, il suo valore è -\n",
      "Errore alla riga 1346, il suo valore è -\n",
      "Errore alla riga 1347, il suo valore è -\n",
      "Errore alla riga 1348, il suo valore è -\n",
      "Errore alla riga 1349, il suo valore è -\n",
      "Errore alla riga 1350, il suo valore è -\n",
      "Errore alla riga 1351, il suo valore è -\n",
      "Errore alla riga 1352, il suo valore è -\n",
      "Errore alla riga 1353, il suo valore è -\n",
      "Errore alla riga 1354, il suo valore è -\n",
      "Errore alla riga 1355, il suo valore è -\n",
      "Errore alla riga 1356, il suo valore è -\n",
      "Errore alla riga 1357, il suo valore è -\n",
      "Errore alla riga 1358, il suo valore è -\n",
      "Errore alla riga 1359, il suo valore è -\n",
      "Errore alla riga 1360, il suo valore è -\n",
      "Errore alla riga 1361, il suo valore è -\n",
      "Errore alla riga 1362, il suo valore è -\n",
      "Errore alla riga 1363, il suo valore è -\n",
      "Errore alla riga 1364, il suo valore è -\n",
      "Errore alla riga 1365, il suo valore è -\n",
      "Errore alla riga 1366, il suo valore è -\n",
      "Errore alla riga 1367, il suo valore è -\n",
      "Errore alla riga 1368, il suo valore è -\n",
      "Errore alla riga 1369, il suo valore è -\n",
      "Errore alla riga 1370, il suo valore è -\n",
      "Errore alla riga 1371, il suo valore è -\n",
      "Errore alla riga 1372, il suo valore è -\n",
      "Errore alla riga 1373, il suo valore è -\n",
      "Errore alla riga 1374, il suo valore è -\n",
      "Errore alla riga 1375, il suo valore è -\n",
      "Errore alla riga 1376, il suo valore è -\n",
      "Errore alla riga 1377, il suo valore è -\n",
      "Errore alla riga 1378, il suo valore è -\n",
      "Errore alla riga 1379, il suo valore è -\n",
      "Errore alla riga 1380, il suo valore è -\n",
      "Errore alla riga 1381, il suo valore è -\n",
      "Errore alla riga 1382, il suo valore è -\n",
      "Errore alla riga 1383, il suo valore è -\n",
      "Errore alla riga 1384, il suo valore è -\n",
      "Errore alla riga 1385, il suo valore è -\n",
      "Errore alla riga 1386, il suo valore è -\n",
      "Errore alla riga 1387, il suo valore è -\n",
      "Errore alla riga 1388, il suo valore è -\n",
      "Errore alla riga 1389, il suo valore è -\n",
      "Errore alla riga 1390, il suo valore è -\n",
      "Errore alla riga 1391, il suo valore è -\n",
      "Errore alla riga 1392, il suo valore è -\n",
      "Errore alla riga 1393, il suo valore è -\n",
      "Errore alla riga 1394, il suo valore è -\n",
      "Errore alla riga 1395, il suo valore è -\n",
      "Errore alla riga 1396, il suo valore è -\n",
      "Errore alla riga 1397, il suo valore è -\n",
      "Errore alla riga 1398, il suo valore è -\n",
      "Errore alla riga 1399, il suo valore è -\n",
      "Errore alla riga 1400, il suo valore è -\n",
      "Errore alla riga 1401, il suo valore è -\n",
      "Errore alla riga 1402, il suo valore è -\n",
      "Errore alla riga 1403, il suo valore è -\n",
      "Errore alla riga 1404, il suo valore è -\n",
      "Errore alla riga 1405, il suo valore è -\n",
      "Errore alla riga 1406, il suo valore è -\n",
      "Errore alla riga 1407, il suo valore è -\n",
      "Errore alla riga 1408, il suo valore è -\n",
      "Errore alla riga 1409, il suo valore è -\n",
      "Errore alla riga 1410, il suo valore è -\n",
      "Errore alla riga 1411, il suo valore è -\n",
      "Errore alla riga 1412, il suo valore è -\n",
      "Errore alla riga 1413, il suo valore è -\n",
      "Errore alla riga 1414, il suo valore è -\n",
      "Errore alla riga 1415, il suo valore è -\n",
      "Errore alla riga 1416, il suo valore è -\n",
      "Errore alla riga 1417, il suo valore è -\n",
      "Errore alla riga 1418, il suo valore è -\n",
      "Errore alla riga 1419, il suo valore è -\n",
      "Errore alla riga 1420, il suo valore è -\n",
      "Errore alla riga 1421, il suo valore è -\n",
      "Errore alla riga 1422, il suo valore è -\n",
      "Errore alla riga 1423, il suo valore è -\n",
      "Errore alla riga 1424, il suo valore è -\n",
      "Errore alla riga 1425, il suo valore è -\n",
      "Errore alla riga 1426, il suo valore è -\n",
      "Errore alla riga 1427, il suo valore è -\n",
      "Errore alla riga 1428, il suo valore è -\n",
      "Errore alla riga 1429, il suo valore è -\n",
      "Errore alla riga 1430, il suo valore è -\n",
      "Errore alla riga 1431, il suo valore è -\n",
      "Errore alla riga 1432, il suo valore è -\n",
      "Errore alla riga 1433, il suo valore è -\n",
      "Errore alla riga 1434, il suo valore è -\n",
      "Errore alla riga 1435, il suo valore è -\n",
      "Errore alla riga 1436, il suo valore è -\n",
      "Errore alla riga 1437, il suo valore è -\n",
      "Errore alla riga 1438, il suo valore è -\n",
      "Errore alla riga 1439, il suo valore è -\n",
      "Errore alla riga 1440, il suo valore è -\n",
      "Errore alla riga 1441, il suo valore è -\n",
      "Errore alla riga 1442, il suo valore è -\n",
      "Errore alla riga 1443, il suo valore è -\n",
      "Errore alla riga 1444, il suo valore è -\n",
      "Errore alla riga 1445, il suo valore è -\n",
      "Errore alla riga 1446, il suo valore è -\n",
      "Errore alla riga 1447, il suo valore è -\n",
      "Errore alla riga 1448, il suo valore è -\n",
      "Errore alla riga 1449, il suo valore è -\n",
      "Errore alla riga 1450, il suo valore è -\n",
      "Errore alla riga 1451, il suo valore è -\n",
      "Errore alla riga 1452, il suo valore è -\n",
      "Errore alla riga 1453, il suo valore è -\n",
      "Errore alla riga 1454, il suo valore è -\n",
      "Errore alla riga 1455, il suo valore è -\n",
      "Errore alla riga 1456, il suo valore è -\n",
      "Errore alla riga 1457, il suo valore è -\n",
      "Errore alla riga 1458, il suo valore è -\n",
      "Errore alla riga 1459, il suo valore è -\n",
      "Errore alla riga 1460, il suo valore è -\n",
      "Errore alla riga 1461, il suo valore è -\n",
      "Errore alla riga 1462, il suo valore è -\n",
      "Errore alla riga 1463, il suo valore è -\n",
      "Errore alla riga 1464, il suo valore è -\n",
      "Errore alla riga 1465, il suo valore è -\n",
      "Errore alla riga 1466, il suo valore è -\n",
      "Errore alla riga 1467, il suo valore è -\n",
      "Errore alla riga 1468, il suo valore è -\n",
      "Errore alla riga 1469, il suo valore è -\n",
      "Errore alla riga 1470, il suo valore è -\n",
      "Errore alla riga 1471, il suo valore è -\n",
      "Errore alla riga 1472, il suo valore è -\n",
      "Errore alla riga 1473, il suo valore è -\n",
      "Errore alla riga 1474, il suo valore è -\n",
      "Errore alla riga 1475, il suo valore è -\n",
      "Errore alla riga 1476, il suo valore è -\n",
      "Errore alla riga 1477, il suo valore è -\n",
      "Errore alla riga 1478, il suo valore è -\n",
      "Errore alla riga 1479, il suo valore è -\n",
      "Errore alla riga 1480, il suo valore è -\n",
      "Errore alla riga 1481, il suo valore è -\n",
      "Errore alla riga 1482, il suo valore è -\n",
      "Errore alla riga 1483, il suo valore è -\n",
      "Errore alla riga 1484, il suo valore è -\n",
      "Errore alla riga 1485, il suo valore è -\n",
      "Errore alla riga 1486, il suo valore è -\n",
      "Errore alla riga 1487, il suo valore è -\n",
      "Errore alla riga 1488, il suo valore è -\n",
      "Errore alla riga 1489, il suo valore è -\n",
      "Errore alla riga 1490, il suo valore è -\n",
      "Errore alla riga 1491, il suo valore è -\n",
      "Errore alla riga 1492, il suo valore è -\n",
      "Errore alla riga 1493, il suo valore è -\n",
      "Errore alla riga 1494, il suo valore è -\n",
      "Errore alla riga 1495, il suo valore è -\n",
      "Errore alla riga 1496, il suo valore è -\n",
      "Errore alla riga 1497, il suo valore è -\n",
      "Errore alla riga 1498, il suo valore è -\n",
      "Errore alla riga 1499, il suo valore è -\n",
      "Errore alla riga 1500, il suo valore è -\n",
      "Errore alla riga 1501, il suo valore è -\n",
      "Errore alla riga 1502, il suo valore è -\n",
      "Errore alla riga 1503, il suo valore è -\n",
      "Errore alla riga 1504, il suo valore è -\n",
      "Errore alla riga 1505, il suo valore è -\n",
      "Errore alla riga 1506, il suo valore è -\n",
      "Errore alla riga 1507, il suo valore è -\n",
      "Errore alla riga 1508, il suo valore è -\n",
      "Errore alla riga 1509, il suo valore è -\n",
      "Errore alla riga 1510, il suo valore è -\n",
      "Errore alla riga 1511, il suo valore è -\n",
      "Errore alla riga 1512, il suo valore è -\n",
      "Errore alla riga 1513, il suo valore è -\n",
      "Errore alla riga 1514, il suo valore è -\n",
      "Errore alla riga 1515, il suo valore è -\n",
      "Errore alla riga 1516, il suo valore è -\n",
      "Errore alla riga 1517, il suo valore è -\n",
      "Errore alla riga 1518, il suo valore è -\n",
      "Errore alla riga 1519, il suo valore è -\n",
      "Errore alla riga 1520, il suo valore è -\n",
      "Errore alla riga 1521, il suo valore è -\n",
      "Errore alla riga 1522, il suo valore è -\n",
      "Errore alla riga 1523, il suo valore è -\n",
      "Errore alla riga 1524, il suo valore è -\n",
      "Errore alla riga 1525, il suo valore è -\n",
      "Errore alla riga 1526, il suo valore è -\n",
      "Errore alla riga 1527, il suo valore è -\n",
      "Errore alla riga 1528, il suo valore è -\n",
      "Errore alla riga 1529, il suo valore è -\n",
      "Errore alla riga 1530, il suo valore è -\n",
      "Errore alla riga 1531, il suo valore è -\n",
      "Errore alla riga 1532, il suo valore è -\n",
      "Errore alla riga 1533, il suo valore è -\n",
      "Errore alla riga 1534, il suo valore è -\n",
      "Errore alla riga 1535, il suo valore è -\n",
      "Errore alla riga 1536, il suo valore è -\n",
      "Errore alla riga 1537, il suo valore è -\n",
      "Errore alla riga 1538, il suo valore è -\n",
      "Errore alla riga 1539, il suo valore è -\n",
      "Errore alla riga 1540, il suo valore è -\n",
      "Errore alla riga 1541, il suo valore è -\n",
      "Errore alla riga 1542, il suo valore è -\n",
      "Errore alla riga 1543, il suo valore è -\n",
      "Errore alla riga 1544, il suo valore è -\n",
      "Errore alla riga 1545, il suo valore è -\n",
      "Errore alla riga 1546, il suo valore è -\n",
      "Errore alla riga 1547, il suo valore è -\n",
      "Errore alla riga 1548, il suo valore è -\n",
      "Errore alla riga 1549, il suo valore è -\n",
      "Errore alla riga 1550, il suo valore è -\n",
      "Errore alla riga 1551, il suo valore è -\n",
      "Errore alla riga 1552, il suo valore è -\n",
      "Errore alla riga 1553, il suo valore è -\n",
      "Errore alla riga 1554, il suo valore è -\n",
      "Errore alla riga 1555, il suo valore è -\n"
     ]
    }
   ],
   "source": [
    "for i in range(len(volume)):\n",
    "    try:\n",
    "        volume[i] = float(volume[i].replace(',', ''))\n",
    "    except:\n",
    "        print(f\"Errore alla riga {i}, il suo valore è {volume[i]}\")"
   ]
  },
  {
   "cell_type": "code",
   "execution_count": 39,
   "metadata": {},
   "outputs": [],
   "source": [
    "# sostiutiamo il valore '-' con il valore np.nan\n",
    "volume[volume == '-'] = np.nan"
   ]
  },
  {
   "cell_type": "code",
   "execution_count": 40,
   "metadata": {},
   "outputs": [],
   "source": [
    "df['Volume'] = volume"
   ]
  },
  {
   "cell_type": "code",
   "execution_count": 43,
   "metadata": {},
   "outputs": [],
   "source": [
    "# converto la colonna Volume in float\n",
    "df['Volume'] = df['Volume'].astype(float)"
   ]
  },
  {
   "cell_type": "code",
   "execution_count": 45,
   "metadata": {},
   "outputs": [],
   "source": [
    "# facciamo la stessa cosa per la colonna Market Cap\n",
    "market_cap = df['Market Cap'].values\n"
   ]
  },
  {
   "cell_type": "code",
   "execution_count": 46,
   "metadata": {},
   "outputs": [],
   "source": [
    "for i in range(len(market_cap)):\n",
    "    try:\n",
    "        market_cap[i] = float(market_cap[i].replace(',', ''))\n",
    "    except:\n",
    "        print(f\"Errore alla riga {i}, il suo valore è {market_cap[i]}\")"
   ]
  },
  {
   "cell_type": "code",
   "execution_count": 47,
   "metadata": {},
   "outputs": [],
   "source": [
    "df['Market Cap'] = market_cap\n",
    "df['Market Cap'] = df['Market Cap'].astype(float)"
   ]
  },
  {
   "cell_type": "code",
   "execution_count": 48,
   "metadata": {},
   "outputs": [
    {
     "name": "stdout",
     "output_type": "stream",
     "text": [
      "<class 'pandas.core.frame.DataFrame'>\n",
      "DatetimeIndex: 1556 entries, 2017-07-31 to 2013-04-28\n",
      "Data columns (total 6 columns):\n",
      " #   Column      Non-Null Count  Dtype  \n",
      "---  ------      --------------  -----  \n",
      " 0   Open        1556 non-null   float64\n",
      " 1   High        1556 non-null   float64\n",
      " 2   Low         1556 non-null   float64\n",
      " 3   Close       1556 non-null   float64\n",
      " 4   Volume      1313 non-null   float64\n",
      " 5   Market Cap  1556 non-null   float64\n",
      "dtypes: float64(6)\n",
      "memory usage: 85.1 KB\n"
     ]
    }
   ],
   "source": [
    "df.info()"
   ]
  },
  {
   "cell_type": "code",
   "execution_count": 49,
   "metadata": {},
   "outputs": [
    {
     "data": {
      "text/html": [
       "<div>\n",
       "<style scoped>\n",
       "    .dataframe tbody tr th:only-of-type {\n",
       "        vertical-align: middle;\n",
       "    }\n",
       "\n",
       "    .dataframe tbody tr th {\n",
       "        vertical-align: top;\n",
       "    }\n",
       "\n",
       "    .dataframe thead th {\n",
       "        text-align: right;\n",
       "    }\n",
       "</style>\n",
       "<table border=\"1\" class=\"dataframe\">\n",
       "  <thead>\n",
       "    <tr style=\"text-align: right;\">\n",
       "      <th></th>\n",
       "      <th>Open</th>\n",
       "      <th>High</th>\n",
       "      <th>Low</th>\n",
       "      <th>Close</th>\n",
       "      <th>Volume</th>\n",
       "      <th>Market Cap</th>\n",
       "    </tr>\n",
       "  </thead>\n",
       "  <tbody>\n",
       "    <tr>\n",
       "      <th>count</th>\n",
       "      <td>1556.000000</td>\n",
       "      <td>1556.000000</td>\n",
       "      <td>1556.000000</td>\n",
       "      <td>1556.000000</td>\n",
       "      <td>1.313000e+03</td>\n",
       "      <td>1.556000e+03</td>\n",
       "    </tr>\n",
       "    <tr>\n",
       "      <th>mean</th>\n",
       "      <td>582.625328</td>\n",
       "      <td>597.992847</td>\n",
       "      <td>567.851446</td>\n",
       "      <td>584.239396</td>\n",
       "      <td>1.481643e+08</td>\n",
       "      <td>8.694353e+09</td>\n",
       "    </tr>\n",
       "    <tr>\n",
       "      <th>std</th>\n",
       "      <td>523.137312</td>\n",
       "      <td>542.992855</td>\n",
       "      <td>505.877401</td>\n",
       "      <td>525.904442</td>\n",
       "      <td>3.242987e+08</td>\n",
       "      <td>8.707288e+09</td>\n",
       "    </tr>\n",
       "    <tr>\n",
       "      <th>min</th>\n",
       "      <td>68.500000</td>\n",
       "      <td>74.560000</td>\n",
       "      <td>65.530000</td>\n",
       "      <td>68.430000</td>\n",
       "      <td>2.857830e+06</td>\n",
       "      <td>7.792550e+08</td>\n",
       "    </tr>\n",
       "    <tr>\n",
       "      <th>25%</th>\n",
       "      <td>254.287500</td>\n",
       "      <td>260.327500</td>\n",
       "      <td>248.835000</td>\n",
       "      <td>254.320000</td>\n",
       "      <td>2.071070e+07</td>\n",
       "      <td>3.598355e+09</td>\n",
       "    </tr>\n",
       "    <tr>\n",
       "      <th>50%</th>\n",
       "      <td>438.600000</td>\n",
       "      <td>447.560000</td>\n",
       "      <td>430.570000</td>\n",
       "      <td>438.855000</td>\n",
       "      <td>4.530140e+07</td>\n",
       "      <td>6.386210e+09</td>\n",
       "    </tr>\n",
       "    <tr>\n",
       "      <th>75%</th>\n",
       "      <td>662.437500</td>\n",
       "      <td>674.525000</td>\n",
       "      <td>646.735000</td>\n",
       "      <td>663.402500</td>\n",
       "      <td>9.037880e+07</td>\n",
       "      <td>9.898830e+09</td>\n",
       "    </tr>\n",
       "    <tr>\n",
       "      <th>max</th>\n",
       "      <td>2953.220000</td>\n",
       "      <td>2999.910000</td>\n",
       "      <td>2840.530000</td>\n",
       "      <td>2958.110000</td>\n",
       "      <td>2.569530e+09</td>\n",
       "      <td>4.839120e+10</td>\n",
       "    </tr>\n",
       "  </tbody>\n",
       "</table>\n",
       "</div>"
      ],
      "text/plain": [
       "              Open         High          Low        Close        Volume  \\\n",
       "count  1556.000000  1556.000000  1556.000000  1556.000000  1.313000e+03   \n",
       "mean    582.625328   597.992847   567.851446   584.239396  1.481643e+08   \n",
       "std     523.137312   542.992855   505.877401   525.904442  3.242987e+08   \n",
       "min      68.500000    74.560000    65.530000    68.430000  2.857830e+06   \n",
       "25%     254.287500   260.327500   248.835000   254.320000  2.071070e+07   \n",
       "50%     438.600000   447.560000   430.570000   438.855000  4.530140e+07   \n",
       "75%     662.437500   674.525000   646.735000   663.402500  9.037880e+07   \n",
       "max    2953.220000  2999.910000  2840.530000  2958.110000  2.569530e+09   \n",
       "\n",
       "         Market Cap  \n",
       "count  1.556000e+03  \n",
       "mean   8.694353e+09  \n",
       "std    8.707288e+09  \n",
       "min    7.792550e+08  \n",
       "25%    3.598355e+09  \n",
       "50%    6.386210e+09  \n",
       "75%    9.898830e+09  \n",
       "max    4.839120e+10  "
      ]
     },
     "execution_count": 49,
     "metadata": {},
     "output_type": "execute_result"
    }
   ],
   "source": [
    "df.describe()"
   ]
  },
  {
   "cell_type": "code",
   "execution_count": 50,
   "metadata": {},
   "outputs": [
    {
     "data": {
      "image/png": "[encoded data removed]",
      "text/plain": [
       "<Figure size 640x480 with 2 Axes>"
      ]
     },
     "metadata": {},
     "output_type": "display_data"
    }
   ],
   "source": [
    "# ora cerchiamo di capire come se ci sono delle correlazioni e mettiamole a video\n",
    "# per farlo usiamo la funzione corr() di pandas\n",
    "sns.heatmap(df.corr(), annot=True, cmap='coolwarm')\n",
    "plt.show()"
   ]
  },
  {
   "cell_type": "code",
   "execution_count": 51,
   "metadata": {},
   "outputs": [
    {
     "data": {
      "text/html": [
       "<div>\n",
       "<style scoped>\n",
       "    .dataframe tbody tr th:only-of-type {\n",
       "        vertical-align: middle;\n",
       "    }\n",
       "\n",
       "    .dataframe tbody tr th {\n",
       "        vertical-align: top;\n",
       "    }\n",
       "\n",
       "    .dataframe thead th {\n",
       "        text-align: right;\n",
       "    }\n",
       "</style>\n",
       "<table border=\"1\" class=\"dataframe\">\n",
       "  <thead>\n",
       "    <tr style=\"text-align: right;\">\n",
       "      <th></th>\n",
       "      <th>Open</th>\n",
       "      <th>High</th>\n",
       "      <th>Low</th>\n",
       "      <th>Close</th>\n",
       "      <th>Volume</th>\n",
       "      <th>Market Cap</th>\n",
       "    </tr>\n",
       "    <tr>\n",
       "      <th>Date</th>\n",
       "      <th></th>\n",
       "      <th></th>\n",
       "      <th></th>\n",
       "      <th></th>\n",
       "      <th></th>\n",
       "      <th></th>\n",
       "    </tr>\n",
       "  </thead>\n",
       "  <tbody>\n",
       "    <tr>\n",
       "      <th>2017-07-31</th>\n",
       "      <td>4.169681</td>\n",
       "      <td>4.221720</td>\n",
       "      <td>4.256863</td>\n",
       "      <td>4.357897</td>\n",
       "      <td>2.197611</td>\n",
       "      <td>4.232465</td>\n",
       "    </tr>\n",
       "    <tr>\n",
       "      <th>2017-07-30</th>\n",
       "      <td>4.095394</td>\n",
       "      <td>3.980221</td>\n",
       "      <td>4.107055</td>\n",
       "      <td>4.133145</td>\n",
       "      <td>1.720609</td>\n",
       "      <td>4.158354</td>\n",
       "    </tr>\n",
       "    <tr>\n",
       "      <th>2017-07-29</th>\n",
       "      <td>4.253395</td>\n",
       "      <td>4.072757</td>\n",
       "      <td>4.201871</td>\n",
       "      <td>4.074693</td>\n",
       "      <td>2.022307</td>\n",
       "      <td>4.314136</td>\n",
       "    </tr>\n",
       "    <tr>\n",
       "      <th>2017-07-28</th>\n",
       "      <td>4.009997</td>\n",
       "      <td>4.236145</td>\n",
       "      <td>4.176027</td>\n",
       "      <td>4.231730</td>\n",
       "      <td>3.800217</td>\n",
       "      <td>4.072617</td>\n",
       "    </tr>\n",
       "    <tr>\n",
       "      <th>2017-07-27</th>\n",
       "      <td>3.740344</td>\n",
       "      <td>3.860089</td>\n",
       "      <td>3.878646</td>\n",
       "      <td>3.970706</td>\n",
       "      <td>1.977140</td>\n",
       "      <td>3.805180</td>\n",
       "    </tr>\n",
       "  </tbody>\n",
       "</table>\n",
       "</div>"
      ],
      "text/plain": [
       "                Open      High       Low     Close    Volume  Market Cap\n",
       "Date                                                                    \n",
       "2017-07-31  4.169681  4.221720  4.256863  4.357897  2.197611    4.232465\n",
       "2017-07-30  4.095394  3.980221  4.107055  4.133145  1.720609    4.158354\n",
       "2017-07-29  4.253395  4.072757  4.201871  4.074693  2.022307    4.314136\n",
       "2017-07-28  4.009997  4.236145  4.176027  4.231730  3.800217    4.072617\n",
       "2017-07-27  3.740344  3.860089  3.878646  3.970706  1.977140    3.805180"
      ]
     },
     "execution_count": 51,
     "metadata": {},
     "output_type": "execute_result"
    }
   ],
   "source": [
    "# facciamo una regressione lineare multipla per capire se possiamo prevedere il valore di Close\n",
    "# in base al valore di Open, High, Low, Volume e Market Cap\n",
    "# ma prima scaliamo i dati\n",
    "from sklearn.preprocessing import StandardScaler\n",
    "\n",
    "scaler = StandardScaler()\n",
    "df_scaled = scaler.fit_transform(df)\n",
    "\n",
    "# ora creiamo il dataframe con i dati scalati\n",
    "df_scaled = pd.DataFrame(df_scaled, columns=df.columns, index=df.index)\n",
    "\n",
    "df_scaled.head()"
   ]
  },
  {
   "cell_type": "code",
   "execution_count": 54,
   "metadata": {},
   "outputs": [
    {
     "name": "stdout",
     "output_type": "stream",
     "text": [
      "I coefficienti sono: [-4.24207657e-01  6.16605917e-01  8.26267099e-01  1.16122367e-08\n",
      " -9.47908751e-10]\n",
      "L'intercetta è: -0.5293766209763362\n",
      "R^2: 0.9991002410206216\n"
     ]
    }
   ],
   "source": [
    "# ora creiamo il modello di regressione lineare multipla\n",
    "from sklearn.linear_model import LinearRegression\n",
    "\n",
    "# creo il modello\n",
    "model = LinearRegression()\n",
    "\n",
    "# eliminiamo i valori nulli\n",
    "df.dropna(inplace=True)\n",
    "\n",
    "# creo le variabili indipendenti e dipendenti\n",
    "X = df.drop('Close', axis=1)\n",
    "y = df['Close']\n",
    "\n",
    "# addestro il modello\n",
    "model.fit(X, y)\n",
    "\n",
    "# stampo i coefficienti\n",
    "print(f\"I coefficienti sono: {model.coef_}\")\n",
    "\n",
    "# stampo l'intercetta\n",
    "print(f\"L'intercetta è: {model.intercept_}\")\n",
    "\n",
    "# stampo il punteggio R^2\n",
    "print(f\"R^2: {model.score(X, y)}\")\n",
    "\n"
   ]
  },
  {
   "cell_type": "code",
   "execution_count": 55,
   "metadata": {},
   "outputs": [],
   "source": [
    "# apriamo il dataset con i dati di test\n",
    "df_test = pd.read_csv(path + '/' + str(file_name[1]))"
   ]
  },
  {
   "cell_type": "code",
   "execution_count": 56,
   "metadata": {},
   "outputs": [],
   "source": [
    "# convertiamo la colonna data in datetime e la impostiamo come indice\n",
    "df_test['Date'] = pd.to_datetime(df_test['Date'], format='%b %d, %Y')\n",
    "df_test.set_index('Date', inplace=True)\n",
    "\n"
   ]
  },
  {
   "cell_type": "code",
   "execution_count": 59,
   "metadata": {},
   "outputs": [],
   "source": [
    "volume = df_test['Volume'].values\n",
    "for i in range(len(volume)):\n",
    "    try:\n",
    "        volume[i] = float(volume[i].replace(',', ''))\n",
    "    except:\n",
    "        print(f\"Errore alla riga {i}, il suo valore è {volume[i]}\")\n"
   ]
  },
  {
   "cell_type": "code",
   "execution_count": 60,
   "metadata": {},
   "outputs": [],
   "source": [
    "df_test['Volume'] = volume\n",
    "df_test['Volume'] = df_test['Volume'].astype(float)"
   ]
  },
  {
   "cell_type": "code",
   "execution_count": 61,
   "metadata": {},
   "outputs": [],
   "source": [
    "market_cap = df_test['Market Cap'].values\n",
    "for i in range(len(market_cap)):\n",
    "    try:\n",
    "        market_cap[i] = float(market_cap[i].replace(',', ''))\n",
    "    except:\n",
    "        print(f\"Errore alla riga {i}, il suo valore è {market_cap[i]}\")\n",
    "\n",
    "df_test['Market Cap'] = market_cap\n",
    "df_test['Market Cap'] = df_test['Market Cap'].astype(float)"
   ]
  },
  {
   "cell_type": "code",
   "execution_count": 62,
   "metadata": {},
   "outputs": [
    {
     "name": "stdout",
     "output_type": "stream",
     "text": [
      "R^2: 1.0\n",
      "MAE: 45.759904635538206\n",
      "MSE: 3052.6597204986365\n"
     ]
    }
   ],
   "source": [
    "# facciamo una previsione usando il modello\n",
    "X_test = df_test.drop('Close', axis=1)\n",
    "\n",
    "# facciamo la previsione\n",
    "y_pred = model.predict(X_test)\n",
    "\n",
    "# stampiamo il punteggio R^2\n",
    "print(f\"R^2: {model.score(X_test, y_pred)}\")\n",
    "\n",
    "# importiamo le metriche\n",
    "from sklearn.metrics import mean_absolute_error, mean_squared_error\n",
    "\n",
    "# calcoliamo l'errore assoluto medio\n",
    "print(f\"MAE: {mean_absolute_error(df_test['Close'], y_pred)}\")\n",
    "\n",
    "# calcoliamo l'errore quadratico medio\n",
    "print(f\"MSE: {mean_squared_error(df_test['Close'], y_pred)}\")\n"
   ]
  },
  {
   "cell_type": "code",
   "execution_count": 64,
   "metadata": {},
   "outputs": [],
   "source": [
    "df_test['Prev'] = y_pred\n"
   ]
  },
  {
   "cell_type": "code",
   "execution_count": 65,
   "metadata": {},
   "outputs": [
    {
     "data": {
      "text/plain": [
       "<AxesSubplot:xlabel='Date'>"
      ]
     },
     "execution_count": 65,
     "metadata": {},
     "output_type": "execute_result"
    },
    {
     "data": {
      "image/png": "[encoded data removed]",
      "text/plain": [
       "<Figure size 1500x700 with 1 Axes>"
      ]
     },
     "metadata": {},
     "output_type": "display_data"
    }
   ],
   "source": [
    "df_test[['Close', 'Prev']].plot(figsize=(15, 7))"
   ]
  },
  {
   "cell_type": "code",
   "execution_count": 66,
   "metadata": {},
   "outputs": [
    {
     "data": {
      "text/plain": [
       "<AxesSubplot:xlabel='Date'>"
      ]
     },
     "execution_count": 66,
     "metadata": {},
     "output_type": "execute_result"
    },
    {
     "data": {
      "image/png": "[encoded data removed]",
      "text/plain": [
       "<Figure size 1500x700 with 1 Axes>"
      ]
     },
     "metadata": {},
     "output_type": "display_data"
    }
   ],
   "source": [
    "# calcoliamo la variazione percentuale della colonna Close e Prev\n",
    "df_test['Variazione Close'] = df_test['Close'].pct_change()\n",
    "df_test['Variazione Prev'] = df_test['Prev'].pct_change()\n",
    "\n",
    "# confrontiamo in grafico le variazioni percentuali\n",
    "df_test[['Variazione Close', 'Variazione Prev']].plot(figsize=(15, 7))\n"
   ]
  }
 ],
 "metadata": {
  "kernelspec": {
   "display_name": "Python 3",
   "language": "python",
   "name": "python3"
  },
  "language_info": {
   "codemirror_mode": {
    "name": "ipython",
    "version": 3
   },
   "file_extension": ".py",
   "mimetype": "text/x-python",
   "name": "python",
   "nbconvert_exporter": "python",
   "pygments_lexer": "ipython3",
   "version": "3.10.6"
  },
  "orig_nbformat": 4
 },
 "nbformat": 4,
 "nbformat_minor": 2
}
