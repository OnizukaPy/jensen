{
 "cells": [
  {
   "cell_type": "code",
   "execution_count": 2,
   "metadata": {},
   "outputs": [],
   "source": [
    "# importo la funzione start_kaggle che ho definito nel file autenticazione.py\n",
    "from autenticazione.autenticazione import start_kaggle\n",
    "\n",
    "# chiamo la funzione start_kaggle\n",
    "start_kaggle()\n",
    "\n",
    "# imposto il path in cui scaricare il dataset\n",
    "# path = os.path.dirname(os.path.abspath(__file__)) + '/dataset' su juptyer notebook non funziona\n",
    "# usare invece sys.path[0] + '/dataset' con la libreria sys\n",
    "import sys\n",
    "path = sys.path[0] + '/dataset'\n",
    "\n",
    "# importo le librerie necessarie di default\n",
    "import kaggle\n",
    "import pandas as pd\n",
    "import numpy as np\n",
    "import matplotlib.pyplot as plt\n",
    "import seaborn as sns\n",
    "\n",
    "# ignorare i warning\n",
    "import warnings\n",
    "warnings.filterwarnings('ignore')\n"
   ]
  },
  {
   "cell_type": "code",
   "execution_count": 3,
   "metadata": {},
   "outputs": [
    {
     "name": "stdout",
     "output_type": "stream",
     "text": [
      "Lista dei dataset trovati: \n",
      "0: sudalairajkumar/covid19-in-italy\n",
      "1: blackecho/italy-earthquakes\n",
      "2: paultimothymooney/coronavirus-in-italy\n",
      "3: mpwolke/cusersmarildownloadspopolazionecsv\n",
      "4: bsridatta/covid-19-italy-updated-regularly\n",
      "5: virosky/italy-covid19\n",
      "6: alessiocrisafulli/airbnb-italy\n",
      "7: tommasoramella/italy-house-prices\n",
      "8: arielcedola/solar-generation-and-demand-italy-20152016\n",
      "9: lorenzopagliaro01/coronavirus-italian-data\n",
      "10: die9origephit/covid19-italy-tuscany-data\n",
      "11: marcoferrante/covid19-prevention-in-italy\n",
      "12: sudalairajkumar/novel-corona-virus-2019-dataset\n",
      "13: sandhyakrishnan02/italy-population-19552020\n",
      "14: samuelcortinhas/gdp-of-european-countries\n",
      "15: rafabelokurows/weekly-fuel-prices-in-italy\n",
      "16: atilamadai/covid19\n",
      "17: miklgr500/jigsaw-train-multilingual-coments-google-api\n",
      "18: paolocons/small-dataset-about-used-fiat-500-sold-in-italy\n",
      "19: harrywang/wine-dataset-for-clustering\n"
     ]
    }
   ],
   "source": [
    "# Visualizzare la lista dei dataset\n",
    "key_search = str(input(\"Inserisci la chiave di ricerca: \"))\n",
    "datasets = kaggle.api.datasets_list(search=key_search)\n",
    "\n",
    "# stampo la lista dei dataset\n",
    "# la lista di dataset è una lista di dizionari, il cui valore di owner e' contenuto nella key 'ref'\n",
    "\n",
    "print(\"Lista dei dataset trovati: \")\n",
    "for i in range(len(datasets)):\n",
    "    print(f\"{i}: {datasets[i]['ref']}\")\n"
   ]
  },
  {
   "cell_type": "code",
   "execution_count": 4,
   "metadata": {},
   "outputs": [
    {
     "name": "stdout",
     "output_type": "stream",
     "text": [
      "Warning: Looks like you're using an outdated API Version, please consider updating (server 1.5.15 / client 1.5.13)\n"
     ]
    }
   ],
   "source": [
    "# scelgo il dataset che mi interessa e lo scarico\n",
    "dt_scelto = int(input(\"Inserisci il numero del dataset che ti interessa: \"))\n",
    "\n",
    "# salvo in una variabile i nomi di tutti i file del dataset\n",
    "file_name = kaggle.api.dataset_list_files(datasets[dt_scelto]['ref']).files\n",
    "\n",
    "# scarico il dataset\n",
    "kaggle.api.dataset_download_files(datasets[dt_scelto]['ref'], path=path, unzip=True)"
   ]
  },
  {
   "cell_type": "code",
   "execution_count": 5,
   "metadata": {},
   "outputs": [
    {
     "name": "stdout",
     "output_type": "stream",
     "text": [
      "File n 0: limits_IT_provinces.geojson\n",
      "File n 1: italy_housing_price_rent_clean.csv\n",
      "File n 2: italy_housing_price_rent_raw.csv\n",
      "File n 3: limits_IT_regions.geojson\n",
      "File n 4: limits_IT_municipalities.geojson\n"
     ]
    }
   ],
   "source": [
    "for i in range(len(file_name)):\n",
    "    print(f\"File n {i}: {file_name[i]}\")\n"
   ]
  },
  {
   "cell_type": "code",
   "execution_count": 6,
   "metadata": {},
   "outputs": [],
   "source": [
    "def choise_df(file_name):\n",
    "    choise = int(input('Scegli il file da aprire: '))\n",
    "    if '.csv' in str(file_name[choise]):\n",
    "        df = pd.read_csv(path + '/' + str(file_name[choise]))\n",
    "    elif '.json' in str(file_name[choise]):\n",
    "        df = pd.read_json(path + '/' + str(file_name[choise]))\n",
    "    else:\n",
    "        print('Formato non riconosciuto')\n",
    "    return df"
   ]
  },
  {
   "cell_type": "code",
   "execution_count": 10,
   "metadata": {},
   "outputs": [],
   "source": [
    "# importazione delle nuove librerie necessarie\n",
    "from deep_translator import GoogleTranslator\n",
    "import json\n",
    "import plotly.express as px\n",
    "import geopandas as gpd\n",
    "from pandas_geojson import read_geojson"
   ]
  },
  {
   "cell_type": "code",
   "execution_count": 13,
   "metadata": {},
   "outputs": [],
   "source": [
    "## translate columns in english\n",
    "def Translate(italian_input):\n",
    "    return GoogleTranslator(source='it', target='en').translate(italian_input)"
   ]
  },
  {
   "cell_type": "code",
   "execution_count": 11,
   "metadata": {},
   "outputs": [],
   "source": [
    "df = choise_df(file_name)"
   ]
  },
  {
   "cell_type": "code",
   "execution_count": null,
   "metadata": {},
   "outputs": [],
   "source": [
    "df.head() "
   ]
  },
  {
   "cell_type": "code",
   "execution_count": 14,
   "metadata": {},
   "outputs": [],
   "source": [
    "# traduciamo le colonne in inglese\n",
    "columns_translated = [Translate(c) for c in df.columns]\n",
    "columns_translated[12], columns_translated[-1] = \"sea_view\", \"mansard\"\n",
    "columns_translated = [c.replace(\" \", \"_\") for c in columns_translated]\n",
    "df.columns = columns_translated"
   ]
  },
  {
   "cell_type": "code",
   "execution_count": 21,
   "metadata": {},
   "outputs": [
    {
     "data": {
      "text/html": [
       "<div>\n",
       "<style scoped>\n",
       "    .dataframe tbody tr th:only-of-type {\n",
       "        vertical-align: middle;\n",
       "    }\n",
       "\n",
       "    .dataframe tbody tr th {\n",
       "        vertical-align: top;\n",
       "    }\n",
       "\n",
       "    .dataframe thead th {\n",
       "        text-align: right;\n",
       "    }\n",
       "</style>\n",
       "<table border=\"1\" class=\"dataframe\">\n",
       "  <thead>\n",
       "    <tr style=\"text-align: right;\">\n",
       "      <th></th>\n",
       "      <th>region</th>\n",
       "      <th>city</th>\n",
       "      <th>quarter</th>\n",
       "      <th>price</th>\n",
       "      <th>datetime</th>\n",
       "      <th>parking_spaces</th>\n",
       "      <th>bathrooms_per_room</th>\n",
       "      <th>bathrooms</th>\n",
       "      <th>rooms</th>\n",
       "      <th>top_floor</th>\n",
       "      <th>...</th>\n",
       "      <th>private_garden</th>\n",
       "      <th>alarm_system</th>\n",
       "      <th>doorman</th>\n",
       "      <th>pool</th>\n",
       "      <th>villa</th>\n",
       "      <th>entire_property</th>\n",
       "      <th>apartment</th>\n",
       "      <th>attic</th>\n",
       "      <th>lofts</th>\n",
       "      <th>mansard</th>\n",
       "    </tr>\n",
       "  </thead>\n",
       "  <tbody>\n",
       "    <tr>\n",
       "      <th>0</th>\n",
       "      <td>NaN</td>\n",
       "      <td>Milano</td>\n",
       "      <td>Centrale</td>\n",
       "      <td>1800.0</td>\n",
       "      <td>2023-07-03</td>\n",
       "      <td>1</td>\n",
       "      <td>0.333333</td>\n",
       "      <td>1.0</td>\n",
       "      <td>3.0</td>\n",
       "      <td>0</td>\n",
       "      <td>...</td>\n",
       "      <td>0</td>\n",
       "      <td>0</td>\n",
       "      <td>0</td>\n",
       "      <td>0</td>\n",
       "      <td>0</td>\n",
       "      <td>0</td>\n",
       "      <td>1</td>\n",
       "      <td>0</td>\n",
       "      <td>0</td>\n",
       "      <td>0</td>\n",
       "    </tr>\n",
       "    <tr>\n",
       "      <th>1</th>\n",
       "      <td>NaN</td>\n",
       "      <td>Torino</td>\n",
       "      <td>Santa Rita</td>\n",
       "      <td>450.0</td>\n",
       "      <td>2023-07-03</td>\n",
       "      <td>0</td>\n",
       "      <td>0.500000</td>\n",
       "      <td>1.0</td>\n",
       "      <td>2.0</td>\n",
       "      <td>1</td>\n",
       "      <td>...</td>\n",
       "      <td>0</td>\n",
       "      <td>0</td>\n",
       "      <td>0</td>\n",
       "      <td>0</td>\n",
       "      <td>0</td>\n",
       "      <td>0</td>\n",
       "      <td>1</td>\n",
       "      <td>0</td>\n",
       "      <td>0</td>\n",
       "      <td>0</td>\n",
       "    </tr>\n",
       "    <tr>\n",
       "      <th>2</th>\n",
       "      <td>NaN</td>\n",
       "      <td>Padova</td>\n",
       "      <td>Prato della Valle - Pontecorvo</td>\n",
       "      <td>3200.0</td>\n",
       "      <td>2023-07-03</td>\n",
       "      <td>1</td>\n",
       "      <td>NaN</td>\n",
       "      <td>3.0</td>\n",
       "      <td>NaN</td>\n",
       "      <td>0</td>\n",
       "      <td>...</td>\n",
       "      <td>0</td>\n",
       "      <td>0</td>\n",
       "      <td>0</td>\n",
       "      <td>0</td>\n",
       "      <td>0</td>\n",
       "      <td>0</td>\n",
       "      <td>1</td>\n",
       "      <td>0</td>\n",
       "      <td>0</td>\n",
       "      <td>0</td>\n",
       "    </tr>\n",
       "    <tr>\n",
       "      <th>3</th>\n",
       "      <td>NaN</td>\n",
       "      <td>Firenze</td>\n",
       "      <td>Galluzzo</td>\n",
       "      <td>1700.0</td>\n",
       "      <td>2022-12-21</td>\n",
       "      <td>0</td>\n",
       "      <td>NaN</td>\n",
       "      <td>3.0</td>\n",
       "      <td>NaN</td>\n",
       "      <td>1</td>\n",
       "      <td>...</td>\n",
       "      <td>1</td>\n",
       "      <td>0</td>\n",
       "      <td>0</td>\n",
       "      <td>0</td>\n",
       "      <td>1</td>\n",
       "      <td>0</td>\n",
       "      <td>0</td>\n",
       "      <td>0</td>\n",
       "      <td>0</td>\n",
       "      <td>0</td>\n",
       "    </tr>\n",
       "    <tr>\n",
       "      <th>4</th>\n",
       "      <td>NaN</td>\n",
       "      <td>Monte Argentario</td>\n",
       "      <td>Località Poggio Pertuso</td>\n",
       "      <td>4000.0</td>\n",
       "      <td>2023-06-03</td>\n",
       "      <td>1</td>\n",
       "      <td>0.600000</td>\n",
       "      <td>3.0</td>\n",
       "      <td>5.0</td>\n",
       "      <td>0</td>\n",
       "      <td>...</td>\n",
       "      <td>1</td>\n",
       "      <td>0</td>\n",
       "      <td>0</td>\n",
       "      <td>0</td>\n",
       "      <td>1</td>\n",
       "      <td>0</td>\n",
       "      <td>0</td>\n",
       "      <td>0</td>\n",
       "      <td>0</td>\n",
       "      <td>0</td>\n",
       "    </tr>\n",
       "  </tbody>\n",
       "</table>\n",
       "<p>5 rows × 33 columns</p>\n",
       "</div>"
      ],
      "text/plain": [
       "  region              city                         quarter   price  \\\n",
       "0    NaN            Milano                        Centrale  1800.0   \n",
       "1    NaN            Torino                      Santa Rita   450.0   \n",
       "2    NaN            Padova  Prato della Valle - Pontecorvo  3200.0   \n",
       "3    NaN           Firenze                        Galluzzo  1700.0   \n",
       "4    NaN  Monte Argentario         Località Poggio Pertuso  4000.0   \n",
       "\n",
       "     datetime  parking_spaces  bathrooms_per_room  bathrooms  rooms  \\\n",
       "0  2023-07-03               1            0.333333        1.0    3.0   \n",
       "1  2023-07-03               0            0.500000        1.0    2.0   \n",
       "2  2023-07-03               1                 NaN        3.0    NaN   \n",
       "3  2022-12-21               0                 NaN        3.0    NaN   \n",
       "4  2023-06-03               1            0.600000        3.0    5.0   \n",
       "\n",
       "   top_floor  ... private_garden alarm_system  doorman  pool  villa  \\\n",
       "0          0  ...              0            0        0     0      0   \n",
       "1          1  ...              0            0        0     0      0   \n",
       "2          0  ...              0            0        0     0      0   \n",
       "3          1  ...              1            0        0     0      1   \n",
       "4          0  ...              1            0        0     0      1   \n",
       "\n",
       "   entire_property  apartment  attic  lofts  mansard  \n",
       "0                0          1      0      0        0  \n",
       "1                0          1      0      0        0  \n",
       "2                0          1      0      0        0  \n",
       "3                0          0      0      0        0  \n",
       "4                0          0      0      0        0  \n",
       "\n",
       "[5 rows x 33 columns]"
      ]
     },
     "execution_count": 21,
     "metadata": {},
     "output_type": "execute_result"
    }
   ],
   "source": [
    "df.head() "
   ]
  },
  {
   "cell_type": "code",
   "execution_count": 22,
   "metadata": {},
   "outputs": [
    {
     "name": "stdout",
     "output_type": "stream",
     "text": [
      "12500000.0\n"
     ]
    },
    {
     "data": {
      "text/plain": [
       "(array([ 255.,  160., 1445., 5307., 8532., 7531., 6341., 5075., 3555.,\n",
       "        3522., 1737., 2503., 1819., 1290., 1936.,  896.,  700., 1027.,\n",
       "         457., 1148.,  296.,  513.,  355.,  260.,   46.,  832.,  184.,\n",
       "         206.,  243.,  137.,  612.,   82.,  167.,  117.,   49.,  375.,\n",
       "          75.,  100.,   90.,   69.,  301.,   30.,   46.,   30.,   30.,\n",
       "         194.,   16.,   13.,   37.,   27.]),\n",
       " array([1.00000e+00, 1.00960e+02, 2.00920e+02, 3.00880e+02, 4.00840e+02,\n",
       "        5.00800e+02, 6.00760e+02, 7.00720e+02, 8.00680e+02, 9.00640e+02,\n",
       "        1.00060e+03, 1.10056e+03, 1.20052e+03, 1.30048e+03, 1.40044e+03,\n",
       "        1.50040e+03, 1.60036e+03, 1.70032e+03, 1.80028e+03, 1.90024e+03,\n",
       "        2.00020e+03, 2.10016e+03, 2.20012e+03, 2.30008e+03, 2.40004e+03,\n",
       "        2.50000e+03, 2.59996e+03, 2.69992e+03, 2.79988e+03, 2.89984e+03,\n",
       "        2.99980e+03, 3.09976e+03, 3.19972e+03, 3.29968e+03, 3.39964e+03,\n",
       "        3.49960e+03, 3.59956e+03, 3.69952e+03, 3.79948e+03, 3.89944e+03,\n",
       "        3.99940e+03, 4.09936e+03, 4.19932e+03, 4.29928e+03, 4.39924e+03,\n",
       "        4.49920e+03, 4.59916e+03, 4.69912e+03, 4.79908e+03, 4.89904e+03,\n",
       "        4.99900e+03]),\n",
       " <BarContainer object of 50 artists>)"
      ]
     },
     "execution_count": 22,
     "metadata": {},
     "output_type": "execute_result"
    },
    {
     "data": {
      "image/png": "[encoded data removed]",
      "text/plain": [
       "<Figure size 640x480 with 1 Axes>"
      ]
     },
     "metadata": {},
     "output_type": "display_data"
    }
   ],
   "source": [
    "print(df['price'].max())\n",
    "df = df.loc[df['price'] < 5000]\n",
    "plt.hist(df['price'], bins=50)\n",
    "\n"
   ]
  },
  {
   "cell_type": "code",
   "execution_count": 23,
   "metadata": {},
   "outputs": [],
   "source": [
    "# clean datetime\n",
    "import datetime\n",
    "from datetime import date\n",
    "TODAY = np.datetime64(date.today())\n",
    "FULL_CALENDAR = pd.DataFrame(pd.date_range(start=\"2023-01-01\", end=TODAY), columns=['datetime'])\n",
    "\n",
    "df['datetime'] = pd.to_datetime(df['datetime'])\n",
    "df = df.loc[(df['datetime']>\"01-01-2023\") & (df['datetime']<TODAY)]\n",
    "df['month'] = df['datetime'].dt.to_period('M').dt.start_time\n",
    "df['week'] = df['datetime'].dt.to_period('W').dt.start_time"
   ]
  },
  {
   "cell_type": "code",
   "execution_count": 24,
   "metadata": {},
   "outputs": [
    {
     "data": {
      "text/html": [
       "<div>\n",
       "<style scoped>\n",
       "    .dataframe tbody tr th:only-of-type {\n",
       "        vertical-align: middle;\n",
       "    }\n",
       "\n",
       "    .dataframe tbody tr th {\n",
       "        vertical-align: top;\n",
       "    }\n",
       "\n",
       "    .dataframe thead th {\n",
       "        text-align: right;\n",
       "    }\n",
       "</style>\n",
       "<table border=\"1\" class=\"dataframe\">\n",
       "  <thead>\n",
       "    <tr style=\"text-align: right;\">\n",
       "      <th></th>\n",
       "      <th>region</th>\n",
       "      <th>city</th>\n",
       "      <th>quarter</th>\n",
       "      <th>price</th>\n",
       "      <th>datetime</th>\n",
       "      <th>parking_spaces</th>\n",
       "      <th>bathrooms_per_room</th>\n",
       "      <th>bathrooms</th>\n",
       "      <th>rooms</th>\n",
       "      <th>top_floor</th>\n",
       "      <th>...</th>\n",
       "      <th>doorman</th>\n",
       "      <th>pool</th>\n",
       "      <th>villa</th>\n",
       "      <th>entire_property</th>\n",
       "      <th>apartment</th>\n",
       "      <th>attic</th>\n",
       "      <th>lofts</th>\n",
       "      <th>mansard</th>\n",
       "      <th>month</th>\n",
       "      <th>week</th>\n",
       "    </tr>\n",
       "  </thead>\n",
       "  <tbody>\n",
       "    <tr>\n",
       "      <th>0</th>\n",
       "      <td>NaN</td>\n",
       "      <td>Milano</td>\n",
       "      <td>Centrale</td>\n",
       "      <td>1800.0</td>\n",
       "      <td>2023-07-03</td>\n",
       "      <td>1</td>\n",
       "      <td>0.333333</td>\n",
       "      <td>1.0</td>\n",
       "      <td>3.0</td>\n",
       "      <td>0</td>\n",
       "      <td>...</td>\n",
       "      <td>0</td>\n",
       "      <td>0</td>\n",
       "      <td>0</td>\n",
       "      <td>0</td>\n",
       "      <td>1</td>\n",
       "      <td>0</td>\n",
       "      <td>0</td>\n",
       "      <td>0</td>\n",
       "      <td>2023-07-01</td>\n",
       "      <td>2023-07-03</td>\n",
       "    </tr>\n",
       "    <tr>\n",
       "      <th>1</th>\n",
       "      <td>NaN</td>\n",
       "      <td>Torino</td>\n",
       "      <td>Santa Rita</td>\n",
       "      <td>450.0</td>\n",
       "      <td>2023-07-03</td>\n",
       "      <td>0</td>\n",
       "      <td>0.500000</td>\n",
       "      <td>1.0</td>\n",
       "      <td>2.0</td>\n",
       "      <td>1</td>\n",
       "      <td>...</td>\n",
       "      <td>0</td>\n",
       "      <td>0</td>\n",
       "      <td>0</td>\n",
       "      <td>0</td>\n",
       "      <td>1</td>\n",
       "      <td>0</td>\n",
       "      <td>0</td>\n",
       "      <td>0</td>\n",
       "      <td>2023-07-01</td>\n",
       "      <td>2023-07-03</td>\n",
       "    </tr>\n",
       "    <tr>\n",
       "      <th>2</th>\n",
       "      <td>NaN</td>\n",
       "      <td>Padova</td>\n",
       "      <td>Prato della Valle - Pontecorvo</td>\n",
       "      <td>3200.0</td>\n",
       "      <td>2023-07-03</td>\n",
       "      <td>1</td>\n",
       "      <td>NaN</td>\n",
       "      <td>3.0</td>\n",
       "      <td>NaN</td>\n",
       "      <td>0</td>\n",
       "      <td>...</td>\n",
       "      <td>0</td>\n",
       "      <td>0</td>\n",
       "      <td>0</td>\n",
       "      <td>0</td>\n",
       "      <td>1</td>\n",
       "      <td>0</td>\n",
       "      <td>0</td>\n",
       "      <td>0</td>\n",
       "      <td>2023-07-01</td>\n",
       "      <td>2023-07-03</td>\n",
       "    </tr>\n",
       "    <tr>\n",
       "      <th>4</th>\n",
       "      <td>NaN</td>\n",
       "      <td>Monte Argentario</td>\n",
       "      <td>Località Poggio Pertuso</td>\n",
       "      <td>4000.0</td>\n",
       "      <td>2023-06-03</td>\n",
       "      <td>1</td>\n",
       "      <td>0.600000</td>\n",
       "      <td>3.0</td>\n",
       "      <td>5.0</td>\n",
       "      <td>0</td>\n",
       "      <td>...</td>\n",
       "      <td>0</td>\n",
       "      <td>0</td>\n",
       "      <td>1</td>\n",
       "      <td>0</td>\n",
       "      <td>0</td>\n",
       "      <td>0</td>\n",
       "      <td>0</td>\n",
       "      <td>0</td>\n",
       "      <td>2023-06-01</td>\n",
       "      <td>2023-05-29</td>\n",
       "    </tr>\n",
       "    <tr>\n",
       "      <th>6</th>\n",
       "      <td>NaN</td>\n",
       "      <td>Firenze</td>\n",
       "      <td>Michelangelo - Poggio Imperiale</td>\n",
       "      <td>900.0</td>\n",
       "      <td>2023-07-03</td>\n",
       "      <td>0</td>\n",
       "      <td>0.333333</td>\n",
       "      <td>1.0</td>\n",
       "      <td>3.0</td>\n",
       "      <td>1</td>\n",
       "      <td>...</td>\n",
       "      <td>0</td>\n",
       "      <td>0</td>\n",
       "      <td>0</td>\n",
       "      <td>0</td>\n",
       "      <td>1</td>\n",
       "      <td>0</td>\n",
       "      <td>0</td>\n",
       "      <td>0</td>\n",
       "      <td>2023-07-01</td>\n",
       "      <td>2023-07-03</td>\n",
       "    </tr>\n",
       "  </tbody>\n",
       "</table>\n",
       "<p>5 rows × 35 columns</p>\n",
       "</div>"
      ],
      "text/plain": [
       "  region              city                          quarter   price  \\\n",
       "0    NaN            Milano                         Centrale  1800.0   \n",
       "1    NaN            Torino                       Santa Rita   450.0   \n",
       "2    NaN            Padova   Prato della Valle - Pontecorvo  3200.0   \n",
       "4    NaN  Monte Argentario          Località Poggio Pertuso  4000.0   \n",
       "6    NaN           Firenze  Michelangelo - Poggio Imperiale   900.0   \n",
       "\n",
       "    datetime  parking_spaces  bathrooms_per_room  bathrooms  rooms  top_floor  \\\n",
       "0 2023-07-03               1            0.333333        1.0    3.0          0   \n",
       "1 2023-07-03               0            0.500000        1.0    2.0          1   \n",
       "2 2023-07-03               1                 NaN        3.0    NaN          0   \n",
       "4 2023-06-03               1            0.600000        3.0    5.0          0   \n",
       "6 2023-07-03               0            0.333333        1.0    3.0          1   \n",
       "\n",
       "   ... doorman pool  villa  entire_property  apartment  attic  lofts  mansard  \\\n",
       "0  ...       0    0      0                0          1      0      0        0   \n",
       "1  ...       0    0      0                0          1      0      0        0   \n",
       "2  ...       0    0      0                0          1      0      0        0   \n",
       "4  ...       0    0      1                0          0      0      0        0   \n",
       "6  ...       0    0      0                0          1      0      0        0   \n",
       "\n",
       "       month       week  \n",
       "0 2023-07-01 2023-07-03  \n",
       "1 2023-07-01 2023-07-03  \n",
       "2 2023-07-01 2023-07-03  \n",
       "4 2023-06-01 2023-05-29  \n",
       "6 2023-07-01 2023-07-03  \n",
       "\n",
       "[5 rows x 35 columns]"
      ]
     },
     "execution_count": 24,
     "metadata": {},
     "output_type": "execute_result"
    }
   ],
   "source": [
    "df.head()"
   ]
  },
  {
   "cell_type": "code",
   "execution_count": 31,
   "metadata": {},
   "outputs": [
    {
     "data": {
      "text/plain": [
       "lazio                  8190\n",
       "lombardia              8064\n",
       "piemonte               6615\n",
       "emilia-romagna         5214\n",
       "veneto                 3851\n",
       "campania               3443\n",
       "liguria                2996\n",
       "sicilia                2933\n",
       "toscana                2297\n",
       "puglia                 1373\n",
       "marche                 1211\n",
       "umbria                 1193\n",
       "abruzzo                 868\n",
       "trentino-alto-adige     635\n",
       "sardegna                454\n",
       "calabria                267\n",
       "basilicata              148\n",
       "valle-d-aosta           142\n",
       "molise                  141\n",
       "Name: region, dtype: int64"
      ]
     },
     "execution_count": 31,
     "metadata": {},
     "output_type": "execute_result"
    }
   ],
   "source": [
    "df.region.value_counts().sort_values(ascending=False)"
   ]
  },
  {
   "cell_type": "code",
   "execution_count": 30,
   "metadata": {},
   "outputs": [],
   "source": [
    "# sostituire al valore 'Liguria' nella colonna region con 'liguria'\n",
    "df['region'] = df['region'].replace('Liguria', 'liguria')"
   ]
  },
  {
   "cell_type": "code",
   "execution_count": 32,
   "metadata": {},
   "outputs": [
    {
     "data": {
      "text/plain": [
       "Text(0.5, 1.0, 'Squared meters')"
      ]
     },
     "execution_count": 32,
     "metadata": {},
     "output_type": "execute_result"
    },
    {
     "data": {
      "image/png": "[encoded data removed]",
      "text/plain": [
       "<Figure size 640x480 with 1 Axes>"
      ]
     },
     "metadata": {},
     "output_type": "display_data"
    }
   ],
   "source": [
    "# sq. meters\n",
    "plt.hist(df['surface'], bins=50)\n",
    "plt.title(\"Squared meters\")"
   ]
  },
  {
   "cell_type": "code",
   "execution_count": 27,
   "metadata": {},
   "outputs": [
    {
     "data": {
      "text/plain": [
       "1    34503\n",
       "0    15542\n",
       "Name: furnished, dtype: int64"
      ]
     },
     "execution_count": 27,
     "metadata": {},
     "output_type": "execute_result"
    }
   ],
   "source": [
    "# furnished\n",
    "df['furnished'].value_counts()"
   ]
  },
  {
   "cell_type": "code",
   "execution_count": 28,
   "metadata": {},
   "outputs": [
    {
     "data": {
      "text/plain": [
       "Text(0.5, 1.0, 'Flat type')"
      ]
     },
     "execution_count": 28,
     "metadata": {},
     "output_type": "execute_result"
    },
    {
     "data": {
      "image/png": "[encoded data removed]",
      "text/plain": [
       "<Figure size 640x480 with 1 Axes>"
      ]
     },
     "metadata": {},
     "output_type": "display_data"
    }
   ],
   "source": [
    "# type of building \n",
    "types = {\n",
    "    \"Apartaments\": len(df.loc[df['apartment']==1]), \n",
    "    \"Villa\": len(df.loc[df['villa']==1]),\n",
    "    \"Attic\": len(df.loc[df['attic']==1]) + len(df.loc[df['mansard']==1]),\n",
    "    \"Loft\": len(df.loc[df['lofts']==1]),\n",
    "}\n",
    "\n",
    "plt.bar(types.keys(), types.values())\n",
    "plt.title(\"Flat type\")"
   ]
  },
  {
   "cell_type": "code",
   "execution_count": 33,
   "metadata": {},
   "outputs": [
    {
     "data": {
      "text/plain": [
       "Text(0, 0.5, 'Region')"
      ]
     },
     "execution_count": 33,
     "metadata": {},
     "output_type": "execute_result"
    },
    {
     "data": {
      "image/png": "[encoded data removed]",
      "text/plain": [
       "<Figure size 640x480 with 1 Axes>"
      ]
     },
     "metadata": {},
     "output_type": "display_data"
    }
   ],
   "source": [
    "## price by region  \n",
    "price_by_regione = df['price'].groupby(df[\"region\"]).mean().sort_values(ascending=True)\n",
    "fig1, ax = plt.subplots()\n",
    "ax.barh(price_by_regione.index, price_by_regione, )\n",
    "ax.set_title(f\"ITALIAN RENTS:\\n Price by Region\")\n",
    "ax.set_xlabel(\"Euros\")\n",
    "ax.set_ylabel(\"Region\") "
   ]
  },
  {
   "cell_type": "code",
   "execution_count": 34,
   "metadata": {},
   "outputs": [],
   "source": [
    "# get centroids coordinates from geojsons\n",
    "def get_area_centroids(geo_file):\n",
    "    coords = gpd.read_file(geo_file)\n",
    "    centroids = [c for c in coords['geometry'].centroid]\n",
    "    lon = [l.coords[0][0] for l in centroids]\n",
    "    lat = [l.coords[0][1] for l in centroids]\n",
    "    coords['lat'], coords['lon'] = lat, lon\n",
    "    return coords"
   ]
  },
  {
   "cell_type": "code",
   "execution_count": 35,
   "metadata": {},
   "outputs": [],
   "source": [
    "region_json = path + '/limits_IT_regions.geojson'\n",
    "prov_json = path + '/limits_IT_provinces.geojson'\n",
    "municipalities_json = path + '/limits_IT_municipalities.geojson'\n",
    "\n",
    "region_coords = get_area_centroids(region_json)\n",
    "provinces_coords = get_area_centroids(prov_json)\n",
    "municipalities_coords = get_area_centroids(municipalities_json)"
   ]
  },
  {
   "cell_type": "code",
   "execution_count": 37,
   "metadata": {},
   "outputs": [
    {
     "ename": "ValueError",
     "evalue": "Mime type rendering requires nbformat>=4.2.0 but it is not installed",
     "output_type": "error",
     "traceback": [
      "\u001b[0;31m---------------------------------------------------------------------------\u001b[0m",
      "\u001b[0;31mValueError\u001b[0m                                Traceback (most recent call last)",
      "\u001b[1;32m/home/onizuka-host/Zoho WorkDrive (Catalano Consulenze Tecniche)/My Folders/Documenti personali_/Corsi/Scuola di Python con Jensen/Esercizi/jensen/Tillämpad AI, datautvinning, maskininlärning och deep learning/ML/Esercitazioni/italy price house.ipynb Cell 23\u001b[0m in \u001b[0;36m2\n\u001b[1;32m     <a href='vscode-notebook-cell:/home/onizuka-host/Zoho%20WorkDrive%20%28Catalano%20Consulenze%20Tecniche%29/My%20Folders/Documenti%20personali_/Corsi/Scuola%20di%20Python%20con%20Jensen/Esercizi/jensen/Till%C3%A4mpad%20AI%2C%20datautvinning%2C%20maskininl%C3%A4rning%20och%20deep%20learning/ML/Esercitazioni/italy%20price%20house.ipynb#X35sZmlsZQ%3D%3D?line=21'>22</a>\u001b[0m fig\u001b[39m.\u001b[39mupdate_layout(mapbox_style\u001b[39m=\u001b[39m\u001b[39m\"\u001b[39m\u001b[39mopen-street-map\u001b[39m\u001b[39m\"\u001b[39m)\n\u001b[1;32m     <a href='vscode-notebook-cell:/home/onizuka-host/Zoho%20WorkDrive%20%28Catalano%20Consulenze%20Tecniche%29/My%20Folders/Documenti%20personali_/Corsi/Scuola%20di%20Python%20con%20Jensen/Esercizi/jensen/Till%C3%A4mpad%20AI%2C%20datautvinning%2C%20maskininl%C3%A4rning%20och%20deep%20learning/ML/Esercitazioni/italy%20price%20house.ipynb#X35sZmlsZQ%3D%3D?line=22'>23</a>\u001b[0m fig\u001b[39m.\u001b[39mupdate_layout(margin\u001b[39m=\u001b[39m{\u001b[39m\"\u001b[39m\u001b[39mr\u001b[39m\u001b[39m\"\u001b[39m:\u001b[39m5\u001b[39m,\u001b[39m\"\u001b[39m\u001b[39mt\u001b[39m\u001b[39m\"\u001b[39m:\u001b[39m0\u001b[39m,\u001b[39m\"\u001b[39m\u001b[39ml\u001b[39m\u001b[39m\"\u001b[39m:\u001b[39m0\u001b[39m,\u001b[39m\"\u001b[39m\u001b[39mb\u001b[39m\u001b[39m\"\u001b[39m:\u001b[39m0\u001b[39m})\n\u001b[0;32m---> <a href='vscode-notebook-cell:/home/onizuka-host/Zoho%20WorkDrive%20%28Catalano%20Consulenze%20Tecniche%29/My%20Folders/Documenti%20personali_/Corsi/Scuola%20di%20Python%20con%20Jensen/Esercizi/jensen/Till%C3%A4mpad%20AI%2C%20datautvinning%2C%20maskininl%C3%A4rning%20och%20deep%20learning/ML/Esercitazioni/italy%20price%20house.ipynb#X35sZmlsZQ%3D%3D?line=23'>24</a>\u001b[0m fig\u001b[39m.\u001b[39;49mshow()\n",
      "File \u001b[0;32m~/.local/lib/python3.10/site-packages/plotly/basedatatypes.py:3409\u001b[0m, in \u001b[0;36mBaseFigure.show\u001b[0;34m(self, *args, **kwargs)\u001b[0m\n\u001b[1;32m   3376\u001b[0m \u001b[39m\"\"\"\u001b[39;00m\n\u001b[1;32m   3377\u001b[0m \u001b[39mShow a figure using either the default renderer(s) or the renderer(s)\u001b[39;00m\n\u001b[1;32m   3378\u001b[0m \u001b[39mspecified by the renderer argument\u001b[39;00m\n\u001b[0;32m   (...)\u001b[0m\n\u001b[1;32m   3405\u001b[0m \u001b[39mNone\u001b[39;00m\n\u001b[1;32m   3406\u001b[0m \u001b[39m\"\"\"\u001b[39;00m\n\u001b[1;32m   3407\u001b[0m \u001b[39mimport\u001b[39;00m \u001b[39mplotly\u001b[39;00m\u001b[39m.\u001b[39;00m\u001b[39mio\u001b[39;00m \u001b[39mas\u001b[39;00m \u001b[39mpio\u001b[39;00m\n\u001b[0;32m-> 3409\u001b[0m \u001b[39mreturn\u001b[39;00m pio\u001b[39m.\u001b[39;49mshow(\u001b[39mself\u001b[39;49m, \u001b[39m*\u001b[39;49margs, \u001b[39m*\u001b[39;49m\u001b[39m*\u001b[39;49mkwargs)\n",
      "File \u001b[0;32m~/.local/lib/python3.10/site-packages/plotly/io/_renderers.py:396\u001b[0m, in \u001b[0;36mshow\u001b[0;34m(fig, renderer, validate, **kwargs)\u001b[0m\n\u001b[1;32m    391\u001b[0m         \u001b[39mraise\u001b[39;00m \u001b[39mValueError\u001b[39;00m(\n\u001b[1;32m    392\u001b[0m             \u001b[39m\"\u001b[39m\u001b[39mMime type rendering requires ipython but it is not installed\u001b[39m\u001b[39m\"\u001b[39m\n\u001b[1;32m    393\u001b[0m         )\n\u001b[1;32m    395\u001b[0m     \u001b[39mif\u001b[39;00m \u001b[39mnot\u001b[39;00m nbformat \u001b[39mor\u001b[39;00m Version(nbformat\u001b[39m.\u001b[39m__version__) \u001b[39m<\u001b[39m Version(\u001b[39m\"\u001b[39m\u001b[39m4.2.0\u001b[39m\u001b[39m\"\u001b[39m):\n\u001b[0;32m--> 396\u001b[0m         \u001b[39mraise\u001b[39;00m \u001b[39mValueError\u001b[39;00m(\n\u001b[1;32m    397\u001b[0m             \u001b[39m\"\u001b[39m\u001b[39mMime type rendering requires nbformat>=4.2.0 but it is not installed\u001b[39m\u001b[39m\"\u001b[39m\n\u001b[1;32m    398\u001b[0m         )\n\u001b[1;32m    400\u001b[0m     ipython_display\u001b[39m.\u001b[39mdisplay(bundle, raw\u001b[39m=\u001b[39m\u001b[39mTrue\u001b[39;00m)\n\u001b[1;32m    402\u001b[0m \u001b[39m# external renderers\u001b[39;00m\n",
      "\u001b[0;31mValueError\u001b[0m: Mime type rendering requires nbformat>=4.2.0 but it is not installed"
     ]
    }
   ],
   "source": [
    "# group by municipality\n",
    "prices_by_province = df.merge(provinces_coords, left_on='city', right_on='prov_name', how='left')\n",
    "prices_by_province = prices_by_province.groupby([\"city\", \"lat\", \"lon\"]).agg({'price': 'mean'}).reset_index().sort_values(by=['price'], ascending=True)\n",
    "prices_by_province = prices_by_province[['city', 'lat', 'lon', 'price']]\n",
    "prices_by_province = prices_by_province.dropna(subset=['lat', 'lon'])\n",
    "\n",
    "# plot\n",
    "fig = px.scatter_mapbox(\n",
    "    prices_by_province, lat=\"lat\", lon=\"lon\",\n",
    "    hover_name=\"city\",\n",
    "    hover_data=[\"price\"],\n",
    "    color=\"price\",\n",
    "    color_continuous_scale=\"turbo\",\n",
    "    range_color=(0, 2000),\n",
    "    size=\"price\",\n",
    "    zoom=5,\n",
    "    center=dict(lat=41.8719, lon=12.5674),\n",
    "    opacity=0.5,\n",
    "    labels={'price': 'Price in €'},\n",
    "    height=700, width=700\n",
    "                        )\n",
    "fig.update_layout(mapbox_style=\"open-street-map\")\n",
    "fig.update_layout(margin={\"r\":5,\"t\":0,\"l\":0,\"b\":0})\n",
    "fig.show()"
   ]
  }
 ],
 "metadata": {
  "kernelspec": {
   "display_name": "Python 3",
   "language": "python",
   "name": "python3"
  },
  "language_info": {
   "codemirror_mode": {
    "name": "ipython",
    "version": 3
   },
   "file_extension": ".py",
   "mimetype": "text/x-python",
   "name": "python",
   "nbconvert_exporter": "python",
   "pygments_lexer": "ipython3",
   "version": "3.10.6"
  },
  "orig_nbformat": 4
 },
 "nbformat": 4,
 "nbformat_minor": 2
}
