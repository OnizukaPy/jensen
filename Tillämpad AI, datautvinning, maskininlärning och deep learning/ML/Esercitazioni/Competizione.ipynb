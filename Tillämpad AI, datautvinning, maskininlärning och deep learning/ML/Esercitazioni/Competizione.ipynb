{
 "cells": [
  {
   "cell_type": "code",
   "execution_count": 1,
   "metadata": {},
   "outputs": [],
   "source": [
    "# questo script è stato creato per la competizione di kaggle\n",
    "# importiamo la libreria per l´autenticazione\n",
    "from autenticazione.autenticazione import start_kaggle\n",
    "start_kaggle()\n"
   ]
  },
  {
   "cell_type": "code",
   "execution_count": 4,
   "metadata": {},
   "outputs": [
    {
     "name": "stdout",
     "output_type": "stream",
     "text": [
      "[https://www.kaggle.com/competitions/icr-identify-age-related-conditions, https://www.kaggle.com/competitions/predict-student-performance-from-game-play, https://www.kaggle.com/competitions/benetech-making-graphs-accessible, https://www.kaggle.com/competitions/godaddy-microbusiness-density-forecasting]\n"
     ]
    }
   ],
   "source": [
    "# scarichiamo il dataset delle competizioni di kaggle\n",
    "import kaggle\n",
    "\n",
    "# scarichiamo il dataset\n",
    "competitions = kaggle.api.competitions_list(category='featured')\n",
    "\n",
    "print(competitions)"
   ]
  },
  {
   "cell_type": "code",
   "execution_count": 5,
   "metadata": {},
   "outputs": [
    {
     "name": "stdout",
     "output_type": "stream",
     "text": [
      "https://www.kaggle.com/competitions/icr-identify-age-related-conditions,$60,000,0\n",
      "https://www.kaggle.com/competitions/predict-student-performance-from-game-play,$55,000,0\n",
      "https://www.kaggle.com/competitions/benetech-making-graphs-accessible,$50,000,0\n",
      "https://www.kaggle.com/competitions/godaddy-microbusiness-density-forecasting,$60,000,0\n"
     ]
    }
   ],
   "source": [
    "for comp in competitions:\n",
    "    print(comp.ref,comp.reward,comp.userRank,sep=',')"
   ]
  },
  {
   "cell_type": "code",
   "execution_count": 3,
   "metadata": {},
   "outputs": [
    {
     "data": {
      "text/html": [
       "<div>\n",
       "<style scoped>\n",
       "    .dataframe tbody tr th:only-of-type {\n",
       "        vertical-align: middle;\n",
       "    }\n",
       "\n",
       "    .dataframe tbody tr th {\n",
       "        vertical-align: top;\n",
       "    }\n",
       "\n",
       "    .dataframe thead th {\n",
       "        text-align: right;\n",
       "    }\n",
       "</style>\n",
       "<table border=\"1\" class=\"dataframe\">\n",
       "  <thead>\n",
       "    <tr style=\"text-align: right;\">\n",
       "      <th></th>\n",
       "      <th>0</th>\n",
       "    </tr>\n",
       "  </thead>\n",
       "  <tbody>\n",
       "    <tr>\n",
       "      <th>0</th>\n",
       "      <td>https://www.kaggle.com/competitions/icr-identi...</td>\n",
       "    </tr>\n",
       "    <tr>\n",
       "      <th>1</th>\n",
       "      <td>https://www.kaggle.com/competitions/predict-st...</td>\n",
       "    </tr>\n",
       "    <tr>\n",
       "      <th>2</th>\n",
       "      <td>https://www.kaggle.com/competitions/benetech-m...</td>\n",
       "    </tr>\n",
       "    <tr>\n",
       "      <th>3</th>\n",
       "      <td>https://www.kaggle.com/competitions/godaddy-mi...</td>\n",
       "    </tr>\n",
       "  </tbody>\n",
       "</table>\n",
       "</div>"
      ],
      "text/plain": [
       "                                                   0\n",
       "0  https://www.kaggle.com/competitions/icr-identi...\n",
       "1  https://www.kaggle.com/competitions/predict-st...\n",
       "2  https://www.kaggle.com/competitions/benetech-m...\n",
       "3  https://www.kaggle.com/competitions/godaddy-mi..."
      ]
     },
     "execution_count": 3,
     "metadata": {},
     "output_type": "execute_result"
    }
   ],
   "source": [
    "# visualizziamo il dataset in un dataframe\n",
    "import pandas as pd\n",
    "competitions = pd.DataFrame(competitions)"
   ]
  }
 ],
 "metadata": {
  "kernelspec": {
   "display_name": "Python 3",
   "language": "python",
   "name": "python3"
  },
  "language_info": {
   "codemirror_mode": {
    "name": "ipython",
    "version": 3
   },
   "file_extension": ".py",
   "mimetype": "text/x-python",
   "name": "python",
   "nbconvert_exporter": "python",
   "pygments_lexer": "ipython3",
   "version": "3.10.6"
  },
  "orig_nbformat": 4
 },
 "nbformat": 4,
 "nbformat_minor": 2
}
