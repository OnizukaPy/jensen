{
 "cells": [
  {
   "cell_type": "code",
   "execution_count": 5,
   "metadata": {},
   "outputs": [],
   "source": [
    "from autenticazione.autenticazione import start_kaggle\n",
    "start_kaggle()\n"
   ]
  },
  {
   "cell_type": "code",
   "execution_count": 6,
   "metadata": {},
   "outputs": [],
   "source": [
    "# Secondo passo: Download del dataset\n",
    "# Visualizzare la lista dei dataset\n",
    "import kaggle\n",
    "\n",
    "key_search = \"dog\"\n",
    "datasets = kaggle.api.datasets_list(search=key_search)"
   ]
  },
  {
   "cell_type": "code",
   "execution_count": 7,
   "metadata": {},
   "outputs": [
    {
     "name": "stdout",
     "output_type": "stream",
     "text": [
      "tongpython/cat-and-dog\n",
      "dansbecker/hot-dog-not-hot-dog\n",
      "jessicali9530/stanford-dogs-dataset\n",
      "marshuu/dog-breeds\n",
      "shaunthesheep/microsoft-catsvsdogs-dataset\n",
      "andrewmvd/dog-and-cat-detection\n",
      "danielshanbalico/dog-emotion\n",
      "whenamancodes/dog-adoption\n",
      "chetankv/dogs-cats-images\n",
      "dhruvildave/dogecoin-historical-data\n",
      "mmoreaux/audio-cats-and-dogs\n",
      "devzohaib/dog-emotions-prediction\n",
      "kingburrito666/largest-dog-breed-data-set\n",
      "d4rklucif3r/cat-and-dogs\n",
      "arpitjain007/dog-vs-cat-fastai\n",
      "mohamedchahed/dog-breeds\n",
      "new-york-city/nyc-dog-names\n",
      "gpiosenka/70-dog-breedsimage-data-set\n",
      "kmader/dogs-of-zurich\n",
      "biaiscience/dogs-vs-cats\n"
     ]
    }
   ],
   "source": [
    "# stampo la lista dei dataset\n",
    "# la lista di dataset è una lista di dizionari, il cui valore di owner e' contenuto nella key 'ref'\n",
    "for dataset in datasets:\n",
    "    print(dataset['ref'])"
   ]
  },
  {
   "cell_type": "code",
   "execution_count": 24,
   "metadata": {},
   "outputs": [],
   "source": [
    "# scelgo il dataset che mi interessa e lo scarico\n",
    "# imposto il path in cui scaricare il dataset\n",
    "# path = os.path.dirname(os.path.abspath(__file__)) + '/dataset' su juptyer notebook non funziona\n",
    "# usare invece sys.path[0] + '/dataset' con la libreria sys\n",
    "import sys\n",
    "path = sys.path[0] + '/dataset'\n",
    "\n",
    "# scelgo il dataset che mi interessa\n",
    "dt_scelto = 'new-york-city/nyc-dog-names'\n",
    "\n",
    "list_file = []\n",
    "file_name = kaggle.api.dataset_list_files(dt_scelto).files\n",
    "for i in file_name:\n",
    "    if '.csv' in str(i):\n",
    "        list_file.append(i)\n",
    "\n",
    "# scarico il dataset\n",
    "kaggle.api.dataset_download_files(dt_scelto, path=path, unzip=True)"
   ]
  },
  {
   "cell_type": "code",
   "execution_count": 25,
   "metadata": {},
   "outputs": [
    {
     "name": "stdout",
     "output_type": "stream",
     "text": [
      "0 dogNames2.csv\n"
     ]
    }
   ],
   "source": [
    "# ispeziono il dataset\n",
    "# creo un dataframe con il dataset\n",
    "import pandas as pd\n",
    "\n",
    "for i in range(len(list_file)):\n",
    "    print(i, list_file[i])\n",
    "\n",
    "choise = int(input('Scegli il file da aprire: '))\n",
    "df = pd.read_csv(path + '/' + str(list_file[choise]))\n"
   ]
  },
  {
   "cell_type": "code",
   "execution_count": 26,
   "metadata": {},
   "outputs": [
    {
     "data": {
      "text/html": [
       "<div>\n",
       "<style scoped>\n",
       "    .dataframe tbody tr th:only-of-type {\n",
       "        vertical-align: middle;\n",
       "    }\n",
       "\n",
       "    .dataframe tbody tr th {\n",
       "        vertical-align: top;\n",
       "    }\n",
       "\n",
       "    .dataframe thead th {\n",
       "        text-align: right;\n",
       "    }\n",
       "</style>\n",
       "<table border=\"1\" class=\"dataframe\">\n",
       "  <thead>\n",
       "    <tr style=\"text-align: right;\">\n",
       "      <th></th>\n",
       "      <th>Row_Labels</th>\n",
       "      <th>Count_AnimalName</th>\n",
       "    </tr>\n",
       "  </thead>\n",
       "  <tbody>\n",
       "    <tr>\n",
       "      <th>0</th>\n",
       "      <td>1</td>\n",
       "      <td>1</td>\n",
       "    </tr>\n",
       "    <tr>\n",
       "      <th>1</th>\n",
       "      <td>2</td>\n",
       "      <td>2</td>\n",
       "    </tr>\n",
       "    <tr>\n",
       "      <th>2</th>\n",
       "      <td>40804</td>\n",
       "      <td>1</td>\n",
       "    </tr>\n",
       "    <tr>\n",
       "      <th>3</th>\n",
       "      <td>90201</td>\n",
       "      <td>1</td>\n",
       "    </tr>\n",
       "    <tr>\n",
       "      <th>4</th>\n",
       "      <td>90203</td>\n",
       "      <td>1</td>\n",
       "    </tr>\n",
       "  </tbody>\n",
       "</table>\n",
       "</div>"
      ],
      "text/plain": [
       "  Row_Labels  Count_AnimalName\n",
       "0          1                 1\n",
       "1          2                 2\n",
       "2      40804                 1\n",
       "3      90201                 1\n",
       "4      90203                 1"
      ]
     },
     "execution_count": 26,
     "metadata": {},
     "output_type": "execute_result"
    }
   ],
   "source": [
    "df.head()   # stampo le prime 5 righe del dataframe"
   ]
  },
  {
   "cell_type": "code",
   "execution_count": 27,
   "metadata": {},
   "outputs": [],
   "source": [
    "# eliminiamo le righe con valori nulli\n",
    "df = df.dropna()"
   ]
  },
  {
   "cell_type": "code",
   "execution_count": 54,
   "metadata": {},
   "outputs": [],
   "source": [
    "# eliminiamo le righe della prima colonna che contengono valore diverso da stringhe\n",
    "# verifichiamo per ogni riga della prima colonna se il valore può essere convertito in numero\n",
    "# se si, allora la riga viene eliminata\n",
    "import numpy as np\n",
    "for i in range(len(df)):\n",
    "    try:\n",
    "        df.iloc[i, 0] = float(df.iloc[i, 0])\n",
    "    except:\n",
    "        pass\n",
    "    try:\n",
    "        if type(df.iloc[i, 0]) != str:\n",
    "            df.iloc[i, 0] = np.nan  \n",
    "    except:\n",
    "        pass\n",
    "\n",
    "# eliminiamo le righe con valori nulli\n",
    "df = df.dropna()"
   ]
  },
  {
   "cell_type": "code",
   "execution_count": 55,
   "metadata": {},
   "outputs": [
    {
     "data": {
      "text/html": [
       "<div>\n",
       "<style scoped>\n",
       "    .dataframe tbody tr th:only-of-type {\n",
       "        vertical-align: middle;\n",
       "    }\n",
       "\n",
       "    .dataframe tbody tr th {\n",
       "        vertical-align: top;\n",
       "    }\n",
       "\n",
       "    .dataframe thead th {\n",
       "        text-align: right;\n",
       "    }\n",
       "</style>\n",
       "<table border=\"1\" class=\"dataframe\">\n",
       "  <thead>\n",
       "    <tr style=\"text-align: right;\">\n",
       "      <th></th>\n",
       "      <th>Row_Labels</th>\n",
       "      <th>Count_AnimalName</th>\n",
       "    </tr>\n",
       "  </thead>\n",
       "  <tbody>\n",
       "    <tr>\n",
       "      <th>7</th>\n",
       "      <td>MARCH</td>\n",
       "      <td>2</td>\n",
       "    </tr>\n",
       "    <tr>\n",
       "      <th>8</th>\n",
       "      <td>APRIL</td>\n",
       "      <td>51</td>\n",
       "    </tr>\n",
       "    <tr>\n",
       "      <th>9</th>\n",
       "      <td>AUGUST</td>\n",
       "      <td>14</td>\n",
       "    </tr>\n",
       "    <tr>\n",
       "      <th>10</th>\n",
       "      <td>DECEMBER</td>\n",
       "      <td>4</td>\n",
       "    </tr>\n",
       "    <tr>\n",
       "      <th>11</th>\n",
       "      <td>SUNDAY</td>\n",
       "      <td>13</td>\n",
       "    </tr>\n",
       "  </tbody>\n",
       "</table>\n",
       "</div>"
      ],
      "text/plain": [
       "   Row_Labels  Count_AnimalName\n",
       "7       MARCH                 2\n",
       "8       APRIL                51\n",
       "9      AUGUST                14\n",
       "10   DECEMBER                 4\n",
       "11     SUNDAY                13"
      ]
     },
     "execution_count": 55,
     "metadata": {},
     "output_type": "execute_result"
    }
   ],
   "source": [
    "df.head()"
   ]
  }
 ],
 "metadata": {
  "kernelspec": {
   "display_name": "Python 3",
   "language": "python",
   "name": "python3"
  },
  "language_info": {
   "codemirror_mode": {
    "name": "ipython",
    "version": 3
   },
   "file_extension": ".py",
   "mimetype": "text/x-python",
   "name": "python",
   "nbconvert_exporter": "python",
   "pygments_lexer": "ipython3",
   "version": "3.10.6"
  },
  "orig_nbformat": 4
 },
 "nbformat": 4,
 "nbformat_minor": 2
}
