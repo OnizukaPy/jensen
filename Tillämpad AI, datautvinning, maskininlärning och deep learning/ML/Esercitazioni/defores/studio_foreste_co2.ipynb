{
 "cells": [
  {
   "attachments": {},
   "cell_type": "markdown",
   "metadata": {},
   "source": [
    "Misurazioni di CO2\n",
    "- https://gml.noaa.gov/aftp/data/trace_gases/co2/pfp/surface/co2_surface-pfp_1_ccgg_ASCIItext.zip\n",
    "- https://gml.noaa.gov/webdata/ccgg/trends/co2/co2_mm_mlo.csv\n",
    "\n",
    "crescita della popolazione\n",
    "https://population.un.org/wpp/Download/Files/1_Indicators%20(Standard)/EXCEL_FILES/1_General/WPP2022_GEN_F01_DEMOGRAPHIC_INDICATORS_COMPACT_REV1.xlsx\n",
    "\n",
    "deforestazione\n",
    "- https://ourworldindata.org/deforestation\n",
    "- blob:https://ourworldindata.org/dd888c14-a03c-4337-8bce-80b500645beb\n",
    "- blob:https://ourworldindata.org/93fbc00d-961c-48e5-aead-5e66b944adb8\n",
    "- blob:https://ourworldindata.org/7606fe55-a2bf-4756-a1b4-2d0743bdbf74"
   ]
  },
  {
   "attachments": {},
   "cell_type": "markdown",
   "metadata": {},
   "source": [
    "STUDIO DI CORRELAZIONE TRA LA DEFORESTAZIONE LA CO2 E LA CRESCITA DELLA POPOLAZIONE"
   ]
  },
  {
   "cell_type": "code",
   "execution_count": null,
   "metadata": {},
   "outputs": [],
   "source": [
    "# importiamo le librerie necessarie per il nostro studio\n",
    "import pandas as pd\n",
    "import numpy as np\n",
    "import matplotlib.pyplot as plt\n",
    "import seaborn as sns\n",
    "\n",
    "# configuriamo le impostazioni di visualizzazione\n",
    "sns.set_style('whitegrid')\n",
    "sns.set_palette('Set2')\n",
    "\n",
    "# importiamo le librerie di sistema\n",
    "import os\n",
    "import sys\n",
    "import csv\n",
    "\n"
   ]
  },
  {
   "cell_type": "code",
   "execution_count": null,
   "metadata": {},
   "outputs": [],
   "source": [
    "# creiamo il percorso di path \n",
    "path = sys.path[0] + '/'\n",
    "\n",
    "# muoviamoci indietro di una cartella\n",
    "dataset_path = os.path.abspath(os.path.join(path, os.pardir))\n",
    "\n",
    "# creiamo il percorso della cartella di lavoro dei dataset\n",
    "work_dir = dataset_path + '/dataset/defores/'\n",
    "\n",
    "\n",
    "print(work_dir)\n",
    "print(path)"
   ]
  },
  {
   "attachments": {},
   "cell_type": "markdown",
   "metadata": {},
   "source": [
    "COMINCIAMO CON CREARE UN UNICO DATASET CON LA MEDIA DEI VALORI DI CO2 DELLE VARIE STAZIONI DI MISURAZIONE\n",
    "DIVISE PER ANNO"
   ]
  },
  {
   "cell_type": "code",
   "execution_count": null,
   "metadata": {},
   "outputs": [],
   "source": [
    "# crea una lista di file nella cartella di lavoro dei dataset\n",
    "file_list = os.listdir(work_dir + 'txt/')\n",
    "print(file_list)\n",
    "\n",
    "# Creiamo una funzione per convertire i file txt in csv andando a prendere i dati a partire dalla riga dove \n",
    "# cominciano i dati veri e propri\n",
    "def convert_txt_to_csv(file_name):\n",
    "    # leggiamo il file txt\n",
    "    with open(work_dir + 'txt/' + file_name, 'r') as in_file:\n",
    "        stripped = (line.strip() for line in in_file)\n",
    "        lines = (line.split(\",\") for line in stripped if line)\n",
    "\n",
    "        # creiamo una lista delle righe\n",
    "        file = []\n",
    "        for line in lines:\n",
    "            file.append(line)\n",
    "        \n",
    "        # nella prima riga di ogni file txt è presente il numero della righe di heater\n",
    "        header = int(file[0][0].split()[-1])\n",
    "\n",
    "        # creiamo il file csv a partire dalla riga header -1 perchè la numerazione delle righe parte da 0\n",
    "        with open(work_dir + 'csv/' + file_name.replace('.txt', '.csv'), 'w') as out_file:\n",
    "            writer = csv.writer(out_file)\n",
    "            writer.writerows(file[header-1:])\n",
    "\n",
    "# convertiamo tutti i file txt in csv\n",
    "for i in file_list:\n",
    "    convert_txt_to_csv(i)\n",
    "\n",
    "# creiamo una lista dei file csv\n",
    "csv_list = os.listdir(work_dir + 'csv/')\n",
    "\n",
    "# creiamo una funzione per creare un dataframe con i dati di tutti i dataset\n",
    "def create_df(file_list):\n",
    "    # creiamo l'oggetto dataframe\n",
    "    df = pd.DataFrame()\n",
    "\n",
    "    # creiamo un ciclo for per leggere tutti i file csv e creare un dataframe con i dati\n",
    "    for i in file_list:\n",
    "        df_temp = pd.read_csv(work_dir + 'csv/' + i, sep=' ')\n",
    "        # creiamo una colonna con il nome del dataset in modo poi da poterlo usare come chiave per il nome della colonna\n",
    "        name_data = df_temp['site_code'].unique()[0]\n",
    "        # ora estraiamo solo le colonne che ci interessano e cambiamo il nome della colonna value con il nome del dataset\n",
    "        df_temp = df_temp[['year', 'value']].copy()\n",
    "        df_temp = df_temp.rename(columns={'value': name_data})\n",
    "        # raggruppiamo per anno e calcoliamo la media dei valori\n",
    "        df_temp = df_temp.groupby('year').mean()\n",
    "        # uniamo i dataframe\n",
    "        df = pd.concat([df, df_temp], axis=1)\n",
    "        # rinominiamo la colonna con la media dei valori\n",
    "        df['CO2'] = df.mean(axis=1)\n",
    "        # ordina le righe in ordine numerico crescente \n",
    "        df = df.sort_index()\n",
    "\n",
    "    return df['CO2']\n",
    "\n",
    "df = create_df(csv_list)\n",
    "df.to_csv(work_dir + '/CO2.csv')"
   ]
  },
  {
   "cell_type": "code",
   "execution_count": null,
   "metadata": {},
   "outputs": [],
   "source": [
    "df1 = pd.read_csv(work_dir + '/co2_mm_mlo.csv')\n",
    "df1 = df1[['year', 'average']]\n",
    "df1.rename(columns={'average': 'CO2'}, inplace=True)\n",
    "df1 = df1.groupby('year').mean()\n",
    "df1.to_csv(work_dir + '/CO2_1.csv')\n"
   ]
  },
  {
   "attachments": {},
   "cell_type": "markdown",
   "metadata": {},
   "source": [
    "ORA ANALIZIAMO IL DATASET DELL'ANDAMENTO DELLA CRESCITA DELLA POPOLAZIONE"
   ]
  },
  {
   "cell_type": "code",
   "execution_count": null,
   "metadata": {},
   "outputs": [],
   "source": [
    "# creiamo una lista di file nella cartella di lavoro dei dataset\n",
    "dataset_list = os.listdir(work_dir)"
   ]
  },
  {
   "cell_type": "code",
   "execution_count": null,
   "metadata": {},
   "outputs": [],
   "source": [
    "pop_list = []\n",
    "for i in dataset_list:\n",
    "    #print(i)\n",
    "    if 'WPP' in i: \n",
    "        pop_list.append(i)\n",
    "\n",
    "df = pd.read_csv(work_dir + pop_list[0], encoding='latin-1')\n",
    "\n",
    "# estraiamo l'elenco delle colonne che ci interessano\n",
    "col = [\n",
    "    'Year',\n",
    "    'Total Population, as of 1 July (thousands)', \n",
    "    'Population Density, as of 1 July (persons per square km)'    \n",
    "    ]\n",
    "\n",
    "# creiamo un dataframe con i dati che ci interessano\n",
    "df = df[col].copy()\n",
    "\n",
    "# rinominiamo le colonne\n",
    "df.rename(columns={\n",
    "    'Year': 'year', \n",
    "    'Total Population, as of 1 July (thousands)': 'pop', \n",
    "    'Population Density, as of 1 July (persons per square km)': 'pop_density'}, \n",
    "    inplace=True)\n",
    "\n",
    "# creiamo la colonna della superficie occupata dalla popolazione\n",
    "\n",
    "# convertiamo la colonna pop e pop_density in float\n",
    "df['pop'] = df['pop'].str.replace(' ', '').astype(float)\n",
    "df['pop_density'] = df['pop_density'].str.replace(',', '.').astype(float)\n",
    "df['pop_area'] = round(df['pop'] / df['pop_density'], 2)\n",
    "\n",
    "df.to_csv(work_dir + '/pop.csv')\n"
   ]
  },
  {
   "attachments": {},
   "cell_type": "markdown",
   "metadata": {},
   "source": [
    "ORA ANALIZZIAMO I DATASET DELLA DEFORESTAZIONE"
   ]
  },
  {
   "cell_type": "code",
   "execution_count": null,
   "metadata": {},
   "outputs": [],
   "source": [
    "forset_list = []\n",
    "for i in dataset_list:\n",
    "    #print(i)\n",
    "    if 'area' in i: \n",
    "        forset_list.append(i)"
   ]
  },
  {
   "cell_type": "code",
   "execution_count": null,
   "metadata": {},
   "outputs": [],
   "source": [
    "# analiziamo il secondo dataset che contiene i dati della foresta\n",
    "df2 = pd.read_csv(work_dir + '/' + forset_list[1], encoding='latin-1')\n",
    "df2 = df2[df2['Entity'] == 'World']\n",
    "df2.drop(columns=['Code', 'Entity'], inplace=True)\n",
    "df2.rename(columns={'Year': 'year', 'Forest cover': 'forest_area_%'}, inplace=True)\n",
    "df2.to_csv(work_dir + '/forest_area.csv')\n",
    "print(df2.head())"
   ]
  },
  {
   "attachments": {},
   "cell_type": "markdown",
   "metadata": {},
   "source": [
    "ORA UNIAMO I DATASET DELLA CRESCITA DELLA POPOLAZIONE E DELLA DEFORESTAZIONE E DELLA co2 E CERCHIAMO DI TROVARE UNA CORRELAZIONE"
   ]
  },
  {
   "cell_type": "code",
   "execution_count": null,
   "metadata": {},
   "outputs": [],
   "source": [
    "df1 = pd.read_csv(work_dir + '/CO2_1.csv').set_index('year')\n",
    "df1"
   ]
  },
  {
   "cell_type": "code",
   "execution_count": null,
   "metadata": {},
   "outputs": [],
   "source": [
    "# creiamo un dataframe con i dati che ci interessano\n",
    "#df1 = pd.read_csv(work_dir + '/CO2.csv').set_index('year')\n",
    "df1 = pd.read_csv(work_dir + '/CO2_1.csv').set_index('year')\n",
    "df2 = pd.read_csv(work_dir + '/pop.csv').drop(columns=['Unnamed: 0']).set_index('year')\n",
    "df3 = pd.read_csv(work_dir + '/forest_area.csv').drop(columns=['Unnamed: 0']).set_index('year')\n",
    "\n",
    "# uniamo i dataframe\n",
    "df = pd.concat([df1, df2, df3], axis=1).sort_index()\n",
    "df.drop(columns=['pop_density', 'pop_area'], inplace=True)\n",
    "\n",
    "# eliminiamo l'ultima riga che contiene i dati del 2021\n",
    "df = df[:-3]\n",
    "\n",
    "df.to_csv(work_dir + '/CO2_pop_forest.csv')"
   ]
  },
  {
   "cell_type": "code",
   "execution_count": null,
   "metadata": {},
   "outputs": [],
   "source": [
    "# calcoliamo la correlazione tra le varie colonne\n",
    "corr = df.corr()\n",
    "\n",
    "# creiamo una heatmap per visualizzare la correlazione\n",
    "plt.figure(figsize=(10, 10))\n",
    "sns.heatmap(corr, annot=True, cmap='coolwarm')\n",
    "plt.show()\n"
   ]
  },
  {
   "cell_type": "code",
   "execution_count": null,
   "metadata": {},
   "outputs": [],
   "source": [
    "# visualiziamo su un grafico con assi separati i dati relativi alla CO2 e alla popolazione e alla deforestazione\n",
    "fig, ax1 = plt.subplots(figsize=(15, 10))\n",
    "ax2 = ax1.twinx()\n",
    "ax3 = ax1.twinx()\n",
    "\n",
    "ax1.plot(df.index, df['CO2'], color='red', label='CO2')\n",
    "ax2.plot(df.index, df['pop'], color='blue', label='pop')\n",
    "ax3.plot(df.index, df['forest_area_%'], color='green', label='forest_area_%')\n",
    "\n",
    "ax1.set_xlabel('year')\n",
    "ax1.set_ylabel('CO2', color='red')\n",
    "ax2.set_ylabel('pop', color='blue')\n",
    "ax3.set_ylabel('forest_area_%', color='green')\n",
    "\n",
    "plt.show()"
   ]
  },
  {
   "cell_type": "code",
   "execution_count": null,
   "metadata": {},
   "outputs": [],
   "source": [
    "# vediamo le pairplot tra le varie colonne\n",
    "sns.pairplot(df)\n",
    "plt.show()"
   ]
  },
  {
   "cell_type": "code",
   "execution_count": null,
   "metadata": {},
   "outputs": [],
   "source": [
    "print(df.tail())"
   ]
  },
  {
   "cell_type": "code",
   "execution_count": null,
   "metadata": {},
   "outputs": [],
   "source": [
    "# facciamo una regressione lineare multipla per calcolare il valore della CO2 in base alla popolazione e alla deforestazione\n",
    "from sklearn.linear_model import LinearRegression\n",
    "\n",
    "# creiamo un oggetto LinearRegression\n",
    "lr = LinearRegression()\n",
    "\n",
    "# eliminiamo le righe con valori nulli\n",
    "df.dropna(inplace=True)\n",
    "\n",
    "# creiamo le variabili indipendenti e dipendenti\n",
    "X = df[['pop', 'forest_area_%']]\n",
    "y = df['CO2']\n",
    "\n",
    "# scaliamo i dati\n",
    "from sklearn.preprocessing import StandardScaler\n",
    "\n",
    "scaler = StandardScaler()\n",
    "X = scaler.fit_transform(X)\n",
    "y = scaler.fit_transform(y.values.reshape(-1, 1))\n",
    "\n",
    "# suddividiamo il dataset in train e test\n",
    "from sklearn.model_selection import train_test_split\n",
    "\n",
    "X_train, X_test, y_train, y_test = train_test_split(X, y, shuffle=False, test_size=0.2)\n",
    "\n",
    "# addestriamo il modello\n",
    "lr.fit(X_train, y_train)\n",
    "\n",
    "# facciamo le previsioni\n",
    "y_pred = lr.predict(X_test)\n",
    "\n",
    "# valutiamo il modello\n",
    "from sklearn.metrics import mean_squared_error, r2_score\n",
    "\n",
    "print('Mean squared error: %.2f' % mean_squared_error(y_test, y_pred))\n",
    "print('Coefficient of determination: %.2f' % r2_score(y_test, y_pred))\n",
    "\n",
    "\n"
   ]
  },
  {
   "attachments": {},
   "cell_type": "markdown",
   "metadata": {},
   "source": [
    " - Calcolare l'andamento della riduzione di foreste con una regressione polinomiale\n",
    " - aggiungere i dati mancanti della deforestazione al dataset della deforestazione \n",
    " - rimettere in grafico la deforestazione con i dati mancanti aggiunti"
   ]
  },
  {
   "attachments": {},
   "cell_type": "markdown",
   "metadata": {},
   "source": [
    "CALCOLIAMO CON UNA REGRESSIONE POLINOMIALE L'ANDAMENTO LA DIMINUZIONE DELLA FORESTAZIONE"
   ]
  },
  {
   "cell_type": "code",
   "execution_count": null,
   "metadata": {},
   "outputs": [],
   "source": [
    "# carichiamo il dataset della forestazione\n",
    "df_forests = pd.read_csv(work_dir + '/forest_area.csv').drop(columns=['Unnamed: 0'])"
   ]
  },
  {
   "cell_type": "code",
   "execution_count": null,
   "metadata": {},
   "outputs": [],
   "source": [
    "# carichiamo ora le librerie per la regressione lineare lineare e polinomiale, le metriche e la divisione del dataset\n",
    "from sklearn.linear_model import LinearRegression\n",
    "from sklearn.preprocessing import PolynomialFeatures\n",
    "from sklearn.metrics import mean_squared_error, r2_score\n",
    "from sklearn.model_selection import train_test_split\n",
    "\n",
    "# cominciamo a creare le variabili indipendenti e dipendenti\n",
    "X = df_forests['year'].values.reshape(-1, 1)\n",
    "y = df_forests['forest_area_%'].values.reshape(-1, 1)\n",
    "\n",
    "# dividiamo il dataset in train e test\n",
    "X_train, X_test, y_train, y_test = train_test_split(X, y, shuffle=False, test_size=0.2, random_state=42)\n",
    "\n",
    "# facciamo le previsione con il modello per gli anni tra il 1950 e il 1990\n",
    "x_pre = np.arange(1950, 1990).reshape(-1, 1)\n"
   ]
  },
  {
   "cell_type": "code",
   "execution_count": null,
   "metadata": {},
   "outputs": [],
   "source": [
    "# valutiamo una regressione lineare\n",
    "lr = LinearRegression()\n",
    "lr.fit(X_train, y_train)\n",
    "y_pred = lr.predict(X_test)\n",
    "\n",
    "# calcoliamo le metriche\n",
    "mse_lr = mean_squared_error(y_test, y_pred)\n",
    "r2_lr = r2_score(y_test, y_pred)\n",
    "\n",
    "# valutiamo la regressione lineare\n",
    "print('Mean squared error: %.2f' % mse_lr)\n",
    "print('Coefficient of determination: %.2f' % r2_lr)\n",
    "\n",
    "# creiamo un dataframe con i valori predetti e quelli reali\n",
    "df = pd.DataFrame({'Predicted': y.flatten()}, index=X.flatten())\n",
    "\n",
    "# sommiamo i valori predetti al dataframe\n",
    "y_pred_pre = lr.predict(x_pre)\n",
    "df_lr_pre = pd.DataFrame({'Predicted': y_pred_pre.flatten()}, index=x_pre.flatten())\n",
    "\n",
    "# concateniamo i due dataframe\n",
    "df_lr = pd.concat([df, df_lr_pre])\n",
    "\n",
    "# visualizziamo i dati\n",
    "plt.figure(figsize=(15, 10))\n",
    "plt.scatter(df_lr.index, df_lr['Predicted'], color='red', label='Actual')\n",
    "plt.legend()\n",
    "plt.show()"
   ]
  },
  {
   "cell_type": "code",
   "execution_count": null,
   "metadata": {},
   "outputs": [],
   "source": [
    "# usiamo numpy per creare un array con i valori predetti\n",
    "# https://runebook.dev/it/docs/numpy/reference/generated/numpy.polyfit\n",
    "\n",
    "import warnings\n",
    "\n",
    "x = np.arange(1950, 1990).reshape(-1, 1)\n",
    "\n",
    "error_list = [] \n",
    "for i in range(1, 4):\n",
    "    z = np.polyfit(X.flatten(), y.flatten(), i)\n",
    "    with warnings.catch_warnings():\n",
    "        warnings.simplefilter('ignore', np.RankWarning)\n",
    "        p30 = np.poly1d(z)\n",
    "        y_poly = p30(X)\n",
    "\n",
    "        # calcoliamo le metriche\n",
    "        mse = mean_squared_error(y, y_poly)\n",
    "        r2 = r2_score(y, y_poly)\n",
    "\n",
    "        # aggiungiamo i valori delle metriche alla lista\n",
    "        error_list.append([i, mse, r2])\n",
    "\n",
    "        # stampiamo le metriche\n",
    "        print('Order: ' + str(i))\n",
    "        print('Mean squared error: %.2f' % mse)\n",
    "        print('Coefficient of determination: ', r2)\n",
    "\n",
    "        plt.plot(X, y, '.', X, y_poly, '-', label='Order ' + str(i))\n",
    "        plt.legend()\n",
    "        plt.show()\n",
    "\n",
    "# calcoliamo il miglior valore di r2 e il suo indice nella lista\n",
    "r2_list = [i[2] for i in error_list]\n",
    "r2_max = max(r2_list)\n",
    "r2_max_index = r2_list.index(r2_max)\n",
    "\n",
    "# stampiamo il valore di r2 e l'ordine del polinomio\n",
    "best_r2 = r2_max\n",
    "best_degree = error_list[r2_max_index][0]\n",
    "\n",
    "print('Best r2: ', best_r2)\n",
    "print('Best degree: ', best_degree)"
   ]
  },
  {
   "cell_type": "code",
   "execution_count": 66,
   "metadata": {},
   "outputs": [
    {
     "data": {
      "image/png": "[encoded data removed]",
      "text/plain": [
       "<Figure size 1500x1000 with 1 Axes>"
      ]
     },
     "metadata": {},
     "output_type": "display_data"
    }
   ],
   "source": [
    "z_pred = np.polyfit(X.flatten(), y.flatten(), best_degree)\n",
    "p30_pred = np.poly1d(z_pred)\n",
    "y_poly_pred = p30_pred(x_pre)\n",
    "\n",
    "# creiamo un dataframe con i valori predetti e quelli reali\n",
    "df = pd.DataFrame({'year': X.flatten(), 'Predicted': y.flatten()})\n",
    "df_poly_pre = pd.DataFrame({'year': x_pre.flatten(), 'Predicted': y_poly_pred.flatten()})\n",
    "df_poly = pd.concat([df, df_poly_pre])\n",
    "\n",
    "# visualizziamo i dati\n",
    "plt.figure(figsize=(15, 10))\n",
    "plt.scatter(df_poly['year'], df_poly['Predicted'], color='red', label='Predicted')\n",
    "plt.legend()\n",
    "plt.show()"
   ]
  },
  {
   "cell_type": "code",
   "execution_count": 67,
   "metadata": {},
   "outputs": [],
   "source": [
    "# ordiniamo il dataframe in base all'anno\n",
    "df_poly = df_poly.sort_values(by='year')\n",
    "# ricreiamo l'indice\n",
    "df_poly.reset_index(drop=True, inplace=True)\n",
    "df_poly.to_csv(work_dir + '/forest_area_poly.csv')"
   ]
  }
 ],
 "metadata": {
  "kernelspec": {
   "display_name": "Python 3",
   "language": "python",
   "name": "python3"
  },
  "language_info": {
   "codemirror_mode": {
    "name": "ipython",
    "version": 3
   },
   "file_extension": ".py",
   "mimetype": "text/x-python",
   "name": "python",
   "nbconvert_exporter": "python",
   "pygments_lexer": "ipython3",
   "version": "3.10.6"
  },
  "orig_nbformat": 4
 },
 "nbformat": 4,
 "nbformat_minor": 2
}
