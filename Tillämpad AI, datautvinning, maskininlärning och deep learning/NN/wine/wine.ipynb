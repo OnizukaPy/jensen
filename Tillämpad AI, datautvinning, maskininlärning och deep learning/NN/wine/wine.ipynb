{
 "cells": [
  {
   "attachments": {},
   "cell_type": "markdown",
   "metadata": {},
   "source": [
    "https://www.andreaminini.com/python/sklearn/come-realizzare-una-rete-neurale-con-scikit-learn"
   ]
  }
 ],
 "metadata": {
  "language_info": {
   "name": "python"
  },
  "orig_nbformat": 4
 },
 "nbformat": 4,
 "nbformat_minor": 2
}
