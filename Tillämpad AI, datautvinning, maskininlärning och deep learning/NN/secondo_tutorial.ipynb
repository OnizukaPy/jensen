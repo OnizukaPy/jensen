{
 "cells": [
  {
   "attachments": {},
   "cell_type": "markdown",
   "metadata": {},
   "source": [
    "https://www.youtube.com/watch?v=cYBCqMvR-uo"
   ]
  },
  {
   "cell_type": "code",
   "execution_count": 1,
   "metadata": {},
   "outputs": [],
   "source": [
    "import math as mt\n",
    "import random as rd\n",
    "\n",
    "rd.seed(1)"
   ]
  },
  {
   "cell_type": "code",
   "execution_count": 2,
   "metadata": {},
   "outputs": [],
   "source": [
    "# questa funzione chiamata sigmoide è la funzione di attivazione e serve\n",
    "# per trasformare il risultato della somma pesata in un valore tra 0 e 1\n",
    "def sigmoide(t):\n",
    "    return 1/(1+mt.exp(-t))\n",
    "\n",
    "# questa funzione prende in input i pesi e i bias e restituisce il risultato\n",
    "# della somma pesata a cui è stata applicata la funzione di attivazione\n",
    "def RN(m1, m2, w1, w2, b):\n",
    "    t = m1*w1 + m2*w2 + b\n",
    "    return sigmoide(t)\n",
    "\n",
    "# questa funzione calcola la derivata della funzione di attivazione\n",
    "def Sigmoide_p(t):\n",
    "    return sigmoide(t)*(1-sigmoide(t))\n",
    "\n",
    "# questa funzione prende in input il dataset e restituisce i pesi e il bias allenati ciclandoli per una serie di volte\n",
    "# con un learning rate fissato. Il rating ideale è 0.1\n",
    "def train(dataset):\n",
    "\n",
    "    # inizializzo i pesi e il bias con valori random perchè non so quali valori dare\n",
    "    w1 = rd.random()\n",
    "    w2 = rd.random()\n",
    "    b = rd.random()\n",
    "\n",
    "    # numero di volte che ciclerò il dataset\n",
    "    interazioni = 10000\n",
    "    # learning rate\n",
    "    learning_rate = 0.1\n",
    "\n",
    "    # inizializiamo il ciclo di training\n",
    "    for i in range(interazioni):\n",
    "\n",
    "        # prendiamo un indice random dal dataset e assegnamo il punto corrispondente\n",
    "        ri = rd.randint(0, len(dataset)-1)\n",
    "        point = dataset[ri]\n",
    "\n",
    "        # calcoliamo il risultato della somma pesata con la funzione della rete neurale\n",
    "        # mi serge l'argomento della funzione sigmoide e non posso usare la funzione RN perchè mi restituirebbe un valore tra 0 e 1\n",
    "        z = point[0]*w1 + point[1]*w2 + b       \n",
    "        pred = sigmoide(z)\n",
    "\n",
    "        # calcoliamo il costo della predizione scegliendo il target corrispondente al punto\n",
    "        taget = point[2]\n",
    "        cost = (pred - taget)**2\n",
    "\n",
    "        # calcoliamo la derivata del costo rispetto alla predizione\n",
    "        dcost_pred = 2*(pred - taget)\n",
    "        dpred_dz = Sigmoide_p(z)\n",
    "\n",
    "        # calcoliamo la derivata del costo rispetto ai pesi e al bias\n",
    "        dz_dw1 = point[0]\n",
    "        dz_dw2 = point[1]\n",
    "        dz_db = 1\n",
    "\n",
    "        # calcoliamo la derivata del costo rispetto alla somma pesata z\n",
    "        dcost_dz = dcost_pred * dpred_dz\n",
    "\n",
    "        # calcoliamo le varie derivate parziali del costo rispetto ai pesi e al bias\n",
    "        dcost_dw1 = dcost_pred * dpred_dz * dz_dw1\n",
    "        dcost_dw2 = dcost_pred * dpred_dz * dz_dw2\n",
    "        dcost_db = dcost_pred * dpred_dz * dz_db\n",
    "\n",
    "        # aggiorniamo i pesi e il bias\n",
    "        w1 = w1 - learning_rate * dcost_dw1\n",
    "        w2 = w2 - learning_rate * dcost_dw2\n",
    "        b = b - learning_rate * dcost_db\n",
    "\n",
    "    return w1, w2, b"
   ]
  },
  {
   "cell_type": "code",
   "execution_count": 33,
   "metadata": {},
   "outputs": [
    {
     "name": "stdout",
     "output_type": "stream",
     "text": [
      "0 0\n",
      "1 1\n",
      "1 1\n",
      "0 0\n",
      "1 1\n",
      "0 0\n",
      "0 0\n",
      "1 1\n",
      "0 0\n",
      "1 1\n"
     ]
    }
   ],
   "source": [
    "# dataset dei gatti con le loro misure di lunghezza e altezza.\n",
    "# 0 = gatto persiano e 1 = gatto svedese\n",
    "dataset = [[9, 7.0, 0], \n",
    "           [2, 5.0, 1],\n",
    "           [3.2, 4.94, 1],\n",
    "           [9.1, 7.46, 0],\n",
    "           [1.6, 4.83, 1],\n",
    "           [8.4, 7.46, 0],\n",
    "           [8, 7.28, 0],\n",
    "           [3.1, 4.58, 1],\n",
    "           [6.3, 9.14, 0],\n",
    "           [3.4, 5.36, 1]]\n",
    "\n",
    "# eseguo il training dei pesi e dei bias sul database dei gatti\n",
    "w1, w2, b = train(dataset)\n",
    "\n",
    "# predico il tipo di gatto per controllare se il training è andato bene\n",
    "\n",
    "pred = []\n",
    "for point in dataset:\n",
    "    predicion = RN(point[0], point[1], w1, w2, b)\n",
    "    if predicion <= 0.5:\n",
    "        pred.append(0)\n",
    "    else:\n",
    "        pred.append(1)\n",
    "\n",
    "for i in range(len(pred)):\n",
    "    print(pred[i], dataset[i][2])\n",
    "    \n",
    "\n",
    "\n"
   ]
  }
 ],
 "metadata": {
  "kernelspec": {
   "display_name": "Python 3",
   "language": "python",
   "name": "python3"
  },
  "language_info": {
   "codemirror_mode": {
    "name": "ipython",
    "version": 3
   },
   "file_extension": ".py",
   "mimetype": "text/x-python",
   "name": "python",
   "nbconvert_exporter": "python",
   "pygments_lexer": "ipython3",
   "version": "3.10.6"
  },
  "orig_nbformat": 4,
  "vscode": {
   "interpreter": {
    "hash": "916dbcbb3f70747c44a77c7bcd40155683ae19c65e1c03b4aa3499c5328201f1"
   }
  }
 },
 "nbformat": 4,
 "nbformat_minor": 2
}
