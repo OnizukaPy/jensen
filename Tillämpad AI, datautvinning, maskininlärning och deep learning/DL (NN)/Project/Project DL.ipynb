{
 "cells": [
  {
   "cell_type": "markdown",
   "metadata": {},
   "source": [
    "Project: Deep Learning for Image Classification"
   ]
  }
 ],
 "metadata": {
  "language_info": {
   "name": "python"
  },
  "orig_nbformat": 4
 },
 "nbformat": 4,
 "nbformat_minor": 2
}
