{
 "cells": [
  {
   "cell_type": "markdown",
   "metadata": {},
   "source": [
    "KNOWLEDGE"
   ]
  },
  {
   "cell_type": "code",
   "execution_count": 15,
   "metadata": {},
   "outputs": [],
   "source": [
    "# Guida all'uso della libreria ufficiale di mysql.connector\n",
    "# https://dev.mysql.com/doc/connector-python/en/connector-python-example-ddl.html"
   ]
  },
  {
   "cell_type": "markdown",
   "metadata": {},
   "source": [
    "IMPORTAZIONE DI LIBRERIE"
   ]
  },
  {
   "cell_type": "code",
   "execution_count": 16,
   "metadata": {},
   "outputs": [],
   "source": [
    "import mysql.connector\n",
    "from mysql.connector import errorcode"
   ]
  },
  {
   "cell_type": "markdown",
   "metadata": {},
   "source": [
    "FUNZIONI"
   ]
  },
  {
   "cell_type": "code",
   "execution_count": 17,
   "metadata": {},
   "outputs": [],
   "source": [
    "# Creazione di un database\n",
    "\n",
    "def create_database(cursor, db_name):\n",
    "    try:\n",
    "        cursor.execute(\n",
    "            \"CREATE DATABASE {} DEFAULT CHARACTER SET 'utf8'\".format(db_name))\n",
    "    except mysql.connector.Error as err:\n",
    "        print(\"Failed creating database: {}\".format(err))\n",
    "        exit(1)"
   ]
  },
  {
   "cell_type": "markdown",
   "metadata": {},
   "source": [
    "CODICE"
   ]
  },
  {
   "cell_type": "code",
   "execution_count": 18,
   "metadata": {},
   "outputs": [],
   "source": [
    "# Connettersi al database con un ciclo try\n",
    "try:\n",
    "    cnx = mysql.connector.connect(user='root2', password='Secondo12@',\n",
    "                                host='127.0.0.1')\n",
    "\n",
    "except mysql.connector.Error as err:\n",
    "    if err.errno == errorcode.ER_ACCESS_DENIED_ERROR:\n",
    "        print(\"Something is wrong with your user name or password\")\n",
    "    elif err.errno == errorcode.ER_BAD_DB_ERROR:\n",
    "        print(\"Database does not exist\")\n",
    "    else:\n",
    "        print(err)"
   ]
  },
  {
   "cell_type": "code",
   "execution_count": 20,
   "metadata": {},
   "outputs": [],
   "source": [
    "# Creazione del cursore\n",
    "cursor = cnx.cursor()"
   ]
  },
  {
   "cell_type": "code",
   "execution_count": 21,
   "metadata": {},
   "outputs": [
    {
     "name": "stdout",
     "output_type": "stream",
     "text": [
      "Database VM does not exists.\n",
      "Database VM created successfully.\n"
     ]
    }
   ],
   "source": [
    "# creazione del database usando la funzione\n",
    "\n",
    "db_name = \"VM\"\n",
    "\n",
    "try:\n",
    "    cursor.execute(\"USE {}\".format(db_name))\n",
    "except mysql.connector.Error as err:\n",
    "    print(\"Database {} does not exists.\".format(db_name))\n",
    "    if err.errno == errorcode.ER_BAD_DB_ERROR:\n",
    "        create_database(cursor, db_name)\n",
    "        print(\"Database {} created successfully.\".format(db_name))\n",
    "        cnx.database = db_name\n",
    "    else:\n",
    "        print(err)\n",
    "        exit(1)\n",
    "\n"
   ]
  },
  {
   "cell_type": "code",
   "execution_count": 22,
   "metadata": {},
   "outputs": [],
   "source": [
    "# Creazione del dizionario delle tabelle\n",
    "\n",
    "TABLES = {}\n",
    "TABLES['grupp'] = (\n",
    "    \"CREATE TABLE `VM`.`grupp` (\"\n",
    "    \"  `namn` CHAR(1) NOT NULL,\"\n",
    "    \"  PRIMARY KEY (`namn`)\"\n",
    "    \") ENGINE=InnoDB\"\n",
    "    )\n",
    "\n",
    "TABLES['lager'] = (\n",
    "    \"CREATE TABLE `VM`.`lager` (\"\n",
    "    \"  `namn` VARCHAR(255) NOT NULL,\"\n",
    "    \"  `grupp_namn` CHAR(1) NOT NULL,\"\n",
    "    \"  PRIMARY KEY (`namn`, `grupp_namn`),\"\n",
    "    \"  INDEX `fk_lager_grupp_idx` (`grupp_namn` ASC) VISIBLE,\"\n",
    "    \"  CONSTRAINT `fk_lager_grupp`\"\n",
    "    \"    FOREIGN KEY (`grupp_namn`)\"\n",
    "    \"    REFERENCES `VM`.`grupp` (`namn`)\"\n",
    "    \"    ON DELETE NO ACTION\"\n",
    "    \"    ON UPDATE NO ACTION\"\n",
    "    \") ENGINE=InnoDB\"\n",
    "    )\n",
    "\n",
    "TABLES['Domare'] = (\n",
    "    \"CREATE TABLE `VM`.`Domare` (\"\n",
    "    \"  `namn` VARCHAR(255) NOT NULL,\"\n",
    "    \"  `efternamn` VARCHAR(255) NOT NULL,\"\n",
    "    \"  `land` VARCHAR(255) NOT NULL,\"\n",
    "    \"  `id` INT NOT NULL,\"\n",
    "    \"  PRIMARY KEY (`id`)\"\n",
    "    \") ENGINE=InnoDB\"\n",
    "    )\n",
    "\n",
    "TABLES['Stadium'] = (\n",
    "    \"CREATE TABLE `VM`.`Stadium` (\"\n",
    "    \"  `namn` VARCHAR(255) NOT NULL,\"\n",
    "    \"  `stad` VARCHAR(255) NOT NULL,\"\n",
    "    \"  `kapacitet` VARCHAR(255) NOT NULL,\"\n",
    "    \"  `id` INT NOT NULL,\"\n",
    "    \"  PRIMARY KEY (`id`)\"\n",
    "    \") ENGINE=InnoDB\"\n",
    "    )\n",
    "\n",
    "TABLES['match'] = (\n",
    "    \"CREATE TABLE `VM`.`match` (\"\n",
    "    \"  `id` INT NOT NULL,\"\n",
    "    \"  `n_match` INT NOT NULL,\"\n",
    "    \"  `stadium_id` INT NOT NULL,\"\n",
    "    \"  `datum` DATE NOT NULL,\"\n",
    "    \"  `Domare_id` INT NOT NULL,\"\n",
    "    \"  `lager_namn` VARCHAR(255) NOT NULL,\"\n",
    "    \"  `poang` INT(1) DEFAULT 0,\"\n",
    "    \"  `gjorda_mål` INT DEFAULT 0,\"\n",
    "    \"  `insläppta_mål` INT DEFAULT 0,\"\n",
    "    \"  PRIMARY KEY (`id`, `stadium_id`, `Domare_id`, `lager_namn`),\"\n",
    "    \"  INDEX `fk_match_stadium1_idx` (`stadium_id` ASC) VISIBLE,\"\n",
    "    \"  INDEX `fk_match_Domare1_idx` (`Domare_id` ASC) VISIBLE,\"\n",
    "    \"  INDEX `fk_match_lager1_idx` (`lager_namn` ASC) VISIBLE,\"\n",
    "    \"  CONSTRAINT `fk_match_stadium1`\"\n",
    "    \"    FOREIGN KEY (`stadium_id`)\"\n",
    "    \"    REFERENCES `VM`.`Stadium` (`id`)\"\n",
    "    \"    ON DELETE NO ACTION\"\n",
    "    \"    ON UPDATE NO ACTION,\"\n",
    "    \"  CONSTRAINT `fk_match_Domare1`\"\n",
    "    \"    FOREIGN KEY (`Domare_id`)\"\n",
    "    \"    REFERENCES `VM`.`Domare` (`id`)\"\n",
    "    \"    ON DELETE NO ACTION\"\n",
    "    \"    ON UPDATE NO ACTION,\"\n",
    "    \"  CONSTRAINT `fk_match_lager1`\"\n",
    "    \"    FOREIGN KEY (`lager_namn`)\"\n",
    "    \"    REFERENCES `VM`.`lager` (`namn`)\"\n",
    "    \"    ON DELETE NO ACTION\"\n",
    "    \"    ON UPDATE NO ACTION\"\n",
    "    \") ENGINE=InnoDB\"\n",
    "    )"
   ]
  },
  {
   "cell_type": "code",
   "execution_count": null,
   "metadata": {},
   "outputs": [],
   "source": [
    "# Creazione del ciclo per la creazione delle tabelle\n",
    "\n",
    "for table_name in TABLES:\n",
    "    table_description = TABLES[table_name]\n",
    "    try:\n",
    "        print(\"Creating table {}: \".format(table_name), end='')\n",
    "        cursor.execute(table_description)\n",
    "    except mysql.connector.Error as err:\n",
    "        if err.errno == errorcode.ER_TABLE_EXISTS_ERROR:\n",
    "            print(\"already exists.\")\n",
    "        else:\n",
    "            print(err.msg)\n",
    "    else:\n",
    "        print(\"OK\")\n",
    "\n",
    "\n"
   ]
  },
  {
   "cell_type": "code",
   "execution_count": null,
   "metadata": {},
   "outputs": [],
   "source": [
    "# Chiusura del cursore\n",
    "cursor.close()"
   ]
  },
  {
   "cell_type": "code",
   "execution_count": null,
   "metadata": {},
   "outputs": [],
   "source": [
    "# chiusura della connessione\n",
    "cnx.close()"
   ]
  }
 ],
 "metadata": {
  "kernelspec": {
   "display_name": "Python 3.10.6 64-bit",
   "language": "python",
   "name": "python3"
  },
  "language_info": {
   "codemirror_mode": {
    "name": "ipython",
    "version": 3
   },
   "file_extension": ".py",
   "mimetype": "text/x-python",
   "name": "python",
   "nbconvert_exporter": "python",
   "pygments_lexer": "ipython3",
   "version": "3.10.6"
  },
  "orig_nbformat": 4,
  "vscode": {
   "interpreter": {
    "hash": "916dbcbb3f70747c44a77c7bcd40155683ae19c65e1c03b4aa3499c5328201f1"
   }
  }
 },
 "nbformat": 4,
 "nbformat_minor": 2
}
