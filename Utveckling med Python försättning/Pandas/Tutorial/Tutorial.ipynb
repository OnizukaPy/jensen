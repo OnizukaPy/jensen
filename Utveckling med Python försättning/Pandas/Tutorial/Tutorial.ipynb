{
 "cells": [
  {
   "attachments": {},
   "cell_type": "markdown",
   "metadata": {},
   "source": [
    "PANDAS TUTORIAL\n",
    "https://www.w3schools.com/python/pandas/default.asp"
   ]
  },
  {
   "cell_type": "code",
   "execution_count": 2,
   "metadata": {},
   "outputs": [],
   "source": [
    "# för att importera pandas man vi skriva så där:\n",
    "import pandas as pd"
   ]
  },
  {
   "cell_type": "code",
   "execution_count": 2,
   "metadata": {},
   "outputs": [
    {
     "name": "stdout",
     "output_type": "stream",
     "text": [
      "1.4.4\n",
      "9999\n"
     ]
    }
   ],
   "source": [
    "# för att printa versionen\n",
    "print(pd.__version__)\n",
    "\n",
    "# för att sätta nummer av rader\n",
    "pd.options.display.max_rows = 9999\n",
    "# för att kolla hur mycket rader kan visas\n",
    "print(pd.options.display.max_rows) \n"
   ]
  },
  {
   "cell_type": "code",
   "execution_count": null,
   "metadata": {},
   "outputs": [],
   "source": [
    "# exempel av snkel tabell\n",
    "mydataset = {\n",
    "  'cars': [\"BMW\", \"Volvo\", \"Ford\"],\n",
    "  'passings': [3, 7, 2]\n",
    "}\n",
    "\n",
    "myvar = pd.DataFrame(mydataset)\n",
    "\n",
    "print(myvar)"
   ]
  },
  {
   "attachments": {},
   "cell_type": "markdown",
   "metadata": {},
   "source": [
    "SERIES"
   ]
  },
  {
   "cell_type": "code",
   "execution_count": null,
   "metadata": {},
   "outputs": [],
   "source": [
    "# Series\n",
    "a = [1, 7, 2]\n",
    "myvar = pd.Series(a)\n",
    "print(myvar)\n",
    "print('index = 0:', myvar[0])\n",
    "print('\\n')\n",
    "\n",
    "# Create Labels\n",
    "myvar = pd.Series(a, index = [\"x\", \"y\", \"z\"])\n",
    "print(myvar)\n",
    "print('index = y:', myvar['y'])\n",
    "print('\\n')"
   ]
  },
  {
   "cell_type": "code",
   "execution_count": 52,
   "metadata": {},
   "outputs": [
    {
     "name": "stdout",
     "output_type": "stream",
     "text": [
      "day1    420\n",
      "day2    380\n",
      "day3    390\n",
      "dtype: int64\n",
      "\n",
      "\n",
      "day1    420\n",
      "day2    380\n",
      "dtype: int64\n",
      "\n",
      "\n"
     ]
    }
   ],
   "source": [
    "# Key/Value Objects as Series\n",
    "# Key blir index\n",
    "calories = {\"day1\": 420, \"day2\": 380, \"day3\": 390}\n",
    "myvar = pd.Series(calories)\n",
    "print(myvar)\n",
    "print('\\n')\n",
    "\n",
    "# för att skapa en serie med precis index från serien\n",
    "calories = {\"day1\": 420, \"day2\": 380, \"day3\": 390}\n",
    "myvar = pd.Series(calories, index = [\"day1\", \"day2\"])\n",
    "print(myvar)\n",
    "print('\\n')"
   ]
  },
  {
   "attachments": {},
   "cell_type": "markdown",
   "metadata": {},
   "source": [
    "DATAFRAME"
   ]
  },
  {
   "cell_type": "code",
   "execution_count": null,
   "metadata": {},
   "outputs": [],
   "source": [
    "# för att skapa en dataframe från 2 serier\n",
    "# Skapa en diktionär med serier som värd av en nyckel\n",
    "data = {\n",
    "  \"calories\": [420, 380, 390],\n",
    "  \"duration\": [50, 40, 45]\n",
    "}\n",
    "myvar = pd.DataFrame(data)\n",
    "print(myvar)\n",
    "print('\\n')\n",
    "\n",
    "# för att returnera en presis rad man måste använda loc metoden\n",
    "print(myvar.loc[0])\n",
    "print('\\n')\n",
    "\n",
    "# för att returnera en list av raderna. Nummer av index måste vara mellan []\n",
    "print(myvar.loc[[0, 1]])\n",
    "print('\\n')\n"
   ]
  },
  {
   "cell_type": "code",
   "execution_count": null,
   "metadata": {},
   "outputs": [],
   "source": [
    "# för att skapa en index till dataframe från serier\n",
    "data = {\n",
    "  \"calories\": [420, 380, 390],\n",
    "  \"duration\": [50, 40, 45]\n",
    "}\n",
    "df = pd.DataFrame(data, index = ['day1', 'day2', 'day3'])\n",
    "print(df)\n",
    "print('\\n')\n",
    "print(df[\"calories\"]['day1'])\n",
    "print('\\n')\n",
    "print(df.loc['day1'])\n",
    "print('\\n')"
   ]
  },
  {
   "cell_type": "code",
   "execution_count": null,
   "metadata": {},
   "outputs": [],
   "source": [
    "# för att ladda till dataframe från en csv filen\n",
    "df = pd.read_csv('data.csv')\n",
    "print(df) # eller print(df.to_string())\n",
    "print('\\n')"
   ]
  },
  {
   "cell_type": "code",
   "execution_count": null,
   "metadata": {},
   "outputs": [],
   "source": [
    "\n",
    "# för att ladda till dataframe från en Json\n",
    "df = pd.read_json('data.js')\n",
    "#print(df) # eller print(df.to_string())\n",
    "print('\\n')\n",
    "\n",
    "# för att analizera data i dataframe\n",
    "print(df.head())        # första 5 rader\n",
    "print('\\n')\n",
    "print(df.tail())        # sista 5 rader\n",
    "print('\\n')\n",
    "print(df.info())        # informationer om tabellen"
   ]
  },
  {
   "cell_type": "code",
   "execution_count": 30,
   "metadata": {},
   "outputs": [
    {
     "name": "stdout",
     "output_type": "stream",
     "text": [
      "   Duration  Pulse  Maxpulse  Calories\n",
      "0        60    110       130       409\n",
      "1        60    117       145       479\n",
      "2        60    103       135       340\n",
      "3        45    109       175       282\n",
      "4        45    117       148       406\n",
      "5        60    102       127       300\n",
      "Index(['0', '1', '2', '3', '4', '5'], dtype='object')\n"
     ]
    }
   ],
   "source": [
    "# skapa en dataframe från en diktionär\n",
    "data = {\n",
    "  \"Duration\": {\"0\":60,  \"1\":60,  \"2\":60,  \"3\":45,  \"4\":45,  \"5\":60},\n",
    "  \"Pulse\":    {\"0\":110, \"1\":117, \"2\":103, \"3\":109, \"4\":117, \"5\":102},\n",
    "  \"Maxpulse\": {\"0\":130, \"1\":145, \"2\":135, \"3\":175, \"4\":148, \"5\":127},\n",
    "  \"Calories\": {\"0\":409, \"1\":479, \"2\":340, \"3\":282, \"4\":406, \"5\":300}\n",
    "}\n",
    "\n",
    "df = pd.DataFrame(data)\n",
    "\n",
    "print(df) \n",
    "print(df.index)\n",
    "\n"
   ]
  },
  {
   "attachments": {},
   "cell_type": "markdown",
   "metadata": {},
   "source": [
    "Dålig data kan vara:\n",
    "\n",
    "    Tomma celler\n",
    "    Data i fel format\n",
    "    Fel data\n",
    "    Dubletter"
   ]
  },
  {
   "attachments": {},
   "cell_type": "markdown",
   "metadata": {},
   "source": [
    ".dropna()"
   ]
  },
  {
   "cell_type": "code",
   "execution_count": null,
   "metadata": {},
   "outputs": [],
   "source": [
    "df = pd.read_json('data.js')\n",
    "\n",
    "# för att ta bort alla tomma celler man använder metoden dropna(). Det här sudda alla raderna med tomma celler\n",
    "# och skapa en ny database.\n",
    "new_df = df.dropna()\n",
    "print(df.to_string())\n",
    "print('\\n')\n",
    "print(new_df.to_string())\n",
    "print('\\n')\n",
    "# man kan använda det samma metoden med argument inplace = True för att inte skapa en ny database och hantera \n",
    "# direkt databasen.\n",
    "df.dropna(inplace = True)\n",
    "print(df.to_string())\n",
    "\n",
    "# om du vill ta bort null värdar i en precis column man kan avända \n",
    "df.dropna(subset=['Calories'], inplace = True)"
   ]
  },
  {
   "attachments": {},
   "cell_type": "markdown",
   "metadata": {},
   "source": [
    ".fillna()"
   ]
  },
  {
   "cell_type": "code",
   "execution_count": null,
   "metadata": {},
   "outputs": [],
   "source": [
    "# om man vill bara ta bort null värdar utan ta bot hela raden man kan använda metoden fillna()\n",
    "df = pd.read_json('data.js')\n",
    "df.fillna(' ', inplace = True) \n",
    "print(df.to_string())"
   ]
  },
  {
   "cell_type": "code",
   "execution_count": null,
   "metadata": {},
   "outputs": [],
   "source": [
    "# man kan utbyta NULL värdar i celler med fillna metoden\n",
    "df = pd.read_json('data.js')\n",
    "df[\"Calories\"].fillna(130, inplace = True) \n",
    "print(df.to_string())"
   ]
  },
  {
   "attachments": {},
   "cell_type": "markdown",
   "metadata": {},
   "source": [
    "Mean, Median, or Mode"
   ]
  },
  {
   "cell_type": "code",
   "execution_count": 22,
   "metadata": {},
   "outputs": [
    {
     "name": "stdout",
     "output_type": "stream",
     "text": [
      "Media 375.79999999999995\n",
      "Mediana 318.6\n",
      "Moda 300.0\n"
     ]
    }
   ],
   "source": [
    "df = pd.read_json('data.js')\n",
    "\n",
    "# Mean (media)\n",
    "x = df[\"Calories\"].mean()\n",
    "print('Media', x)\n",
    "# Mediana\n",
    "x = df[\"Calories\"].median()\n",
    "print('Mediana', x)\n",
    "# Moda\n",
    "x = df[\"Calories\"].mode()[0]\n",
    "print('Moda', x)"
   ]
  },
  {
   "attachments": {},
   "cell_type": "markdown",
   "metadata": {},
   "source": [
    "Replacing Values"
   ]
  },
  {
   "attachments": {},
   "cell_type": "markdown",
   "metadata": {},
   "source": [
    ".loc()"
   ]
  },
  {
   "cell_type": "code",
   "execution_count": null,
   "metadata": {},
   "outputs": [],
   "source": [
    "# om man vill utbyta en värd man måste veta coordinaterna i tabellen. För att få det\n",
    "# kan man använda loc() metoden direkt\n",
    "df = pd.read_json('data.js')\n",
    "print(df['Duration'][7])\n",
    "df.loc[7, 'Duration'] = 50\n",
    "print(df['Duration'][7])\n",
    "\n",
    "# det här är ett felt sätt för att utbyta. I pandas finns en precis metod för att utbyta värdar i tabellen.\n",
    "df['Duration'][7] = 56\n",
    "print(df['Duration'][7])"
   ]
  },
  {
   "cell_type": "code",
   "execution_count": null,
   "metadata": {},
   "outputs": [],
   "source": [
    "# med index klass attribut kan man få en lista med alla index value\n",
    "df.index"
   ]
  },
  {
   "attachments": {},
   "cell_type": "markdown",
   "metadata": {},
   "source": [
    ".drop()"
   ]
  },
  {
   "cell_type": "code",
   "execution_count": null,
   "metadata": {},
   "outputs": [],
   "source": [
    "# för att ta bort en rad man kan använda .drop() metoden\n",
    "df.drop(x, inplace = True)  # x är radsnummer"
   ]
  },
  {
   "cell_type": "code",
   "execution_count": null,
   "metadata": {},
   "outputs": [],
   "source": [
    "# man kan använda loc för att jamföra värdar i tabellen och göra loppar eller if satser\n",
    "# exempel\n",
    "print(df)\n",
    "print('\\n')\n",
    "for x in df.index:\n",
    "  if df.loc[x, \"Duration\"] >= 60:\n",
    "    df.loc[x, \"Duration\"] = 120\n",
    "\n",
    "print(df.to_string())"
   ]
  },
  {
   "attachments": {},
   "cell_type": "markdown",
   "metadata": {},
   "source": [
    ".duplicate()"
   ]
  },
  {
   "cell_type": "code",
   "execution_count": null,
   "metadata": {},
   "outputs": [],
   "source": [
    "# för att ta bort rader som är lika man kan använda duplicate() metoden\n",
    "df = pd.read_json('data.js')\n",
    "\n",
    "# för att visa duplicated rader\n",
    "print(df.duplicated().to_string())\n",
    "\n",
    "# för att sudda de\n",
    "df.drop_duplicates(inplace = True) \n",
    "print(df.to_string())\n"
   ]
  },
  {
   "attachments": {},
   "cell_type": "markdown",
   "metadata": {},
   "source": [
    "Correlation"
   ]
  },
  {
   "cell_type": "markdown",
   "metadata": {},
   "source": [
    ".corr()"
   ]
  },
  {
   "cell_type": "code",
   "execution_count": 51,
   "metadata": {},
   "outputs": [
    {
     "data": {
      "text/plain": [
       "<AxesSubplot:xlabel='Duration', ylabel='Frequency'>"
      ]
     },
     "execution_count": 51,
     "metadata": {},
     "output_type": "execute_result"
    },
    {
     "data": {
      "image/png": "[encoded data removed]",
      "text/plain": [
       "<Figure size 640x480 with 1 Axes>"
      ]
     },
     "metadata": {},
     "output_type": "display_data"
    }
   ],
   "source": [
    "df = pd.read_json('data.js')\n",
    "df.corr()\n",
    "\n",
    "# plotting\n",
    "df.plot(kind = 'scatter', x = 'Duration', y = 'Calories')\n",
    "df[\"Duration\"].plot(kind = 'hist')\n"
   ]
  }
 ],
 "metadata": {
  "kernelspec": {
   "display_name": "Python 3",
   "language": "python",
   "name": "python3"
  },
  "language_info": {
   "codemirror_mode": {
    "name": "ipython",
    "version": 3
   },
   "file_extension": ".py",
   "mimetype": "text/x-python",
   "name": "python",
   "nbconvert_exporter": "python",
   "pygments_lexer": "ipython3",
   "version": "3.10.6"
  },
  "orig_nbformat": 4,
  "vscode": {
   "interpreter": {
    "hash": "916dbcbb3f70747c44a77c7bcd40155683ae19c65e1c03b4aa3499c5328201f1"
   }
  }
 },
 "nbformat": 4,
 "nbformat_minor": 2
}
