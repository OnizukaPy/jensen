{
 "cells": [
  {
   "cell_type": "code",
   "execution_count": 1,
   "metadata": {},
   "outputs": [],
   "source": [
    "import numpy as np\n",
    "import matplotlib.pyplot as plt"
   ]
  },
  {
   "cell_type": "code",
   "execution_count": null,
   "metadata": {},
   "outputs": [],
   "source": [
    "x = np.arange(10)\n",
    "y = np.array([12, 22, 33, 14, 15, 26, 37, 38, 59, 25])\n",
    "\n",
    "x_media = x.mean()\n",
    "y_media = y.mean()\n",
    "\n",
    "print(x_media, y_media)\n",
    "m = ((x - x_media) * (y - y_media)).sum() / ((x - x_media) ** 2).sum()\n",
    "print(m)\n",
    "q = y_media - m * x_media\n",
    "print(q)\n",
    "\n",
    "fit = np.polyfit(x, y, 1)\n",
    "print(fit)\n",
    "fit_fn = np.poly1d(fit)\n",
    "print(fit_fn)\n",
    "\n",
    "\n",
    "plt.plot(x, y, 'o', x, fit_fn(x), '--k')\n",
    "plt.show()"
   ]
  },
  {
   "cell_type": "code",
   "execution_count": 52,
   "metadata": {},
   "outputs": [
    {
     "name": "stdout",
     "output_type": "stream",
     "text": [
      "[12 22 33 14 15 26 37 38 59 25]\n",
      "281\n",
      "12\n",
      "59\n",
      "28.1\n",
      "13.553228397691822\n",
      "183.69\n",
      "[  0  10  11 -19   1  11  11   1  21 -34]\n",
      "[ 12  34  67  81  96 122 159 197 256 281]\n",
      "[  0.  29.  16. -23.   1.   9.   7.   1.   8. -12.]\n",
      "[            12            264           8712         121968\n",
      "        1829520       47567520     1759998240    66879933120\n",
      "  3945916054080 98647901352000]\n"
     ]
    }
   ],
   "source": [
    "print(y)\n",
    "print(y.sum())\n",
    "print(y.min())\n",
    "print(y.max())\n",
    "print(y.mean())\n",
    "print(y.std())\n",
    "print(y.var())\n",
    "a = np.array([0], ndmin=1)\n",
    "a = np.concatenate((a, np.diff(y)))\n",
    "print(a)\n",
    "print(y.cumsum())\n",
    "print(np.around(a/y.cumsum()*100))\n",
    "print(y.cumprod())\n"
   ]
  },
  {
   "cell_type": "code",
   "execution_count": 21,
   "metadata": {},
   "outputs": [],
   "source": [
    "def regression(x, y):\n",
    "    fit = np.polyfit(x, y, 1)\n",
    "    fit_fn = np.poly1d(fit)\n",
    "    plt.plot(x, y, 'o', x, fit_fn(x), '--k')\n",
    "    plt.show()"
   ]
  },
  {
   "cell_type": "code",
   "execution_count": 26,
   "metadata": {},
   "outputs": [],
   "source": [
    "class Regression:\n",
    "    def __init__(self, x, y):\n",
    "        self.x = x\n",
    "        self.y = y\n",
    "        self.fit = np.polyfit(x, y, 1)\n",
    "        self.fit_fn = np.poly1d(self.fit)\n",
    "    \n",
    "    def plot(self):\n",
    "        plt.plot(self.x, self.y, 'o', self.x, self.fit_fn(self.x), '--k')\n",
    "        plt.show()"
   ]
  },
  {
   "cell_type": "code",
   "execution_count": 28,
   "metadata": {},
   "outputs": [
    {
     "name": "stdout",
     "output_type": "stream",
     "text": [
      " \n",
      "2.915 x + 14.98\n"
     ]
    },
    {
     "data": {
      "image/png": "[encoded data removed]",
      "text/plain": [
       "<Figure size 640x480 with 1 Axes>"
      ]
     },
     "metadata": {},
     "output_type": "display_data"
    }
   ],
   "source": [
    "x = np.arange(10)\n",
    "y = np.array([12, 22, 33, 14, 15, 26, 37, 38, 59, 25])\n",
    "a = Regression(x, y)\n",
    "print(a.fit_fn)\n",
    "a.plot()\n"
   ]
  },
  {
   "cell_type": "code",
   "execution_count": 4,
   "metadata": {},
   "outputs": [
    {
     "name": "stdout",
     "output_type": "stream",
     "text": [
      "[ 0.25  -0.125]\n"
     ]
    }
   ],
   "source": [
    "a = np.array([[1, 2], [1.5, -1]], dtype=np.float64)\n",
    "b = np.array([0, 0.5], dtype=np.float64)\n",
    "x = np.linalg.solve(a, b)\n",
    "print(x)"
   ]
  }
 ],
 "metadata": {
  "kernelspec": {
   "display_name": "Python 3",
   "language": "python",
   "name": "python3"
  },
  "language_info": {
   "codemirror_mode": {
    "name": "ipython",
    "version": 3
   },
   "file_extension": ".py",
   "mimetype": "text/x-python",
   "name": "python",
   "nbconvert_exporter": "python",
   "pygments_lexer": "ipython3",
   "version": "3.10.6 (main, Nov 14 2022, 16:10:14) [GCC 11.3.0]"
  },
  "orig_nbformat": 4,
  "vscode": {
   "interpreter": {
    "hash": "916dbcbb3f70747c44a77c7bcd40155683ae19c65e1c03b4aa3499c5328201f1"
   }
  }
 },
 "nbformat": 4,
 "nbformat_minor": 2
}
