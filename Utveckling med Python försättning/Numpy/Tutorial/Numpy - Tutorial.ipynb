{
 "cells": [
  {
   "attachments": {},
   "cell_type": "markdown",
   "metadata": {},
   "source": [
    "https://www.youtube.com/watch?v=t4bWsoWEVP4"
   ]
  },
  {
   "cell_type": "code",
   "execution_count": 41,
   "metadata": {},
   "outputs": [],
   "source": [
    "import numpy as np\n",
    "from numpy.random import default_rng\n",
    "import matplotlib.pyplot as plt"
   ]
  },
  {
   "cell_type": "code",
   "execution_count": null,
   "metadata": {},
   "outputs": [],
   "source": [
    "# per creare un array numpy è semplice basta usare il metodo array() e passare una lista o una turpla\n",
    "arr_1d = np.array(\n",
    "    [1, 2, 3, 4, 5],\n",
    "    dtype=np.float64          # se non specifico il tipo di dato, numpy lo deduce automaticamente\n",
    "    )\n",
    "\n",
    "arr_2d = np.array([\n",
    "    [1, 2, 3, 4], \n",
    "    [5, 6, 7, 8],\n",
    "    [9, 10, 11, 12]\n",
    "])\n",
    "\n",
    "print(arr_1d)\n",
    "print()\n",
    "print(arr_2d)\n",
    "\n"
   ]
  },
  {
   "cell_type": "code",
   "execution_count": null,
   "metadata": {},
   "outputs": [],
   "source": [
    "# numero di dimensioni\n",
    "arr_1d.ndim"
   ]
  },
  {
   "cell_type": "code",
   "execution_count": null,
   "metadata": {},
   "outputs": [],
   "source": [
    "# numero di elementi nell'array\n",
    "arr_1d.size"
   ]
  },
  {
   "cell_type": "code",
   "execution_count": null,
   "metadata": {},
   "outputs": [],
   "source": [
    "# dimensione della matrice\n",
    "arr_1d.shape"
   ]
  },
  {
   "cell_type": "code",
   "execution_count": null,
   "metadata": {},
   "outputs": [],
   "source": [
    "arr_1d.min()"
   ]
  },
  {
   "cell_type": "code",
   "execution_count": null,
   "metadata": {},
   "outputs": [],
   "source": [
    "arr_1d.max()"
   ]
  },
  {
   "cell_type": "code",
   "execution_count": null,
   "metadata": {},
   "outputs": [],
   "source": [
    "arr_1d.sum()"
   ]
  },
  {
   "cell_type": "code",
   "execution_count": null,
   "metadata": {},
   "outputs": [],
   "source": [
    "# funzione simile a range() di python che restituisce un np array dove l'ultimo valore è escluso\n",
    "np.arange(0, 11, 2)"
   ]
  },
  {
   "cell_type": "code",
   "execution_count": null,
   "metadata": {},
   "outputs": [],
   "source": [
    "# funzione linspace restituisce un array di n numeri equidistanti un certo intervallo includendo l'ultimo valore del range\n",
    "# di default vengono restituiti volori come float()\n",
    "np.linspace(0, 10, 5)\n"
   ]
  },
  {
   "cell_type": "code",
   "execution_count": null,
   "metadata": {},
   "outputs": [],
   "source": [
    "# muoversi i una matrice\n",
    "# usare le [] con all'interno l'indice di riga e di colonna separata da una virgola\n",
    "\n",
    "# un valore\n",
    "arr_2d[0,0]\n",
    "\n",
    "# una riga intera\n",
    "arr_2d[0, :]  # oppure arr_2d[0]\n",
    "\n",
    "# una intera colonna\n",
    "arr_2d[:, 0]"
   ]
  },
  {
   "cell_type": "code",
   "execution_count": null,
   "metadata": {},
   "outputs": [],
   "source": [
    "# array di soli zeri\n",
    "np.zeros(2)         # una dimensione\n",
    "np.zeros((2, 2))    # una matrice. La dimensione deve essere inserita con una tupla"
   ]
  },
  {
   "cell_type": "code",
   "execution_count": null,
   "metadata": {},
   "outputs": [],
   "source": [
    "# array o matrice di uno\n",
    "np.ones((2, 2))"
   ]
  },
  {
   "cell_type": "code",
   "execution_count": null,
   "metadata": {},
   "outputs": [],
   "source": [
    "# arrey o matrice di numeri random\n",
    "np.random.random(2)\n",
    "np.random.random((2, 2))"
   ]
  },
  {
   "cell_type": "code",
   "execution_count": null,
   "metadata": {},
   "outputs": [],
   "source": [
    "# matrice identità\n",
    "np.eye(3)"
   ]
  },
  {
   "cell_type": "code",
   "execution_count": null,
   "metadata": {},
   "outputs": [],
   "source": [
    "# matrice con elementi casuali\n"
   ]
  },
  {
   "cell_type": "code",
   "execution_count": null,
   "metadata": {},
   "outputs": [],
   "source": [
    "# CAMBIARE LE DIMENSIONI DI UNA MATRICE\n",
    "# Reshape\n",
    "\n",
    "print(arr_2d, arr_2d.shape)\n",
    "print()\n",
    "arr_2d_res = arr_2d.reshape(4, 3)\n",
    "print(arr_2d_res, arr_2d_res.shape)\n",
    "print()"
   ]
  },
  {
   "cell_type": "code",
   "execution_count": null,
   "metadata": {},
   "outputs": [],
   "source": [
    "# FILTRARE I DATI CON IL BOLEAN FILTRERING\n",
    "\n",
    "arr_1d < 3\n",
    "\n",
    "# se vogliamo che vengano restituiti i valori rispondenti alla condizioni occorre scrivere\n",
    "arr_1d[arr_1d < 3]"
   ]
  },
  {
   "cell_type": "code",
   "execution_count": null,
   "metadata": {},
   "outputs": [],
   "source": [
    "# Creare un filtro customizzato con il metodo where()\n",
    "np.where(\n",
    "    arr_2d < 4,     # condizione\n",
    "    1,              # True\n",
    "    0               # False\n",
    "    )"
   ]
  },
  {
   "cell_type": "code",
   "execution_count": null,
   "metadata": {},
   "outputs": [],
   "source": [
    "# confronto tra python e numpy\n",
    "\n",
    "A = np.random.rand(1000, 1000)\n",
    "a = A.tolist()"
   ]
  },
  {
   "cell_type": "code",
   "execution_count": null,
   "metadata": {},
   "outputs": [],
   "source": [
    "%%time\n",
    "total = 0\n",
    "for row in a:\n",
    "    for n in row:\n",
    "        total += n\n",
    "round(total, 2)"
   ]
  },
  {
   "cell_type": "code",
   "execution_count": null,
   "metadata": {},
   "outputs": [],
   "source": [
    "%%time\n",
    "round(np.sum(A), 2)"
   ]
  },
  {
   "cell_type": "code",
   "execution_count": null,
   "metadata": {},
   "outputs": [],
   "source": [
    "# ALGEBRA LINEARE\n",
    "a = np.array([1, 2, 3])\n",
    "b = np.array([4, 5, 6])\n",
    "\n",
    "# prodotto tra i vettori. Il risultato è un vettore della stessa dimensione i cui valori sono moltiplicati tra loro\n",
    "print(a*b)\n",
    "\n",
    "\n",
    "# prodotto scalare\n",
    "print(np.dot(a, b))"
   ]
  },
  {
   "cell_type": "code",
   "execution_count": null,
   "metadata": {},
   "outputs": [],
   "source": [
    "# prodotto matriciale\n",
    "\n",
    "m1 = np.array([\n",
    "    [1, 2, 3], \n",
    "    [5, 6, 7],\n",
    "    [9, 10, 11]\n",
    "])\n",
    "\n",
    "m2 = np.array([\n",
    "    [5, 6, 7], \n",
    "    [1, 2, 3],\n",
    "    [9, 10, 11]\n",
    "])\n",
    "\n",
    "print(np.matmul(m1, m2))\n",
    "\n",
    "print(np.dot(m1, m2))\n",
    "m1 @ m2"
   ]
  },
  {
   "cell_type": "code",
   "execution_count": null,
   "metadata": {},
   "outputs": [],
   "source": [
    "# determinante di matrice tramite il metodo det()\n",
    "matrix = np.array([[1, 2, 8], [3, 4, 9], [5, 6, 10]])\n",
    "det = np.linalg.det(matrix)\n",
    "print(det)"
   ]
  },
  {
   "cell_type": "code",
   "execution_count": null,
   "metadata": {},
   "outputs": [],
   "source": [
    "a = np.array([ [[1, 2], [3, 4]], [[1, 2], [2, 1]], [[1, 3], [3, 1]] ])\n",
    "print(a.shape)\n",
    "\n",
    "np.linalg.det(a)"
   ]
  },
  {
   "cell_type": "code",
   "execution_count": null,
   "metadata": {},
   "outputs": [],
   "source": [
    "x = [1,2,3,4]\n",
    "y = [3,5,7,10] # 10, not 9, so the fit isn't perfect\n",
    "\n",
    "fit = np.polyfit(\n",
    "    x,y,                # i valori di x e y\n",
    "    1                   # il grado del polinomio di regressione\n",
    "    )                   # la funzione restituisce i coefficienti della funzione di regressione\n",
    "\n",
    "print(fit)              \n",
    "\n",
    "fit_fn = np.poly1d(fit) # la funzione poly1d() restituisce la funzione di regressione\n",
    "\n",
    "print(fit_fn)\n",
    "\n",
    "# fit_fn is now a function which takes in x and returns an estimate for y\n",
    "\n",
    "plt.plot(x,y, 'yo', x, fit_fn(x), '--k')\n",
    "plt.xlim(0, 5)\n",
    "plt.ylim(0, 12)\n"
   ]
  },
  {
   "cell_type": "code",
   "execution_count": 77,
   "metadata": {},
   "outputs": [
    {
     "data": {
      "image/png": "[encoded data removed]",
      "text/plain": [
       "<Figure size 640x480 with 1 Axes>"
      ]
     },
     "metadata": {},
     "output_type": "display_data"
    },
    {
     "name": "stdout",
     "output_type": "stream",
     "text": [
      "[100. 100. 100. 100. 100. 100. 100. 100. 100. 100. 100. 100. 100. 100.\n",
      " 100. 100. 100. 100. 100. 100. 100. 100. 100. 100. 100.   0.   0.   0.\n",
      "   0.   0.   0.   0.   0.   0.   0.   0.   0.   0.   0.   0.   0.   0.\n",
      "   0.   0.   0.   0.   0.   0.   0.   0. -inf -inf -inf -inf -inf -inf\n",
      " -inf -inf -inf -inf -inf -inf -inf -inf -inf -inf -inf -inf -inf -inf\n",
      " -inf -inf -inf -inf -inf  inf  inf  inf  inf  inf  inf  inf  inf  inf\n",
      "  inf  inf  inf  inf  inf  inf  inf  inf  inf  inf  inf  inf  inf  inf\n",
      "  inf  inf 200. 200. 200. 200. 200. 200. 200. 200. 200. 200. 200. 200.\n",
      " 200. 200. 200. 200. 200. 200. 200. 200. 200. 200. 200. 200. 200. 100.\n",
      " 100. 100. 100. 100. 100. 100. 100. 100. 100. 100. 100. 100. 100. 100.\n",
      " 100. 100. 100. 100. 100. 100. 100. 100. 100. 100. 100. 100. 100. 100.\n",
      " 100. 100. 100. 100. 100. 100. 100. 100. 100. 100. 100. 100. 100. 100.\n",
      " 100. 100. 100. 100. 100. 100. 100.  -0.  -0.  -0.  -0.  -0.  -0.  -0.\n",
      "  -0.  -0.  -0.  -0.  -0.  -0.  -0.  -0.  -0.  -0.  -0.  -0.  -0.  -0.\n",
      "  -0.  -0.  -0.  -0. -inf -inf -inf -inf -inf -inf -inf -inf -inf -inf\n",
      " -inf -inf -inf -inf -inf -inf -inf -inf -inf -inf -inf -inf -inf -inf\n",
      " -inf  inf  inf  inf  inf  inf  inf  inf  inf  inf  inf  inf  inf  inf\n",
      "  inf  inf  inf  inf  inf  inf  inf  inf  inf  inf  inf  inf 200. 200.\n",
      " 200. 200. 200. 200. 200. 200. 200. 200. 200. 200. 200. 200. 200. 200.\n",
      " 200. 200. 200. 200. 200. 200. 200. 200. 200. 100. 100. 100. 100. 100.\n",
      " 100. 100. 100. 100. 100. 100. 100. 100. 100. 100. 100. 100. 100. 100.\n",
      " 100. 100. 100. 100. 100. 100.]\n"
     ]
    },
    {
     "name": "stderr",
     "output_type": "stream",
     "text": [
      "/tmp/ipykernel_6179/548448423.py:11: RuntimeWarning: divide by zero encountered in divide\n",
      "  diff = (np.around(y2) - np.around(y1))/np.around(y2) * 100\n"
     ]
    }
   ],
   "source": [
    "x = np.linspace(0.0, 2*np.pi, 300)\n",
    "y1 = np.sin(x)\n",
    "y2 = np.cos(x)\n",
    "\n",
    "plt.plot(x, y1, 'r--', x, y2, 'b--')\n",
    "plt.show()\n",
    "\n",
    "print(diff)"
   ]
  },
  {
   "cell_type": "code",
   "execution_count": null,
   "metadata": {},
   "outputs": [],
   "source": [
    "palette = np.array([[0, 0, 0],         # black\n",
    "                    [255, 0, 0],       # red\n",
    "                    [0, 255, 0],       # green\n",
    "                    [0, 0, 255],       # blue\n",
    "                    [255, 255, 255]])  # white\n",
    "\n",
    "image = np.array([[0, 1, 2, 0],  # each value corresponds to a color in the palette\n",
    "                  [0, 3, 4, 0]])\n",
    "\n",
    "palette[image]  # the (2, 4, 3) color image\n",
    "\n"
   ]
  },
  {
   "cell_type": "code",
   "execution_count": 61,
   "metadata": {},
   "outputs": [
    {
     "data": {
      "text/plain": [
       "-1.0"
      ]
     },
     "execution_count": 61,
     "metadata": {},
     "output_type": "execute_result"
    }
   ],
   "source": [
    "rng = default_rng()\n",
    "a = rng.integers(5, size=(3, 3))\n",
    "np.linalg.det(a)"
   ]
  }
 ],
 "metadata": {
  "kernelspec": {
   "display_name": "Python 3",
   "language": "python",
   "name": "python3"
  },
  "language_info": {
   "codemirror_mode": {
    "name": "ipython",
    "version": 3
   },
   "file_extension": ".py",
   "mimetype": "text/x-python",
   "name": "python",
   "nbconvert_exporter": "python",
   "pygments_lexer": "ipython3",
   "version": "3.10.6"
  },
  "orig_nbformat": 4,
  "vscode": {
   "interpreter": {
    "hash": "916dbcbb3f70747c44a77c7bcd40155683ae19c65e1c03b4aa3499c5328201f1"
   }
  }
 },
 "nbformat": 4,
 "nbformat_minor": 2
}
