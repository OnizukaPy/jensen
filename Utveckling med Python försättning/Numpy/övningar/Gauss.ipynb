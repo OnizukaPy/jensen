{
 "cells": [
  {
   "cell_type": "code",
   "execution_count": 236,
   "metadata": {},
   "outputs": [],
   "source": [
    "# Lösa systemet av ekvationer Ax = b med Gausselimination\n",
    "# med pivoting\n",
    "\n",
    "import numpy as np\n",
    "import sys"
   ]
  },
  {
   "attachments": {},
   "cell_type": "markdown",
   "metadata": {},
   "source": [
    "FUNKTIONER"
   ]
  },
  {
   "cell_type": "code",
   "execution_count": 22,
   "metadata": {},
   "outputs": [],
   "source": [
    "# utbytta rader\n",
    "def utbyta_rader(m, a, b):\n",
    "    \"\"\"\n",
    "    Byter plats på raderna a och b i matrisen m\n",
    "    \"\"\"\n",
    "    temp = m[a].copy()\n",
    "    m[a] = m[b]\n",
    "    m[b] = temp\n",
    "    return m"
   ]
  },
  {
   "cell_type": "code",
   "execution_count": 23,
   "metadata": {},
   "outputs": [],
   "source": [
    "# moltiplikation av en rad med ett tal\n",
    "def mult_rad(m, n, a, b):\n",
    "    \"\"\"\n",
    "    Multiplicerar raden a i matrisen m med talet b\n",
    "    \"\"\"\n",
    "    m[a] = m[a] * b\n",
    "    n[a] = n[a] * b\n",
    "    return m, n"
   ]
  },
  {
   "cell_type": "code",
   "execution_count": 24,
   "metadata": {},
   "outputs": [],
   "source": [
    "# ersätt en rad i matrisen med den som erhålls genom att lägga till en multipel av en annan rad.\n",
    "def ersatt_rad(m, n, a, b, c):\n",
    "    \"\"\"\n",
    "    Ersätter raden a i matrisen m med raden b multiplicerad med talet c\n",
    "    \"\"\"\n",
    "    m[a] = m[a]*c + m[b]\n",
    "    n[a] = n[a]*c + n[b]\n",
    "    return m, n"
   ]
  },
  {
   "cell_type": "code",
   "execution_count": 3,
   "metadata": {},
   "outputs": [],
   "source": [
    "# printa ut systemet av ekvationer\n",
    "def printa_ekvationer(a, b):\n",
    "    alfabetet = \"abcdefghijklmnopqrstuvwxyz\"\n",
    "    for i in range(len(a)):\n",
    "        print(\" + \".join([f\"{a[i,j]}{alfabetet[j]}\" for j in range(len(a))]), \"=\", b[i])"
   ]
  },
  {
   "cell_type": "code",
   "execution_count": null,
   "metadata": {},
   "outputs": [],
   "source": [
    "# printa ut om en matris är skalär\n",
    "def printa_skalar(a):\n",
    "    i, j = a.shape\n",
    "    count = i * j\n",
    "    check = 1\n",
    "    for r in range(1, i):\n",
    "        for c in range(0, j-1):\n",
    "            if a[r][c] == 0:\n",
    "                check += 1\n",
    "            else:\n",
    "                check -= 1\n",
    "    if check == count / 3:\n",
    "        print(\"Matrisen är skalär\")\n",
    "        return True\n",
    "    else:\n",
    "        print(\"Matrisen är inte skalär\")\n",
    "        return False\n"
   ]
  },
  {
   "cell_type": "code",
   "execution_count": 27,
   "metadata": {},
   "outputs": [],
   "source": [
    "# ordna matrisen på raderna\n",
    "def ordna_matris(a, b):\n",
    "    \"\"\"\n",
    "    Ordna matriser a och b på första värde i raderna   \n",
    "    \"\"\"\n",
    "    \n",
    "    for i in range(len(a)-1):\n",
    "        for j in range(1, len(a)):\n",
    "            if a[i, j-1] < a[i+1, j]:\n",
    "                utbyta_rader(a, i, i+1)\n",
    "                utbyta_rader(b, i, i+1)\n",
    "\n",
    "    return a, b\n",
    "# mettere la riga con valore zero in fondo"
   ]
  },
  {
   "cell_type": "code",
   "execution_count": 35,
   "metadata": {},
   "outputs": [],
   "source": [
    "def ordna_matris2(a, b):\n",
    "    \"\"\"\n",
    "    Ordna matriser a och b på första värde i raderna   \n",
    "    \"\"\"\n",
    "    n = len(a)\n",
    "    for i in range(n):\n",
    "        if a[i, 0] == 0:\n",
    "            utbyta_rader(a, i, n-1)\n",
    "            utbyta_rader(b, i, n-1)\n",
    "\n",
    "    return a, b"
   ]
  },
  {
   "cell_type": "code",
   "execution_count": null,
   "metadata": {},
   "outputs": [],
   "source": [
    "# beräkna skalär matris\n",
    "def berakna_skalar(a, b):\n",
    "    \"\"\"\n",
    "    Beräkna skalär matris\n",
    "    \"\"\"\n",
    "    for j in range(1, len(a)):\n",
    "        for i in range(j, len(a)):\n",
    "            if a[i, j-1] != 0:\n",
    "                k = -(a[i-1, j-1] / a[i, j-1])\n",
    "                #print(k)\n",
    "                ersatt_rad(a, b, i, i-1, k)\n",
    "    \n",
    "    return a, b"
   ]
  },
  {
   "cell_type": "code",
   "execution_count": 222,
   "metadata": {},
   "outputs": [],
   "source": [
    "# Applying Gauss Elimination\n",
    "def gauss_elimination(a, b):\n",
    "    n = len(b)\n",
    "    j = 0\n",
    "    #print('n:', n)\n",
    "    while j < 2:\n",
    "        #print('j:', j)\n",
    "        for i in range(j, n-1):\n",
    "            #print('i:', i)\n",
    "            k = (a[i+1, j] / a[j, j])\n",
    "            a[i+1] = k * a[j] - a[i+1]\n",
    "            b[i+1] = k * b[j] - b[i+1]\n",
    "            #printa_ekvationer(a, b)\n",
    "        #print('\\n')\n",
    "        j += 1\n",
    "    \n",
    "    return a, b"
   ]
  },
  {
   "cell_type": "code",
   "execution_count": 228,
   "metadata": {},
   "outputs": [],
   "source": [
    "def solve_gauss(a, b):\n",
    "    n=len(b)\n",
    "    x = np.zeros(n)\n",
    "    for i in range(n-1, -1, -1):\n",
    "        print('i+1:n:', f'{i+1}:{n}')\n",
    "        print('a[i, i+1:n]:', a[i, i+1:n])\n",
    "        print('x[i+1:n]:', x[i+1:n])\n",
    "        x[i] = (b[i] - np.dot(a[i, i+1:n], x[i+1:n]))/a[i, i]\n",
    "    #x[n-1]=(b[n-1]                                      )/a[n-1, n-1]\n",
    "    #x[n-2]=(b[n-2]-a[n-2, n-1]*x[n-1]                   )/a[n-2, n-2]\n",
    "    #x[n-3]=(b[n-3]-a[n-3, n-2]*x[n-2]-a[n-2, n-1]*x[n-1])/a[n-3, n-3]\n",
    "    \n",
    "    return x"
   ]
  },
  {
   "attachments": {},
   "cell_type": "markdown",
   "metadata": {},
   "source": [
    "CODEN"
   ]
  },
  {
   "cell_type": "code",
   "execution_count": 237,
   "metadata": {},
   "outputs": [
    {
     "name": "stdout",
     "output_type": "stream",
     "text": [
      "1.0a + 4.0b = 5.0\n",
      "0.0a + 5.0b = 7.0\n",
      "\n",
      "\n",
      "i+1:n: 2:2\n",
      "a[i, i+1:n]: []\n",
      "x[i+1:n]: []\n",
      "i+1:n: 1:2\n",
      "a[i, i+1:n]: [4.]\n",
      "x[i+1:n]: [1.4]\n",
      "[-0.6  1.4]\n"
     ]
    }
   ],
   "source": [
    "a = np.array([[1, 4], \n",
    "              [0, 5],], dtype=float)\n",
    "\n",
    "b = np.array([5, 7], dtype=float)\n",
    "ordna_matris2(a, b)\n",
    "#berakna_skalar(a, b)\n",
    "printa_ekvationer(a, b)\n",
    "print('\\n')\n",
    "gauss_elimination(a, b)\n",
    "print(solve_gauss(a, b))\n"
   ]
  },
  {
   "cell_type": "code",
   "execution_count": null,
   "metadata": {},
   "outputs": [],
   "source": [
    "gauss_elimination(a, b)"
   ]
  },
  {
   "cell_type": "code",
   "execution_count": 107,
   "metadata": {},
   "outputs": [
    {
     "name": "stdout",
     "output_type": "stream",
     "text": [
      "7.0a + 6.0b = 8.0\n",
      "0.0a + 5.0b = 5.0\n",
      "\n",
      "\n"
     ]
    },
    {
     "data": {
      "text/plain": [
       "(array([[7., 6.],\n",
       "        [0., 5.]]),\n",
       " array([8., 5.]))"
      ]
     },
     "execution_count": 107,
     "metadata": {},
     "output_type": "execute_result"
    }
   ],
   "source": [
    "a = a[1:, 1:]\n",
    "b = b[1:]\n",
    "gauss_elimination(a, b)"
   ]
  },
  {
   "cell_type": "code",
   "execution_count": 103,
   "metadata": {},
   "outputs": [],
   "source": [
    "for i in range(n):\n",
    "    a, b = gauss_elimination(a[n:,n:], b[n:])"
   ]
  },
  {
   "cell_type": "code",
   "execution_count": 104,
   "metadata": {},
   "outputs": [],
   "source": [
    "printa_ekvationer(a, b)"
   ]
  },
  {
   "cell_type": "code",
   "execution_count": 97,
   "metadata": {},
   "outputs": [
    {
     "name": "stdout",
     "output_type": "stream",
     "text": [
      "[[ 7.  6.]\n",
      " [14.  7.]]\n",
      "[ 8. 11.]\n"
     ]
    }
   ],
   "source": [
    "a2 = a[1:,1:]\n",
    "b2 = b[1:]\n",
    "print(a2)\n",
    "print(b2)"
   ]
  },
  {
   "cell_type": "code",
   "execution_count": 98,
   "metadata": {},
   "outputs": [
    {
     "name": "stdout",
     "output_type": "stream",
     "text": [
      "7.0a + 6.0b = 8.0\n",
      "0.0a + 5.0b = 5.0\n",
      "\n",
      "\n"
     ]
    },
    {
     "data": {
      "text/plain": [
       "(array([[7., 6.],\n",
       "        [0., 5.]]),\n",
       " array([8., 5.]))"
      ]
     },
     "execution_count": 98,
     "metadata": {},
     "output_type": "execute_result"
    }
   ],
   "source": [
    "gauss(a2, b2)"
   ]
  },
  {
   "cell_type": "code",
   "execution_count": 44,
   "metadata": {},
   "outputs": [
    {
     "name": "stdout",
     "output_type": "stream",
     "text": [
      "1.0a + 4.0b + 4.0c = 5.0\n",
      "3.0a + 5.0b + 6.0c = 7.0\n",
      "4.0a + 2.0b + 9.0c = 9.0\n"
     ]
    }
   ],
   "source": [
    "ordna_matris2(a, b)\n",
    "printa_ekvationer(a, b)"
   ]
  },
  {
   "cell_type": "code",
   "execution_count": 30,
   "metadata": {},
   "outputs": [
    {
     "ename": "IndexError",
     "evalue": "index 2 is out of bounds for axis 0 with size 2",
     "output_type": "error",
     "traceback": [
      "\u001b[0;31m---------------------------------------------------------------------------\u001b[0m",
      "\u001b[0;31mIndexError\u001b[0m                                Traceback (most recent call last)",
      "Cell \u001b[0;32mIn [30], line 3\u001b[0m\n\u001b[1;32m      1\u001b[0m \u001b[39m# Back Substitution\u001b[39;00m\n\u001b[1;32m      2\u001b[0m x \u001b[39m=\u001b[39m np\u001b[39m.\u001b[39mzeros(n)\n\u001b[0;32m----> 3\u001b[0m x[n\u001b[39m-\u001b[39m\u001b[39m1\u001b[39m] \u001b[39m=\u001b[39m a[n\u001b[39m-\u001b[39;49m\u001b[39m1\u001b[39;49m][n]\u001b[39m/\u001b[39ma[n\u001b[39m-\u001b[39m\u001b[39m1\u001b[39m][n\u001b[39m-\u001b[39m\u001b[39m1\u001b[39m]\n\u001b[1;32m      5\u001b[0m \u001b[39mfor\u001b[39;00m i \u001b[39min\u001b[39;00m \u001b[39mrange\u001b[39m(n\u001b[39m-\u001b[39m\u001b[39m2\u001b[39m,\u001b[39m-\u001b[39m\u001b[39m1\u001b[39m,\u001b[39m-\u001b[39m\u001b[39m1\u001b[39m):\n\u001b[1;32m      6\u001b[0m     x[i] \u001b[39m=\u001b[39m a[i][n]\n",
      "\u001b[0;31mIndexError\u001b[0m: index 2 is out of bounds for axis 0 with size 2"
     ]
    }
   ],
   "source": [
    "# Back Substitution\n",
    "x = np.zeros(n)\n",
    "x[n-1] = a[n-2][n-1]/a[n-1][n-1]\n",
    "\n",
    "for i in range(n-2,-1,-1):\n",
    "    x[i] = a[i][n]\n",
    "    \n",
    "    for j in range(i+1,n):\n",
    "        x[i] = x[i] - a[i][j]*x[j]\n",
    "    \n",
    "    x[i] = x[i]/a[i][i]"
   ]
  },
  {
   "cell_type": "code",
   "execution_count": 239,
   "metadata": {},
   "outputs": [
    {
     "name": "stdout",
     "output_type": "stream",
     "text": [
      "-0.0\n",
      "0.0a + 2.0b + 6.0c = 3.0\n",
      "0.0a + 2.0b + 6.0c = 3.0\n",
      "0.0a + 4.0b + 4.0c = 2.666666666666667\n"
     ]
    }
   ],
   "source": [
    "for i in range(1, len(a)):\n",
    "    if a[i, 0] != 0:\n",
    "        k = -(a[i-1, 0] / a[i, 0])\n",
    "        print(k)\n",
    "        ersatt_rad(a, b, i, i-1, k)\n",
    "        ordna_matris(a, b)\n",
    "        printa_ekvationer(a, b)\n",
    "#printa_ekvationer(a, b)\n"
   ]
  },
  {
   "cell_type": "code",
   "execution_count": null,
   "metadata": {},
   "outputs": [],
   "source": [
    "k = -(a[0][0] / a[1][0])\n",
    "print(k)"
   ]
  },
  {
   "cell_type": "code",
   "execution_count": null,
   "metadata": {},
   "outputs": [],
   "source": [
    "print(a)"
   ]
  },
  {
   "cell_type": "code",
   "execution_count": null,
   "metadata": {},
   "outputs": [],
   "source": [
    "a = np.array([[2, 1, -3], \n",
    "              [-1, 3, 2], \n",
    "              [3, 1, -3]], dtype=float)\n",
    "\n",
    "b = np.array([-1, 12, 0], dtype=float)\n",
    "printa_ekvationer(a, b)\n",
    "\n"
   ]
  },
  {
   "cell_type": "code",
   "execution_count": null,
   "metadata": {},
   "outputs": [],
   "source": [
    "k = -(a[0][0] / a[1][0])\n",
    "print(k)\n",
    "a[1] = a[1] * k + a[0]\n",
    "printa_ekvationer(a, b)"
   ]
  },
  {
   "cell_type": "code",
   "execution_count": null,
   "metadata": {},
   "outputs": [],
   "source": [
    "k = -(a[0][0] / a[2][0])\n",
    "print(k)\n",
    "a[2] = a[2] * k + a[0]\n",
    "printa_ekvationer(a, b)"
   ]
  },
  {
   "cell_type": "code",
   "execution_count": null,
   "metadata": {},
   "outputs": [],
   "source": [
    "k = -(a[1][1] / a[2][1])\n",
    "print(k)\n",
    "a[2] = a[2] * k + a[1]\n",
    "printa_ekvationer(a, b)"
   ]
  },
  {
   "cell_type": "code",
   "execution_count": null,
   "metadata": {},
   "outputs": [],
   "source": [
    "\n",
    "print(a)\n",
    "\n",
    "# utbytta rader\n",
    "print(utbyta_rader(a, 1, 2))\n",
    "\n",
    "# moltiplikation av en rad med ett tal\n",
    "print(mult_rad(a, 0, 2))\n",
    "\n",
    "# ersätt en rad i matrisen med den som erhålls genom att lägga till en multipel av en annan rad.\n",
    "print(ersatt_rad(a, 1, 0, 2))"
   ]
  }
 ],
 "metadata": {
  "kernelspec": {
   "display_name": "Python 3",
   "language": "python",
   "name": "python3"
  },
  "language_info": {
   "codemirror_mode": {
    "name": "ipython",
    "version": 3
   },
   "file_extension": ".py",
   "mimetype": "text/x-python",
   "name": "python",
   "nbconvert_exporter": "python",
   "pygments_lexer": "ipython3",
   "version": "3.10.6 (main, Nov 14 2022, 16:10:14) [GCC 11.3.0]"
  },
  "orig_nbformat": 4,
  "vscode": {
   "interpreter": {
    "hash": "916dbcbb3f70747c44a77c7bcd40155683ae19c65e1c03b4aa3499c5328201f1"
   }
  }
 },
 "nbformat": 4,
 "nbformat_minor": 2
}
