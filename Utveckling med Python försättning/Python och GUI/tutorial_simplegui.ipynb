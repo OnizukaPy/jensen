{
 "cells": [
  {
   "cell_type": "markdown",
   "metadata": {},
   "source": [
    "TUTORIAL  "
   ]
  },
  {
   "cell_type": "code",
   "execution_count": null,
   "metadata": {},
   "outputs": [],
   "source": [
    "## Tutorial\n",
    "# https://www.youtube.com/watch?v=-_z2RPAH0Qk\n",
    "# https://realpython.com/lessons/simplify-gui-pysimplegui-overview/\n",
    "# https://github.com/PySimpleGUI/PySimpleGUI/tree/master/DemoPrograms\n",
    "# https://www.pysimplegui.org/en/latest/cookbook/\n"
   ]
  },
  {
   "cell_type": "code",
   "execution_count": 8,
   "metadata": {},
   "outputs": [],
   "source": [
    "# Import library\n",
    "import PySimpleGUI as sg"
   ]
  },
  {
   "cell_type": "code",
   "execution_count": null,
   "metadata": {},
   "outputs": [],
   "source": [
    "# semplice finestra di dialogo\n",
    "window = sg.Window(\n",
    "                title='Hello World',        # settare il titolo della finestra\n",
    "                layout=[[]],                # assegnare un layout come una matrice\n",
    "                margins=(100,50)            # settare i margini della finestra\n",
    "            ).read()                        # concludere con il metodo read che crea un dizionario con delle informazioni\n",
    "\n",
    "window.close()"
   ]
  },
  {
   "cell_type": "code",
   "execution_count": 11,
   "metadata": {},
   "outputs": [],
   "source": [
    "# Alcune integrazioni nella finestra con configurazione di layout esterna\n",
    "\n",
    "# crea un layout\n",
    "layout = [\n",
    "    [sg.Text('Hello from PySimpleGUI')],        # questo crea una stringa di testo nella finestra\n",
    "    [sg.Button('OK')]                           # questo crea un pulsante. Il pulsante restituisce un valore stringa uguale al suo nome\n",
    "]\n",
    "\n",
    "# crea una finestra\n",
    "window = sg.Window('Demo', layout)\n",
    "\n",
    "# creare un evento loop per tenere aperta la finestra e chiuderla solo alla pressione della X o del bottone ok\n",
    "while True:\n",
    "    event, values = window.read()               # salva nelle due variabili i valori del dizionario che crea la funzione read\n",
    "    if event == 'OK' or event == sg.WIN_CLOSED: # nell'evento richiami il nome del pulsante oppure la pressione della X della finestra\n",
    "        break\n",
    "\n",
    "window.close()                                  # interrompe il loop della finestra e la chiude\n",
    "\n"
   ]
  },
  {
   "cell_type": "code",
   "execution_count": 14,
   "metadata": {},
   "outputs": [
    {
     "name": "stdout",
     "output_type": "stream",
     "text": [
      "OK   \n"
     ]
    }
   ],
   "source": [
    "# finestra con inserimento di informazioni\n",
    "\n",
    "sg.theme('Topanga')      # Add some color to the window\n",
    "\n",
    "# Very basic window.  Return values using auto numbered keys\n",
    "\n",
    "layout = [\n",
    "    [sg.Text('Please enter your Name, Address, Phone')],        # prima riga\n",
    "    [sg.Text('Name', size=(15, 1)), sg.InputText()],            # campo 1\n",
    "    [sg.Text('Address', size=(15, 1)), sg.InputText()],         # campo 2\n",
    "    [sg.Text('Phone', size=(15, 1)), sg.InputText()],           # campo 3\n",
    "    [sg.Submit(), sg.Cancel()]                                  # pulsanti si invio e cancella\n",
    "]\n",
    "\n",
    "window = sg.Window('Simple data entry window', layout)\n",
    "event, values = window.read()\n",
    "window.close()\n",
    "\n",
    "print(event, values[0], values[1], values[2])    # the input data looks like a simple list when auto numbered"
   ]
  }
 ],
 "metadata": {
  "kernelspec": {
   "display_name": "Python 3.10.6 64-bit",
   "language": "python",
   "name": "python3"
  },
  "language_info": {
   "codemirror_mode": {
    "name": "ipython",
    "version": 3
   },
   "file_extension": ".py",
   "mimetype": "text/x-python",
   "name": "python",
   "nbconvert_exporter": "python",
   "pygments_lexer": "ipython3",
   "version": "3.10.6"
  },
  "orig_nbformat": 4,
  "vscode": {
   "interpreter": {
    "hash": "916dbcbb3f70747c44a77c7bcd40155683ae19c65e1c03b4aa3499c5328201f1"
   }
  }
 },
 "nbformat": 4,
 "nbformat_minor": 2
}
