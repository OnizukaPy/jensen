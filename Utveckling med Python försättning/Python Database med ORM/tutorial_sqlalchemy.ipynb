{
 "cells": [
  {
   "cell_type": "markdown",
   "metadata": {},
   "source": [
    "TUTORIAL    "
   ]
  },
  {
   "cell_type": "code",
   "execution_count": null,
   "metadata": {},
   "outputs": [],
   "source": [
    "# https://www.youtube.com/watch?v=jaKMm9njcJc&list=PL4iRawDSyRvVd1V7A45YtAGzDk6ljVPm1"
   ]
  },
  {
   "cell_type": "code",
   "execution_count": null,
   "metadata": {},
   "outputs": [],
   "source": [
    "from sqlalchemy import create_engine\n",
    "from sqlalchemy.orm import sessionmaker\n",
    "from sqlalchemy.ext.declarative import declarative_base\n",
    "from sqlalchemy import Column, Integer, String\n",
    "from sqlalchemy_utils import database_exists, create_database"
   ]
  },
  {
   "cell_type": "code",
   "execution_count": null,
   "metadata": {},
   "outputs": [],
   "source": [
    "# primo passo creare un engine importando le seguenti librerie\n",
    "# from sqlalchemy import create_engine\n",
    "\n",
    "# l'engine deve puntare a un DB esistente. In questo caso usando il protocollo sqlite \n",
    "engine = create_engine('sqlite:///home/onizuka-host/Zoho WorkDrive (Catalano Consulenze Tecniche)/My Folders/Documenti personali_/Corsi/Scuola di Python con Jensen/Esercizi/jensen/Utveckling med Python försättning/Python Database med ORM/prova.db')\n",
    "\n",
    "# secondo passo creare una sessione con le suguenti librerie\n",
    "# from sqlalchemy.orm import sessionmaker\n",
    "\n",
    "# la sessione avrà come argomento bind= l'engine creato in precedenza\n",
    "Session = sessionmaker(bind=engine)\n",
    "session = Session()\n",
    "\n",
    "# creare una dichiarazione \n",
    "# from sqlalchemy.ext.declarative import declarative_base\n",
    "Base = declarative_base()\n",
    "\n"
   ]
  },
  {
   "cell_type": "code",
   "execution_count": null,
   "metadata": {},
   "outputs": [],
   "source": [
    "# Create database\n",
    "\n",
    "# Instansiera dbmoter\n",
    "engine = create_engine('sqlite:///home/onizuka-host/Zoho WorkDrive (Catalano Consulenze Tecniche)/My Folders/Documenti personali_/Corsi/Scuola di Python con Jensen/Esercizi/jensen/Utveckling med Python försättning/Python Database med ORM/prova.db')\n",
    "\n",
    "# instansiera Session\n",
    "session = sessionmaker(bind=engine)\n",
    "\n",
    "# Skapa tabeller med klass\n",
    "Base = declarative_base()\n",
    "\n",
    "class User(Base):\n",
    "\n",
    "    __tablename__ = \"user_account\"\n",
    "\n",
    "    id  = Column(Integer, primary_key=True)\n",
    "    name  = Column(String)\n",
    "\n",
    "    def __init__(self, name):\n",
    "        self.name = name"
   ]
  }
 ],
 "metadata": {
  "kernelspec": {
   "display_name": "Python 3.10.6 64-bit",
   "language": "python",
   "name": "python3"
  },
  "language_info": {
   "name": "python",
   "version": "3.10.6"
  },
  "orig_nbformat": 4,
  "vscode": {
   "interpreter": {
    "hash": "916dbcbb3f70747c44a77c7bcd40155683ae19c65e1c03b4aa3499c5328201f1"
   }
  }
 },
 "nbformat": 4,
 "nbformat_minor": 2
}
