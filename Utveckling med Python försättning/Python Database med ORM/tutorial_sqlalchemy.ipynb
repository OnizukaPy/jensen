{
 "cells": [
  {
   "cell_type": "markdown",
   "metadata": {},
   "source": [
    "TUTORIAL    "
   ]
  },
  {
   "cell_type": "code",
   "execution_count": null,
   "metadata": {},
   "outputs": [],
   "source": [
    "# https://www.youtube.com/watch?v=jaKMm9njcJc&list=PL4iRawDSyRvVd1V7A45YtAGzDk6ljVPm1"
   ]
  },
  {
   "cell_type": "code",
   "execution_count": 2,
   "metadata": {},
   "outputs": [],
   "source": [
    "from sqlalchemy import create_engine, MetaData, Table, Column, Integer, String\n",
    "from sqlalchemy import select\n",
    "from sqlalchemy.orm import sessionmaker\n",
    "from sqlalchemy.ext.declarative import declarative_base\n",
    "from sqlalchemy_utils import database_exists, create_database\n",
    "\n",
    "from faker import Faker\n",
    "import os\n",
    "from random import choice\n",
    "import pandas as pd\n",
    "\n",
    "import PySimpleGUI as sg"
   ]
  },
  {
   "cell_type": "code",
   "execution_count": null,
   "metadata": {},
   "outputs": [],
   "source": [
    "### GUIDA: https://www.tutorialspoint.com/sqlalchemy/sqlalchemy_core_creating_table.htm\n",
    "\n",
    "## 1 - primo passo creare un engine importando le seguenti librerie:\n",
    "# from sqlalchemy import create_engine, MetaData, Table, Column, Integer, String\n",
    "\n",
    "## 2 - caricare un motore con un database usando un qualsiasi servizio come mysql\n",
    "# engine = create_engine('sqlite:///<nomedb>')\n",
    "\n",
    "## 3 - avviare una sessione e dichiarare una classe di base Base da richiamare nella classe delle tabelle\n",
    "# session = sessionmaker(bind=engine)()\n",
    "# Base = declarative_base()\n",
    "\n",
    "## 4 - Creare le tabelle con l+uso delle classi python"
   ]
  },
  {
   "attachments": {},
   "cell_type": "markdown",
   "metadata": {},
   "source": [
    "FUNCTIONS"
   ]
  },
  {
   "cell_type": "code",
   "execution_count": 30,
   "metadata": {},
   "outputs": [],
   "source": [
    "# to show rows from db\n",
    "def show_row_from_db(table):\n",
    "    db = select(table)\n",
    "    for row in session.scalars(db):\n",
    "        print(row)\n"
   ]
  },
  {
   "cell_type": "code",
   "execution_count": 4,
   "metadata": {},
   "outputs": [],
   "source": [
    "# to find last_id in the table\n",
    "def find_last_id(table):\n",
    "    stmt = select(table)\n",
    "    i = 0\n",
    "    for user in session.scalars(stmt):\n",
    "        i += 1\n",
    "    return i"
   ]
  },
  {
   "cell_type": "code",
   "execution_count": 5,
   "metadata": {},
   "outputs": [],
   "source": [
    "# to insert data in a table\n",
    "def insert_data_from_keyboard(table):\n",
    "    \n",
    "    md = table(\n",
    "        id=find_last_id(table)+1, \n",
    "        namn=input('Namn: '), \n",
    "        efternamn=input('Efternamn: '),\n",
    "        medlemsnummer=input('PN: '), \n",
    "        gatuadress=input('Gatuadress: '), \n",
    "        postnummer=int(input('Postnummer: ')), \n",
    "        postadress=int(input('Postadress: ')),\n",
    "        ort=input('Ort: '),\n",
    "        avgift=input('Avgift Y/N: ')\n",
    "        )\n",
    "\n",
    "    print(md)\n",
    "    session.add_all([md])\n",
    "    session.commit()"
   ]
  },
  {
   "cell_type": "code",
   "execution_count": 6,
   "metadata": {},
   "outputs": [],
   "source": [
    "# To insert random data in a table\n",
    "def insert_random(table, last_id, n):\n",
    "    '''\n",
    "    table = name of the table in the database\n",
    "    last_id = the last number av id in the table\n",
    "    n = number av medlem to add\n",
    "    '''\n",
    "    fake = Faker('sv_SE')\n",
    "    first = last_id + 1 \n",
    "    last = first + n\n",
    "\n",
    "    for i in range(first, last):\n",
    "\n",
    "        temp = fake.address().split()\n",
    "\n",
    "        md = table(\n",
    "                id=i, \n",
    "                namn=fake.first_name(), \n",
    "                efternamn=fake.last_name(), \n",
    "                medlemsnummer=fake.ssn(), \n",
    "                gatuadress=temp[0], \n",
    "                postnummer=temp[1], \n",
    "                postadress=temp[2],\n",
    "                ort=temp[3],\n",
    "                avgift=choice(['Y', 'N'])\n",
    "                )\n",
    "\n",
    "        print(md)\n",
    "        session.add_all([md])\n",
    "        session.commit()\n"
   ]
  },
  {
   "cell_type": "code",
   "execution_count": 7,
   "metadata": {},
   "outputs": [],
   "source": [
    "# To delete data\n",
    "\n",
    "def delete_from_db(table, id):\n",
    "    \n",
    "    temp = session.get(table, id)\n",
    "    session.delete(temp)\n",
    "    session.commit()\n",
    "    "
   ]
  },
  {
   "cell_type": "code",
   "execution_count": 8,
   "metadata": {},
   "outputs": [],
   "source": [
    "# delete database\n",
    "def delete_db(db_namn):\n",
    "    file_list = os.listdir('.')\n",
    "\n",
    "    #for file in file_list:\n",
    "    if db_namn in file_list:\n",
    "        try:\n",
    "            os.remove(db_namn)\n",
    "        except OSError as e:\n",
    "            print(e)\n",
    "        else:\n",
    "            print(\"File is deleted successfully\")\n",
    "    else:\n",
    "        print(\"Database is not in the directory\")"
   ]
  },
  {
   "cell_type": "code",
   "execution_count": 55,
   "metadata": {},
   "outputs": [],
   "source": [
    "db_namn = 'ivan.db'\n",
    "\n",
    "engine = create_engine('sqlite:///'+db_namn)\n",
    "connection = engine.connect()\n",
    "session = sessionmaker(bind=engine)()\n",
    "\n",
    "Base = declarative_base()\n",
    "\n",
    "class Medlem(Base):\n",
    "\n",
    "    __tablename__ = \"Medlem\"\n",
    "\n",
    "    id = Column(Integer, primary_key=True)\n",
    "    namn = Column(String(255))\n",
    "    efternamn = Column(String(255))\n",
    "    medlemsnummer = Column(String(255))\n",
    "    gatuadress = Column(String(255))\n",
    "    postnummer = Column(Integer)\n",
    "    postadress = Column(Integer)\n",
    "    ort = Column(String(255))\n",
    "    avgift = Column(String(1))\n",
    "\n",
    "    def __init__(self, id, namn, efternamn, medlemsnummer, gatuadress, postnummer, postadress, ort, avgift):\n",
    "\n",
    "        self.id = id\n",
    "        self.namn = namn\n",
    "        self.efternamn = efternamn\n",
    "        self.medlemsnummer = medlemsnummer\n",
    "        self.gatuadress = gatuadress\n",
    "        self.postnummer = postnummer\n",
    "        self.postadress = postadress\n",
    "        self.ort = ort\n",
    "        self.avgift = avgift\n",
    "    \n",
    "    def __repr__(self) -> str:\n",
    "        return f\"Medlem({self.id!r}, {self.namn!r}, {self.efternamn!r},{self.medlemsnummer!r}, {self.gatuadress!r} {self.postnummer!r} {self.ort!r}, Betalt avgift? {self.avgift!r})\"\n",
    "\n",
    "Base.metadata.create_all(engine)\n",
    "\n"
   ]
  },
  {
   "cell_type": "code",
   "execution_count": null,
   "metadata": {},
   "outputs": [],
   "source": [
    "insert_random(Medlem, 0, 100)"
   ]
  },
  {
   "cell_type": "code",
   "execution_count": 22,
   "metadata": {},
   "outputs": [
    {
     "name": "stdout",
     "output_type": "stream",
     "text": [
      "Medlem(id=102, namn='ivan', efternamn='c', medlemsnummer ='2', gatuadress ='f', postnummer =2, postadress ='f', postadress ='f', avgift='Y')\n"
     ]
    }
   ],
   "source": [
    "insert_data_from_keyboard(Medlem)"
   ]
  },
  {
   "cell_type": "code",
   "execution_count": 10,
   "metadata": {},
   "outputs": [
    {
     "data": {
      "text/plain": [
       "9"
      ]
     },
     "execution_count": 10,
     "metadata": {},
     "output_type": "execute_result"
    }
   ],
   "source": [
    "# find the last id in the table\n",
    "\n",
    "find_last_id(Medlem)\n"
   ]
  },
  {
   "cell_type": "code",
   "execution_count": 21,
   "metadata": {},
   "outputs": [
    {
     "name": "stdout",
     "output_type": "stream",
     "text": [
      "Mata in data i tabellen\n",
      "Medlem(id=101, namn='ivan', efternamn='cat', medlemsnummer ='86', gatuadress ='via', postnummer =2, postadress ='busto', postadress ='busto', avgift='Y')\n"
     ]
    }
   ],
   "source": [
    "text = input('Vill du skapa alla medlem random? Y/n: ')\n",
    "\n",
    "if 'Y' in text.upper():\n",
    "    insert_random(Medlem, find_last_id(Medlem), 100)\n",
    "else:\n",
    "    while True:\n",
    "        print('Mata in data i tabellen')\n",
    "        insert_data_from_keyboard(Medlem)\n",
    "        check = input('Vill du forssätta? Y/n: ')\n",
    "        if 'Y' not in text.upper(): \n",
    "            break\n",
    "    \n"
   ]
  },
  {
   "cell_type": "code",
   "execution_count": 11,
   "metadata": {},
   "outputs": [
    {
     "name": "stdout",
     "output_type": "stream",
     "text": [
      "<sqlalchemy.engine.result.ScalarResult object at 0x7f55de897040>\n",
      "Medlem(5, 'e', 'r','2', 'r' 2 'r', Betalt avgift? 'Y')\n",
      "Medlem(6, 'e', 'r','8', 't' 6 't', Betalt avgift? 'N')\n",
      "Medlem(7, 'e', 'r','8', 't' 6 't', Betalt avgift? 'N')\n",
      "Medlem(8, 'e', 'r','8', 't' 6 't', Betalt avgift? 'N')\n",
      "Medlem(9, 'e', 'r','8', 't' 6 't', Betalt avgift? 'N')\n",
      "Medlem(11, 'e', 'e','5', 'r' 6 'e', Betalt avgift? 'Y')\n"
     ]
    }
   ],
   "source": [
    "\n",
    "\n",
    "stmt = select(Medlem).where(Medlem.namn.in_(['e']))\n",
    "print(session.scalars(stmt))\n",
    "for user in session.scalars(stmt):\n",
    "    if user != None:\n",
    "        print(user)\n",
    "    else:\n",
    "        print('vuoto')\n",
    "    #session.delete(user)\n",
    "    #session.commit()"
   ]
  },
  {
   "cell_type": "code",
   "execution_count": 8,
   "metadata": {},
   "outputs": [
    {
     "name": "stdout",
     "output_type": "stream",
     "text": [
      "File is deleted successfully\n"
     ]
    }
   ],
   "source": [
    "db_namn = 'ivan.db'\n",
    "delete_db(db_namn)"
   ]
  },
  {
   "cell_type": "code",
   "execution_count": 56,
   "metadata": {},
   "outputs": [],
   "source": [
    "delete_from_db(Medlem, find_last_id(Medlem))"
   ]
  },
  {
   "cell_type": "code",
   "execution_count": 31,
   "metadata": {},
   "outputs": [
    {
     "name": "stdout",
     "output_type": "stream",
     "text": [
      "Medlem(1, 'w', 'w','3', 'w' 3 'w', Betalt avgift? 'Y')\n",
      "Medlem(5, 'e', 'r','2', 'r' 2 'r', Betalt avgift? 'Y')\n",
      "Medlem(6, 'e', 'r','8', 't' 6 't', Betalt avgift? 'N')\n",
      "Medlem(7, 'e', 'r','8', 't' 6 't', Betalt avgift? 'N')\n",
      "Medlem(8, 'e', 'r','8', 't' 6 't', Betalt avgift? 'N')\n",
      "Medlem(9, 'e', 'r','8', 't' 6 't', Betalt avgift? 'N')\n",
      "Medlem(11, 'e', 'e','5', 'r' 6 'e', Betalt avgift? 'Y')\n",
      "Medlem(14, 'R', 'R','2', 'R' 2 'R', Betalt avgift? 'y')\n",
      "Medlem(15, 'E', 'E','2', 'E' 2 'R', Betalt avgift? 'n')\n"
     ]
    }
   ],
   "source": [
    "show_row_from_db(Medlem)"
   ]
  },
  {
   "cell_type": "code",
   "execution_count": 21,
   "metadata": {},
   "outputs": [
    {
     "name": "stdout",
     "output_type": "stream",
     "text": [
      "[(1, 'w', 'w', '3', 'w', 3, 3, 'w', 'Y'), (5, 'e', 'r', '2', 'r', 2, 2, 'r', 'Y'), (6, 'e', 'r', '8', 't', 6, 5, 't', 'N'), (7, 'e', 'r', '8', 't', 6, 5, 't', 'N'), (8, 'e', 'r', '8', 't', 6, 5, 't', 'N'), (9, 'e', 'r', '8', 't', 6, 5, 't', 'N'), (11, 'e', 'e', '5', 'r', 6, 6, 'e', 'Y'), (14, 'R', 'R', '2', 'R', 2, 2, 'R', 'y'), (15, 'E', 'E', '2', 'E', 2, 2, 'R', 'n')]\n",
      "   id namn efternamn medlemsnummer gatuadress  postnummer  postadress ort  \\\n",
      "0   1    w         w             3          w           3           3   w   \n",
      "1   5    e         r             2          r           2           2   r   \n",
      "2   6    e         r             8          t           6           5   t   \n",
      "3   7    e         r             8          t           6           5   t   \n",
      "4   8    e         r             8          t           6           5   t   \n",
      "5   9    e         r             8          t           6           5   t   \n",
      "6  11    e         e             5          r           6           6   e   \n",
      "7  14    R         R             2          R           2           2   R   \n",
      "8  15    E         E             2          E           2           2   R   \n",
      "\n",
      "  avgift  \n",
      "0      Y  \n",
      "1      Y  \n",
      "2      N  \n",
      "3      N  \n",
      "4      N  \n",
      "5      N  \n",
      "6      Y  \n",
      "7      y  \n",
      "8      n  \n"
     ]
    }
   ],
   "source": [
    "query = select([Medlem])\n",
    "connection = engine.connect()\n",
    "ResultProxy = connection.execute(query)\n",
    "ResultSet = ResultProxy.fetchall()\n",
    "print(ResultSet)\n",
    "if ResultSet != []:\n",
    "    df = pd.DataFrame(ResultSet)\n",
    "    df.columns = ResultSet[0].keys()\n",
    "    print(df)\n",
    "else:\n",
    "    print('Tomt')"
   ]
  },
  {
   "cell_type": "code",
   "execution_count": 50,
   "metadata": {},
   "outputs": [],
   "source": [
    "# Window´s functions\n",
    "\n",
    "# Clear\n",
    "def clear(window):\n",
    "    window['-NN-'].update('')\n",
    "    window['-EFNN-'].update('')\n",
    "    window['-MEDN-'].update('')\n",
    "    window['-GA-'].update('')\n",
    "    window['-POSTN-'].update('')\n",
    "    window['-POSTA-'].update('')\n",
    "    window['-ORT-'].update('')\n",
    "    window['-AVG-'].update('')\n",
    "    #window['-OUTPUT-'].update('')\n",
    "\n",
    "# Send\n",
    "def send_data_to_database(table, values):\n",
    "        md = table(\n",
    "            id=find_last_id(table)+1, \n",
    "            namn=values['-NN-'], \n",
    "            efternamn=values['-EFNN-'],\n",
    "            medlemsnummer=values['-MEDN-'], \n",
    "            gatuadress=values['-GA-'], \n",
    "            postnummer=int(values['-POSTN-']), \n",
    "            postadress=int(values['-POSTA-']),\n",
    "            ort=values['-ORT-'],\n",
    "            avgift=values['-AVG-']\n",
    "            )\n",
    "\n",
    "        print(md)\n",
    "        print(values)\n",
    "        session.add_all([md])\n",
    "        session.commit()"
   ]
  },
  {
   "cell_type": "code",
   "execution_count": 53,
   "metadata": {},
   "outputs": [],
   "source": [
    "# finestra con inserimento di informazioni\n",
    "def insert_data_from_interface(table):\n",
    "    sg.theme('Topanga')      # Add some color to the window\n",
    "\n",
    "    # Very basic window.  Return values using auto numbered keys\n",
    "\n",
    "    layout = [\n",
    "        [sg.Text('Please enter data into the table')],        \n",
    "        [sg.Text('Namn', size=(15, 1)), sg.InputText(key='-NN-')],            \n",
    "        [sg.Text('Efternamn', size=(15, 1)), sg.InputText(key='-EFNN-')],         \n",
    "        [sg.Text('Medlemsnummer', size=(15, 1)), sg.InputText(key='-MEDN-')], \n",
    "        [sg.Text('Gatuadress', size=(15, 1)), sg.InputText(key='-GA-')],\n",
    "        [sg.Text('Postnummer', size=(15, 1)), sg.InputText(key='-POSTN-')],\n",
    "        [sg.Text('Postadress', size=(15, 1)), sg.InputText(key='-POSTA-')],\n",
    "        [sg.Text('Ort', size=(15, 1)), sg.InputText(key='-ORT-')],  \n",
    "        [sg.Text('Avgift Y/N', size=(15, 1)), sg.InputText(key='-AVG-')],  \n",
    "        #[sg.In(key='-IN-')], \n",
    "        #[sg.Output(size=(50,10), key='-OUTPUT-')],\n",
    "        [sg.Button('Save and exit'), sg.Cancel(), sg.Button('Save and continue'), sg.Button('Clear'), sg.Button('Random')]                                  \n",
    "    ]\n",
    "\n",
    "    window = sg.Window('Simple data entry window', layout)\n",
    "    while True:\n",
    "\n",
    "        event, values = window.read()\n",
    "        \n",
    "        if event == 'Cancel' or event == sg.WIN_CLOSED: \n",
    "            print('You have not insert data into the table')\n",
    "            break\n",
    "        elif event == 'Clear':\n",
    "            clear(window)\n",
    "\n",
    "        elif event == 'Save and continue':\n",
    "            try:\n",
    "                send_data_to_database(table, values)\n",
    "                clear(window)\n",
    "            except:\n",
    "                print('Error')\n",
    "        elif event == 'Random':\n",
    "            try:\n",
    "                insert_random(table, find_last_id(table), 10)\n",
    "                \n",
    "            except:\n",
    "                print('Error')\n",
    "        else:\n",
    "            try:\n",
    "                send_data_to_database(table, values)\n",
    "                break\n",
    "            except:\n",
    "                print('Error')\n",
    "        \n",
    "\n",
    "\n",
    "    window.close()"
   ]
  },
  {
   "cell_type": "code",
   "execution_count": 16,
   "metadata": {},
   "outputs": [],
   "source": [
    "# To delete roe into the table\n",
    "def delete_from_db_with_interface(table):\n",
    "    sg.theme('Topanga')\n",
    "    layout = [\n",
    "        [sg.Text('Please enter id')],        \n",
    "        [sg.Text('id', size=(15, 1)), sg.InputText(key='-ID-')],\n",
    "        [sg.Button('Ok'), sg.Cancel(), sg.Button('Last Row'), sg.Button('Clear')]                                  \n",
    "    ]\n",
    "\n",
    "    window = sg.Window('Delete row from database with id', layout)\n",
    "    while True:\n",
    "\n",
    "        event, values = window.read()\n",
    "        if event == 'Cancel' or event == sg.WIN_CLOSED: \n",
    "            break\n",
    "        elif event == 'Last Row':\n",
    "            delete_from_db(table, find_last_id(table))\n",
    "            break\n",
    "        elif event == 'Ok':\n",
    "            delete_from_db(table, values['-ID-'])\n",
    "            break\n",
    "        elif event == 'Clear':\n",
    "            window['-ID-'].update('')\n",
    "        \n",
    "\n",
    "    window.close()\n",
    "    "
   ]
  },
  {
   "cell_type": "code",
   "execution_count": 56,
   "metadata": {},
   "outputs": [
    {
     "name": "stdout",
     "output_type": "stream",
     "text": [
      "Medlem(1, 'Ulla', 'Larsson','850308-7267', 'Gengatan' '26' 'Eskilstuna', Betalt avgift? 'N')\n",
      "Medlem(2, 'Gudrun', 'Åström','700325-4369', 'Kyrkgatan' '9' 'Eskilstuna', Betalt avgift? 'Y')\n",
      "Medlem(3, 'Lennart', 'Johansson','800126-2248', 'Fabriksgränd' '3' 'Östersund', Betalt avgift? 'Y')\n",
      "Medlem(4, 'Gösta', 'Johansson','651024-5241', 'Trädgårdsvägen' '4' 'Uddevalla', Betalt avgift? 'N')\n",
      "Medlem(5, 'Joakim', 'Johnsson','620105-4076', 'Aspvägen' '582' 'Helsingborg', Betalt avgift? 'N')\n",
      "Medlem(6, 'Pia', 'Olsson','690107-4655', 'Villatorget' '50' 'Örebro', Betalt avgift? 'N')\n",
      "Medlem(7, 'Inger', 'Jonsson','551101-6866', 'Industrivägen' '5' 'Lund', Betalt avgift? 'Y')\n",
      "Medlem(8, 'Gustav', 'Johansson','941011-2560', 'Nygatan' '9' 'Landskrona', Betalt avgift? 'N')\n",
      "Medlem(9, 'Sven', 'Björk','750420-8948', 'Idrottsgatan' '0' 'Eskilstuna', Betalt avgift? 'N')\n",
      "Medlem(10, 'Louise', 'Jakobsson','590411-0144', 'Ängsgränd' '725' 'Piteå', Betalt avgift? 'Y')\n",
      "Medlem(11, 'Max', 'Johansson','770426-3958', 'Grangränd' '35' 'Luleå', Betalt avgift? 'Y')\n",
      "Medlem(12, 'Sigrid', 'Jönsson','921012-4294', 'Nygatan' '11' 'Göteborg', Betalt avgift? 'N')\n",
      "Medlem(13, 'Tommy', 'Gustafsson','401226-7003', 'Parkgränd' '21' 'Nyköping', Betalt avgift? 'N')\n",
      "Medlem(14, 'Thomas', 'Olsson','930131-6569', 'Granvägen' '30' 'Lidingö', Betalt avgift? 'N')\n",
      "Medlem(15, 'Kerstin', 'Martinsson','761218-7703', 'Parktorget' '057' 'Halmstad', Betalt avgift? 'N')\n",
      "Medlem(16, 'Elisabeth', 'Eriksson','590620-8532', 'Kyrkogränd' '36' 'Sundsvall', Betalt avgift? 'N')\n",
      "Medlem(17, 'Alf', 'Andersson','960914-9092', 'Trädgårdsgränd' '639' 'Varberg', Betalt avgift? 'N')\n",
      "Medlem(18, 'Göran', 'Lindqvist','760605-9983', 'Kyrkgränd' '894' 'Mölndal', Betalt avgift? 'Y')\n",
      "Medlem(19, 'Åsa', 'Svensson','510213-1454', 'Skolvägen' '170' 'Örnsköldsvik', Betalt avgift? 'Y')\n",
      "Medlem(20, 'Sten', 'Persson','960919-7091', 'Grangränd' '01' 'Lidingö', Betalt avgift? 'N')\n",
      "You have not insert data into the table\n"
     ]
    }
   ],
   "source": [
    "insert_data_from_interface(Medlem)"
   ]
  },
  {
   "cell_type": "code",
   "execution_count": 65,
   "metadata": {},
   "outputs": [],
   "source": [
    "delete_from_db_with_interface(Medlem)"
   ]
  },
  {
   "cell_type": "code",
   "execution_count": 49,
   "metadata": {},
   "outputs": [],
   "source": [
    "\n",
    "def query_in_db(table, sql_query):\n",
    "\n",
    "layout = [\n",
    "    [sg.Text(\"Query: \"), sg.Input(key='-QUERY-')],\n",
    "    [sg.Ok(), sg.Button('Show')],\n",
    "    [sg.Text(\"\", key='OUTPUT')]\n",
    "]\n",
    "\n",
    "window = sg.Window(\"Just a window\", layout)\n",
    "\n",
    "while True:\n",
    "    event, values = window.read()\n",
    "    if event == sg.WINDOW_CLOSED:\n",
    "        break\n",
    "    elif event == 'Ok':\n",
    "        name = values['-QUERY-']\n",
    "        temp = query_in_db(Medlem, name)\n",
    "        window['OUTPUT'].update(value=temp)\n",
    "    elif event == 'Show':\n",
    "        name = show_all(Medlem)\n",
    "        window['OUTPUT'].update(value=name)\n",
    "\n",
    "window.close()"
   ]
  },
  {
   "cell_type": "code",
   "execution_count": 41,
   "metadata": {},
   "outputs": [
    {
     "name": "stdout",
     "output_type": "stream",
     "text": [
      "a\n",
      "b\n",
      "c\n",
      "\n"
     ]
    }
   ],
   "source": [
    "list = ['a', 'b', 'c']\n",
    "c = ''\n",
    "for b in list:\n",
    "    c = c + b + '\\n'\n",
    "    \n",
    "\n",
    "print(c)"
   ]
  }
 ],
 "metadata": {
  "kernelspec": {
   "display_name": "Python 3.10.6 64-bit",
   "language": "python",
   "name": "python3"
  },
  "language_info": {
   "codemirror_mode": {
    "name": "ipython",
    "version": 3
   },
   "file_extension": ".py",
   "mimetype": "text/x-python",
   "name": "python",
   "nbconvert_exporter": "python",
   "pygments_lexer": "ipython3",
   "version": "3.10.6"
  },
  "orig_nbformat": 4,
  "vscode": {
   "interpreter": {
    "hash": "916dbcbb3f70747c44a77c7bcd40155683ae19c65e1c03b4aa3499c5328201f1"
   }
  }
 },
 "nbformat": 4,
 "nbformat_minor": 2
}
