{
 "cells": [
  {
   "cell_type": "markdown",
   "metadata": {},
   "source": [
    "TUTORIAL    "
   ]
  },
  {
   "cell_type": "code",
   "execution_count": null,
   "metadata": {},
   "outputs": [],
   "source": [
    "# https://www.youtube.com/watch?v=jaKMm9njcJc&list=PL4iRawDSyRvVd1V7A45YtAGzDk6ljVPm1"
   ]
  },
  {
   "cell_type": "code",
   "execution_count": 1,
   "metadata": {},
   "outputs": [],
   "source": [
    "from sqlalchemy import create_engine, MetaData, Table, Column, Integer, String\n",
    "from sqlalchemy import select\n",
    "from sqlalchemy.orm import sessionmaker\n",
    "from sqlalchemy.ext.declarative import declarative_base\n",
    "from sqlalchemy_utils import database_exists, create_database\n",
    "\n",
    "from faker import Faker\n",
    "import os\n",
    "from random import choice\n",
    "\n",
    "import PySimpleGUI as sg"
   ]
  },
  {
   "cell_type": "code",
   "execution_count": null,
   "metadata": {},
   "outputs": [],
   "source": [
    "### GUIDA: https://www.tutorialspoint.com/sqlalchemy/sqlalchemy_core_creating_table.htm\n",
    "\n",
    "## 1 - primo passo creare un engine importando le seguenti librerie:\n",
    "# from sqlalchemy import create_engine, MetaData, Table, Column, Integer, String\n",
    "\n",
    "## 2 - caricare un motore con un database usando un qualsiasi servizio come mysql\n",
    "# engine = create_engine('sqlite:///<nomedb>')\n",
    "\n",
    "## 3 - avviare una sessione e dichiarare una classe di base Base da richiamare nella classe delle tabelle\n",
    "# session = sessionmaker(bind=engine)()\n",
    "# Base = declarative_base()\n",
    "\n",
    "## 4 - Creare le tabelle con l+uso delle classi python"
   ]
  },
  {
   "attachments": {},
   "cell_type": "markdown",
   "metadata": {},
   "source": [
    "FUNCTIONS"
   ]
  },
  {
   "cell_type": "code",
   "execution_count": 30,
   "metadata": {},
   "outputs": [],
   "source": [
    "# to show rows from db\n",
    "def show_row_from_db(table):\n",
    "    db = select(table)\n",
    "    for row in session.scalars(db):\n",
    "        print(row)"
   ]
  },
  {
   "cell_type": "code",
   "execution_count": 6,
   "metadata": {},
   "outputs": [],
   "source": [
    "# to find last_id in the table\n",
    "def find_last_id(table):\n",
    "    stmt = select(table)\n",
    "    i = 0\n",
    "    for user in session.scalars(stmt):\n",
    "        i += 1\n",
    "    return i"
   ]
  },
  {
   "cell_type": "code",
   "execution_count": 15,
   "metadata": {},
   "outputs": [],
   "source": [
    "# to insert data in a table\n",
    "def insert_data_from_keyboard(table):\n",
    "    \n",
    "    md = table(\n",
    "        id=find_last_id(table)+1, \n",
    "        namn=input('Namn: '), \n",
    "        efternamn=input('Efternamn: '),\n",
    "        medlemsnummer=input('PN: '), \n",
    "        gatuadress=input('Gatuadress: '), \n",
    "        postnummer=int(input('Postnummer: ')), \n",
    "        postadress=int(input('Postadress: ')),\n",
    "        ort=input('Ort: '),\n",
    "        avgift=input('Avgift Y/N: ')\n",
    "        )\n",
    "\n",
    "    print(md)\n",
    "    session.add_all([md])\n",
    "    session.commit()"
   ]
  },
  {
   "cell_type": "code",
   "execution_count": 7,
   "metadata": {},
   "outputs": [],
   "source": [
    "# To insert random data in a table\n",
    "def insert_random(table, last_id, n):\n",
    "    '''\n",
    "    table = name of the table in the database\n",
    "    last_id = the last number av id in the table\n",
    "    n = number av medlem to add\n",
    "    '''\n",
    "    fake = Faker('sv_SE')\n",
    "    first = last_id + 1 \n",
    "    last = first + n\n",
    "\n",
    "    for i in range(first, last):\n",
    "\n",
    "        temp = fake.address().split()\n",
    "\n",
    "        md = table(\n",
    "                id=i, \n",
    "                namn=fake.first_name(), \n",
    "                efternamn=fake.last_name(), \n",
    "                medlemsnummer=fake.ssn(), \n",
    "                gatuadress=temp[0], \n",
    "                postnummer=temp[1], \n",
    "                postadress=temp[2],\n",
    "                ort=temp[3],\n",
    "                avgift=choice(['Y', 'N'])\n",
    "                )\n",
    "\n",
    "        print(md)\n",
    "        session.add_all([md])\n",
    "        session.commit()\n"
   ]
  },
  {
   "cell_type": "code",
   "execution_count": 25,
   "metadata": {},
   "outputs": [],
   "source": [
    "# To delete data\n",
    "\n",
    "def delete_from_db(table, id):\n",
    "    temp = session.get(table, id)\n",
    "    session.delete(temp)\n",
    "    session.commit()"
   ]
  },
  {
   "cell_type": "code",
   "execution_count": 8,
   "metadata": {},
   "outputs": [],
   "source": [
    "# delete database\n",
    "def delete_db(db_namn):\n",
    "    file_list = os.listdir('.')\n",
    "\n",
    "    #for file in file_list:\n",
    "    if db_namn in file_list:\n",
    "        try:\n",
    "            os.remove(db_namn)\n",
    "        except OSError as e:\n",
    "            print(e)\n",
    "        else:\n",
    "            print(\"File is deleted successfully\")\n",
    "    else:\n",
    "        print(\"Database is not in the directory\")"
   ]
  },
  {
   "cell_type": "code",
   "execution_count": 3,
   "metadata": {},
   "outputs": [],
   "source": [
    "db_namn = 'ivan.db'\n",
    "\n",
    "engine = create_engine('sqlite:///'+db_namn)\n",
    "\n",
    "session = sessionmaker(bind=engine)()\n",
    "Base = declarative_base()\n",
    "\n",
    "class Medlem(Base):\n",
    "\n",
    "    __tablename__ = \"Medlem\"\n",
    "\n",
    "    id = Column(Integer, primary_key=True)\n",
    "    namn = Column(String(255))\n",
    "    efternamn = Column(String(255))\n",
    "    medlemsnummer = Column(String(255))\n",
    "    gatuadress = Column(String(255))\n",
    "    postnummer = Column(Integer)\n",
    "    postadress = Column(Integer)\n",
    "    ort = Column(String(255))\n",
    "    avgift = Column(String(1))\n",
    "\n",
    "    def __init__(self, id, namn, efternamn, medlemsnummer, gatuadress, postnummer, postadress, ort, avgift):\n",
    "\n",
    "        self.id = id\n",
    "        self.namn = namn\n",
    "        self.efternamn = efternamn\n",
    "        self.medlemsnummer = medlemsnummer\n",
    "        self.gatuadress = gatuadress\n",
    "        self.postnummer = postnummer\n",
    "        self.postadress = postadress\n",
    "        self.ort = ort\n",
    "        self.avgift = avgift\n",
    "    \n",
    "    def __repr__(self) -> str:\n",
    "        return f\"Medlem({self.id!r}, {self.namn!r}, {self.efternamn!r},{self.medlemsnummer!r}, {self.gatuadress!r} {self.postnummer!r} {self.ort!r}, Betalt avgift? {self.avgift!r})\"\n",
    "\n",
    "Base.metadata.create_all(engine)\n",
    "\n"
   ]
  },
  {
   "cell_type": "code",
   "execution_count": null,
   "metadata": {},
   "outputs": [],
   "source": [
    "## https://faker.readthedocs.io/en/master/\n",
    "\n",
    "\n",
    "\n",
    "fake = Faker('sv_SE')\n",
    "\n",
    "for i in range(1, 101):\n",
    "\n",
    "    temp = fake.address().split()\n",
    "\n",
    "    prova = Medlem(\n",
    "            id=i, \n",
    "            namn=fake.first_name(), \n",
    "            efternamn=fake.last_name(), \n",
    "            medlemsnummer=fake.ssn(), \n",
    "            gatuadress=temp[0], \n",
    "            postnummer=temp[1], \n",
    "            postadress=temp[2],\n",
    "            ort=temp[3],\n",
    "            avgift=choice(['Y', 'N'])\n",
    "            )\n",
    "\n",
    "    print(prova)\n",
    "    session.add_all([prova])\n",
    "    session.commit()"
   ]
  },
  {
   "cell_type": "code",
   "execution_count": null,
   "metadata": {},
   "outputs": [],
   "source": [
    "insert_random(Medlem, 0, 100)"
   ]
  },
  {
   "cell_type": "code",
   "execution_count": 22,
   "metadata": {},
   "outputs": [
    {
     "name": "stdout",
     "output_type": "stream",
     "text": [
      "Medlem(id=102, namn='ivan', efternamn='c', medlemsnummer ='2', gatuadress ='f', postnummer =2, postadress ='f', postadress ='f', avgift='Y')\n"
     ]
    }
   ],
   "source": [
    "insert_data_from_keyboard(Medlem)"
   ]
  },
  {
   "cell_type": "code",
   "execution_count": 77,
   "metadata": {},
   "outputs": [
    {
     "name": "stdout",
     "output_type": "stream",
     "text": [
      "100\n"
     ]
    }
   ],
   "source": [
    "# find the last id in the table\n",
    "\n",
    "find_last_id(Medlem)\n"
   ]
  },
  {
   "cell_type": "code",
   "execution_count": 100,
   "metadata": {},
   "outputs": [
    {
     "name": "stdout",
     "output_type": "stream",
     "text": [
      "paperino pluto\n",
      "paperino\n"
     ]
    }
   ],
   "source": [
    "nome, cognome = input('inserisci nome e cognome').split()\n",
    "print(nome, cognome)\n",
    "print(nome)"
   ]
  },
  {
   "cell_type": "code",
   "execution_count": 21,
   "metadata": {},
   "outputs": [
    {
     "name": "stdout",
     "output_type": "stream",
     "text": [
      "Mata in data i tabellen\n",
      "Medlem(id=101, namn='ivan', efternamn='cat', medlemsnummer ='86', gatuadress ='via', postnummer =2, postadress ='busto', postadress ='busto', avgift='Y')\n"
     ]
    }
   ],
   "source": [
    "text = input('Vill du skapa alla medlem random? Y/n: ')\n",
    "\n",
    "if 'Y' in text.upper():\n",
    "    insert_random(Medlem, find_last_id(Medlem), 100)\n",
    "else:\n",
    "    while True:\n",
    "        print('Mata in data i tabellen')\n",
    "        insert_data_from_keyboard(Medlem)\n",
    "        check = input('Vill du forssätta? Y/n: ')\n",
    "        if 'Y' not in text.upper(): \n",
    "            break\n",
    "    \n"
   ]
  },
  {
   "cell_type": "code",
   "execution_count": 62,
   "metadata": {},
   "outputs": [
    {
     "name": "stdout",
     "output_type": "stream",
     "text": [
      "4\n",
      "21\n"
     ]
    }
   ],
   "source": [
    "\n",
    "\n",
    "stmt = select(Medlem).where(Medlem.namn.in_(['Ida']))\n",
    "for user in session.scalars(stmt):\n",
    "    print(user.id)\n",
    "    session.delete(user)\n",
    "    session.commit()"
   ]
  },
  {
   "cell_type": "code",
   "execution_count": 18,
   "metadata": {},
   "outputs": [
    {
     "name": "stdout",
     "output_type": "stream",
     "text": [
      "File is deleted successfully\n"
     ]
    }
   ],
   "source": [
    "delete_db(db_namn)"
   ]
  },
  {
   "cell_type": "code",
   "execution_count": 32,
   "metadata": {},
   "outputs": [],
   "source": [
    "delete_from_db(Medlem, find_last_id(Medlem))"
   ]
  },
  {
   "cell_type": "code",
   "execution_count": null,
   "metadata": {},
   "outputs": [],
   "source": [
    "show_row_from_db(Medlem)"
   ]
  },
  {
   "cell_type": "code",
   "execution_count": 33,
   "metadata": {},
   "outputs": [],
   "source": [
    "# finestra con inserimento di informazioni\n",
    "def insert_data_from_interface(table):\n",
    "    sg.theme('Topanga')      # Add some color to the window\n",
    "\n",
    "    # Very basic window.  Return values using auto numbered keys\n",
    "\n",
    "    layout = [\n",
    "        [sg.Text('Please enter data into the table')],        \n",
    "        [sg.Text('Namn', size=(15, 1)), sg.InputText()],            \n",
    "        [sg.Text('Efternamn', size=(15, 1)), sg.InputText()],         \n",
    "        [sg.Text('Medlemsnummer', size=(15, 1)), sg.InputText()], \n",
    "        [sg.Text('Gatuadress', size=(15, 1)), sg.InputText()],\n",
    "        [sg.Text('Postnummer', size=(15, 1)), sg.InputText()],\n",
    "        [sg.Text('Postadress', size=(15, 1)), sg.InputText()],\n",
    "        [sg.Text('Ort', size=(15, 1)), sg.InputText()],  \n",
    "        [sg.Text('Avgift Y/N', size=(15, 1)), sg.InputText()],   \n",
    "        [sg.Submit(), sg.Cancel()]                                  \n",
    "    ]\n",
    "\n",
    "    window = sg.Window('Simple data entry window', layout)\n",
    "    while True:\n",
    "\n",
    "        event, values = window.read()\n",
    "        \n",
    "        if event == 'Cancel' or event == sg.WIN_CLOSED: \n",
    "            print('You have not insert data into the table')\n",
    "            break\n",
    "        else:\n",
    "            md = table(\n",
    "                id=find_last_id(Medlem)+1, \n",
    "                namn=values[0], \n",
    "                efternamn=values[1],\n",
    "                medlemsnummer=values[2], \n",
    "                gatuadress=values[3], \n",
    "                postnummer=int(values[4]), \n",
    "                postadress=int(values[5]),\n",
    "                ort=values[6],\n",
    "                avgift=values[7]\n",
    "                )\n",
    "\n",
    "            print(md)\n",
    "            session.add_all([md])\n",
    "            session.commit()\n",
    "\n",
    "    window.close()"
   ]
  },
  {
   "cell_type": "code",
   "execution_count": 35,
   "metadata": {},
   "outputs": [
    {
     "name": "stdout",
     "output_type": "stream",
     "text": [
      "You have not insert data into the table\n"
     ]
    }
   ],
   "source": [
    "insert_data_from_interface(Medlem)"
   ]
  }
 ],
 "metadata": {
  "kernelspec": {
   "display_name": "Python 3.10.6 64-bit",
   "language": "python",
   "name": "python3"
  },
  "language_info": {
   "codemirror_mode": {
    "name": "ipython",
    "version": 3
   },
   "file_extension": ".py",
   "mimetype": "text/x-python",
   "name": "python",
   "nbconvert_exporter": "python",
   "pygments_lexer": "ipython3",
   "version": "3.10.6"
  },
  "orig_nbformat": 4,
  "vscode": {
   "interpreter": {
    "hash": "916dbcbb3f70747c44a77c7bcd40155683ae19c65e1c03b4aa3499c5328201f1"
   }
  }
 },
 "nbformat": 4,
 "nbformat_minor": 2
}
