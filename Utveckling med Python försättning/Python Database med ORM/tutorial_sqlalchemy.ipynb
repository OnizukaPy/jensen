{
 "cells": [
  {
   "cell_type": "markdown",
   "metadata": {},
   "source": [
    "TUTORIAL    "
   ]
  },
  {
   "cell_type": "code",
   "execution_count": null,
   "metadata": {},
   "outputs": [],
   "source": [
    "# https://www.youtube.com/watch?v=jaKMm9njcJc&list=PL4iRawDSyRvVd1V7A45YtAGzDk6ljVPm1"
   ]
  },
  {
   "cell_type": "code",
   "execution_count": 15,
   "metadata": {},
   "outputs": [],
   "source": [
    "from sqlalchemy import create_engine, MetaData, Table, Column, Integer, String\n",
    "from sqlalchemy.orm import sessionmaker\n",
    "from sqlalchemy.ext.declarative import declarative_base\n",
    "from sqlalchemy_utils import database_exists, create_database"
   ]
  },
  {
   "cell_type": "code",
   "execution_count": null,
   "metadata": {},
   "outputs": [],
   "source": [
    "### GUIDA: https://www.tutorialspoint.com/sqlalchemy/sqlalchemy_core_creating_table.htm\n",
    "\n",
    "## 1 - primo passo creare un engine importando le seguenti librerie:\n",
    "# from sqlalchemy import create_engine, MetaData, Table, Column, Integer, String\n",
    "\n",
    "## 2 - caricare un motore con un database usando un qualsiasi servizio come mysql\n",
    "# engine = create_engine('sqlite:///<nomedb>')\n",
    "\n",
    "## 3 - avviare una sessione e dichiarare una classe di base Base da richiamare nella classe delle tabelle\n",
    "# session = sessionmaker(bind=engine)()\n",
    "# Base = declarative_base()\n",
    "\n",
    "## 4 - Creare le tabelle con l+uso delle classi python"
   ]
  },
  {
   "cell_type": "code",
   "execution_count": 32,
   "metadata": {},
   "outputs": [],
   "source": [
    "engine = create_engine('sqlite:///ivan.db')\n",
    "\n",
    "session = sessionmaker(bind=engine)()\n",
    "Base = declarative_base()\n",
    "\n",
    "class User(Base):\n",
    "\n",
    "    __tablename__ = \"user\"\n",
    "\n",
    "    id = Column(Integer, primary_key=True)\n",
    "    name = Column(String)\n",
    "\n",
    "    def __init__(self, id, name):\n",
    "\n",
    "        self.id = id\n",
    "        self.name = name\n",
    "\n",
    "Base.metadata.create_all(engine)\n",
    "\n"
   ]
  }
 ],
 "metadata": {
  "kernelspec": {
   "display_name": "Python 3.10.6 64-bit",
   "language": "python",
   "name": "python3"
  },
  "language_info": {
   "codemirror_mode": {
    "name": "ipython",
    "version": 3
   },
   "file_extension": ".py",
   "mimetype": "text/x-python",
   "name": "python",
   "nbconvert_exporter": "python",
   "pygments_lexer": "ipython3",
   "version": "3.10.6"
  },
  "orig_nbformat": 4,
  "vscode": {
   "interpreter": {
    "hash": "916dbcbb3f70747c44a77c7bcd40155683ae19c65e1c03b4aa3499c5328201f1"
   }
  }
 },
 "nbformat": 4,
 "nbformat_minor": 2
}
