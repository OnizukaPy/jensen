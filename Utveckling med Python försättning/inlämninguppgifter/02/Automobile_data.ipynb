{
 "cells": [
  {
   "cell_type": "code",
   "execution_count": null,
   "metadata": {},
   "outputs": [],
   "source": [
    "# importera pandas modulen\n",
    "import pandas as pd "
   ]
  },
  {
   "cell_type": "code",
   "execution_count": null,
   "metadata": {},
   "outputs": [],
   "source": [
    "# skapa dataframe från CSVs filen\n",
    "df = pd.read_csv('Automobile_data.csv')\n",
    "\n",
    "# printa ut dataframe\n",
    "print(df.to_string())"
   ]
  },
  {
   "attachments": {},
   "cell_type": "markdown",
   "metadata": {},
   "source": [
    "1 - Läs in ” Automobile_data.csv” i din Jupyter notebook och skriv ut de första och sista fem raderna från den givna datamängden."
   ]
  },
  {
   "cell_type": "code",
   "execution_count": null,
   "metadata": {},
   "outputs": [],
   "source": [
    "print('\\n','De första 5 raderna')\n",
    "df.head()"
   ]
  },
  {
   "cell_type": "code",
   "execution_count": null,
   "metadata": {},
   "outputs": [],
   "source": [
    "print('\\n','De sista 5 raderna')\n",
    "df.tail()"
   ]
  },
  {
   "attachments": {},
   "cell_type": "markdown",
   "metadata": {},
   "source": [
    "2 - Skriv därefter ut den dyraste bilens företagsnamn och pris."
   ]
  },
  {
   "cell_type": "code",
   "execution_count": null,
   "metadata": {},
   "outputs": [],
   "source": [
    "# filtrera dataframe där raderna av column 'price' är lika maximun värde column 'price'\n",
    "df[df['price'] == df['price'].max()]"
   ]
  },
  {
   "attachments": {},
   "cell_type": "markdown",
   "metadata": {},
   "source": [
    "3 - Skriv därefter ut data om alla Toyota som ni har i lager."
   ]
  },
  {
   "cell_type": "code",
   "execution_count": null,
   "metadata": {},
   "outputs": [],
   "source": [
    "# filtrera dataframe där raderna av column 'company' är lika maximun värde column 'toyota'\n",
    "df[df['company'] == 'toyota']"
   ]
  },
  {
   "attachments": {},
   "cell_type": "markdown",
   "metadata": {},
   "source": [
    "4 - Räkna totalt antal bilar lager per bilmärke och skriv ut detta."
   ]
  },
  {
   "cell_type": "code",
   "execution_count": null,
   "metadata": {},
   "outputs": [],
   "source": [
    "# med pandas metoder\n",
    "df.groupby('company').count()['index']"
   ]
  },
  {
   "cell_type": "code",
   "execution_count": null,
   "metadata": {},
   "outputs": [],
   "source": [
    "# Andra lösning\n",
    "\n",
    "# skapa en ny dataframe där det finns bara en rad varje bilmärke\n",
    "new_df = df.drop_duplicates('company')\n",
    "\n",
    "# skapa en lista med alla bilmärke i dataframe\n",
    "list_company = new_df['company'].tolist()\n",
    "\n",
    "# skapa en diktionär där är sparat för varje bilmärke hur många bilar finns\n",
    "count = {}\n",
    "for company in list_company:\n",
    "    count[company] = len(df[df['company'] == company])\n",
    "company_df = pd.Series(count)\n",
    "print(company_df)"
   ]
  },
  {
   "attachments": {},
   "cell_type": "markdown",
   "metadata": {},
   "source": [
    "5 - Skriv ut data om varje bilmärkes dyrast bil."
   ]
  },
  {
   "cell_type": "code",
   "execution_count": null,
   "metadata": {},
   "outputs": [],
   "source": [
    "# med pandas metoder\n",
    "df[['company', 'price']].groupby('company').max()"
   ]
  },
  {
   "cell_type": "code",
   "execution_count": null,
   "metadata": {},
   "outputs": [],
   "source": [
    "# Andra lösning\n",
    "\n",
    "# köra en loop för varje bilmärke\n",
    "for company in list_company:\n",
    "    temp_df = df[df['company'] == company]                      # skapa en tillfällig dataframe där det finns bara rader av samma bilmärke\n",
    "    max_price = temp_df['price'].max()                          # spara maximun pris i en variabel\n",
    "    print(company.upper())                                      # printa ut bilmärke\n",
    "    print('\\n')\n",
    "    print(temp_df[temp_df['price'] == max_price].to_string())   # printa ut bara rader där pris är lika maximun pris\n",
    "    print('\\n')"
   ]
  },
  {
   "attachments": {},
   "cell_type": "markdown",
   "metadata": {},
   "source": [
    "6 - Skriv ut alla europeiska bilmärken bilmärke."
   ]
  },
  {
   "cell_type": "code",
   "execution_count": null,
   "metadata": {},
   "outputs": [],
   "source": [
    "# skapa en lista med bara de europeinska bilmärken\n",
    "europe_company = ['alfa-romero', 'audi', 'bmw', 'mercedes-benz', 'porsche', 'volkswagen', 'volvo']\n",
    "\n",
    "# skapa en column som heter 'Continent' med alla värdar lika 'NOT-EU'\n",
    "df['Continent'] = 'NOT-EU'\n",
    "\n",
    "# köra en loop för varje rader och jamföra varje värder i column 'company' med listan av de europeinska bilmärken\n",
    "for x in df.index:\n",
    "  if df.loc[x, \"company\"] in europe_company:\n",
    "    df.loc[x, \"Continent\"] = 'EU'                 # spara värde 'EU' i column 'Continent' när det är sant\n",
    "\n",
    "print(df[df['Continent'] == 'EU'].to_string())    # printa ut dataframe filtrerad på column 'continent' lika 'EU'\n"
   ]
  }
 ],
 "metadata": {
  "kernelspec": {
   "display_name": "Python 3",
   "language": "python",
   "name": "python3"
  },
  "language_info": {
   "codemirror_mode": {
    "name": "ipython",
    "version": 3
   },
   "file_extension": ".py",
   "mimetype": "text/x-python",
   "name": "python",
   "nbconvert_exporter": "python",
   "pygments_lexer": "ipython3",
   "version": "3.10.6 (main, Nov 14 2022, 16:10:14) [GCC 11.3.0]"
  },
  "orig_nbformat": 4,
  "vscode": {
   "interpreter": {
    "hash": "916dbcbb3f70747c44a77c7bcd40155683ae19c65e1c03b4aa3499c5328201f1"
   }
  }
 },
 "nbformat": 4,
 "nbformat_minor": 2
}
